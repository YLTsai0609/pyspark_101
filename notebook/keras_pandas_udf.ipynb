{
 "cells": [
  {
   "cell_type": "code",
   "execution_count": null,
   "metadata": {},
   "outputs": [],
   "source": [
    "# Ref\n",
    "# https://docs.databricks.com/_static/notebooks/deep-learning/dist-img-infer-3-keras-udf.html\n",
    "# https://databricks.com/blog/2017/10/30/introducing-vectorized-udfs-for-pyspark.html"
   ]
  },
  {
   "cell_type": "code",
   "execution_count": 1,
   "metadata": {
    "ExecuteTime": {
     "end_time": "2021-05-04T06:15:45.462150Z",
     "start_time": "2021-05-04T06:15:45.439391Z"
    }
   },
   "outputs": [],
   "source": [
    "# env : pixlake\n",
    "# we focuing on pyspark dataframe processing\n",
    "# documentation https://spark.apache.org/docs/2.4.0/api/python/pyspark.sql.html#pyspark.sql.DataFrame\n",
    "%load_ext autoreload\n",
    "%autoreload 2"
   ]
  },
  {
   "cell_type": "code",
   "execution_count": 2,
   "metadata": {
    "ExecuteTime": {
     "end_time": "2021-05-04T06:15:45.665430Z",
     "start_time": "2021-05-04T06:15:45.647140Z"
    }
   },
   "outputs": [],
   "source": [
    "# make you auto compeletion faster\n",
    "# https://stackoverflow.com/questions/40536560/ipython-and-jupyter-autocomplete-not-working\n",
    "%config Completer.use_jedi = False"
   ]
  },
  {
   "cell_type": "code",
   "execution_count": 3,
   "metadata": {
    "ExecuteTime": {
     "end_time": "2021-05-04T06:15:45.977850Z",
     "start_time": "2021-05-04T06:15:45.963074Z"
    }
   },
   "outputs": [
    {
     "name": "stdout",
     "output_type": "stream",
     "text": [
      "You have pyspark version :  ['spark-2.3', 'spark-3.0', 'spark-3.0.1-bin-hadoop2.7', 'spark-2.3.4-bin-hadoop2.7', 'spark-2.4.7-bin-hadoop2.7', 'spark-2.4']\n"
     ]
    }
   ],
   "source": [
    "import os\n",
    "import sys\n",
    "print('You have pyspark version : ', os.listdir('/opt/spark/versions'))\n",
    "os.environ['PYSPARK_PYTHON'] = sys.executable\n",
    "# spark-2.3, spark-2.4\n",
    "os.environ['SPARK_HOME'] = '/opt/spark/versions/spark-2.3'"
   ]
  },
  {
   "cell_type": "code",
   "execution_count": 20,
   "metadata": {
    "ExecuteTime": {
     "end_time": "2021-05-04T06:33:21.902315Z",
     "start_time": "2021-05-04T06:33:21.868944Z"
    }
   },
   "outputs": [],
   "source": [
    "from os.path import join\n",
    "import pandas as pd\n",
    "import numpy as np\n",
    "from pyspark.sql import SparkSession as Session\n",
    "from pyspark.sql import DataFrame\n",
    "from pyspark import SparkConf as Conf\n",
    "from pyspark.sql import functions as F, Window as W, types as T\n",
    "from pyspark.sql.functions import pandas_udf, PandasUDFType\n",
    "from pyspark.sql.types import StructType, StructField, StringType, IntegerType\n",
    "C = F.col"
   ]
  },
  {
   "cell_type": "code",
   "execution_count": 6,
   "metadata": {
    "ExecuteTime": {
     "end_time": "2021-05-04T06:15:55.733444Z",
     "start_time": "2021-05-04T06:15:55.716910Z"
    }
   },
   "outputs": [],
   "source": [
    "conf = (Conf()\n",
    "    .set('spark.sql.sources.partitionOverwriteMode', 'dynamic')\n",
    "    .set('spark.driver.memory', '10g')\n",
    "    .set('spark.driver.maxResultSize', '5g')\n",
    "   )"
   ]
  },
  {
   "cell_type": "code",
   "execution_count": 7,
   "metadata": {
    "ExecuteTime": {
     "end_time": "2021-05-04T06:15:58.404207Z",
     "start_time": "2021-05-04T06:15:55.873293Z"
    }
   },
   "outputs": [],
   "source": [
    "spark = (Session\n",
    "     .builder\n",
    "     .appName('keras-model-pandas-udf')\n",
    "     .master('local[4]')\n",
    "     .config(conf=conf)\n",
    "     .getOrCreate())"
   ]
  },
  {
   "cell_type": "code",
   "execution_count": 8,
   "metadata": {
    "ExecuteTime": {
     "end_time": "2021-05-04T06:15:58.438959Z",
     "start_time": "2021-05-04T06:15:58.406910Z"
    }
   },
   "outputs": [
    {
     "data": {
      "text/html": [
       "\n",
       "            <div>\n",
       "                <p><b>SparkSession - in-memory</b></p>\n",
       "                \n",
       "        <div>\n",
       "            <p><b>SparkContext</b></p>\n",
       "\n",
       "            <p><a href=\"http://thor:4042\">Spark UI</a></p>\n",
       "\n",
       "            <dl>\n",
       "              <dt>Version</dt>\n",
       "                <dd><code>v2.3.4</code></dd>\n",
       "              <dt>Master</dt>\n",
       "                <dd><code>local[4]</code></dd>\n",
       "              <dt>AppName</dt>\n",
       "                <dd><code>keras-model-pandas-udf</code></dd>\n",
       "            </dl>\n",
       "        </div>\n",
       "        \n",
       "            </div>\n",
       "        "
      ],
      "text/plain": [
       "<pyspark.sql.session.SparkSession at 0x7feea61c1d90>"
      ]
     },
     "execution_count": 8,
     "metadata": {},
     "output_type": "execute_result"
    }
   ],
   "source": [
    "spark"
   ]
  },
  {
   "cell_type": "markdown",
   "metadata": {},
   "source": [
    "# Data"
   ]
  },
  {
   "cell_type": "code",
   "execution_count": 13,
   "metadata": {
    "ExecuteTime": {
     "end_time": "2021-05-04T06:24:52.754036Z",
     "start_time": "2021-05-04T06:24:52.736820Z"
    }
   },
   "outputs": [],
   "source": [
    "\n",
    "\n",
    "IMG_DATA_PATH = join('data','img_url_sdf_100.parquet')"
   ]
  },
  {
   "cell_type": "code",
   "execution_count": 14,
   "metadata": {
    "ExecuteTime": {
     "end_time": "2021-05-04T06:24:53.147107Z",
     "start_time": "2021-05-04T06:24:52.854415Z"
    }
   },
   "outputs": [
    {
     "name": "stdout",
     "output_type": "stream",
     "text": [
      "100\n",
      "root\n",
      " |-- mapping_name: string (nullable = true)\n",
      " |-- hash_id: string (nullable = true)\n",
      " |-- mapping_article_id: string (nullable = true)\n",
      " |-- mapping_category: string (nullable = true)\n",
      " |-- mapping_tags: array (nullable = true)\n",
      " |    |-- element: string (containsNull = true)\n",
      " |-- mapping_title: string (nullable = true)\n",
      " |-- url: string (nullable = true)\n",
      " |-- mapping_date: integer (nullable = true)\n",
      " |-- img_url: string (nullable = true)\n",
      " |-- author: string (nullable = true)\n",
      " |-- processed_img: string (nullable = true)\n",
      " |-- img_b64_str: string (nullable = true)\n",
      "\n",
      "-RECORD 0----------------------------------\n",
      " mapping_name       | am                   \n",
      " hash_id            | 1481b68df1578cd6d... \n",
      " mapping_article_id | 326670634            \n",
      " mapping_category   | 冰冰霜淇淋來瘋              \n",
      " mapping_tags       | [川川, 川川等於溜, 美食, 小... \n",
      " mapping_title      | 『全家FamilyMart』‐‐ ... \n",
      " url                | http://ctionkuni.... \n",
      " mapping_date       | 20210221             \n",
      " img_url            | https://pic.pimg.... \n",
      " author             | ctionkuni            \n",
      " processed_img      | [B@39cc3d26          \n",
      " img_b64_str        | [B@21ff649           \n",
      "-RECORD 1----------------------------------\n",
      " mapping_name       | am                   \n",
      " hash_id            | 1481b68df1578cd6d... \n",
      " mapping_article_id | 326670634            \n",
      " mapping_category   | 冰冰霜淇淋來瘋              \n",
      " mapping_tags       | [川川, 川川等於溜, 美食, 小... \n",
      " mapping_title      | 『全家FamilyMart』‐‐ ... \n",
      " url                | http://ctionkuni.... \n",
      " mapping_date       | 20210221             \n",
      " img_url            | https://pic.pimg.... \n",
      " author             | ctionkuni            \n",
      " processed_img      | [B@54d65f15          \n",
      " img_b64_str        | [B@422a3475          \n",
      "-RECORD 2----------------------------------\n",
      " mapping_name       | am                   \n",
      " hash_id            | 1481b68df1578cd6d... \n",
      " mapping_article_id | 326670634            \n",
      " mapping_category   | 冰冰霜淇淋來瘋              \n",
      " mapping_tags       | [川川, 川川等於溜, 美食, 小... \n",
      " mapping_title      | 『全家FamilyMart』‐‐ ... \n",
      " url                | http://ctionkuni.... \n",
      " mapping_date       | 20210221             \n",
      " img_url            | https://pic.pimg.... \n",
      " author             | ctionkuni            \n",
      " processed_img      | [B@66ab6d3a          \n",
      " img_b64_str        | [B@5da77fe1          \n",
      "-RECORD 3----------------------------------\n",
      " mapping_name       | am                   \n",
      " hash_id            | 1481b68df1578cd6d... \n",
      " mapping_article_id | 326670634            \n",
      " mapping_category   | 冰冰霜淇淋來瘋              \n",
      " mapping_tags       | [川川, 川川等於溜, 美食, 小... \n",
      " mapping_title      | 『全家FamilyMart』‐‐ ... \n",
      " url                | http://ctionkuni.... \n",
      " mapping_date       | 20210221             \n",
      " img_url            | https://pic.pimg.... \n",
      " author             | ctionkuni            \n",
      " processed_img      | [B@3b6fbdb7          \n",
      " img_b64_str        | [B@2875af33          \n",
      "-RECORD 4----------------------------------\n",
      " mapping_name       | am                   \n",
      " hash_id            | 1481b68df1578cd6d... \n",
      " mapping_article_id | 326670634            \n",
      " mapping_category   | 冰冰霜淇淋來瘋              \n",
      " mapping_tags       | [川川, 川川等於溜, 美食, 小... \n",
      " mapping_title      | 『全家FamilyMart』‐‐ ... \n",
      " url                | http://ctionkuni.... \n",
      " mapping_date       | 20210221             \n",
      " img_url            | https://pic.pimg.... \n",
      " author             | ctionkuni            \n",
      " processed_img      | [B@158ac5ba          \n",
      " img_b64_str        | [B@7334f89d          \n",
      "only showing top 5 rows\n",
      "\n"
     ]
    }
   ],
   "source": [
    "img_sdf = spark.read.parquet(IMG_DATA_PATH)\n",
    "print(img_sdf.count())\n",
    "img_sdf.printSchema()\n",
    "img_sdf.show(n=5, vertical=True)"
   ]
  },
  {
   "cell_type": "code",
   "execution_count": 15,
   "metadata": {
    "ExecuteTime": {
     "end_time": "2021-05-04T06:30:30.519098Z",
     "start_time": "2021-05-04T06:30:29.250717Z"
    }
   },
   "outputs": [],
   "source": [
    "from tensorflow.keras.applications.resnet50 import ResNet50, preprocess_input, decode_predictions\n",
    "from PIL import Image\n",
    "import base64"
   ]
  },
  {
   "cell_type": "code",
   "execution_count": 17,
   "metadata": {
    "ExecuteTime": {
     "end_time": "2021-05-04T06:30:56.986158Z",
     "start_time": "2021-05-04T06:30:54.106545Z"
    }
   },
   "outputs": [],
   "source": [
    "# broadcast your model\n",
    "model = ResNet50()\n",
    "bc_model_weights = spark.sparkContext.broadcast(model.get_weights())"
   ]
  },
  {
   "cell_type": "code",
   "execution_count": 24,
   "metadata": {
    "ExecuteTime": {
     "end_time": "2021-05-04T06:43:55.618819Z",
     "start_time": "2021-05-04T06:43:55.567367Z"
    }
   },
   "outputs": [
    {
     "ename": "AttributeError",
     "evalue": "type object 'PandasUDFType' has no attribute 'SCALAR_ITER'",
     "output_type": "error",
     "traceback": [
      "\u001b[0;31m---------------------------------------------------------------------------\u001b[0m",
      "\u001b[0;31mAttributeError\u001b[0m                            Traceback (most recent call last)",
      "\u001b[0;32m<ipython-input-24-98d05c39e0e5>\u001b[0m in \u001b[0;36m<module>\u001b[0;34m\u001b[0m\n\u001b[1;32m     23\u001b[0m     \u001b[0;32mreturn\u001b[0m \u001b[0mmodel\u001b[0m\u001b[0;34m\u001b[0m\u001b[0;34m\u001b[0m\u001b[0m\n\u001b[1;32m     24\u001b[0m \u001b[0;34m\u001b[0m\u001b[0m\n\u001b[0;32m---> 25\u001b[0;31m \u001b[0mresnet50_udf\u001b[0m \u001b[0;34m=\u001b[0m \u001b[0mkeras_model_udf\u001b[0m\u001b[0;34m(\u001b[0m\u001b[0mresnet50_fn\u001b[0m\u001b[0;34m)\u001b[0m\u001b[0;34m\u001b[0m\u001b[0;34m\u001b[0m\u001b[0m\n\u001b[0m",
      "\u001b[0;32m<ipython-input-24-98d05c39e0e5>\u001b[0m in \u001b[0;36mkeras_model_udf\u001b[0;34m(model_fn)\u001b[0m\n\u001b[1;32m     16\u001b[0m             \u001b[0;32myield\u001b[0m \u001b[0mpd\u001b[0m\u001b[0;34m.\u001b[0m\u001b[0mDataFrame\u001b[0m\u001b[0;34m(\u001b[0m\u001b[0mpredicted_labels\u001b[0m\u001b[0;34m)\u001b[0m\u001b[0;34m\u001b[0m\u001b[0;34m\u001b[0m\u001b[0m\n\u001b[1;32m     17\u001b[0m     \u001b[0mreturn_type\u001b[0m \u001b[0;34m=\u001b[0m \u001b[0;34m\"class: string, desc: string, score:float\"\u001b[0m\u001b[0;34m\u001b[0m\u001b[0;34m\u001b[0m\u001b[0m\n\u001b[0;32m---> 18\u001b[0;31m     \u001b[0;32mreturn\u001b[0m \u001b[0mpandas_udf\u001b[0m\u001b[0;34m(\u001b[0m\u001b[0mreturn_type\u001b[0m\u001b[0;34m,\u001b[0m \u001b[0mPandasUDFType\u001b[0m\u001b[0;34m.\u001b[0m\u001b[0mSCALAR_ITER\u001b[0m\u001b[0;34m)\u001b[0m\u001b[0;34m(\u001b[0m\u001b[0mpredict\u001b[0m\u001b[0;34m)\u001b[0m\u001b[0;34m\u001b[0m\u001b[0;34m\u001b[0m\u001b[0m\n\u001b[0m\u001b[1;32m     19\u001b[0m \u001b[0;34m\u001b[0m\u001b[0m\n\u001b[1;32m     20\u001b[0m \u001b[0;32mdef\u001b[0m \u001b[0mresnet50_fn\u001b[0m\u001b[0;34m(\u001b[0m\u001b[0;34m)\u001b[0m\u001b[0;34m:\u001b[0m\u001b[0;34m\u001b[0m\u001b[0;34m\u001b[0m\u001b[0m\n",
      "\u001b[0;31mAttributeError\u001b[0m: type object 'PandasUDFType' has no attribute 'SCALAR_ITER'"
     ]
    }
   ],
   "source": [
    "def preprocess(img_b64_str):\n",
    "    img_binary = base64.decodestring(img_b64_str)\n",
    "    img = Image.open(io.BytesIO(img_data)).convert('RGB')\n",
    "    img = img.resize([224, 224])\n",
    "    x = np.asarray(img, dtype=\"float32\")\n",
    "    return preprocess_input(x)\n",
    "\n",
    "\n",
    "def keras_model_udf(model_fn):\n",
    "    def predict(image_batch_iter):\n",
    "        model = model_fn()\n",
    "        for img_series in image_batch_iter:\n",
    "            processed_images = np.array([preprocess(img) for img in img_series])\n",
    "            predictions = model.predict(processed_images, batch_size=64)\n",
    "            predicted_labels = [x[0] for x in decode_predictions(predictions, top=1)]\n",
    "            yield pd.DataFrame(predicted_labels)\n",
    "    return_type = \"class: string, desc: string, score:float\"\n",
    "    return pandas_udf(return_type, PandasUDFType.SCALAR_ITER)(predict)  \n",
    "\n",
    "def resnet50_fn():\n",
    "    model = ResNet50(weights=None)\n",
    "    model.set_weights(bc_model_weights.value)\n",
    "    return model\n",
    "\n",
    "resnet50_udf = keras_model_udf(resnet50_fn)"
   ]
  },
  {
   "cell_type": "code",
   "execution_count": 22,
   "metadata": {
    "ExecuteTime": {
     "end_time": "2021-05-04T06:34:22.095748Z",
     "start_time": "2021-05-04T06:34:22.062035Z"
    }
   },
   "outputs": [
    {
     "data": {
      "text/plain": [
       "['GROUPED_MAP',\n",
       " 'SCALAR',\n",
       " '__class__',\n",
       " '__delattr__',\n",
       " '__dict__',\n",
       " '__dir__',\n",
       " '__doc__',\n",
       " '__eq__',\n",
       " '__format__',\n",
       " '__ge__',\n",
       " '__getattribute__',\n",
       " '__gt__',\n",
       " '__hash__',\n",
       " '__init__',\n",
       " '__init_subclass__',\n",
       " '__le__',\n",
       " '__lt__',\n",
       " '__module__',\n",
       " '__ne__',\n",
       " '__new__',\n",
       " '__reduce__',\n",
       " '__reduce_ex__',\n",
       " '__repr__',\n",
       " '__setattr__',\n",
       " '__sizeof__',\n",
       " '__str__',\n",
       " '__subclasshook__',\n",
       " '__weakref__']"
      ]
     },
     "execution_count": 22,
     "metadata": {},
     "output_type": "execute_result"
    }
   ],
   "source": [
    "# Unfortunely \n",
    "# SCALAR_ITER only supported in pyspark 3.0\n",
    "# https://spark.apache.org/docs/3.0.0-preview/sql-pyspark-pandas-with-arrow.html#scalar-iterator"
   ]
  },
  {
   "cell_type": "code",
   "execution_count": null,
   "metadata": {},
   "outputs": [],
   "source": []
  }
 ],
 "metadata": {
  "kernelspec": {
   "display_name": "pixlake",
   "language": "python",
   "name": "pixlake"
  },
  "language_info": {
   "codemirror_mode": {
    "name": "ipython",
    "version": 3
   },
   "file_extension": ".py",
   "mimetype": "text/x-python",
   "name": "python",
   "nbconvert_exporter": "python",
   "pygments_lexer": "ipython3",
   "version": "3.7.9"
  },
  "toc": {
   "base_numbering": 1,
   "nav_menu": {},
   "number_sections": true,
   "sideBar": true,
   "skip_h1_title": false,
   "title_cell": "Table of Contents",
   "title_sidebar": "Contents",
   "toc_cell": false,
   "toc_position": {},
   "toc_section_display": true,
   "toc_window_display": false
  }
 },
 "nbformat": 4,
 "nbformat_minor": 4
}
