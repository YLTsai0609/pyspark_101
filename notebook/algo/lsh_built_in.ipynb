{
 "cells": [
  {
   "cell_type": "code",
   "execution_count": 1,
   "metadata": {
    "ExecuteTime": {
     "end_time": "2021-06-05T10:53:10.597004Z",
     "start_time": "2021-06-05T10:53:10.574398Z"
    }
   },
   "outputs": [],
   "source": [
    "# env : pixlake\n",
    "# we focuing on pyspark dataframe processing\n",
    "# documentation https://spark.apache.org/docs/2.4.0/api/python/pyspark.sql.html#pyspark.sql.DataFrame\n",
    "%load_ext autoreload\n",
    "%autoreload 2"
   ]
  },
  {
   "cell_type": "code",
   "execution_count": 2,
   "metadata": {
    "ExecuteTime": {
     "end_time": "2021-06-05T10:53:16.077580Z",
     "start_time": "2021-06-05T10:53:16.058009Z"
    }
   },
   "outputs": [],
   "source": [
    "# make you auto compeletion faster\n",
    "# https://stackoverflow.com/questions/40536560/ipython-and-jupyter-autocomplete-not-working\n",
    "%config Completer.use_jedi = False"
   ]
  },
  {
   "cell_type": "code",
   "execution_count": 3,
   "metadata": {
    "ExecuteTime": {
     "end_time": "2021-06-05T10:53:20.381614Z",
     "start_time": "2021-06-05T10:53:20.363813Z"
    }
   },
   "outputs": [
    {
     "name": "stdout",
     "output_type": "stream",
     "text": [
      "You have pyspark version :  ['spark-2.3', 'spark-3.0', 'spark-3.0.1-bin-hadoop2.7', 'spark-2.3.4-bin-hadoop2.7', 'spark-2.4.7-bin-hadoop2.7', 'spark-2.4']\n"
     ]
    }
   ],
   "source": [
    "import os\n",
    "import sys\n",
    "\n",
    "def get_workstation_spark_path(where_are_you : str) -> str:\n",
    "    if where_are_you == 'titan':\n",
    "        return '/home/data/ryanchao2012/lib'\n",
    "    elif where_are_you == 'thor':\n",
    "        return '/opt/spark/versions'\n",
    "    else:\n",
    "        raise ValueError(\"wrong work station name\")\n",
    "\n",
    "spark_path = get_workstation_spark_path('thor')\n",
    "\n",
    "print('You have pyspark version : ', os.listdir(spark_path))\n",
    "os.environ['PYSPARK_PYTHON'] = sys.executable\n",
    "# spark-2.3, spark-2.4\n",
    "os.environ['SPARK_HOME'] = os.path.join(spark_path,'spark-2.3')"
   ]
  },
  {
   "cell_type": "code",
   "execution_count": 4,
   "metadata": {
    "ExecuteTime": {
     "end_time": "2021-06-05T10:53:33.241519Z",
     "start_time": "2021-06-05T10:53:33.221918Z"
    }
   },
   "outputs": [
    {
     "data": {
      "text/plain": [
       "'/opt/spark/versions/spark-2.3'"
      ]
     },
     "execution_count": 4,
     "metadata": {},
     "output_type": "execute_result"
    }
   ],
   "source": [
    "os.environ['SPARK_HOME']"
   ]
  },
  {
   "cell_type": "code",
   "execution_count": 5,
   "metadata": {
    "ExecuteTime": {
     "end_time": "2021-06-05T10:53:34.659134Z",
     "start_time": "2021-06-05T10:53:34.311954Z"
    }
   },
   "outputs": [],
   "source": [
    "from os.path import join\n",
    "import pandas as pd\n",
    "from pyspark.sql import SparkSession as Session\n",
    "from pyspark.sql import DataFrame\n",
    "from pyspark import SparkConf as Conf\n",
    "from pyspark.sql import functions as F, Window as W, types as T\n",
    "from pyspark.sql.types import StructType, StructField, StringType, IntegerType\n",
    "C = F.col"
   ]
  },
  {
   "cell_type": "code",
   "execution_count": 6,
   "metadata": {
    "ExecuteTime": {
     "end_time": "2021-06-05T10:53:38.449797Z",
     "start_time": "2021-06-05T10:53:38.432969Z"
    }
   },
   "outputs": [],
   "source": [
    "conf = (Conf()\n",
    "    .set('spark.sql.sources.partitionOverwriteMode', 'dynamic')\n",
    "    .set('spark.driver.memory', '4g')\n",
    "    .set('spark.driver.maxResultSize', '1g')\n",
    "   )"
   ]
  },
  {
   "cell_type": "code",
   "execution_count": 7,
   "metadata": {
    "ExecuteTime": {
     "end_time": "2021-06-05T10:53:45.896811Z",
     "start_time": "2021-06-05T10:53:43.440513Z"
    }
   },
   "outputs": [],
   "source": [
    "spark = (Session\n",
    "     .builder\n",
    "     .appName('pyspark-challenge')\n",
    "     .master('local[2]')\n",
    "     .config(conf=conf)\n",
    "     .getOrCreate())"
   ]
  },
  {
   "cell_type": "code",
   "execution_count": 8,
   "metadata": {
    "ExecuteTime": {
     "end_time": "2021-06-05T10:53:48.770775Z",
     "start_time": "2021-06-05T10:53:48.744001Z"
    }
   },
   "outputs": [
    {
     "data": {
      "text/html": [
       "\n",
       "            <div>\n",
       "                <p><b>SparkSession - in-memory</b></p>\n",
       "                \n",
       "        <div>\n",
       "            <p><b>SparkContext</b></p>\n",
       "\n",
       "            <p><a href=\"http://thor:4042\">Spark UI</a></p>\n",
       "\n",
       "            <dl>\n",
       "              <dt>Version</dt>\n",
       "                <dd><code>v2.3.4</code></dd>\n",
       "              <dt>Master</dt>\n",
       "                <dd><code>local[2]</code></dd>\n",
       "              <dt>AppName</dt>\n",
       "                <dd><code>pyspark-challenge</code></dd>\n",
       "            </dl>\n",
       "        </div>\n",
       "        \n",
       "            </div>\n",
       "        "
      ],
      "text/plain": [
       "<pyspark.sql.session.SparkSession at 0x7fda5c89aad0>"
      ]
     },
     "execution_count": 8,
     "metadata": {},
     "output_type": "execute_result"
    }
   ],
   "source": [
    "spark"
   ]
  },
  {
   "cell_type": "markdown",
   "metadata": {},
   "source": [
    "# Docs"
   ]
  },
  {
   "cell_type": "markdown",
   "metadata": {},
   "source": [
    "[Introduction](https://spark.apache.org/docs/2.2.3/ml-features.html#minhash-for-jaccard-distance)\n",
    "\n",
    "[api doc](https://spark.apache.org/docs/2.3.4/api/python/pyspark.ml.html#pyspark.ml.feature.MinHashLSH)\n",
    "\n",
    "\n",
    "LSH used in clustering, approximate mearest neighbor search and outlier detection with large datasets"
   ]
  },
  {
   "cell_type": "markdown",
   "metadata": {},
   "source": [
    " # Min Hash for Jaccard Distance\n",
    " \n",
    " * Input data - shingling boolean vector\n",
    " * fit a model - build sig matrix\n",
    "     * you can find similarity pairs by send a query or apply a join\n",
    "     "
   ]
  },
  {
   "cell_type": "code",
   "execution_count": 10,
   "metadata": {
    "ExecuteTime": {
     "end_time": "2021-06-05T10:58:14.330688Z",
     "start_time": "2021-06-05T10:58:14.061437Z"
    }
   },
   "outputs": [],
   "source": [
    "from pyspark.ml.feature import MinHashLSH\n",
    "from pyspark.ml.linalg import Vectors"
   ]
  },
  {
   "cell_type": "code",
   "execution_count": 20,
   "metadata": {
    "ExecuteTime": {
     "end_time": "2021-06-05T12:52:17.005834Z",
     "start_time": "2021-06-05T12:52:16.980755Z"
    }
   },
   "outputs": [],
   "source": [
    "# Vectors.sparse??\n",
    "\n",
    "# Vector.sparse(sparse, [0,1,2], [1.0, 1.0, 1.0]) \n",
    "# means a 6 dimension vector [1.0, 1.0, 1.0, 0, 0, 0]\n",
    "# you can give a two list or a dict to create Vector.sparse\n",
    "\n",
    "MinHashLSH??\n",
    "\n",
    "# inputCol=None, outputCol=None, seed=None, numHashTables=1\n",
    "# where's the b and r ?\n",
    "#Key means the query"
   ]
  },
  {
   "cell_type": "code",
   "execution_count": 33,
   "metadata": {
    "ExecuteTime": {
     "end_time": "2021-06-05T13:24:45.548409Z",
     "start_time": "2021-06-05T13:24:43.201073Z"
    }
   },
   "outputs": [
    {
     "name": "stdout",
     "output_type": "stream",
     "text": [
      "The hashed dataset where hashed values are stored in the column 'hashes':\n",
      "-RECORD 0------------------------------------------------------------------------------------------------------------------------------------------------------------------------------------------------------------------------------------------------------------------------------------------------------------------------------------------------------------------------------------------------------------------------------------------------------------------------------------------------------------------------------------------------------------------------------------------------------------------------------------------------------------------------------------------------------------------------------------------------------------------------------------------------------------------------------------------------------------------------------------------------------------\n",
      " id       | 0                                                                                                                                                                                                                                                                                                                                                                                                                                                                                                                                                                                                                                                                                                                                                                                                                                                                                                        \n",
      " features | (6,[0,1,2],[1.0,1.0,1.0])                                                                                                                                                                                                                                                                                                                                                                                                                                                                                                                                                                                                                                                                                                                                                                                                                                                                                \n",
      " hashes   | [[-1.052712271E9], [-1.257595914E9], [-1.6089098E9], [-1.585127366E9], [-1.240338163E9], [-1.800935541E9], [-1.89148445E9], [-1.62796031E9], [-1.662702669E9], [-1.57188696E9], [1.26368509E9], [-1.740093139E9], [-1.764242836E9], [-4.85434991E8], [-1.0641082E7], [-1.664962595E9], [-1.982927993E9], [-1.5725989E9], [-2.011352301E9], [-1.504042587E9], [-1.686499407E9], [1.418006713E9], [-5.6788141E7], [-7.97463267E8], [-1.487094771E9], [-1.683712856E9], [9.20741917E8], [-8.16634415E8], [-1.618313031E9], [-1.387218579E9], [-1.944558036E9], [-1.253323703E9], [-1.711794361E9], [-1.876945906E9], [1.066608955E9], [-1.487718863E9], [-1.919612576E9], [-1.78529421E9], [-1.1017183E9], [-6.61387346E8], [4.37250401E8], [-1.524255518E9], [-1.671692418E9], [-1.734042104E9], [1.161343219E9], [-1.665945547E9], [-1.182733866E9], [-1.036590768E9], [1.376578673E9], [-1.165022283E9]] \n",
      "-RECORD 1------------------------------------------------------------------------------------------------------------------------------------------------------------------------------------------------------------------------------------------------------------------------------------------------------------------------------------------------------------------------------------------------------------------------------------------------------------------------------------------------------------------------------------------------------------------------------------------------------------------------------------------------------------------------------------------------------------------------------------------------------------------------------------------------------------------------------------------------------------------------------------------------------------\n",
      " id       | 1                                                                                                                                                                                                                                                                                                                                                                                                                                                                                                                                                                                                                                                                                                                                                                                                                                                                                                        \n",
      " features | (6,[2,3,4],[1.0,1.0,1.0])                                                                                                                                                                                                                                                                                                                                                                                                                                                                                                                                                                                                                                                                                                                                                                                                                                                                                \n",
      " hashes   | [[-6.60386174E8], [-1.150929463E9], [-2.82969858E8], [-9.9010586E8], [-1.247538899E9], [-1.800935541E9], [-1.099529173E9], [-1.035795833E9], [-1.974916137E9], [-1.57188696E9], [-1.72597075E9], [1.48832689E8], [-1.764242836E9], [-1.351787369E9], [-1.725417578E9], [-1.664962595E9], [-9.06345821E8], [-1.5725989E9], [-2.011352301E9], [-9.15261422E8], [-1.834962505E9], [6.9582922E7], [-1.900162349E9], [-1.662396691E9], [-1.487094771E9], [-1.256188415E9], [9.68271431E8], [-1.806472889E9], [-1.317195541E9], [-1.554082283E9], [-1.944558036E9], [-1.709338614E9], [-1.711794361E9], [-1.064276406E9], [-1.841359E7], [-5.50808433E8], [-2.03475867E9], [-1.596514123E9], [-9.4500099E7], [-1.403031834E9], [1.085926017E9], [-1.524255518E9], [-2.012658118E9], [-1.131518356E9], [-1.871134305E9], [-1.280958787E9], [-1.49089889E8], [-1.800038077E9], [1.411580955E9], [-5.78959489E8]] \n",
      "-RECORD 2------------------------------------------------------------------------------------------------------------------------------------------------------------------------------------------------------------------------------------------------------------------------------------------------------------------------------------------------------------------------------------------------------------------------------------------------------------------------------------------------------------------------------------------------------------------------------------------------------------------------------------------------------------------------------------------------------------------------------------------------------------------------------------------------------------------------------------------------------------------------------------------------------------\n",
      " id       | 2                                                                                                                                                                                                                                                                                                                                                                                                                                                                                                                                                                                                                                                                                                                                                                                                                                                                                                        \n",
      " features | (6,[0,2,4],[1.0,1.0,1.0])                                                                                                                                                                                                                                                                                                                                                                                                                                                                                                                                                                                                                                                                                                                                                                                                                                                                                \n",
      " hashes   | [[-6.60386174E8], [-1.150929463E9], [-1.6089098E9], [-9.9010586E8], [-1.247538899E9], [-1.800935541E9], [-1.099529173E9], [-1.035795833E9], [-1.974916137E9], [-1.57188696E9], [-1.72597075E9], [-1.740093139E9], [-1.764242836E9], [5.7150103E7], [-1.402119331E9], [-1.664962595E9], [-1.982927993E9], [-1.5725989E9], [-2.011352301E9], [-9.15261422E8], [-1.686499407E9], [6.9582922E7], [-1.705461814E9], [5.2620245E7], [-1.487094771E9], [-1.256188415E9], [9.20741917E8], [-1.53908478E8], [-1.618313031E9], [-1.554082283E9], [-1.944558036E9], [-1.253323703E9], [-1.711794361E9], [-1.064276406E9], [-1.841359E7], [-5.50808433E8], [-1.919612576E9], [-1.78529421E9], [-9.4500099E7], [3.7362957E8], [4.37250401E8], [-1.524255518E9], [-2.012658118E9], [-1.131518356E9], [-1.450304381E9], [-1.280958787E9], [-1.49089889E8], [-1.800038077E9], [1.376578673E9], [-1.165022283E9]]         \n",
      "\n",
      "Approximately joining dfA and dfB on distance smaller than 0.6:\n"
     ]
    },
    {
     "name": "stdout",
     "output_type": "stream",
     "text": [
      "-RECORD 0--------------\n",
      " idA             | 1   \n",
      " idB             | 5   \n",
      " JaccardDistance | 0.5 \n",
      "-RECORD 1--------------\n",
      " idA             | 0   \n",
      " idB             | 5   \n",
      " JaccardDistance | 0.5 \n",
      "-RECORD 2--------------\n",
      " idA             | 1   \n",
      " idB             | 4   \n",
      " JaccardDistance | 0.5 \n",
      "-RECORD 3--------------\n",
      " idA             | 2   \n",
      " idB             | 5   \n",
      " JaccardDistance | 0.5 \n",
      "\n",
      "Approximately searching dfA for 2 nearest neighbors of the key:\n",
      "+---+--------------------+--------------------+-------+\n",
      "| id|            features|              hashes|distCol|\n",
      "+---+--------------------+--------------------+-------+\n",
      "|  0|(6,[0,1,2],[1.0,1...|[[-1.052712271E9]...|   0.75|\n",
      "|  1|(6,[2,3,4],[1.0,1...|[[-6.60386174E8],...|   0.75|\n",
      "+---+--------------------+--------------------+-------+\n",
      "\n"
     ]
    }
   ],
   "source": [
    "#\n",
    "\n",
    "dataA = [(0, Vectors.sparse(6, [0, 1, 2], [1.0, 1.0, 1.0]),),\n",
    "         (1, Vectors.sparse(6, [2, 3, 4], [1.0, 1.0, 1.0]),),\n",
    "         (2, Vectors.sparse(6, [0, 2, 4], [1.0, 1.0, 1.0]),)]\n",
    "dfA = spark.createDataFrame(dataA, [\"id\", \"features\"])\n",
    "\n",
    "dataB = [(3, Vectors.sparse(6, [1, 3, 5], [1.0, 1.0, 1.0]),),\n",
    "         (4, Vectors.sparse(6, [2, 3, 5], [1.0, 1.0, 1.0]),),\n",
    "         (5, Vectors.sparse(6, [1, 2, 4], [1.0, 1.0, 1.0]),)]\n",
    "dfB = spark.createDataFrame(dataB, [\"id\", \"features\"])\n",
    "\n",
    "key = Vectors.sparse(6, [1, 3], [1.0, 1.0])\n",
    "\n",
    "# key = Vectors.sparse(6, [0, 1, 2], [1.0, 1.0, 1.0])\n",
    "\n",
    "mh = MinHashLSH(inputCol=\"features\",\n",
    "                outputCol=\"hashes\",\n",
    "                seed = 42,\n",
    "                numHashTables=50)\n",
    "model = mh.fit(dfA)\n",
    "\n",
    "# Feature Transformation\n",
    "print(\"The hashed dataset where hashed values are stored in the column 'hashes':\")\n",
    "model.transform(dfA).show(vertical=True,\n",
    "                          truncate=False)\n",
    "\n",
    "# Compute the locality sensitive hashes for the input rows, then perform approximate\n",
    "# similarity join.\n",
    "# We could avoid computing hashes by passing in the already-transformed dataset, e.g.\n",
    "# `model.approxSimilarityJoin(transformedA, transformedB, 0.6)`\n",
    "print(\"Approximately joining dfA and dfB on distance smaller than 0.6:\")\n",
    "model.approxSimilarityJoin(dfA, dfB, 0.6, distCol=\"JaccardDistance\")\\\n",
    "    .select(C(\"datasetA.id\").alias(\"idA\"),\n",
    "            C(\"datasetB.id\").alias(\"idB\"),\n",
    "            C(\"JaccardDistance\")).show(vertical=True,truncate=False)\n",
    "\n",
    "# Compute the locality sensitive hashes for the input rows, then perform approximate nearest\n",
    "# neighbor search.\n",
    "# We could avoid computing hashes by passing in the already-transformed dataset, e.g.\n",
    "# `model.approxNearestNeighbors(transformedA, key, 2)`\n",
    "# It may return less than 2 rows when not enough approximate near-neighbor candidates are\n",
    "# found.\n",
    "print(\"Approximately searching dfA for 5 nearest neighbors of the key:\")\n",
    "model.approxNearestNeighbors(dfA, key, 5).show()"
   ]
  },
  {
   "cell_type": "code",
   "execution_count": 22,
   "metadata": {
    "ExecuteTime": {
     "end_time": "2021-06-05T13:14:30.935832Z",
     "start_time": "2021-06-05T13:14:30.910069Z"
    }
   },
   "outputs": [],
   "source": []
  },
  {
   "cell_type": "code",
   "execution_count": 29,
   "metadata": {
    "ExecuteTime": {
     "end_time": "2021-06-05T13:17:20.043396Z",
     "start_time": "2021-06-05T13:17:20.023472Z"
    }
   },
   "outputs": [
    {
     "name": "stdout",
     "output_type": "stream",
     "text": [
      "['__class__', '__del__', '__delattr__', '__dict__', '__dir__', '__doc__', '__eq__', '__format__', '__ge__', '__getattribute__', '__gt__', '__hash__', '__init__', '__init_subclass__', '__le__', '__lt__', '__metaclass__', '__module__', '__ne__', '__new__', '__reduce__', '__reduce_ex__', '__repr__', '__setattr__', '__sizeof__', '__str__', '__subclasshook__', '__weakref__', '_call_java', '_clear', '_copyValues', '_copy_params', '_create_from_java_class', '_create_model', '_create_params_from_java', '_defaultParamMap', '_dummy', '_empty_java_param_map', '_fit', '_fit_java', '_from_java', '_input_kwargs', '_java_obj', '_make_java_param_pair', '_new_java_array', '_new_java_obj', '_paramMap', '_params', '_randomUID', '_resetUid', '_resolveParam', '_set', '_setDefault', '_shouldOwn', '_to_java', '_transfer_param_map_from_java', '_transfer_param_map_to_java', '_transfer_params_from_java', '_transfer_params_to_java', 'copy', 'explainParam', 'explainParams', 'extractParamMap', 'fit', 'fitMultiple', 'getInputCol', 'getNumHashTables', 'getOrDefault', 'getOutputCol', 'getParam', 'getSeed', 'hasDefault', 'hasParam', 'inputCol', 'isDefined', 'isSet', 'load', 'numHashTables', 'outputCol', 'params', 'read', 'save', 'seed', 'set', 'setInputCol', 'setNumHashTables', 'setOutputCol', 'setParams', 'setSeed', 'uid', 'write']\n",
      "\n",
      "['__class__', '__del__', '__delattr__', '__dict__', '__dir__', '__doc__', '__eq__', '__format__', '__ge__', '__getattribute__', '__gt__', '__hash__', '__init__', '__init_subclass__', '__le__', '__lt__', '__metaclass__', '__module__', '__ne__', '__new__', '__reduce__', '__reduce_ex__', '__repr__', '__setattr__', '__sizeof__', '__str__', '__subclasshook__', '__weakref__', '_call_java', '_clear', '_copyValues', '_copy_params', '_create_from_java_class', '_create_params_from_java', '_defaultParamMap', '_dummy', '_empty_java_param_map', '_from_java', '_java_obj', '_make_java_param_pair', '_new_java_array', '_new_java_obj', '_paramMap', '_params', '_randomUID', '_resetUid', '_resolveParam', '_set', '_setDefault', '_shouldOwn', '_to_java', '_transfer_param_map_from_java', '_transfer_param_map_to_java', '_transfer_params_from_java', '_transfer_params_to_java', '_transform', 'approxNearestNeighbors', 'approxSimilarityJoin', 'copy', 'explainParam', 'explainParams', 'extractParamMap', 'getOrDefault', 'getParam', 'hasDefault', 'hasParam', 'inputCol', 'isDefined', 'isSet', 'load', 'numHashTables', 'outputCol', 'params', 'read', 'save', 'set', 'transform', 'uid', 'write']\n",
      "\n",
      "inputCol: input column name. (current: features)\n",
      "numHashTables: number of hash tables, where increasing number of hash tables lowers the false negative rate, and decreasing it improves the running performance. (default: 1, current: 5)\n",
      "outputCol: output column name. (default: MinHashLSH_4c04b66021ccff87cf04__output, current: hashes)\n",
      "seed: random seed. (default: -8807048890369286391)\n",
      "inputCol: input column name (current: features)\n",
      "numHashTables: number of hash tables, where increasing number of hash tables lowers the false negative rate, and decreasing it improves the running performance (default: 1, current: 5)\n",
      "outputCol: output column name (default: MinHashLSH_4c04b66021ccff87cf04__output, current: hashes)\n"
     ]
    }
   ],
   "source": [
    "print(dir(mh))\n",
    "print()\n",
    "print(dir(model))\n",
    "print()\n",
    "\n",
    "print(mh.explainParams())\n",
    "print(model.explainParams())\n"
   ]
  },
  {
   "cell_type": "code",
   "execution_count": null,
   "metadata": {},
   "outputs": [],
   "source": []
  }
 ],
 "metadata": {
  "kernelspec": {
   "display_name": "pixlake",
   "language": "python",
   "name": "pixlake"
  },
  "language_info": {
   "codemirror_mode": {
    "name": "ipython",
    "version": 3
   },
   "file_extension": ".py",
   "mimetype": "text/x-python",
   "name": "python",
   "nbconvert_exporter": "python",
   "pygments_lexer": "ipython3",
   "version": "3.7.9"
  },
  "toc": {
   "base_numbering": 1,
   "nav_menu": {},
   "number_sections": true,
   "sideBar": true,
   "skip_h1_title": false,
   "title_cell": "Table of Contents",
   "title_sidebar": "Contents",
   "toc_cell": false,
   "toc_position": {},
   "toc_section_display": true,
   "toc_window_display": false
  }
 },
 "nbformat": 4,
 "nbformat_minor": 4
}
