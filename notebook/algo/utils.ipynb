{
 "cells": [
  {
   "cell_type": "code",
   "execution_count": 1,
   "metadata": {
    "ExecuteTime": {
     "end_time": "2021-12-20T03:17:54.440985Z",
     "start_time": "2021-12-20T03:17:54.419997Z"
    }
   },
   "outputs": [],
   "source": [
    "# env : pixlake\n",
    "# we focuing on pyspark dataframe processing\n",
    "# documentation https://spark.apache.org/docs/2.4.0/api/python/pyspark.sql.html#pyspark.sql.DataFrame\n",
    "%load_ext autoreload\n",
    "%autoreload 2"
   ]
  },
  {
   "cell_type": "code",
   "execution_count": 2,
   "metadata": {
    "ExecuteTime": {
     "end_time": "2021-12-20T03:17:54.622839Z",
     "start_time": "2021-12-20T03:17:54.442649Z"
    }
   },
   "outputs": [],
   "source": [
    "# make you auto compeletion faster\n",
    "# https://stackoverflow.com/questions/40536560/ipython-and-jupyter-autocomplete-not-working\n",
    "%config Completer.use_jedi = False"
   ]
  },
  {
   "cell_type": "code",
   "execution_count": 3,
   "metadata": {
    "ExecuteTime": {
     "end_time": "2021-12-20T03:17:54.723608Z",
     "start_time": "2021-12-20T03:17:54.625013Z"
    }
   },
   "outputs": [
    {
     "name": "stdout",
     "output_type": "stream",
     "text": [
      "You have pyspark version :  ['spark-2.3', 'spark-3.1.2-bin-hadoop2.7', 'spark-3.0', 'spark-3.0.1-bin-hadoop2.7', 'spark-2.3.4-bin-hadoop2.7', 'spark-2.4.7-bin-hadoop2.7', 'spark-2.4', 'spark-3.1']\n"
     ]
    }
   ],
   "source": [
    "import os\n",
    "import sys\n",
    "\n",
    "def get_workstation_spark_path(where_are_you : str) -> str:\n",
    "    if where_are_you == 'titan':\n",
    "        return '/home/data/ryanchao2012/lib'\n",
    "    elif where_are_you == 'thor':\n",
    "        return '/opt/spark/versions'\n",
    "    else:\n",
    "        raise ValueError(\"wrong work station name\")\n",
    "\n",
    "spark_path = get_workstation_spark_path('thor')\n",
    "\n",
    "print('You have pyspark version : ', os.listdir(spark_path))\n",
    "os.environ['PYSPARK_PYTHON'] = sys.executable\n",
    "# spark-2.3, spark-2.4\n",
    "os.environ['SPARK_HOME'] = os.path.join(spark_path,'spark-2.3')"
   ]
  },
  {
   "cell_type": "code",
   "execution_count": 4,
   "metadata": {
    "ExecuteTime": {
     "end_time": "2021-12-20T03:17:54.980082Z",
     "start_time": "2021-12-20T03:17:54.726946Z"
    }
   },
   "outputs": [
    {
     "data": {
      "text/plain": [
       "'/opt/spark/versions/spark-2.3'"
      ]
     },
     "execution_count": 4,
     "metadata": {},
     "output_type": "execute_result"
    }
   ],
   "source": [
    "os.environ['SPARK_HOME']"
   ]
  },
  {
   "cell_type": "code",
   "execution_count": 5,
   "metadata": {
    "ExecuteTime": {
     "end_time": "2021-12-20T03:17:55.414723Z",
     "start_time": "2021-12-20T03:17:54.982133Z"
    }
   },
   "outputs": [],
   "source": [
    "from os.path import join\n",
    "import pandas as pd\n",
    "import numpy as np\n",
    "from pyspark.sql import SparkSession as Session\n",
    "from pyspark.sql import DataFrame\n",
    "from pyspark import SparkConf as Conf\n",
    "from pyspark.sql import functions as F, Window as W, types as T\n",
    "from pyspark.sql.types import StructType, StructField, StringType, IntegerType\n",
    "\n",
    "C = F.col\n",
    "\n",
    "SEED = 42\n"
   ]
  },
  {
   "cell_type": "code",
   "execution_count": 6,
   "metadata": {
    "ExecuteTime": {
     "end_time": "2021-12-20T03:17:55.426123Z",
     "start_time": "2021-12-20T03:17:55.416215Z"
    }
   },
   "outputs": [],
   "source": [
    "conf = (Conf()\n",
    "    .set('spark.sql.sources.partitionOverwriteMode', 'dynamic')\n",
    "    .set('spark.driver.memory', '4g')\n",
    "    .set('spark.driver.maxResultSize', '1g')\n",
    "   )"
   ]
  },
  {
   "cell_type": "code",
   "execution_count": 7,
   "metadata": {
    "ExecuteTime": {
     "end_time": "2021-12-20T03:17:57.914592Z",
     "start_time": "2021-12-20T03:17:55.427286Z"
    }
   },
   "outputs": [],
   "source": [
    "spark = (Session\n",
    "     .builder\n",
    "     .appName('ml-utils')\n",
    "     .master('local[2]')\n",
    "     .config(conf=conf)\n",
    "     .getOrCreate())"
   ]
  },
  {
   "cell_type": "code",
   "execution_count": 8,
   "metadata": {
    "ExecuteTime": {
     "end_time": "2021-12-20T03:17:57.933104Z",
     "start_time": "2021-12-20T03:17:57.917841Z"
    }
   },
   "outputs": [
    {
     "data": {
      "text/html": [
       "\n",
       "            <div>\n",
       "                <p><b>SparkSession - in-memory</b></p>\n",
       "                \n",
       "        <div>\n",
       "            <p><b>SparkContext</b></p>\n",
       "\n",
       "            <p><a href=\"http://thor:4042\">Spark UI</a></p>\n",
       "\n",
       "            <dl>\n",
       "              <dt>Version</dt>\n",
       "                <dd><code>v2.3.4</code></dd>\n",
       "              <dt>Master</dt>\n",
       "                <dd><code>local[2]</code></dd>\n",
       "              <dt>AppName</dt>\n",
       "                <dd><code>ml-utils</code></dd>\n",
       "            </dl>\n",
       "        </div>\n",
       "        \n",
       "            </div>\n",
       "        "
      ],
      "text/plain": [
       "<pyspark.sql.session.SparkSession at 0x7f805cc4ab50>"
      ]
     },
     "execution_count": 8,
     "metadata": {},
     "output_type": "execute_result"
    }
   ],
   "source": [
    "spark"
   ]
  },
  {
   "cell_type": "markdown",
   "metadata": {},
   "source": [
    "# Numbers in column"
   ]
  },
  {
   "cell_type": "code",
   "execution_count": 9,
   "metadata": {
    "ExecuteTime": {
     "end_time": "2021-12-20T03:17:58.078273Z",
     "start_time": "2021-12-20T03:17:57.934770Z"
    }
   },
   "outputs": [],
   "source": [
    "# L2"
   ]
  },
  {
   "cell_type": "code",
   "execution_count": 10,
   "metadata": {
    "ExecuteTime": {
     "end_time": "2021-12-20T03:18:00.925327Z",
     "start_time": "2021-12-20T03:17:58.081091Z"
    }
   },
   "outputs": [
    {
     "name": "stdout",
     "output_type": "stream",
     "text": [
      "+---+---+------------------+\n",
      "|  x|  y|          distance|\n",
      "+---+---+------------------+\n",
      "|  1|  3|3.1622776601683795|\n",
      "|  2|  4|  4.47213595499958|\n",
      "|  3|  5| 5.830951894845301|\n",
      "+---+---+------------------+\n",
      "\n"
     ]
    }
   ],
   "source": [
    "# L2 distance\n",
    "\n",
    "columns = [\"x\", \"y\"]\n",
    "data = [\n",
    "    (1,3),\n",
    "    (2,4),\n",
    "    (3,5)\n",
    "]\n",
    "\n",
    "(\n",
    "    spark.createDataFrame(data, columns)\n",
    "    .withColumn('distance',F.hypot(C(\"x\"), C(\"y\")))\n",
    ").show()"
   ]
  },
  {
   "cell_type": "code",
   "execution_count": null,
   "metadata": {},
   "outputs": [],
   "source": []
  },
  {
   "cell_type": "code",
   "execution_count": null,
   "metadata": {},
   "outputs": [],
   "source": []
  },
  {
   "cell_type": "code",
   "execution_count": null,
   "metadata": {},
   "outputs": [],
   "source": []
  },
  {
   "cell_type": "code",
   "execution_count": null,
   "metadata": {},
   "outputs": [],
   "source": []
  },
  {
   "cell_type": "markdown",
   "metadata": {},
   "source": [
    "# Vectors"
   ]
  },
  {
   "cell_type": "code",
   "execution_count": 11,
   "metadata": {
    "ExecuteTime": {
     "end_time": "2021-12-20T03:18:00.976160Z",
     "start_time": "2021-12-20T03:18:00.927675Z"
    }
   },
   "outputs": [],
   "source": [
    "from pyspark.ml.linalg import Vectors"
   ]
  },
  {
   "cell_type": "code",
   "execution_count": 12,
   "metadata": {
    "ExecuteTime": {
     "end_time": "2021-12-20T03:18:01.331302Z",
     "start_time": "2021-12-20T03:18:00.977818Z"
    }
   },
   "outputs": [
    {
     "name": "stdout",
     "output_type": "stream",
     "text": [
      "-RECORD 0-----------------------------\n",
      " id       | 0                         \n",
      " features | (6,[0,1,2],[1.0,1.0,1.0]) \n",
      "-RECORD 1-----------------------------\n",
      " id       | 1                         \n",
      " features | (6,[3,4,5],[1.0,1.0,1.0]) \n",
      "\n",
      "root\n",
      " |-- id: long (nullable = true)\n",
      " |-- features: vector (nullable = true)\n",
      "\n"
     ]
    }
   ],
   "source": [
    "# 1 create sparse vector from dict and list\n",
    "data = [\n",
    "    (0, Vectors.sparse(6, [0, 1, 2],[1.0, 1.0, 1.0])),\n",
    "    (1, Vectors.sparse(6, {3:1.0, 4:1.0, 5:1.0}))\n",
    "]\n",
    "\n",
    "cols = ['id','features']\n",
    "\n",
    "df = spark.createDataFrame(data, cols)\n",
    "df.show(n=5, vertical=True, truncate=False)\n",
    "df.printSchema()"
   ]
  },
  {
   "cell_type": "code",
   "execution_count": 13,
   "metadata": {
    "ExecuteTime": {
     "end_time": "2021-12-20T03:18:01.348264Z",
     "start_time": "2021-12-20T03:18:01.333666Z"
    }
   },
   "outputs": [
    {
     "name": "stdout",
     "output_type": "stream",
     "text": [
      "[4.0,6.0]\n",
      "[1.0,0.0]\n",
      "[0.5,1.0]\n",
      "[3.0,8.0]\n",
      "[3.0,2.0]\n",
      "[1.0,0.0]\n",
      "[-1.0,-2.0]\n"
     ]
    }
   ],
   "source": [
    "# 2 create dense vector from python list\n",
    "\n",
    "v = Vectors.dense([1, 2])\n",
    "u = Vectors.dense([3, 4])\n",
    "\n",
    "print(\n",
    "    v + u,\n",
    "    2 - v,\n",
    "    v / 2,\n",
    "    v * u,\n",
    "    u / v,\n",
    "    u % 2,\n",
    "    -v,\n",
    "    sep='\\n'\n",
    ")"
   ]
  },
  {
   "cell_type": "code",
   "execution_count": 14,
   "metadata": {
    "ExecuteTime": {
     "end_time": "2021-12-20T03:18:01.480708Z",
     "start_time": "2021-12-20T03:18:01.349591Z"
    }
   },
   "outputs": [
    {
     "name": "stdout",
     "output_type": "stream",
     "text": [
      "[3.0,4.0] [1.0,2.0] [1. 2.] [3. 4.] <class 'numpy.ndarray'>\n"
     ]
    }
   ],
   "source": [
    "# 3 convert vector into np.array and vice versa\n",
    "# https://spark.apache.org/docs/2.3.4/api/python/pyspark.ml.html#module-pyspark.ml.linalg\n",
    "\n",
    "# dense vector MLlib use Numpy array type\n",
    "# sparse vector, scipy.sparse\n",
    "v = Vectors.dense(np.array([1, 2]))\n",
    "u = Vectors.dense(np.array([3, 4]))\n",
    "\n",
    "np_v = v.toArray()\n",
    "np_u = u.toArray()\n",
    "print(\n",
    "    u,\n",
    "    v,\n",
    "    np_v,\n",
    "    np_u,\n",
    "    type(np_u)\n",
    "     )\n",
    "    "
   ]
  },
  {
   "cell_type": "code",
   "execution_count": 15,
   "metadata": {
    "ExecuteTime": {
     "end_time": "2021-12-20T03:18:01.891780Z",
     "start_time": "2021-12-20T03:18:01.483057Z"
    }
   },
   "outputs": [
    {
     "name": "stdout",
     "output_type": "stream",
     "text": [
      "root\n",
      " |-- url: string (nullable = true)\n",
      " |-- embedding: vector (nullable = true)\n",
      "\n",
      "+----------------+--------------------+\n",
      "|             url|           embedding|\n",
      "+----------------+--------------------+\n",
      "|http://url_1.jpg|[0.25034416553269...|\n",
      "|http://url_2.jpg|[0.20125242047691...|\n",
      "|http://url_3.jpg|[0.64865693634310...|\n",
      "+----------------+--------------------+\n",
      "\n",
      "True\n",
      "True\n",
      "True\n"
     ]
    }
   ],
   "source": [
    "# 3 Converting embedding vector between python dict / pandas dataframe / pyspark dataframe\n",
    "# pandas dataframe is a fake issue, np.array will not fit in dataframe well\n",
    "embedding_size = 256\n",
    "\n",
    "image_info = {\n",
    "    'http://url_1.jpg' : np.random.random(size=embedding_size),\n",
    "    'http://url_2.jpg' : np.random.random(size=embedding_size),\n",
    "    'http://url_3.jpg' : np.random.random(size=embedding_size)\n",
    "}\n",
    "\n",
    "############# python dict to pyspark dataframe #################\n",
    "\n",
    "data = [(url, Vectors.dense(vec)) for url, vec in image_info.items()]\n",
    "\n",
    "col = ['url','embedding']\n",
    "\n",
    "sdf = spark.createDataFrame(data, col)\n",
    "\n",
    "sdf.printSchema()\n",
    "sdf.show()\n",
    "\n",
    "######### pyspark data frame to python dict #####################\n",
    "\n",
    "# of course we need to collect the vectors ro driver\n",
    "\n",
    "convert_image_info = {\n",
    "    row.url : row.embedding.toArray()\n",
    "    for row in \n",
    "    sdf.collect()\n",
    "}\n",
    "\n",
    "for url in convert_image_info.keys():\n",
    "    print(np.isclose(convert_image_info[url], image_info[url]).all())\n"
   ]
  },
  {
   "cell_type": "code",
   "execution_count": 16,
   "metadata": {
    "ExecuteTime": {
     "end_time": "2021-12-20T03:18:01.906017Z",
     "start_time": "2021-12-20T03:18:01.894101Z"
    }
   },
   "outputs": [],
   "source": [
    "# 4 convert sparse vector from scipy / np into pyspark dataframe\n",
    "# sparse vector\n",
    "# https://docs.scipy.org/doc/scipy/reference/generated/scipy.sparse.csr_matrix.html#scipy.sparse.csr_matrix\n",
    "# from scipy.sparse import csr_matrix, coo_matrix\n",
    "\n",
    "# row = np.array([0, 0, 1, 2, 2, 2])\n",
    "# col = np.array([0, 2, 2, 0, 1, 2])\n",
    "# data = np.array([1, 2, 3, 4, 5, 6])\n",
    "\n",
    "# csr = csr_matrix((data, (row, col)), shape=(3, 3))\n",
    "\n",
    "# coo = coo_matrix(matrix)\n",
    "\n",
    "# for i,j,v in zip(coo.row, coo.col, coo.data):\n",
    "#     print( \"(%d, %d), %s\" % (i,j,v))\n"
   ]
  },
  {
   "cell_type": "code",
   "execution_count": 17,
   "metadata": {
    "ExecuteTime": {
     "end_time": "2021-12-20T03:18:02.031421Z",
     "start_time": "2021-12-20T03:18:01.908791Z"
    }
   },
   "outputs": [],
   "source": [
    "# 5 Convert sparse vector to dense vector?\n",
    "# 30 mins\n",
    "# frequencyDenseVectors = frequencyVectors.map(lambda vector: DenseVector(vector.toArray()))\n"
   ]
  },
  {
   "cell_type": "code",
   "execution_count": 18,
   "metadata": {
    "ExecuteTime": {
     "end_time": "2021-12-20T03:18:03.045378Z",
     "start_time": "2021-12-20T03:18:02.034393Z"
    }
   },
   "outputs": [
    {
     "name": "stdout",
     "output_type": "stream",
     "text": [
      "root\n",
      " |-- url: string (nullable = true)\n",
      " |-- embedding: vector (nullable = true)\n",
      "\n",
      "+----------------+----------------------------------------------------------+\n",
      "|url             |embedding                                                 |\n",
      "+----------------+----------------------------------------------------------+\n",
      "|http://url_1.jpg|[0.4538502149329343,0.6324346121623683,0.8467809749877175]|\n",
      "|http://url_2.jpg|[0.863370284935342,0.8533806976561991,0.42447456330736744]|\n",
      "|http://url_3.jpg|[0.5709444120698343,0.9080112046349297,0.8900165318600829]|\n",
      "+----------------+----------------------------------------------------------+\n",
      "\n",
      "+----------------+----------------------------------------------------------+------------------+\n",
      "|url             |embedding                                                 |by_udf            |\n",
      "+----------------+----------------------------------------------------------+------------------+\n",
      "|http://url_1.jpg|[0.4538502149329343,0.6324346121623683,0.8467809749877175]|0.4538502149329343|\n",
      "|http://url_2.jpg|[0.863370284935342,0.8533806976561991,0.42447456330736744]|0.863370284935342 |\n",
      "|http://url_3.jpg|[0.5709444120698343,0.9080112046349297,0.8900165318600829]|0.5709444120698343|\n",
      "+----------------+----------------------------------------------------------+------------------+\n",
      "\n",
      "+----------------+----------------------------------------------------------+--------------------+\n",
      "|url             |embedding                                                 |by_slicer           |\n",
      "+----------------+----------------------------------------------------------+--------------------+\n",
      "|http://url_1.jpg|[0.4538502149329343,0.6324346121623683,0.8467809749877175]|[0.4538502149329343]|\n",
      "|http://url_2.jpg|[0.863370284935342,0.8533806976561991,0.42447456330736744]|[0.863370284935342] |\n",
      "|http://url_3.jpg|[0.5709444120698343,0.9080112046349297,0.8900165318600829]|[0.5709444120698343]|\n",
      "+----------------+----------------------------------------------------------+--------------------+\n",
      "\n"
     ]
    }
   ],
   "source": [
    "# 6 access the element in a column of vector\n",
    "\n",
    "embedding_size = 3\n",
    "\n",
    "image_info = {\n",
    "    'http://url_1.jpg' : np.random.random(size=embedding_size),\n",
    "    'http://url_2.jpg' : np.random.random(size=embedding_size),\n",
    "    'http://url_3.jpg' : np.random.random(size=embedding_size)\n",
    "}\n",
    "\n",
    "############# python dict to pyspark dataframe #################\n",
    "\n",
    "data = [(url, Vectors.dense(vec)) for url, vec in image_info.items()]\n",
    "\n",
    "col = ['url','embedding']\n",
    "\n",
    "sdf = spark.createDataFrame(data, col)\n",
    "\n",
    "sdf.printSchema()\n",
    "sdf.show(truncate=False)\n",
    "\n",
    "##### sol 1 pyspark vector api suck ###########\n",
    "\n",
    "def ith_(vector, i):\n",
    "    try:\n",
    "        return float(vector[i])\n",
    "    except ValueError:\n",
    "        return None\n",
    "\n",
    "ith = F.udf(ith_, T.DoubleType())\n",
    "\n",
    "##### sol 2 VectorSlicer ##########\n",
    "\n",
    "from pyspark.ml.feature import VectorSlicer\n",
    "\n",
    "slicer = VectorSlicer(inputCol='embedding', outputCol='by_slicer', indices=[0])\n",
    "\n",
    "o_sdf = slicer.transform(sdf)\n",
    "\n",
    "(\n",
    "    sdf\n",
    "    .withColumn('by_udf',ith(\"embedding\", F.lit(0)))\n",
    ").show(truncate=False)\n",
    "\n",
    "o_sdf.show(truncate=False)"
   ]
  },
  {
   "cell_type": "code",
   "execution_count": 19,
   "metadata": {
    "ExecuteTime": {
     "end_time": "2021-12-20T03:18:03.672488Z",
     "start_time": "2021-12-20T03:18:03.048738Z"
    }
   },
   "outputs": [
    {
     "name": "stdout",
     "output_type": "stream",
     "text": [
      "+-------------------+\n",
      "|features           |\n",
      "+-------------------+\n",
      "|(5,[0,2],[1.0,3.0])|\n",
      "|(5,[1],[4.0])      |\n",
      "|(5,[2],[1.0])      |\n",
      "+-------------------+\n",
      "\n",
      "test the typing :  [[1. 0. 3. 0. 0.]]\n",
      "\n",
      "<class 'pyspark.rdd.PipelinedRDD'>\n",
      "<class 'pyspark.rdd.PipelinedRDD'>\n",
      "<class 'scipy.sparse.csr.csr_matrix'>\n",
      "[[1. 0. 3. 0. 0.]\n",
      " [0. 4. 0. 0. 0.]\n",
      " [0. 0. 1. 0. 0.]]\n"
     ]
    }
   ],
   "source": [
    "# 7 \n",
    "# Spark sparse vector 2 scipy csr matrix\n",
    "# https://stackoverflow.com/questions/40557577/pyspark-sparse-vectors-to-scipy-sparse-matrix\n",
    "\n",
    "from pyspark.ml.linalg import SparseVector\n",
    "from pyspark.rdd import PipelinedRDD\n",
    "from operator import attrgetter\n",
    "\n",
    "df = spark.sparkContext.parallelize([\n",
    "    (SparseVector(5, [0, 2], [1.0, 3.0]), ),\n",
    "    (SparseVector(5, [1], [4.0]), ),\n",
    "    (SparseVector(5, [2], [1.0]), )\n",
    "]).toDF([\"features\"])\n",
    "\n",
    "df.show(truncate=False)\n",
    "\n",
    "from scipy.sparse import vstack, csr_matrix\n",
    "import numpy as np\n",
    "\n",
    "def as_matrix(vec : SparseVector) -> csr_matrix:\n",
    "    data, indices = vec.values, vec.indices\n",
    "    shape = 1, vec.size\n",
    "    return csr_matrix((data, indices, np.array([0, vec.values.size])), shape)\n",
    "\n",
    "\n",
    "test_sparse_matrix = as_matrix(SparseVector(5, [0, 2], [1.0, 3.0]))\n",
    "print(\n",
    "    'test the typing : ',\n",
    "    test_sparse_matrix.todense()\n",
    ")\n",
    "print()\n",
    "\n",
    "mat : csr_matrix = (\n",
    "    df\n",
    "    .rdd\n",
    "    .map(attrgetter(\"features\"))\n",
    "    .map(as_matrix)\n",
    "    .reduce(lambda x, y: vstack([x, y]))\n",
    ")\n",
    "\n",
    "features : PipelinedRDD = df.rdd.map(attrgetter(\"features\"))\n",
    "mats : PipelinedRDD = features.map(as_matrix)\n",
    "    \n",
    "# mat : csr_matrix = mats.reduce(lambda x, y: vstack([x, y]))\n",
    "\n",
    "print(\n",
    "    type(features),\n",
    "    type(mats),\n",
    "    type(mat),\n",
    "    mat.todense(),\n",
    "    sep='\\n'\n",
    ")\n",
    "\n"
   ]
  },
  {
   "cell_type": "code",
   "execution_count": 20,
   "metadata": {
    "ExecuteTime": {
     "end_time": "2021-12-20T03:18:03.684889Z",
     "start_time": "2021-12-20T03:18:03.674408Z"
    }
   },
   "outputs": [],
   "source": [
    "# 8 create onehot sparse vector\n"
   ]
  },
  {
   "cell_type": "markdown",
   "metadata": {},
   "source": [
    "# Sampling"
   ]
  },
  {
   "cell_type": "code",
   "execution_count": 30,
   "metadata": {
    "ExecuteTime": {
     "end_time": "2021-12-20T03:27:16.460802Z",
     "start_time": "2021-12-20T03:27:15.259023Z"
    }
   },
   "outputs": [
    {
     "name": "stdout",
     "output_type": "stream",
     "text": [
      "+----+--------+\n",
      "|link|category|\n",
      "+----+--------+\n",
      "|  a1|    美味食記|\n",
      "|  a2|    美味食記|\n",
      "|  a3|    美味食記|\n",
      "|  a4|    美味食記|\n",
      "|  a5|    國內旅遊|\n",
      "|  a7|    不設分類|\n",
      "|  a8|    不設分類|\n",
      "+----+--------+\n",
      "\n",
      "+----+--------+\n",
      "|link|category|\n",
      "+----+--------+\n",
      "|  a6|    國內旅遊|\n",
      "|  a9|    不設分類|\n",
      "+----+--------+\n",
      "\n"
     ]
    }
   ],
   "source": [
    "#  Stratified sampling in Spark\n",
    "\n",
    "data = [\n",
    "    ('a1','美味食記'),\n",
    "    ('a2','美味食記'),\n",
    "    ('a3','美味食記'),\n",
    "    ('a4','美味食記'),\n",
    "    ('a5','國內旅遊'),\n",
    "    ('a6','國內旅遊'),\n",
    "    ('a7','不設分類'),\n",
    "    ('a8','不設分類'),\n",
    "    ('a9','不設分類'),\n",
    "]\n",
    "\n",
    "sdf = (\n",
    "    spark.createDataFrame(data,['link','category'])\n",
    ")\n",
    "\n",
    "\n",
    "# Taking 60% of each category into training set\n",
    "# It's a approx solution\n",
    "\n",
    "trn = sdf.sampleBy(\"category\",fractions={\n",
    "    '美味食記':0.6,\n",
    "    '國內旅遊':0.6,\n",
    "    '不設分類':0.6,\n",
    "},seed=2)\n",
    "\n",
    "tst = sdf.subtract(trn)\n",
    "\n",
    "trn.show()\n",
    "tst.show()"
   ]
  },
  {
   "cell_type": "code",
   "execution_count": null,
   "metadata": {},
   "outputs": [],
   "source": []
  }
 ],
 "metadata": {
  "kernelspec": {
   "display_name": "pixlake",
   "language": "python",
   "name": "pixlake"
  },
  "language_info": {
   "codemirror_mode": {
    "name": "ipython",
    "version": 3
   },
   "file_extension": ".py",
   "mimetype": "text/x-python",
   "name": "python",
   "nbconvert_exporter": "python",
   "pygments_lexer": "ipython3",
   "version": "3.7.9"
  },
  "toc": {
   "base_numbering": 1,
   "nav_menu": {},
   "number_sections": true,
   "sideBar": true,
   "skip_h1_title": false,
   "title_cell": "Table of Contents",
   "title_sidebar": "Contents",
   "toc_cell": false,
   "toc_position": {},
   "toc_section_display": true,
   "toc_window_display": true
  }
 },
 "nbformat": 4,
 "nbformat_minor": 4
}
