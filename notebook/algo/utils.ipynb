{
 "cells": [
  {
   "cell_type": "code",
   "execution_count": 1,
   "metadata": {
    "ExecuteTime": {
     "end_time": "2021-12-07T14:18:10.183969Z",
     "start_time": "2021-12-07T14:18:10.142078Z"
    }
   },
   "outputs": [],
   "source": [
    "# env : pixlake\n",
    "# we focuing on pyspark dataframe processing\n",
    "# documentation https://spark.apache.org/docs/2.4.0/api/python/pyspark.sql.html#pyspark.sql.DataFrame\n",
    "%load_ext autoreload\n",
    "%autoreload 2"
   ]
  },
  {
   "cell_type": "code",
   "execution_count": 2,
   "metadata": {
    "ExecuteTime": {
     "end_time": "2021-12-07T14:18:10.355742Z",
     "start_time": "2021-12-07T14:18:10.337712Z"
    }
   },
   "outputs": [],
   "source": [
    "# make you auto compeletion faster\n",
    "# https://stackoverflow.com/questions/40536560/ipython-and-jupyter-autocomplete-not-working\n",
    "%config Completer.use_jedi = False"
   ]
  },
  {
   "cell_type": "code",
   "execution_count": 3,
   "metadata": {
    "ExecuteTime": {
     "end_time": "2021-12-07T14:18:10.535316Z",
     "start_time": "2021-12-07T14:18:10.518210Z"
    }
   },
   "outputs": [
    {
     "name": "stdout",
     "output_type": "stream",
     "text": [
      "You have pyspark version :  ['spark-2.3', 'spark-3.1.2-bin-hadoop2.7', 'spark-3.0', 'spark-3.0.1-bin-hadoop2.7', 'spark-2.3.4-bin-hadoop2.7', 'spark-2.4.7-bin-hadoop2.7', 'spark-2.4', 'spark-3.1']\n"
     ]
    }
   ],
   "source": [
    "import os\n",
    "import sys\n",
    "\n",
    "def get_workstation_spark_path(where_are_you : str) -> str:\n",
    "    if where_are_you == 'titan':\n",
    "        return '/home/data/ryanchao2012/lib'\n",
    "    elif where_are_you == 'thor':\n",
    "        return '/opt/spark/versions'\n",
    "    else:\n",
    "        raise ValueError(\"wrong work station name\")\n",
    "\n",
    "spark_path = get_workstation_spark_path('thor')\n",
    "\n",
    "print('You have pyspark version : ', os.listdir(spark_path))\n",
    "os.environ['PYSPARK_PYTHON'] = sys.executable\n",
    "# spark-2.3, spark-2.4\n",
    "os.environ['SPARK_HOME'] = os.path.join(spark_path,'spark-2.3')"
   ]
  },
  {
   "cell_type": "code",
   "execution_count": 4,
   "metadata": {
    "ExecuteTime": {
     "end_time": "2021-12-07T14:18:10.707016Z",
     "start_time": "2021-12-07T14:18:10.687990Z"
    }
   },
   "outputs": [
    {
     "data": {
      "text/plain": [
       "'/opt/spark/versions/spark-2.3'"
      ]
     },
     "execution_count": 4,
     "metadata": {},
     "output_type": "execute_result"
    }
   ],
   "source": [
    "os.environ['SPARK_HOME']"
   ]
  },
  {
   "cell_type": "code",
   "execution_count": 5,
   "metadata": {
    "ExecuteTime": {
     "end_time": "2021-12-07T14:18:12.434118Z",
     "start_time": "2021-12-07T14:18:10.857676Z"
    }
   },
   "outputs": [],
   "source": [
    "from os.path import join\n",
    "import pandas as pd\n",
    "import numpy as np\n",
    "from pyspark.sql import SparkSession as Session\n",
    "from pyspark.sql import DataFrame\n",
    "from pyspark import SparkConf as Conf\n",
    "from pyspark.sql import functions as F, Window as W, types as T\n",
    "from pyspark.sql.types import StructType, StructField, StringType, IntegerType\n",
    "\n",
    "C = F.col\n",
    "\n",
    "SEED = 42\n"
   ]
  },
  {
   "cell_type": "code",
   "execution_count": 6,
   "metadata": {
    "ExecuteTime": {
     "end_time": "2021-12-07T14:18:12.445683Z",
     "start_time": "2021-12-07T14:18:12.435999Z"
    }
   },
   "outputs": [],
   "source": [
    "conf = (Conf()\n",
    "    .set('spark.sql.sources.partitionOverwriteMode', 'dynamic')\n",
    "    .set('spark.driver.memory', '4g')\n",
    "    .set('spark.driver.maxResultSize', '1g')\n",
    "   )"
   ]
  },
  {
   "cell_type": "code",
   "execution_count": 7,
   "metadata": {
    "ExecuteTime": {
     "end_time": "2021-12-07T14:18:19.390362Z",
     "start_time": "2021-12-07T14:18:12.447403Z"
    }
   },
   "outputs": [],
   "source": [
    "spark = (Session\n",
    "     .builder\n",
    "     .appName('ml-utils')\n",
    "     .master('local[2]')\n",
    "     .config(conf=conf)\n",
    "     .getOrCreate())"
   ]
  },
  {
   "cell_type": "code",
   "execution_count": 8,
   "metadata": {
    "ExecuteTime": {
     "end_time": "2021-12-07T14:18:19.411732Z",
     "start_time": "2021-12-07T14:18:19.393411Z"
    }
   },
   "outputs": [
    {
     "data": {
      "text/html": [
       "\n",
       "            <div>\n",
       "                <p><b>SparkSession - in-memory</b></p>\n",
       "                \n",
       "        <div>\n",
       "            <p><b>SparkContext</b></p>\n",
       "\n",
       "            <p><a href=\"http://thor:4042\">Spark UI</a></p>\n",
       "\n",
       "            <dl>\n",
       "              <dt>Version</dt>\n",
       "                <dd><code>v2.3.4</code></dd>\n",
       "              <dt>Master</dt>\n",
       "                <dd><code>local[2]</code></dd>\n",
       "              <dt>AppName</dt>\n",
       "                <dd><code>ml-utils</code></dd>\n",
       "            </dl>\n",
       "        </div>\n",
       "        \n",
       "            </div>\n",
       "        "
      ],
      "text/plain": [
       "<pyspark.sql.session.SparkSession at 0x7f649995bad0>"
      ]
     },
     "execution_count": 8,
     "metadata": {},
     "output_type": "execute_result"
    }
   ],
   "source": [
    "spark"
   ]
  },
  {
   "cell_type": "markdown",
   "metadata": {},
   "source": [
    "# Numbers in column"
   ]
  },
  {
   "cell_type": "code",
   "execution_count": 9,
   "metadata": {
    "ExecuteTime": {
     "end_time": "2021-12-07T14:18:19.554156Z",
     "start_time": "2021-12-07T14:18:19.413319Z"
    }
   },
   "outputs": [],
   "source": [
    "# L2"
   ]
  },
  {
   "cell_type": "code",
   "execution_count": 10,
   "metadata": {
    "ExecuteTime": {
     "end_time": "2021-12-07T14:18:23.700581Z",
     "start_time": "2021-12-07T14:18:19.557921Z"
    }
   },
   "outputs": [
    {
     "name": "stdout",
     "output_type": "stream",
     "text": [
      "+---+---+------------------+\n",
      "|  x|  y|          distance|\n",
      "+---+---+------------------+\n",
      "|  1|  3|3.1622776601683795|\n",
      "|  2|  4|  4.47213595499958|\n",
      "|  3|  5| 5.830951894845301|\n",
      "+---+---+------------------+\n",
      "\n"
     ]
    }
   ],
   "source": [
    "# L2 distance\n",
    "\n",
    "columns = [\"x\", \"y\"]\n",
    "data = [\n",
    "    (1,3),\n",
    "    (2,4),\n",
    "    (3,5)\n",
    "]\n",
    "\n",
    "(\n",
    "    spark.createDataFrame(data, columns)\n",
    "    .withColumn('distance',F.hypot(C(\"x\"), C(\"y\")))\n",
    ").show()"
   ]
  },
  {
   "cell_type": "code",
   "execution_count": null,
   "metadata": {},
   "outputs": [],
   "source": []
  },
  {
   "cell_type": "code",
   "execution_count": null,
   "metadata": {},
   "outputs": [],
   "source": []
  },
  {
   "cell_type": "code",
   "execution_count": null,
   "metadata": {},
   "outputs": [],
   "source": []
  },
  {
   "cell_type": "code",
   "execution_count": null,
   "metadata": {},
   "outputs": [],
   "source": []
  },
  {
   "cell_type": "markdown",
   "metadata": {},
   "source": [
    "# Vectors"
   ]
  },
  {
   "cell_type": "code",
   "execution_count": 11,
   "metadata": {
    "ExecuteTime": {
     "end_time": "2021-12-07T14:18:23.752563Z",
     "start_time": "2021-12-07T14:18:23.703797Z"
    }
   },
   "outputs": [],
   "source": [
    "from pyspark.ml.linalg import Vectors"
   ]
  },
  {
   "cell_type": "code",
   "execution_count": 12,
   "metadata": {
    "ExecuteTime": {
     "end_time": "2021-12-07T14:18:24.234439Z",
     "start_time": "2021-12-07T14:18:23.754290Z"
    }
   },
   "outputs": [
    {
     "name": "stdout",
     "output_type": "stream",
     "text": [
      "-RECORD 0-----------------------------\n",
      " id       | 0                         \n",
      " features | (6,[0,1,2],[1.0,1.0,1.0]) \n",
      "-RECORD 1-----------------------------\n",
      " id       | 1                         \n",
      " features | (6,[3,4,5],[1.0,1.0,1.0]) \n",
      "\n",
      "root\n",
      " |-- id: long (nullable = true)\n",
      " |-- features: vector (nullable = true)\n",
      "\n"
     ]
    }
   ],
   "source": [
    "# 1 create sparse vector from dict and list\n",
    "data = [\n",
    "    (0, Vectors.sparse(6, [0, 1, 2],[1.0, 1.0, 1.0])),\n",
    "    (1, Vectors.sparse(6, {3:1.0, 4:1.0, 5:1.0}))\n",
    "]\n",
    "\n",
    "cols = ['id','features']\n",
    "\n",
    "df = spark.createDataFrame(data, cols)\n",
    "df.show(n=5, vertical=True, truncate=False)\n",
    "df.printSchema()"
   ]
  },
  {
   "cell_type": "code",
   "execution_count": 13,
   "metadata": {
    "ExecuteTime": {
     "end_time": "2021-12-07T14:18:24.251565Z",
     "start_time": "2021-12-07T14:18:24.236954Z"
    }
   },
   "outputs": [
    {
     "name": "stdout",
     "output_type": "stream",
     "text": [
      "[4.0,6.0]\n",
      "[1.0,0.0]\n",
      "[0.5,1.0]\n",
      "[3.0,8.0]\n",
      "[3.0,2.0]\n",
      "[1.0,0.0]\n",
      "[-1.0,-2.0]\n"
     ]
    }
   ],
   "source": [
    "# 2 create dense vector from python list\n",
    "\n",
    "v = Vectors.dense([1, 2])\n",
    "u = Vectors.dense([3, 4])\n",
    "\n",
    "print(\n",
    "    v + u,\n",
    "    2 - v,\n",
    "    v / 2,\n",
    "    v * u,\n",
    "    u / v,\n",
    "    u % 2,\n",
    "    -v,\n",
    "    sep='\\n'\n",
    ")"
   ]
  },
  {
   "cell_type": "code",
   "execution_count": 14,
   "metadata": {
    "ExecuteTime": {
     "end_time": "2021-12-07T14:18:24.390453Z",
     "start_time": "2021-12-07T14:18:24.253026Z"
    }
   },
   "outputs": [
    {
     "name": "stdout",
     "output_type": "stream",
     "text": [
      "[3.0,4.0] [1.0,2.0] [1. 2.] [3. 4.] <class 'numpy.ndarray'>\n"
     ]
    }
   ],
   "source": [
    "# 3 convert vector into np.array and vice versa\n",
    "# https://spark.apache.org/docs/2.3.4/api/python/pyspark.ml.html#module-pyspark.ml.linalg\n",
    "\n",
    "# dense vector MLlib use Numpy array type\n",
    "# sparse vector, scipy.sparse\n",
    "v = Vectors.dense(np.array([1, 2]))\n",
    "u = Vectors.dense(np.array([3, 4]))\n",
    "\n",
    "np_v = v.toArray()\n",
    "np_u = u.toArray()\n",
    "print(\n",
    "    u,\n",
    "    v,\n",
    "    np_v,\n",
    "    np_u,\n",
    "    type(np_u)\n",
    "     )\n",
    "    "
   ]
  },
  {
   "cell_type": "code",
   "execution_count": 15,
   "metadata": {
    "ExecuteTime": {
     "end_time": "2021-12-07T14:18:24.894021Z",
     "start_time": "2021-12-07T14:18:24.392868Z"
    }
   },
   "outputs": [
    {
     "name": "stdout",
     "output_type": "stream",
     "text": [
      "root\n",
      " |-- url: string (nullable = true)\n",
      " |-- embedding: vector (nullable = true)\n",
      "\n",
      "+----------------+--------------------+\n",
      "|             url|           embedding|\n",
      "+----------------+--------------------+\n",
      "|http://url_1.jpg|[0.29395293117981...|\n",
      "|http://url_2.jpg|[0.69657536494870...|\n",
      "|http://url_3.jpg|[0.70656873190164...|\n",
      "+----------------+--------------------+\n",
      "\n",
      "True\n",
      "True\n",
      "True\n"
     ]
    }
   ],
   "source": [
    "# 3 Converting embedding vector between python dict / pandas dataframe / pyspark dataframe\n",
    "# pandas dataframe is a fake issue, np.array will not fit in dataframe well\n",
    "embedding_size = 256\n",
    "\n",
    "image_info = {\n",
    "    'http://url_1.jpg' : np.random.random(size=embedding_size),\n",
    "    'http://url_2.jpg' : np.random.random(size=embedding_size),\n",
    "    'http://url_3.jpg' : np.random.random(size=embedding_size)\n",
    "}\n",
    "\n",
    "############# python dict to pyspark dataframe #################\n",
    "\n",
    "data = [(url, Vectors.dense(vec)) for url, vec in image_info.items()]\n",
    "\n",
    "col = ['url','embedding']\n",
    "\n",
    "sdf = spark.createDataFrame(data, col)\n",
    "\n",
    "sdf.printSchema()\n",
    "sdf.show()\n",
    "\n",
    "######### pyspark data frame to python dict #####################\n",
    "\n",
    "# of course we need to collect the vectors ro driver\n",
    "\n",
    "convert_image_info = {\n",
    "    row.url : row.embedding.toArray()\n",
    "    for row in \n",
    "    sdf.collect()\n",
    "}\n",
    "\n",
    "for url in convert_image_info.keys():\n",
    "    print(np.isclose(convert_image_info[url], image_info[url]).all())\n"
   ]
  },
  {
   "cell_type": "code",
   "execution_count": 16,
   "metadata": {
    "ExecuteTime": {
     "end_time": "2021-12-07T14:18:24.910698Z",
     "start_time": "2021-12-07T14:18:24.897947Z"
    }
   },
   "outputs": [],
   "source": [
    "# 4 convert sparse vector from scipy / np into pyspark dataframe\n",
    "# sparse vector\n",
    "# https://docs.scipy.org/doc/scipy/reference/generated/scipy.sparse.csr_matrix.html#scipy.sparse.csr_matrix\n",
    "# from scipy.sparse import csr_matrix, coo_matrix\n",
    "\n",
    "# row = np.array([0, 0, 1, 2, 2, 2])\n",
    "# col = np.array([0, 2, 2, 0, 1, 2])\n",
    "# data = np.array([1, 2, 3, 4, 5, 6])\n",
    "\n",
    "# csr = csr_matrix((data, (row, col)), shape=(3, 3))\n",
    "\n",
    "# coo = coo_matrix(matrix)\n",
    "\n",
    "# for i,j,v in zip(coo.row, coo.col, coo.data):\n",
    "#     print( \"(%d, %d), %s\" % (i,j,v))\n"
   ]
  },
  {
   "cell_type": "code",
   "execution_count": 17,
   "metadata": {
    "ExecuteTime": {
     "end_time": "2021-12-07T14:18:25.002628Z",
     "start_time": "2021-12-07T14:18:24.912402Z"
    }
   },
   "outputs": [],
   "source": [
    "# 5 Convert sparse vector to dense vector?\n",
    "# 30 mins\n",
    "# frequencyDenseVectors = frequencyVectors.map(lambda vector: DenseVector(vector.toArray()))\n"
   ]
  },
  {
   "cell_type": "code",
   "execution_count": 18,
   "metadata": {
    "ExecuteTime": {
     "end_time": "2021-12-07T14:18:26.251590Z",
     "start_time": "2021-12-07T14:18:25.005319Z"
    }
   },
   "outputs": [
    {
     "name": "stdout",
     "output_type": "stream",
     "text": [
      "root\n",
      " |-- url: string (nullable = true)\n",
      " |-- embedding: vector (nullable = true)\n",
      "\n",
      "+----------------+-----------------------------------------------------------+\n",
      "|url             |embedding                                                  |\n",
      "+----------------+-----------------------------------------------------------+\n",
      "|http://url_1.jpg|[0.45327800016083253,0.3959972365024699,0.4820736073428006]|\n",
      "|http://url_2.jpg|[0.2833980298659452,0.13177190326492372,0.245659437168263] |\n",
      "|http://url_3.jpg|[0.705102731161322,0.1856742146363547,0.9889762491179]     |\n",
      "+----------------+-----------------------------------------------------------+\n",
      "\n",
      "+----------------+-----------------------------------------------------------+-------------------+\n",
      "|url             |embedding                                                  |by_udf             |\n",
      "+----------------+-----------------------------------------------------------+-------------------+\n",
      "|http://url_1.jpg|[0.45327800016083253,0.3959972365024699,0.4820736073428006]|0.45327800016083253|\n",
      "|http://url_2.jpg|[0.2833980298659452,0.13177190326492372,0.245659437168263] |0.2833980298659452 |\n",
      "|http://url_3.jpg|[0.705102731161322,0.1856742146363547,0.9889762491179]     |0.705102731161322  |\n",
      "+----------------+-----------------------------------------------------------+-------------------+\n",
      "\n",
      "+----------------+-----------------------------------------------------------+---------------------+\n",
      "|url             |embedding                                                  |by_slicer            |\n",
      "+----------------+-----------------------------------------------------------+---------------------+\n",
      "|http://url_1.jpg|[0.45327800016083253,0.3959972365024699,0.4820736073428006]|[0.45327800016083253]|\n",
      "|http://url_2.jpg|[0.2833980298659452,0.13177190326492372,0.245659437168263] |[0.2833980298659452] |\n",
      "|http://url_3.jpg|[0.705102731161322,0.1856742146363547,0.9889762491179]     |[0.705102731161322]  |\n",
      "+----------------+-----------------------------------------------------------+---------------------+\n",
      "\n"
     ]
    }
   ],
   "source": [
    "# 6 access the element in a column of vector\n",
    "\n",
    "embedding_size = 3\n",
    "\n",
    "image_info = {\n",
    "    'http://url_1.jpg' : np.random.random(size=embedding_size),\n",
    "    'http://url_2.jpg' : np.random.random(size=embedding_size),\n",
    "    'http://url_3.jpg' : np.random.random(size=embedding_size)\n",
    "}\n",
    "\n",
    "############# python dict to pyspark dataframe #################\n",
    "\n",
    "data = [(url, Vectors.dense(vec)) for url, vec in image_info.items()]\n",
    "\n",
    "col = ['url','embedding']\n",
    "\n",
    "sdf = spark.createDataFrame(data, col)\n",
    "\n",
    "sdf.printSchema()\n",
    "sdf.show(truncate=False)\n",
    "\n",
    "##### sol 1 pyspark vector api suck ###########\n",
    "\n",
    "def ith_(vector, i):\n",
    "    try:\n",
    "        return float(vector[i])\n",
    "    except ValueError:\n",
    "        return None\n",
    "\n",
    "ith = F.udf(ith_, T.DoubleType())\n",
    "\n",
    "##### sol 2 VectorSlicer ##########\n",
    "\n",
    "from pyspark.ml.feature import VectorSlicer\n",
    "\n",
    "slicer = VectorSlicer(inputCol='embedding', outputCol='by_slicer', indices=[0])\n",
    "\n",
    "o_sdf = slicer.transform(sdf)\n",
    "\n",
    "(\n",
    "    sdf\n",
    "    .withColumn('by_udf',ith(\"embedding\", F.lit(0)))\n",
    ").show(truncate=False)\n",
    "\n",
    "o_sdf.show(truncate=False)"
   ]
  },
  {
   "cell_type": "code",
   "execution_count": 59,
   "metadata": {
    "ExecuteTime": {
     "end_time": "2021-12-07T14:40:20.324272Z",
     "start_time": "2021-12-07T14:40:19.910560Z"
    }
   },
   "outputs": [
    {
     "name": "stdout",
     "output_type": "stream",
     "text": [
      "+-------------------+\n",
      "|features           |\n",
      "+-------------------+\n",
      "|(5,[0,2],[1.0,3.0])|\n",
      "|(5,[1],[4.0])      |\n",
      "|(5,[2],[1.0])      |\n",
      "+-------------------+\n",
      "\n",
      "test the typing :  [[1. 0. 3. 0. 0.]]\n",
      "\n",
      "<class 'pyspark.rdd.PipelinedRDD'>\n",
      "<class 'pyspark.rdd.PipelinedRDD'>\n",
      "<class 'scipy.sparse.csr.csr_matrix'>\n",
      "[[1. 0. 3. 0. 0.]\n",
      " [0. 4. 0. 0. 0.]\n",
      " [0. 0. 1. 0. 0.]]\n"
     ]
    }
   ],
   "source": [
    "# 7 \n",
    "# Spark sparse vector 2 scipy csr matrix\n",
    "# https://stackoverflow.com/questions/40557577/pyspark-sparse-vectors-to-scipy-sparse-matrix\n",
    "\n",
    "from pyspark.ml.linalg import SparseVector\n",
    "from pyspark.rdd import PipelinedRDD\n",
    "from operator import attrgetter\n",
    "\n",
    "df = spark.sparkContext.parallelize([\n",
    "    (SparseVector(5, [0, 2], [1.0, 3.0]), ),\n",
    "    (SparseVector(5, [1], [4.0]), ),\n",
    "    (SparseVector(5, [2], [1.0]), )\n",
    "]).toDF([\"features\"])\n",
    "\n",
    "df.show(truncate=False)\n",
    "\n",
    "from scipy.sparse import vstack, csr_matrix\n",
    "import numpy as np\n",
    "\n",
    "def as_matrix(vec : SparseVector) -> csr_matrix:\n",
    "    data, indices = vec.values, vec.indices\n",
    "    shape = 1, vec.size\n",
    "    return csr_matrix((data, indices, np.array([0, vec.values.size])), shape)\n",
    "\n",
    "\n",
    "test_sparse_matrix = as_matrix(SparseVector(5, [0, 2], [1.0, 3.0]))\n",
    "print(\n",
    "    'test the typing : ',\n",
    "    test_sparse_matrix.todense()\n",
    ")\n",
    "print()\n",
    "\n",
    "mat : csr_matrix = (\n",
    "    df\n",
    "    .rdd\n",
    "    .map(attrgetter(\"features\"))\n",
    "    .map(as_matrix)\n",
    "    .reduce(lambda x, y: vstack([x, y]))\n",
    ")\n",
    "\n",
    "features : PipelinedRDD = df.rdd.map(attrgetter(\"features\"))\n",
    "mats : PipelinedRDD = features.map(as_matrix)\n",
    "    \n",
    "# mat : csr_matrix = mats.reduce(lambda x, y: vstack([x, y]))\n",
    "\n",
    "print(\n",
    "    type(features),\n",
    "    type(mats),\n",
    "    type(mat),\n",
    "    mat.todense(),\n",
    "    sep='\\n'\n",
    ")\n",
    "\n"
   ]
  },
  {
   "cell_type": "code",
   "execution_count": null,
   "metadata": {},
   "outputs": [],
   "source": []
  }
 ],
 "metadata": {
  "kernelspec": {
   "display_name": "pixlake",
   "language": "python",
   "name": "pixlake"
  },
  "language_info": {
   "codemirror_mode": {
    "name": "ipython",
    "version": 3
   },
   "file_extension": ".py",
   "mimetype": "text/x-python",
   "name": "python",
   "nbconvert_exporter": "python",
   "pygments_lexer": "ipython3",
   "version": "3.7.9"
  },
  "toc": {
   "base_numbering": 1,
   "nav_menu": {},
   "number_sections": true,
   "sideBar": true,
   "skip_h1_title": false,
   "title_cell": "Table of Contents",
   "title_sidebar": "Contents",
   "toc_cell": false,
   "toc_position": {},
   "toc_section_display": true,
   "toc_window_display": true
  }
 },
 "nbformat": 4,
 "nbformat_minor": 4
}
