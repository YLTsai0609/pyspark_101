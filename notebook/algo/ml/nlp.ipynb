{
 "cells": [
  {
   "cell_type": "code",
   "execution_count": 1,
   "metadata": {
    "ExecuteTime": {
     "end_time": "2021-07-28T07:10:44.936850Z",
     "start_time": "2021-07-28T07:10:44.915030Z"
    }
   },
   "outputs": [],
   "source": [
    "# env : pixlake\n",
    "# we focuing on pyspark dataframe processing\n",
    "# documentation https://spark.apache.org/docs/2.4.0/api/python/pyspark.sql.html#pyspark.sql.DataFrame\n",
    "%load_ext autoreload\n",
    "%autoreload 2"
   ]
  },
  {
   "cell_type": "code",
   "execution_count": null,
   "metadata": {
    "ExecuteTime": {
     "start_time": "2021-07-28T07:10:44.754Z"
    }
   },
   "outputs": [],
   "source": [
    "# make you auto compeletion faster\n",
    "# https://stackoverflow.com/questions/40536560/ipython-and-jupyter-autocomplete-not-working\n",
    "%config Completer.use_jedi = False"
   ]
  },
  {
   "cell_type": "code",
   "execution_count": null,
   "metadata": {
    "ExecuteTime": {
     "start_time": "2021-07-28T07:10:44.756Z"
    }
   },
   "outputs": [],
   "source": [
    "import os\n",
    "import sys\n",
    "from os.path import join as PJ\n",
    "def get_workstation_spark_path(where_are_you : str) -> str:\n",
    "    if where_are_you == 'titan':\n",
    "        return '/home/data/ryanchao2012/lib'\n",
    "    elif where_are_you == 'thor':\n",
    "        return '/opt/spark/versions'\n",
    "    else:\n",
    "        raise ValueError(\"wrong work station name\")\n",
    "\n",
    "spark_path = get_workstation_spark_path('thor')\n",
    "\n",
    "print('You have pyspark version : ', os.listdir(spark_path))\n",
    "os.environ['PYSPARK_PYTHON'] = sys.executable\n",
    "# spark-2.3, spark-2.4\n",
    "os.environ['SPARK_HOME'] = os.path.join(spark_path,'spark-2.3')"
   ]
  },
  {
   "cell_type": "code",
   "execution_count": 4,
   "metadata": {
    "ExecuteTime": {
     "end_time": "2021-07-28T07:10:45.283958Z",
     "start_time": "2021-07-28T07:10:45.172453Z"
    }
   },
   "outputs": [
    {
     "data": {
      "text/plain": [
       "'/opt/spark/versions/spark-2.3'"
      ]
     },
     "execution_count": 4,
     "metadata": {},
     "output_type": "execute_result"
    }
   ],
   "source": [
    "os.environ['SPARK_HOME']"
   ]
  },
  {
   "cell_type": "code",
   "execution_count": 5,
   "metadata": {
    "ExecuteTime": {
     "end_time": "2021-07-28T07:10:45.736985Z",
     "start_time": "2021-07-28T07:10:45.286071Z"
    }
   },
   "outputs": [],
   "source": [
    "from os.path import join\n",
    "import pandas as pd\n",
    "from pyspark.sql import SparkSession as Session\n",
    "from pyspark.sql import DataFrame\n",
    "from pyspark import SparkConf as Conf\n",
    "from pyspark.sql import functions as F, Window as W, types as T\n",
    "from pyspark.sql.types import StructType, StructField, StringType, IntegerType\n",
    "C = F.col"
   ]
  },
  {
   "cell_type": "code",
   "execution_count": 6,
   "metadata": {
    "ExecuteTime": {
     "end_time": "2021-07-28T07:10:45.748612Z",
     "start_time": "2021-07-28T07:10:45.738427Z"
    }
   },
   "outputs": [],
   "source": [
    "conf = (Conf()\n",
    "    .set('spark.sql.sources.partitionOverwriteMode', 'dynamic')\n",
    "    .set('spark.driver.memory', '4g')\n",
    "    .set('spark.driver.maxResultSize', '1g')\n",
    "   )"
   ]
  },
  {
   "cell_type": "code",
   "execution_count": 7,
   "metadata": {
    "ExecuteTime": {
     "end_time": "2021-07-28T07:10:48.178474Z",
     "start_time": "2021-07-28T07:10:45.749695Z"
    }
   },
   "outputs": [],
   "source": [
    "spark = (Session\n",
    "     .builder\n",
    "     .appName('pyspark-challenge-nlp')\n",
    "     .master('local[2]')\n",
    "     .config(conf=conf)\n",
    "     .getOrCreate())"
   ]
  },
  {
   "cell_type": "code",
   "execution_count": 8,
   "metadata": {
    "ExecuteTime": {
     "end_time": "2021-07-28T07:10:48.199795Z",
     "start_time": "2021-07-28T07:10:48.183094Z"
    }
   },
   "outputs": [
    {
     "data": {
      "text/html": [
       "\n",
       "            <div>\n",
       "                <p><b>SparkSession - in-memory</b></p>\n",
       "                \n",
       "        <div>\n",
       "            <p><b>SparkContext</b></p>\n",
       "\n",
       "            <p><a href=\"http://thor:4044\">Spark UI</a></p>\n",
       "\n",
       "            <dl>\n",
       "              <dt>Version</dt>\n",
       "                <dd><code>v2.3.4</code></dd>\n",
       "              <dt>Master</dt>\n",
       "                <dd><code>local[2]</code></dd>\n",
       "              <dt>AppName</dt>\n",
       "                <dd><code>pyspark-challenge-nlp</code></dd>\n",
       "            </dl>\n",
       "        </div>\n",
       "        \n",
       "            </div>\n",
       "        "
      ],
      "text/plain": [
       "<pyspark.sql.session.SparkSession at 0x7fa67cf4bb90>"
      ]
     },
     "execution_count": 8,
     "metadata": {},
     "output_type": "execute_result"
    }
   ],
   "source": [
    "spark"
   ]
  },
  {
   "cell_type": "markdown",
   "metadata": {},
   "source": [
    "# CounterVectorizer | Hashing TF\n",
    "\n",
    "https://towardsdatascience.com/countvectorizer-hashingtf-e66f169e2d4e\n"
   ]
  },
  {
   "cell_type": "code",
   "execution_count": 9,
   "metadata": {
    "ExecuteTime": {
     "end_time": "2021-07-28T07:10:51.018142Z",
     "start_time": "2021-07-28T07:10:48.201664Z"
    }
   },
   "outputs": [
    {
     "name": "stdout",
     "output_type": "stream",
     "text": [
      "+---+--------------------+\n",
      "|id |words               |\n",
      "+---+--------------------+\n",
      "|0  |[PYTHON, HIVE, HIVE]|\n",
      "|1  |[JAVA, JAVA, SQL]   |\n",
      "+---+--------------------+\n",
      "\n",
      "root\n",
      " |-- id: long (nullable = true)\n",
      " |-- words: array (nullable = true)\n",
      " |    |-- element: string (containsNull = true)\n",
      "\n"
     ]
    }
   ],
   "source": [
    "data = [\n",
    "    (0, \"PYTHON HIVE HIVE\".split(\" \")),\n",
    "    (1, \"JAVA JAVA SQL\".split(\" \")),\n",
    "]\n",
    "\n",
    "cols = [\"id\",\"words\"]\n",
    "\n",
    "df = spark.createDataFrame(data, cols)\n",
    "df.show(truncate=False)\n",
    "df.printSchema()"
   ]
  },
  {
   "cell_type": "code",
   "execution_count": 10,
   "metadata": {
    "ExecuteTime": {
     "end_time": "2021-07-28T07:10:51.075209Z",
     "start_time": "2021-07-28T07:10:51.020580Z"
    }
   },
   "outputs": [],
   "source": [
    "## CounterVectorlizerModel\n",
    "\n",
    "from pyspark.ml.feature import CountVectorizer\n",
    "# CountVectorizer??\n",
    "\n",
    "# minTF=1.0,\n",
    "# minDF=1.0,\n",
    "# vocabSize=262144,\n",
    "# binary=False,\n",
    "# inputCol=None,\n",
    "# outputCol=None,"
   ]
  },
  {
   "cell_type": "code",
   "execution_count": 11,
   "metadata": {
    "ExecuteTime": {
     "end_time": "2021-07-28T07:10:52.083943Z",
     "start_time": "2021-07-28T07:10:51.076919Z"
    }
   },
   "outputs": [
    {
     "name": "stdout",
     "output_type": "stream",
     "text": [
      "+---+--------------------+-------------------+\n",
      "|id |words               |features           |\n",
      "+---+--------------------+-------------------+\n",
      "|0  |[PYTHON, HIVE, HIVE]|(4,[0,3],[2.0,1.0])|\n",
      "|1  |[JAVA, JAVA, SQL]   |(4,[1,2],[2.0,1.0])|\n",
      "+---+--------------------+-------------------+\n",
      "\n",
      "you can check the vocabulary :  ['HIVE', 'JAVA', 'PYTHON', 'SQL']\n",
      "the order per row (follow the counts)\n",
      "0 : {'HIVE', 'PYTHON'}\n",
      "1 : {'SQL', 'JAVA'}\n"
     ]
    }
   ],
   "source": [
    "cv = CountVectorizer(inputCol=\"words\",outputCol=\"features\")\n",
    "\n",
    "model = cv.fit(df)\n",
    "\n",
    "res = model.transform(df)\n",
    "\n",
    "res.show(truncate=False)\n",
    "\n",
    "print('you can check the vocabulary : ',sorted(model.vocabulary))\n",
    "print('the order per row (follow the counts)')\n",
    "\n",
    "for row in df.rdd.toLocalIterator():\n",
    "    print(row.id, ':', set(row.words), sep=' ')\n",
    "    \n",
    "# Term    Freq Index\n",
    "# HIVE     2     0\n",
    "# JAVA     2     1\n",
    "# PYTHON      1     2\n",
    "# SQL   1     3\n",
    "\n",
    "# (4,             [1, 2], [2.0, 1.0])\n",
    "# (vector_legnth, vector index)"
   ]
  },
  {
   "cell_type": "code",
   "execution_count": 12,
   "metadata": {
    "ExecuteTime": {
     "end_time": "2021-07-28T07:10:52.099462Z",
     "start_time": "2021-07-28T07:10:52.086532Z"
    }
   },
   "outputs": [],
   "source": [
    "# sorted(model.vocabulary)\n",
    "# model.params"
   ]
  },
  {
   "cell_type": "code",
   "execution_count": 13,
   "metadata": {
    "ExecuteTime": {
     "end_time": "2021-07-28T07:10:52.226480Z",
     "start_time": "2021-07-28T07:10:52.100906Z"
    }
   },
   "outputs": [],
   "source": [
    "# dir(cv)\n",
    "# dir(model)"
   ]
  },
  {
   "cell_type": "code",
   "execution_count": 14,
   "metadata": {
    "ExecuteTime": {
     "end_time": "2021-07-28T07:10:52.326226Z",
     "start_time": "2021-07-28T07:10:52.229378Z"
    }
   },
   "outputs": [],
   "source": [
    "from pyspark.ml.feature import HashingTF"
   ]
  },
  {
   "cell_type": "code",
   "execution_count": 15,
   "metadata": {
    "ExecuteTime": {
     "end_time": "2021-07-28T07:10:52.634446Z",
     "start_time": "2021-07-28T07:10:52.328674Z"
    }
   },
   "outputs": [
    {
     "name": "stdout",
     "output_type": "stream",
     "text": [
      "+---+--------------------+----------------------------------+\n",
      "|id |words               |features                          |\n",
      "+---+--------------------+----------------------------------+\n",
      "|0  |[PYTHON, HIVE, HIVE]|(262144,[129668,134160],[2.0,1.0])|\n",
      "|1  |[JAVA, JAVA, SQL]   |(262144,[53343,167238],[2.0,1.0]) |\n",
      "+---+--------------------+----------------------------------+\n",
      "\n"
     ]
    }
   ],
   "source": [
    "ht = HashingTF(inputCol=\"words\",outputCol=\"features\")\n",
    "\n",
    "ht_res = ht.transform(df)\n",
    "\n",
    "ht_res.show(truncate=False)"
   ]
  },
  {
   "cell_type": "markdown",
   "metadata": {},
   "source": [
    "# TFIDF\n",
    "\n",
    "https://spark.apache.org/docs/2.3.4/api/python/pyspark.ml.html?highlight=idf#pyspark.ml.feature.IDF\n",
    "\n",
    "$t$ : term\n",
    "\n",
    "$d$ : document\n",
    "\n",
    "$D$ : corpus\n",
    "\n",
    "$TF(t, d)$ - Term frequency : number of times that term $t$ appears in document $d$\n",
    "\n",
    "$DF(t, D) : $ - document frequency : number of documents that contains term $t$\n",
    "\n",
    "$IDF(t, D) = log \\frac{|D| + 1}{DF(t, D) + 1}$ - numerical measure of how much information a term $t$ provides in corpus $D$\n",
    "\n",
    "* a term appears in all documents, $IDF(t, D) = 0$\n",
    "\n",
    "* smoothing term is applied to avoid dividibng by zero for terms outside the corpus(unseen testing set)"
   ]
  },
  {
   "cell_type": "markdown",
   "metadata": {},
   "source": [
    "## Toy Sample I\n",
    "\n",
    "https://runawayhorse001.github.io/LearningApacheSpark/pyspark.pdf\n",
    "\n",
    "page 93"
   ]
  },
  {
   "cell_type": "code",
   "execution_count": 16,
   "metadata": {
    "ExecuteTime": {
     "end_time": "2021-07-28T07:10:52.650612Z",
     "start_time": "2021-07-28T07:10:52.636512Z"
    }
   },
   "outputs": [],
   "source": [
    "from pyspark.ml import Pipeline\n",
    "from pyspark.ml.feature import Tokenizer\n",
    "from pyspark.ml.feature import CountVectorizer\n",
    "from pyspark.ml.feature import IDF"
   ]
  },
  {
   "cell_type": "code",
   "execution_count": 17,
   "metadata": {
    "ExecuteTime": {
     "end_time": "2021-07-28T07:10:52.950021Z",
     "start_time": "2021-07-28T07:10:52.652305Z"
    }
   },
   "outputs": [
    {
     "name": "stdout",
     "output_type": "stream",
     "text": [
      "root\n",
      " |-- doc_id: long (nullable = true)\n",
      " |-- document: string (nullable = true)\n",
      "\n",
      "+------+-------------------------+\n",
      "|doc_id|document                 |\n",
      "+------+-------------------------+\n",
      "|0     |Python python Spark Spark|\n",
      "|1     |Python SQL               |\n",
      "+------+-------------------------+\n",
      "\n"
     ]
    }
   ],
   "source": [
    "sentence = [\n",
    "    (0, \"Python python Spark Spark\"),\n",
    "    (1, \"Python SQL\")\n",
    "]\n",
    "\n",
    "col = [\"doc_id\",\"document\"]\n",
    "\n",
    "df = spark.createDataFrame(sentence, col)\n",
    "df.printSchema()\n",
    "df.show(truncate=False)"
   ]
  },
  {
   "cell_type": "markdown",
   "metadata": {},
   "source": [
    "Calculate the idf of each terms by hand\n",
    "\n",
    "$t$ : (normalized) term : $\\text{{python, spark, sql}}$\n",
    "\n",
    "$d_{i}$ : document : $d_1, d_2$\n",
    "\n",
    "$D$ : copus = ${d_1, d_2}$\n",
    "\n",
    "----------------------------------------------------------------\n",
    "\n",
    "$DF(\\text{python}, D) = 2$\n",
    "\n",
    "$DF(\\text{spark}, D) = 1$\n",
    "\n",
    "$DF(\\text{sql}, D) = 1$\n",
    "\n",
    "$DF(\\text{python}, D) = log_{2} \\frac{2+1}{2+1} = 0$ - `python` appears in every document\n",
    "\n",
    "$DF(\\text{spark}, D) = log_{2} \\frac{2+1}{1+1} = log_{2} \\frac{3}{2}$ - 0.405\n",
    "\n",
    "$DF(\\text{sql}, D) = log_{2} \\frac{2+1}{1+1} = log_{2} \\frac{3}{2}$ - 0.405\n"
   ]
  },
  {
   "cell_type": "code",
   "execution_count": 18,
   "metadata": {
    "ExecuteTime": {
     "end_time": "2021-07-28T07:10:52.966221Z",
     "start_time": "2021-07-28T07:10:52.952233Z"
    }
   },
   "outputs": [
    {
     "data": {
      "text/plain": [
       "0.4054651081081644"
      ]
     },
     "execution_count": 18,
     "metadata": {},
     "output_type": "execute_result"
    }
   ],
   "source": [
    "import numpy as np\n",
    "\n",
    "np.log(3/2)"
   ]
  },
  {
   "cell_type": "code",
   "execution_count": 19,
   "metadata": {
    "ExecuteTime": {
     "end_time": "2021-07-28T07:10:53.625017Z",
     "start_time": "2021-07-28T07:10:52.967944Z"
    }
   },
   "outputs": [],
   "source": [
    "# TODO\n",
    "\n",
    "# It's wrong, we need idf only\n",
    "\n",
    "tokenizer = Tokenizer(inputCol=\"document\",\n",
    "                      outputCol=\"term\")\n",
    "\n",
    "vectorizer = CountVectorizer(inputCol=\"term\",\n",
    "                             outputCol=\"raw_features\")\n",
    "\n",
    "idf = IDF(inputCol=\"raw_features\",outputCol=\"features\")\n",
    "\n",
    "pipeline = Pipeline(stages=[tokenizer, vectorizer, idf])\n",
    "\n",
    "model = pipeline.fit(df)"
   ]
  },
  {
   "cell_type": "code",
   "execution_count": 20,
   "metadata": {
    "ExecuteTime": {
     "end_time": "2021-07-28T07:10:53.833334Z",
     "start_time": "2021-07-28T07:10:53.626575Z"
    }
   },
   "outputs": [
    {
     "name": "stdout",
     "output_type": "stream",
     "text": [
      "-RECORD 0------------------------------------------\n",
      " doc_id       | 0                                  \n",
      " document     | Python python Spark Spark          \n",
      " term         | [python, python, spark, spark]     \n",
      " raw_features | (3,[0,1],[2.0,2.0])                \n",
      " features     | (3,[0,1],[0.0,0.8109302162163288]) \n",
      "-RECORD 1------------------------------------------\n",
      " doc_id       | 1                                  \n",
      " document     | Python SQL                         \n",
      " term         | [python, sql]                      \n",
      " raw_features | (3,[0,2],[1.0,1.0])                \n",
      " features     | (3,[0,2],[0.0,0.4054651081081644]) \n",
      "\n"
     ]
    }
   ],
   "source": [
    "model.transform(df).show(vertical=True, truncate=False)"
   ]
  },
  {
   "cell_type": "markdown",
   "metadata": {},
   "source": [
    "### IDF Only"
   ]
  },
  {
   "cell_type": "code",
   "execution_count": 21,
   "metadata": {
    "ExecuteTime": {
     "end_time": "2021-07-28T07:10:53.988833Z",
     "start_time": "2021-07-28T07:10:53.835794Z"
    }
   },
   "outputs": [
    {
     "name": "stdout",
     "output_type": "stream",
     "text": [
      "+------+-------------------------+\n",
      "|doc_id|document                 |\n",
      "+------+-------------------------+\n",
      "|0     |Python python Spark Spark|\n",
      "|1     |Python SQL               |\n",
      "+------+-------------------------+\n",
      "\n"
     ]
    }
   ],
   "source": [
    "df.show(truncate=False)"
   ]
  },
  {
   "cell_type": "code",
   "execution_count": 22,
   "metadata": {
    "ExecuteTime": {
     "end_time": "2021-07-28T07:10:57.812138Z",
     "start_time": "2021-07-28T07:10:53.991061Z"
    }
   },
   "outputs": [
    {
     "name": "stdout",
     "output_type": "stream",
     "text": [
      "doc_term dataframe : \n",
      "+------+-------------------------+------+\n",
      "|doc_id|document                 |term  |\n",
      "+------+-------------------------+------+\n",
      "|0     |Python python Spark Spark|python|\n",
      "|0     |Python python Spark Spark|python|\n",
      "|0     |Python python Spark Spark|spark |\n",
      "|0     |Python python Spark Spark|spark |\n",
      "|1     |Python SQL               |python|\n",
      "|1     |Python SQL               |sql   |\n",
      "+------+-------------------------+------+\n",
      "\n",
      "n document :  2\n",
      "+------+--------------------------+-----+------------------+\n",
      "|  term|document_frequency_by_term|n_doc|               idf|\n",
      "+------+--------------------------+-----+------------------+\n",
      "|   sql|                         1|    2|0.5849625007211562|\n",
      "| spark|                         1|    2|0.5849625007211562|\n",
      "|python|                         2|    2|               0.0|\n",
      "+------+--------------------------+-----+------------------+\n",
      "\n",
      "-RECORD 0-----------------------------------------------\n",
      " term                       | sql                       \n",
      " doc_id                     | 1                         \n",
      " document                   | Python SQL                \n",
      " document_frequency_by_term | 1                         \n",
      " idf                        | 0.5849625007211562        \n",
      "-RECORD 1-----------------------------------------------\n",
      " term                       | spark                     \n",
      " doc_id                     | 0                         \n",
      " document                   | Python python Spark Spark \n",
      " document_frequency_by_term | 1                         \n",
      " idf                        | 0.5849625007211562        \n",
      "-RECORD 2-----------------------------------------------\n",
      " term                       | spark                     \n",
      " doc_id                     | 0                         \n",
      " document                   | Python python Spark Spark \n",
      " document_frequency_by_term | 1                         \n",
      " idf                        | 0.5849625007211562        \n",
      "-RECORD 3-----------------------------------------------\n",
      " term                       | python                    \n",
      " doc_id                     | 0                         \n",
      " document                   | Python python Spark Spark \n",
      " document_frequency_by_term | 2                         \n",
      " idf                        | 0.0                       \n",
      "-RECORD 4-----------------------------------------------\n",
      " term                       | python                    \n",
      " doc_id                     | 0                         \n",
      " document                   | Python python Spark Spark \n",
      " document_frequency_by_term | 2                         \n",
      " idf                        | 0.0                       \n",
      "-RECORD 5-----------------------------------------------\n",
      " term                       | python                    \n",
      " doc_id                     | 1                         \n",
      " document                   | Python SQL                \n",
      " document_frequency_by_term | 2                         \n",
      " idf                        | 0.0                       \n",
      "\n"
     ]
    }
   ],
   "source": [
    "tokenizer = Pipeline(stages=[tokenizer])\n",
    "\n",
    "model = tokenizer.fit(df)\n",
    "\n",
    "doc_term_sdf = (\n",
    "    model.transform(df)\n",
    "    .withColumn('term',F.explode_outer('term'))\n",
    ")\n",
    "\n",
    "print(\"doc_term dataframe : \")\n",
    "\n",
    "doc_term_sdf.show(truncate=False)\n",
    "\n",
    "def compute_idf(doc_term_sdf : DataFrame,\n",
    "                doc_id_col : str,\n",
    "                term_col : str,\n",
    "                verbose : bool = True\n",
    "               ):\n",
    "    \"\"\"\n",
    "    Input : should be term level dataframe \n",
    "            with document content and doc_id\n",
    "    \n",
    "    +------+-------------------------+\n",
    "    |doc_id|document                 |\n",
    "    +------+-------------------------+\n",
    "    |0     |Python python Spark Spark|\n",
    "    |1     |Python SQL               |\n",
    "    +------+-------------------------+\n",
    "    \n",
    "    Out : term level idf values\n",
    "    \n",
    "    +------+--------------------------+-----+------------------+\n",
    "    |term  |document_frequency_by_term|n_doc|idf               |\n",
    "    +------+--------------------------+-----+------------------+\n",
    "    |sql   |1                         |2    |0.5849625007211562|\n",
    "    |spark |1                         |2    |0.5849625007211562|\n",
    "    |python|2                         |2    |0.0               |\n",
    "    +------+--------------------------+-----+------------------+\n",
    "    \n",
    "    TODO add formula\n",
    "    \n",
    "    \"\"\"\n",
    "    \n",
    "    n_document = doc_term_sdf.select(doc_id_col).distinct().count()\n",
    "    \n",
    "    if verbose:\n",
    "        print('n document : ',n_document)\n",
    "    \n",
    "    idf : DataFrame = (\n",
    "    doc_term_sdf\n",
    "    .groupBy(term_col)\n",
    "    # well, id means document_id\n",
    "    .agg(F.countDistinct(doc_id_col).alias(\"document_frequency_by_term\"))\n",
    "    .withColumn('n_doc', F.lit(n_document).cast('integer'))\n",
    "    .withColumn(\"idf\",\n",
    "                F.log2(\n",
    "                    (C(\"n_doc\") + F.lit(1)) / (C(\"document_frequency_by_term\") + F.lit(1))\n",
    "                )\n",
    "               )\n",
    "    )\n",
    "    \n",
    "    return idf\n",
    "    \n",
    "    \n",
    "idf_sdf = compute_idf(doc_term_sdf, 'doc_id', 'term')\n",
    "idf_sdf.show()\n",
    "\n",
    "doc_term_idf_sdf = (\n",
    "    doc_term_sdf\n",
    "    .join(\n",
    "        idf_sdf.drop('n_doc'),\n",
    "    on='term',\n",
    "    how='left')\n",
    ")\n",
    "\n",
    "doc_term_idf_sdf.show(vertical=True,truncate=False)"
   ]
  },
  {
   "cell_type": "markdown",
   "metadata": {},
   "source": [
    "## Toy Sample III (PoI)"
   ]
  },
  {
   "cell_type": "code",
   "execution_count": 23,
   "metadata": {
    "ExecuteTime": {
     "end_time": "2021-07-28T07:10:58.147433Z",
     "start_time": "2021-07-28T07:10:57.815107Z"
    }
   },
   "outputs": [],
   "source": [
    "from pixlake.tables.warehouse.log.mainstream.meta import poi"
   ]
  },
  {
   "cell_type": "code",
   "execution_count": 24,
   "metadata": {
    "ExecuteTime": {
     "end_time": "2021-07-28T07:11:27.730226Z",
     "start_time": "2021-07-28T07:10:58.149349Z"
    }
   },
   "outputs": [],
   "source": [
    "poi_sdf = ( poi\n",
    "            .load(daterange=[20210530, 20210530])\n",
    "          )"
   ]
  },
  {
   "cell_type": "code",
   "execution_count": 25,
   "metadata": {
    "ExecuteTime": {
     "end_time": "2021-07-28T07:11:29.068586Z",
     "start_time": "2021-07-28T07:11:27.732469Z"
    }
   },
   "outputs": [
    {
     "name": "stdout",
     "output_type": "stream",
     "text": [
      "+----------------------+\n",
      "|name                  |\n",
      "+----------------------+\n",
      "|江蘇老趙刀切麵               |\n",
      "|石研室 石頭火鍋              |\n",
      "|嘉味仙麻油雞腿庫飯             |\n",
      "|Vivienne Westwood Cafe|\n",
      "|五鮮級平價鍋物               |\n",
      "+----------------------+\n",
      "\n",
      "root\n",
      " |-- doc_id: long (nullable = true)\n",
      " |-- document: string (nullable = true)\n",
      "\n",
      "+------+----------------------+\n",
      "|doc_id|document              |\n",
      "+------+----------------------+\n",
      "|0     |江蘇老趙刀切麵               |\n",
      "|1     |石研室 石頭火鍋              |\n",
      "|2     |石二鍋                   |\n",
      "|3     |肉多多火鍋                 |\n",
      "|4     |Vivienne Westwood Cafe|\n",
      "+------+----------------------+\n",
      "\n"
     ]
    }
   ],
   "source": [
    "(\n",
    "    poi_sdf\n",
    "    .where(C(\"category_id\") == 0)\n",
    "#     .orderBy(C(\"name\"))\n",
    "    .limit(5)\n",
    "    .select(['name'])\n",
    ").show(truncate=False)\n",
    "\n",
    "\n",
    "sentence = [\n",
    "    (0, \"江蘇老趙刀切麵\"),\n",
    "    (1, \"石研室 石頭火鍋\"),\n",
    "    (2, \"石二鍋\"),\n",
    "    (3, \"肉多多火鍋\"),\n",
    "    (4, \"Vivienne Westwood Cafe\")\n",
    "]\n",
    "\n",
    "col = [\"doc_id\",\"document\"]\n",
    "\n",
    "df = spark.createDataFrame(sentence, col)\n",
    "df.printSchema()\n",
    "df.show(truncate=False)\n"
   ]
  },
  {
   "cell_type": "code",
   "execution_count": 26,
   "metadata": {
    "ExecuteTime": {
     "end_time": "2021-07-28T07:11:29.342585Z",
     "start_time": "2021-07-28T07:11:29.071677Z"
    }
   },
   "outputs": [],
   "source": [
    "tokenizer = Tokenizer(inputCol=\"document\",\n",
    "                      outputCol=\"term\")\n",
    "\n",
    "vectorizer = CountVectorizer(inputCol=\"term\",\n",
    "                             outputCol=\"raw_features\")\n",
    "\n",
    "idf = IDF(inputCol=\"raw_features\",outputCol=\"features\")\n",
    "\n",
    "pipeline = Pipeline(stages=[tokenizer, vectorizer, idf])\n",
    "\n",
    "model = pipeline.fit(df)"
   ]
  },
  {
   "cell_type": "code",
   "execution_count": 27,
   "metadata": {
    "ExecuteTime": {
     "end_time": "2021-07-28T07:11:29.513595Z",
     "start_time": "2021-07-28T07:11:29.344857Z"
    }
   },
   "outputs": [
    {
     "name": "stdout",
     "output_type": "stream",
     "text": [
      "root\n",
      " |-- doc_id: long (nullable = true)\n",
      " |-- document: string (nullable = true)\n",
      " |-- term: array (nullable = true)\n",
      " |    |-- element: string (containsNull = true)\n",
      " |-- raw_features: vector (nullable = true)\n",
      " |-- features: vector (nullable = true)\n",
      "\n",
      "-RECORD 0------------------------------------------------------------------------------\n",
      " doc_id       | 0                                                                      \n",
      " document     | 江蘇老趙刀切麵                                                                \n",
      " term         | [江蘇老趙刀切麵]                                                              \n",
      " raw_features | (8,[3],[1.0])                                                          \n",
      " features     | (8,[3],[1.0986122886681098])                                           \n",
      "-RECORD 1------------------------------------------------------------------------------\n",
      " doc_id       | 1                                                                      \n",
      " document     | 石研室 石頭火鍋                                                               \n",
      " term         | [石研室, 石頭火鍋]                                                            \n",
      " raw_features | (8,[2,6],[1.0,1.0])                                                    \n",
      " features     | (8,[2,6],[1.0986122886681098,1.0986122886681098])                      \n",
      "-RECORD 2------------------------------------------------------------------------------\n",
      " doc_id       | 2                                                                      \n",
      " document     | 石二鍋                                                                    \n",
      " term         | [石二鍋]                                                                  \n",
      " raw_features | (8,[4],[1.0])                                                          \n",
      " features     | (8,[4],[1.0986122886681098])                                           \n",
      "-RECORD 3------------------------------------------------------------------------------\n",
      " doc_id       | 3                                                                      \n",
      " document     | 肉多多火鍋                                                                  \n",
      " term         | [肉多多火鍋]                                                                \n",
      " raw_features | (8,[1],[1.0])                                                          \n",
      " features     | (8,[1],[1.0986122886681098])                                           \n",
      "-RECORD 4------------------------------------------------------------------------------\n",
      " doc_id       | 4                                                                      \n",
      " document     | Vivienne Westwood Cafe                                                 \n",
      " term         | [vivienne, westwood, cafe]                                             \n",
      " raw_features | (8,[0,5,7],[1.0,1.0,1.0])                                              \n",
      " features     | (8,[0,5,7],[1.0986122886681098,1.0986122886681098,1.0986122886681098]) \n",
      "\n"
     ]
    }
   ],
   "source": [
    "res = model.transform(df)\n",
    "\n",
    "res.printSchema()\n",
    "\n",
    "res.show(vertical=True, truncate=False)"
   ]
  },
  {
   "cell_type": "markdown",
   "metadata": {},
   "source": [
    "## idf only"
   ]
  },
  {
   "cell_type": "code",
   "execution_count": 28,
   "metadata": {
    "ExecuteTime": {
     "end_time": "2021-07-28T07:11:29.689158Z",
     "start_time": "2021-07-28T07:11:29.516612Z"
    }
   },
   "outputs": [
    {
     "name": "stdout",
     "output_type": "stream",
     "text": [
      "+------+----------------------+\n",
      "|doc_id|document              |\n",
      "+------+----------------------+\n",
      "|0     |江蘇老趙刀切麵               |\n",
      "|1     |石研室 石頭火鍋              |\n",
      "|2     |石二鍋                   |\n",
      "|3     |肉多多火鍋                 |\n",
      "|4     |Vivienne Westwood Cafe|\n",
      "+------+----------------------+\n",
      "\n"
     ]
    }
   ],
   "source": [
    "from pixlake.nlp.utils import unigram\n",
    "df.show(truncate=False)"
   ]
  },
  {
   "cell_type": "code",
   "execution_count": 29,
   "metadata": {
    "ExecuteTime": {
     "end_time": "2021-07-28T07:11:31.778773Z",
     "start_time": "2021-07-28T07:11:29.692917Z"
    },
    "scrolled": false
   },
   "outputs": [
    {
     "name": "stdout",
     "output_type": "stream",
     "text": [
      "+------+--------+----+\n",
      "|doc_id|document|term|\n",
      "+------+--------+----+\n",
      "|0     |江蘇老趙刀切麵 |江   |\n",
      "|0     |江蘇老趙刀切麵 |蘇   |\n",
      "|0     |江蘇老趙刀切麵 |老   |\n",
      "|0     |江蘇老趙刀切麵 |趙   |\n",
      "|0     |江蘇老趙刀切麵 |刀   |\n",
      "|0     |江蘇老趙刀切麵 |切   |\n",
      "|0     |江蘇老趙刀切麵 |麵   |\n",
      "|1     |石研室 石頭火鍋|石   |\n",
      "|1     |石研室 石頭火鍋|研   |\n",
      "|1     |石研室 石頭火鍋|室   |\n",
      "|1     |石研室 石頭火鍋|石   |\n",
      "|1     |石研室 石頭火鍋|頭   |\n",
      "|1     |石研室 石頭火鍋|火   |\n",
      "|1     |石研室 石頭火鍋|鍋   |\n",
      "|2     |石二鍋     |石   |\n",
      "|2     |石二鍋     |二   |\n",
      "|2     |石二鍋     |鍋   |\n",
      "|3     |肉多多火鍋   |肉   |\n",
      "|3     |肉多多火鍋   |多   |\n",
      "|3     |肉多多火鍋   |多   |\n",
      "+------+--------+----+\n",
      "only showing top 20 rows\n",
      "\n",
      "n document :  5\n",
      "-RECORD 0--------------------------------------------\n",
      " term                       | 鍋                      \n",
      " doc_id                     | 3                      \n",
      " document                   | 肉多多火鍋                  \n",
      " document_frequency_by_term | 3                      \n",
      " idf                        | 0.5849625007211562     \n",
      "-RECORD 1--------------------------------------------\n",
      " term                       | 鍋                      \n",
      " doc_id                     | 2                      \n",
      " document                   | 石二鍋                    \n",
      " document_frequency_by_term | 3                      \n",
      " idf                        | 0.5849625007211562     \n",
      "-RECORD 2--------------------------------------------\n",
      " term                       | 鍋                      \n",
      " doc_id                     | 1                      \n",
      " document                   | 石研室 石頭火鍋               \n",
      " document_frequency_by_term | 3                      \n",
      " idf                        | 0.5849625007211562     \n",
      "-RECORD 3--------------------------------------------\n",
      " term                       | 石                      \n",
      " doc_id                     | 1                      \n",
      " document                   | 石研室 石頭火鍋               \n",
      " document_frequency_by_term | 2                      \n",
      " idf                        | 1.0                    \n",
      "-RECORD 4--------------------------------------------\n",
      " term                       | 石                      \n",
      " doc_id                     | 1                      \n",
      " document                   | 石研室 石頭火鍋               \n",
      " document_frequency_by_term | 2                      \n",
      " idf                        | 1.0                    \n",
      "-RECORD 5--------------------------------------------\n",
      " term                       | 石                      \n",
      " doc_id                     | 2                      \n",
      " document                   | 石二鍋                    \n",
      " document_frequency_by_term | 2                      \n",
      " idf                        | 1.0                    \n",
      "-RECORD 6--------------------------------------------\n",
      " term                       | 火                      \n",
      " doc_id                     | 1                      \n",
      " document                   | 石研室 石頭火鍋               \n",
      " document_frequency_by_term | 2                      \n",
      " idf                        | 1.0                    \n",
      "-RECORD 7--------------------------------------------\n",
      " term                       | 火                      \n",
      " doc_id                     | 3                      \n",
      " document                   | 肉多多火鍋                  \n",
      " document_frequency_by_term | 2                      \n",
      " idf                        | 1.0                    \n",
      "-RECORD 8--------------------------------------------\n",
      " term                       | 蘇                      \n",
      " doc_id                     | 0                      \n",
      " document                   | 江蘇老趙刀切麵                \n",
      " document_frequency_by_term | 1                      \n",
      " idf                        | 1.5849625007211563     \n",
      "-RECORD 9--------------------------------------------\n",
      " term                       | 多                      \n",
      " doc_id                     | 3                      \n",
      " document                   | 肉多多火鍋                  \n",
      " document_frequency_by_term | 1                      \n",
      " idf                        | 1.5849625007211563     \n",
      "-RECORD 10-------------------------------------------\n",
      " term                       | 多                      \n",
      " doc_id                     | 3                      \n",
      " document                   | 肉多多火鍋                  \n",
      " document_frequency_by_term | 1                      \n",
      " idf                        | 1.5849625007211563     \n",
      "-RECORD 11-------------------------------------------\n",
      " term                       | 二                      \n",
      " doc_id                     | 2                      \n",
      " document                   | 石二鍋                    \n",
      " document_frequency_by_term | 1                      \n",
      " idf                        | 1.5849625007211563     \n",
      "-RECORD 12-------------------------------------------\n",
      " term                       | 趙                      \n",
      " doc_id                     | 0                      \n",
      " document                   | 江蘇老趙刀切麵                \n",
      " document_frequency_by_term | 1                      \n",
      " idf                        | 1.5849625007211563     \n",
      "-RECORD 13-------------------------------------------\n",
      " term                       | Vivienne               \n",
      " doc_id                     | 4                      \n",
      " document                   | Vivienne Westwood Cafe \n",
      " document_frequency_by_term | 1                      \n",
      " idf                        | 1.5849625007211563     \n",
      "-RECORD 14-------------------------------------------\n",
      " term                       | 老                      \n",
      " doc_id                     | 0                      \n",
      " document                   | 江蘇老趙刀切麵                \n",
      " document_frequency_by_term | 1                      \n",
      " idf                        | 1.5849625007211563     \n",
      "-RECORD 15-------------------------------------------\n",
      " term                       | 室                      \n",
      " doc_id                     | 1                      \n",
      " document                   | 石研室 石頭火鍋               \n",
      " document_frequency_by_term | 1                      \n",
      " idf                        | 1.5849625007211563     \n",
      "-RECORD 16-------------------------------------------\n",
      " term                       | Westwood               \n",
      " doc_id                     | 4                      \n",
      " document                   | Vivienne Westwood Cafe \n",
      " document_frequency_by_term | 1                      \n",
      " idf                        | 1.5849625007211563     \n",
      "-RECORD 17-------------------------------------------\n",
      " term                       | 切                      \n",
      " doc_id                     | 0                      \n",
      " document                   | 江蘇老趙刀切麵                \n",
      " document_frequency_by_term | 1                      \n",
      " idf                        | 1.5849625007211563     \n",
      "-RECORD 18-------------------------------------------\n",
      " term                       | 肉                      \n",
      " doc_id                     | 3                      \n",
      " document                   | 肉多多火鍋                  \n",
      " document_frequency_by_term | 1                      \n",
      " idf                        | 1.5849625007211563     \n",
      "-RECORD 19-------------------------------------------\n",
      " term                       | 麵                      \n",
      " doc_id                     | 0                      \n",
      " document                   | 江蘇老趙刀切麵                \n",
      " document_frequency_by_term | 1                      \n",
      " idf                        | 1.5849625007211563     \n",
      "only showing top 20 rows\n",
      "\n"
     ]
    }
   ],
   "source": [
    "doc_term_sdf = (\n",
    "    df\n",
    "    .withColumn('term',F.udf(unigram,\n",
    "                             returnType=\"array<string>\")(\"document\", F.lit(True))\n",
    "               )\n",
    "    .withColumn('term',F.explode_outer('term'))\n",
    ")\n",
    "\n",
    "\n",
    "doc_term_sdf.show(truncate=False)\n",
    "\n",
    "\n",
    "    \n",
    "idf_sdf = compute_idf(doc_term_sdf, 'doc_id', 'term')\n",
    "\n",
    "doc_term_idf_sdf = (\n",
    "    doc_term_sdf\n",
    "    .join(\n",
    "        idf_sdf.drop('n_doc'),\n",
    "    on='term',\n",
    "    how='left')\n",
    ")\n",
    "\n",
    "(\n",
    "    doc_term_idf_sdf\n",
    "    .orderBy(\"idf\")\n",
    "#     .orderBy(\"doc_id\",'document')\n",
    ").show(vertical=True,truncate=False)"
   ]
  },
  {
   "cell_type": "markdown",
   "metadata": {},
   "source": [
    "# ngram\n",
    "\n",
    "* we use `unigram` in pixlake ( a simple tokenizer to split english word and chinese word, skip sapce"
   ]
  },
  {
   "cell_type": "markdown",
   "metadata": {},
   "source": [
    "## sklearn ngram"
   ]
  },
  {
   "cell_type": "code",
   "execution_count": 30,
   "metadata": {
    "ExecuteTime": {
     "end_time": "2021-07-28T07:11:32.048574Z",
     "start_time": "2021-07-28T07:11:31.780369Z"
    }
   },
   "outputs": [],
   "source": [
    "from sklearn.feature_extraction.text import CountVectorizer\n",
    "# from pixlake.nlp.utils import ZH_PATTERNS"
   ]
  },
  {
   "cell_type": "code",
   "execution_count": 31,
   "metadata": {
    "ExecuteTime": {
     "end_time": "2021-07-28T07:11:32.068551Z",
     "start_time": "2021-07-28T07:11:32.050259Z"
    }
   },
   "outputs": [
    {
     "name": "stdout",
     "output_type": "stream",
     "text": [
      "['is the first', 'the first document', 'this is the']\n",
      "[[1 1 1]]\n"
     ]
    }
   ],
   "source": [
    "\n",
    "corpus = [\n",
    "    'This is the first document.',\n",
    "#     '江蘇老趙刀切麵',\n",
    "]\n",
    "\n",
    "\n",
    "\n",
    "\n",
    "vectorizer2 = CountVectorizer(\n",
    "    analyzer='word',\n",
    "     # you gonna need a tokenizer if you wanna dealing with chinese\n",
    "    ngram_range=(3, 3)\n",
    ")\n",
    "X2 = vectorizer2.fit_transform(corpus)\n",
    "print(vectorizer2.get_feature_names())\n",
    "print(X2.toarray())\n"
   ]
  },
  {
   "cell_type": "markdown",
   "metadata": {},
   "source": [
    "## pyspark NGram"
   ]
  },
  {
   "cell_type": "markdown",
   "metadata": {},
   "source": [
    "## ngram by window func"
   ]
  },
  {
   "cell_type": "code",
   "execution_count": 84,
   "metadata": {
    "ExecuteTime": {
     "end_time": "2021-07-28T10:06:47.704340Z",
     "start_time": "2021-07-28T10:06:46.871137Z"
    }
   },
   "outputs": [
    {
     "name": "stdout",
     "output_type": "stream",
     "text": [
      "root\n",
      " |-- doc_id: long (nullable = true)\n",
      " |-- document: string (nullable = true)\n",
      "\n",
      "+------+----------------------+\n",
      "|doc_id|document              |\n",
      "+------+----------------------+\n",
      "|0     |江蘇老趙刀切麵               |\n",
      "|1     |石研室 石頭火鍋              |\n",
      "|2     |石二鍋                   |\n",
      "|3     |しゃぶしゃぶ温野菜日本涮涮鍋專門店     |\n",
      "|4     |Vivienne Westwood Cafe|\n",
      "|5     |婧 shabu               |\n",
      "+------+----------------------+\n",
      "\n",
      "+------+-----------------+--------+------+-----------+-----------------+\n",
      "|doc_id|document         |token_id|token |bi-gram    |length_of_bi-gram|\n",
      "+------+-----------------+--------+------+-----------+-----------------+\n",
      "|0     |江蘇老趙刀切麵          |0       |江     |[江, 蘇]     |2                |\n",
      "|0     |江蘇老趙刀切麵          |1       |蘇     |[蘇, 老]     |2                |\n",
      "|0     |江蘇老趙刀切麵          |2       |老     |[老, 趙]     |2                |\n",
      "|0     |江蘇老趙刀切麵          |3       |趙     |[趙, 刀]     |2                |\n",
      "|0     |江蘇老趙刀切麵          |4       |刀     |[刀, 切]     |2                |\n",
      "|0     |江蘇老趙刀切麵          |5       |切     |[切, 麵]     |2                |\n",
      "|0     |江蘇老趙刀切麵          |6       |麵     |[麵]        |1                |\n",
      "|5     |婧 shabu          |0       |婧     |[婧, shabu] |2                |\n",
      "|5     |婧 shabu          |1       |shabu |[shabu]    |1                |\n",
      "|1     |石研室 石頭火鍋         |0       |石     |[石, 研]     |2                |\n",
      "|1     |石研室 石頭火鍋         |1       |研     |[研, 室]     |2                |\n",
      "|1     |石研室 石頭火鍋         |2       |室     |[室, 石]     |2                |\n",
      "|1     |石研室 石頭火鍋         |3       |石     |[石, 頭]     |2                |\n",
      "|1     |石研室 石頭火鍋         |4       |頭     |[頭, 火]     |2                |\n",
      "|1     |石研室 石頭火鍋         |5       |火     |[火, 鍋]     |2                |\n",
      "|1     |石研室 石頭火鍋         |6       |鍋     |[鍋]        |1                |\n",
      "|3     |しゃぶしゃぶ温野菜日本涮涮鍋專門店|0       |しゃぶしゃぶ|[しゃぶしゃぶ, 温]|2                |\n",
      "|3     |しゃぶしゃぶ温野菜日本涮涮鍋專門店|1       |温     |[温, 野]     |2                |\n",
      "|3     |しゃぶしゃぶ温野菜日本涮涮鍋專門店|2       |野     |[野, 菜]     |2                |\n",
      "|3     |しゃぶしゃぶ温野菜日本涮涮鍋專門店|3       |菜     |[菜, 日]     |2                |\n",
      "|3     |しゃぶしゃぶ温野菜日本涮涮鍋專門店|4       |日     |[日, 本]     |2                |\n",
      "|3     |しゃぶしゃぶ温野菜日本涮涮鍋專門店|5       |本     |[本, 涮]     |2                |\n",
      "|3     |しゃぶしゃぶ温野菜日本涮涮鍋專門店|6       |涮     |[涮, 涮]     |2                |\n",
      "|3     |しゃぶしゃぶ温野菜日本涮涮鍋專門店|7       |涮     |[涮, 鍋]     |2                |\n",
      "|3     |しゃぶしゃぶ温野菜日本涮涮鍋專門店|8       |鍋     |[鍋, 專]     |2                |\n",
      "|3     |しゃぶしゃぶ温野菜日本涮涮鍋專門店|9       |專     |[專, 門]     |2                |\n",
      "|3     |しゃぶしゃぶ温野菜日本涮涮鍋專門店|10      |門     |[門, 店]     |2                |\n",
      "|3     |しゃぶしゃぶ温野菜日本涮涮鍋專門店|11      |店     |[店]        |1                |\n",
      "|2     |石二鍋              |0       |石     |[石, 二]     |2                |\n",
      "|2     |石二鍋              |1       |二     |[二, 鍋]     |2                |\n",
      "+------+-----------------+--------+------+-----------+-----------------+\n",
      "only showing top 30 rows\n",
      "\n"
     ]
    }
   ],
   "source": [
    "sentence = [\n",
    "    (0, \"江蘇老趙刀切麵\"),\n",
    "    (1, \"石研室 石頭火鍋\"),\n",
    "    (2, \"石二鍋\"),\n",
    "    (3, \"しゃぶしゃぶ温野菜日本涮涮鍋專門店\"),\n",
    "    (4, \"Vivienne Westwood Cafe\"),\n",
    "    (5, \"婧 shabu\")\n",
    "]\n",
    "\n",
    "col = [\"doc_id\",\"document\"]\n",
    "\n",
    "df = spark.createDataFrame(sentence, col)\n",
    "df.printSchema()\n",
    "df.show(truncate=False)\n",
    "\n",
    "\n",
    "bigram_span_in_doc = (\n",
    "    W.partitionBy('doc_id')\n",
    "     .orderBy('token_id')\n",
    "     .rowsBetween(0, 1) \n",
    "    \n",
    "#     |2     |石二鍋     |0       |石    |石二鍋    | 4gram for 3 words, jusrt filter them =)\n",
    ")\n",
    "\n",
    "(\n",
    "    df\n",
    "    .withColumn('unigram', F.udf(unigram, \"array<string>\")(\"document\", F.lit(True)))\n",
    "    .select(\n",
    "        '*',\n",
    "        F.posexplode_outer('unigram').alias('token_id','token')\n",
    "    )\n",
    "    .drop('unigram')\n",
    "    .withColumn('bi-gram', F.collect_list(C(\"token\")).over(bigram_span_in_doc))\n",
    "    .withColumn('length_of_bi-gram', F.size(C(\"bi-gram\")))\n",
    "#     .withColumn('bi-gram',F.concat_ws('',C(\"bi-gram\")))\n",
    ").show(n=30,truncate=False)"
   ]
  },
  {
   "cell_type": "markdown",
   "metadata": {},
   "source": [
    "## creating ngram_groups "
   ]
  },
  {
   "cell_type": "code",
   "execution_count": 80,
   "metadata": {
    "ExecuteTime": {
     "end_time": "2021-07-28T07:42:59.534826Z",
     "start_time": "2021-07-28T07:42:59.501136Z"
    }
   },
   "outputs": [],
   "source": [
    "from pixlake.etl.snippets import union_dataframes\n",
    "\n",
    "def build_ngram(\n",
    "                sdf : DataFrame,\n",
    "                doc_id_col : str,\n",
    "                document_col : str,\n",
    "                output_col : str ,\n",
    "                ngram_range : list):\n",
    "    \"\"\"\n",
    "    Example\n",
    "    \n",
    "        sentence = [\n",
    "        (0, \"江蘇老趙刀切麵\"),\n",
    "        (1, \"石研室 石頭火鍋\"),\n",
    "        (2, \"石二鍋\"),\n",
    "        (3, \"しゃぶしゃぶ温野菜日本涮涮鍋專門店\"),\n",
    "        (4, \"Vivienne Westwood Cafe\")\n",
    "        ]\n",
    "\n",
    "        col = [\"doc_id\",\"document\"]\n",
    "\n",
    "        df = spark.createDataFrame(sentence, col)\n",
    "        \n",
    "        +------+----------------------+\n",
    "        |doc_id|document              |\n",
    "        +------+----------------------+\n",
    "        |0     |江蘇老趙刀切麵               |\n",
    "        |1     |石研室 石頭火鍋              |\n",
    "        |2     |石二鍋                   |\n",
    "        |3     |しゃぶしゃぶ温野菜日本涮涮鍋專門店     |\n",
    "        |4     |Vivienne Westwood Cafe|\n",
    "        +------+----------------------+\n",
    "        \n",
    "        ngram_sdf = build_ngram(df,\n",
    "            doc_id_col='doc_id',\n",
    "            document_col='document',\n",
    "            output_col='ngram',\n",
    "            ngram_range = [2,3]\n",
    "           )\n",
    "\n",
    "        (\n",
    "            ngram_sdf\n",
    "            .select(\n",
    "                'doc_id',\n",
    "                'document',\n",
    "                C('ngram.n').alias('n'),\n",
    "                C('ngram.ngram').alias('ngram'),\n",
    "            )\n",
    "            .orderBy(C('doc_id'),C('n').desc())\n",
    "        ).show()\n",
    "        \n",
    "        +------+--------+---+---------+\n",
    "        |doc_id|document|  n|    ngram|\n",
    "        +------+--------+---+---------+\n",
    "        |     0| 江蘇老趙刀切麵|  3|[蘇, 老, 趙]|\n",
    "        |     0| 江蘇老趙刀切麵|  3|[刀, 切, 麵]|\n",
    "        |     0| 江蘇老趙刀切麵|  3|[趙, 刀, 切]|\n",
    "        |     0| 江蘇老趙刀切麵|  3|[老, 趙, 刀]|\n",
    "        |     0| 江蘇老趙刀切麵|  3|[江, 蘇, 老]|\n",
    "        |     0| 江蘇老趙刀切麵|  2|   [切, 麵]|\n",
    "        |     0| 江蘇老趙刀切麵|  2|   [江, 蘇]|\n",
    "        |     0| 江蘇老趙刀切麵|  2|   [老, 趙]|\n",
    "        |     0| 江蘇老趙刀切麵|  2|   [趙, 刀]|\n",
    "        |     0| 江蘇老趙刀切麵|  2|   [刀, 切]|\n",
    "        |     0| 江蘇老趙刀切麵|  2|   [蘇, 老]|\n",
    "        |     1|石研室 石頭火鍋|  3|[石, 頭, 火]|\n",
    "        |     1|石研室 石頭火鍋|  3|[研, 室, 石]|\n",
    "        |     1|石研室 石頭火鍋|  3|[室, 石, 頭]|\n",
    "        |     1|石研室 石頭火鍋|  3|[石, 研, 室]|\n",
    "        |     1|石研室 石頭火鍋|  3|[頭, 火, 鍋]|\n",
    "        |     1|石研室 石頭火鍋|  2|   [室, 石]|\n",
    "        |     1|石研室 石頭火鍋|  2|   [石, 頭]|\n",
    "        |     1|石研室 石頭火鍋|  2|   [火, 鍋]|\n",
    "        |     1|石研室 石頭火鍋|  2|   [頭, 火]|\n",
    "        +------+--------+---+---------+\n",
    "        \n",
    "    \"\"\"\n",
    "    \n",
    "    ngram_start, ngram_end = ngram_range[0], ngram_range[1] # complement\n",
    "    print(f'ngram_start : {ngram_start}, ngram_end : {ngram_end}')\n",
    "    \n",
    "    unigram_sdf = (\n",
    "        sdf\n",
    "        .withColumn('unigram', F.udf(unigram, \"array<string>\")(document_col, F.lit(True)))\n",
    "        .withColumn('n', F.lit(1))\n",
    "        .select(\n",
    "            '*',\n",
    "            F.posexplode_outer('unigram').alias('token_id','token')\n",
    "        )\n",
    "        .drop('unigram')\n",
    "    )\n",
    "    \n",
    "    _sdf_list = []\n",
    "    \n",
    "    _sdf_list.append(\n",
    "                unigram_sdf\n",
    "                .withColumn(output_col,F.struct(C(\"n\"),\n",
    "                                                C(\"token\"))\n",
    "                           )\n",
    "        )\n",
    "\n",
    "#     unigram_sdf.show()  \n",
    "\n",
    "    if ngram_end == 1:\n",
    "        raise NotImplementedError('NotImplementedError')\n",
    "#         return union_dataframes()\n",
    "    \n",
    "    else:\n",
    "        for i in range(ngram_start, ngram_end + 1):\n",
    "            print(f'get {i} grams excution plan...') #2\n",
    "\n",
    "            token_span = (\n",
    "                    W.partitionBy(doc_id_col)\n",
    "                     .orderBy('token_id')\n",
    "                     .rowsBetween(0, i - 1)\n",
    "                )\n",
    "            ngram_sdf = (\n",
    "                unigram_sdf\n",
    "                # TODO add ngram position_id\n",
    "                .withColumn(\"n\", F.lit(i))\n",
    "                .withColumn(output_col, F.collect_list(C(\"token\")).over(token_span))\n",
    "                .withColumn('length_of_ngram', F.size(output_col))\n",
    "#                 .withColumn(output_col,F.concat_ws('',C(output_col)))\n",
    "                .withColumn(output_col, F.struct(C(\"n\"),C(output_col)))\n",
    "                .where(C('length_of_ngram') == i)\n",
    "                .drop('length_of_ngram')\n",
    "            )\n",
    "               \n",
    "#             ngram_sdf.show(truncate=False)\n",
    "            \n",
    "            _sdf_list.append(ngram_sdf)\n",
    "        \n",
    "    _sdf_list = [sdf.drop('token_id','token','n') for sdf in _sdf_list]\n",
    "    \n",
    "    if ngram_start > 1:\n",
    "        return union_dataframes(_sdf_list[1:])\n",
    "    else:\n",
    "        return union_dataframes(_sdf_list)"
   ]
  },
  {
   "cell_type": "code",
   "execution_count": 81,
   "metadata": {
    "ExecuteTime": {
     "end_time": "2021-07-28T07:43:00.244723Z",
     "start_time": "2021-07-28T07:42:59.895835Z"
    }
   },
   "outputs": [
    {
     "name": "stdout",
     "output_type": "stream",
     "text": [
      "+------+--------------------+\n",
      "|doc_id|            document|\n",
      "+------+--------------------+\n",
      "|     0|             江蘇老趙刀切麵|\n",
      "|     1|            石研室 石頭火鍋|\n",
      "|     2|                 石二鍋|\n",
      "|     3|   しゃぶしゃぶ温野菜日本涮涮鍋專門店|\n",
      "|     4|Vivienne Westwood...|\n",
      "+------+--------------------+\n",
      "\n"
     ]
    }
   ],
   "source": [
    "df.show()"
   ]
  },
  {
   "cell_type": "code",
   "execution_count": 82,
   "metadata": {
    "ExecuteTime": {
     "end_time": "2021-07-28T07:43:00.759064Z",
     "start_time": "2021-07-28T07:43:00.580018Z"
    }
   },
   "outputs": [
    {
     "name": "stdout",
     "output_type": "stream",
     "text": [
      "ngram_start : 2, ngram_end : 3\n",
      "get 2 grams excution plan...\n",
      "get 3 grams excution plan...\n"
     ]
    }
   ],
   "source": [
    "ngram_sdf = build_ngram(df,\n",
    "            doc_id_col='doc_id',\n",
    "            document_col='document',\n",
    "            output_col='ngram',\n",
    "            ngram_range = [2,3]\n",
    "           )"
   ]
  },
  {
   "cell_type": "code",
   "execution_count": 83,
   "metadata": {
    "ExecuteTime": {
     "end_time": "2021-07-28T07:43:05.848468Z",
     "start_time": "2021-07-28T07:43:04.934024Z"
    },
    "scrolled": false
   },
   "outputs": [
    {
     "name": "stdout",
     "output_type": "stream",
     "text": [
      "+------+--------+---+---------+\n",
      "|doc_id|document|  n|    ngram|\n",
      "+------+--------+---+---------+\n",
      "|     0| 江蘇老趙刀切麵|  3|[蘇, 老, 趙]|\n",
      "|     0| 江蘇老趙刀切麵|  3|[刀, 切, 麵]|\n",
      "|     0| 江蘇老趙刀切麵|  3|[趙, 刀, 切]|\n",
      "|     0| 江蘇老趙刀切麵|  3|[老, 趙, 刀]|\n",
      "|     0| 江蘇老趙刀切麵|  3|[江, 蘇, 老]|\n",
      "|     0| 江蘇老趙刀切麵|  2|   [切, 麵]|\n",
      "|     0| 江蘇老趙刀切麵|  2|   [江, 蘇]|\n",
      "|     0| 江蘇老趙刀切麵|  2|   [老, 趙]|\n",
      "|     0| 江蘇老趙刀切麵|  2|   [趙, 刀]|\n",
      "|     0| 江蘇老趙刀切麵|  2|   [刀, 切]|\n",
      "|     0| 江蘇老趙刀切麵|  2|   [蘇, 老]|\n",
      "|     1|石研室 石頭火鍋|  3|[石, 頭, 火]|\n",
      "|     1|石研室 石頭火鍋|  3|[研, 室, 石]|\n",
      "|     1|石研室 石頭火鍋|  3|[室, 石, 頭]|\n",
      "|     1|石研室 石頭火鍋|  3|[石, 研, 室]|\n",
      "|     1|石研室 石頭火鍋|  3|[頭, 火, 鍋]|\n",
      "|     1|石研室 石頭火鍋|  2|   [室, 石]|\n",
      "|     1|石研室 石頭火鍋|  2|   [石, 頭]|\n",
      "|     1|石研室 石頭火鍋|  2|   [火, 鍋]|\n",
      "|     1|石研室 石頭火鍋|  2|   [頭, 火]|\n",
      "+------+--------+---+---------+\n",
      "only showing top 20 rows\n",
      "\n"
     ]
    }
   ],
   "source": [
    "(\n",
    "    ngram_sdf\n",
    "    .select(\n",
    "        'doc_id',\n",
    "        'document',\n",
    "        C('ngram.n').alias('n'),\n",
    "        C('ngram.ngram').alias('ngram'),\n",
    "    )\n",
    "    .orderBy(C('doc_id'),C('n').desc())\n",
    ").show()\n",
    "# ).show(n=200,vertical=True, truncate=False)\n",
    "# ).count()"
   ]
  },
  {
   "cell_type": "code",
   "execution_count": null,
   "metadata": {},
   "outputs": [],
   "source": []
  },
  {
   "cell_type": "code",
   "execution_count": null,
   "metadata": {},
   "outputs": [],
   "source": []
  }
 ],
 "metadata": {
  "kernelspec": {
   "display_name": "pixlake",
   "language": "python",
   "name": "pixlake"
  },
  "language_info": {
   "codemirror_mode": {
    "name": "ipython",
    "version": 3
   },
   "file_extension": ".py",
   "mimetype": "text/x-python",
   "name": "python",
   "nbconvert_exporter": "python",
   "pygments_lexer": "ipython3",
   "version": "3.7.9"
  },
  "toc": {
   "base_numbering": 1,
   "nav_menu": {},
   "number_sections": true,
   "sideBar": true,
   "skip_h1_title": false,
   "title_cell": "Table of Contents",
   "title_sidebar": "Contents",
   "toc_cell": false,
   "toc_position": {},
   "toc_section_display": true,
   "toc_window_display": true
  }
 },
 "nbformat": 4,
 "nbformat_minor": 4
}
