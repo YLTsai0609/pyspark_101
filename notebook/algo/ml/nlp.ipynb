{
 "cells": [
  {
   "cell_type": "code",
   "execution_count": 1,
   "metadata": {
    "ExecuteTime": {
     "end_time": "2021-08-03T02:27:55.949670Z",
     "start_time": "2021-08-03T02:27:55.930298Z"
    }
   },
   "outputs": [],
   "source": [
    "# env : pixlake\n",
    "# we focuing on pyspark dataframe processing\n",
    "# documentation https://spark.apache.org/docs/2.4.0/api/python/pyspark.sql.html#pyspark.sql.DataFrame\n",
    "%load_ext autoreload\n",
    "%autoreload 2"
   ]
  },
  {
   "cell_type": "code",
   "execution_count": 2,
   "metadata": {
    "ExecuteTime": {
     "end_time": "2021-08-03T02:27:56.044200Z",
     "start_time": "2021-08-03T02:27:55.951498Z"
    }
   },
   "outputs": [],
   "source": [
    "# make you auto compeletion faster\n",
    "# https://stackoverflow.com/questions/40536560/ipython-and-jupyter-autocomplete-not-working\n",
    "%config Completer.use_jedi = False"
   ]
  },
  {
   "cell_type": "code",
   "execution_count": 3,
   "metadata": {
    "ExecuteTime": {
     "end_time": "2021-08-03T02:27:56.143573Z",
     "start_time": "2021-08-03T02:27:56.046116Z"
    }
   },
   "outputs": [
    {
     "name": "stdout",
     "output_type": "stream",
     "text": [
      "You have pyspark version :  ['spark-2.3', 'spark-3.1.2-bin-hadoop2.7', 'spark-3.0', 'spark-3.0.1-bin-hadoop2.7', 'spark-2.3.4-bin-hadoop2.7', 'spark-2.4.7-bin-hadoop2.7', 'spark-2.4', 'spark-3.1']\n"
     ]
    }
   ],
   "source": [
    "import os\n",
    "import sys\n",
    "from os.path import join as PJ\n",
    "def get_workstation_spark_path(where_are_you : str) -> str:\n",
    "    if where_are_you == 'titan':\n",
    "        return '/home/data/ryanchao2012/lib'\n",
    "    elif where_are_you == 'thor':\n",
    "        return '/opt/spark/versions'\n",
    "    else:\n",
    "        raise ValueError(\"wrong work station name\")\n",
    "\n",
    "spark_path = get_workstation_spark_path('thor')\n",
    "\n",
    "print('You have pyspark version : ', os.listdir(spark_path))\n",
    "os.environ['PYSPARK_PYTHON'] = sys.executable\n",
    "# spark-2.3, spark-2.4\n",
    "# os.environ['SPARK_HOME'] = os.path.join(spark\n",
    "os.environ['SPARK_HOME'] = '/opt/spark/versions/spark-3.1.2-bin-hadoop2.7/'"
   ]
  },
  {
   "cell_type": "code",
   "execution_count": 4,
   "metadata": {
    "ExecuteTime": {
     "end_time": "2021-08-03T02:27:56.296861Z",
     "start_time": "2021-08-03T02:27:56.145593Z"
    }
   },
   "outputs": [
    {
     "data": {
      "text/plain": [
       "'/opt/spark/versions/spark-3.1.2-bin-hadoop2.7/'"
      ]
     },
     "execution_count": 4,
     "metadata": {},
     "output_type": "execute_result"
    }
   ],
   "source": [
    "os.environ['SPARK_HOME']"
   ]
  },
  {
   "cell_type": "code",
   "execution_count": 5,
   "metadata": {
    "ExecuteTime": {
     "end_time": "2021-08-03T02:27:56.654423Z",
     "start_time": "2021-08-03T02:27:56.299248Z"
    }
   },
   "outputs": [],
   "source": [
    "from os.path import join\n",
    "import pandas as pd\n",
    "from pyspark.sql import SparkSession as Session\n",
    "from pyspark.sql import DataFrame\n",
    "from pyspark import SparkConf as Conf\n",
    "from pyspark.sql import functions as F, Window as W, types as T\n",
    "from pyspark.sql.types import StructType, StructField, StringType, IntegerType\n",
    "C = F.col"
   ]
  },
  {
   "cell_type": "code",
   "execution_count": 6,
   "metadata": {
    "ExecuteTime": {
     "end_time": "2021-08-03T02:27:56.663469Z",
     "start_time": "2021-08-03T02:27:56.655596Z"
    }
   },
   "outputs": [],
   "source": [
    "conf = (Conf()\n",
    "    .set('spark.sql.sources.partitionOverwriteMode', 'dynamic')\n",
    "    .set('spark.driver.memory', '4g')\n",
    "    .set('spark.driver.maxResultSize', '1g')\n",
    "   )"
   ]
  },
  {
   "cell_type": "code",
   "execution_count": 7,
   "metadata": {
    "ExecuteTime": {
     "end_time": "2021-08-03T02:28:00.386393Z",
     "start_time": "2021-08-03T02:27:56.664586Z"
    }
   },
   "outputs": [
    {
     "name": "stderr",
     "output_type": "stream",
     "text": [
      "21/08/03 10:27:58 WARN NativeCodeLoader: Unable to load native-hadoop library for your platform... using builtin-java classes where applicable\n",
      "Using Spark's default log4j profile: org/apache/spark/log4j-defaults.properties\n",
      "Setting default log level to \"WARN\".\n",
      "To adjust logging level use sc.setLogLevel(newLevel). For SparkR, use setLogLevel(newLevel).\n",
      "21/08/03 10:27:59 WARN Utils: Service 'SparkUI' could not bind on port 4040. Attempting port 4041.\n",
      "21/08/03 10:27:59 WARN Utils: Service 'SparkUI' could not bind on port 4041. Attempting port 4042.\n"
     ]
    }
   ],
   "source": [
    "spark = (Session\n",
    "     .builder\n",
    "     .appName('pyspark-challenge-nlp')\n",
    "     .master('local[2]')\n",
    "     .config(conf=conf)\n",
    "     .getOrCreate())"
   ]
  },
  {
   "cell_type": "code",
   "execution_count": 8,
   "metadata": {
    "ExecuteTime": {
     "end_time": "2021-08-03T02:28:00.405840Z",
     "start_time": "2021-08-03T02:28:00.389423Z"
    }
   },
   "outputs": [
    {
     "data": {
      "text/html": [
       "\n",
       "            <div>\n",
       "                <p><b>SparkSession - in-memory</b></p>\n",
       "                \n",
       "        <div>\n",
       "            <p><b>SparkContext</b></p>\n",
       "\n",
       "            <p><a href=\"http://thor:4042\">Spark UI</a></p>\n",
       "\n",
       "            <dl>\n",
       "              <dt>Version</dt>\n",
       "                <dd><code>v3.1.2</code></dd>\n",
       "              <dt>Master</dt>\n",
       "                <dd><code>local[2]</code></dd>\n",
       "              <dt>AppName</dt>\n",
       "                <dd><code>pyspark-challenge-nlp</code></dd>\n",
       "            </dl>\n",
       "        </div>\n",
       "        \n",
       "            </div>\n",
       "        "
      ],
      "text/plain": [
       "<pyspark.sql.session.SparkSession at 0x7fdf109494c0>"
      ]
     },
     "execution_count": 8,
     "metadata": {},
     "output_type": "execute_result"
    }
   ],
   "source": [
    "spark"
   ]
  },
  {
   "cell_type": "markdown",
   "metadata": {},
   "source": [
    "# CounterVectorizer | Hashing TF\n",
    "\n",
    "https://towardsdatascience.com/countvectorizer-hashingtf-e66f169e2d4e\n",
    "\n",
    "1. **input** : array of tokens\n",
    "2. **output** : vector (dense or sparse)\n",
    "\n",
    "e.g.\n",
    "\n",
    "```\n",
    " |-- words: array (nullable = true)\n",
    " |    |-- element: string (containsNull = true)\n",
    " |-- features: vector (nullable = true)\n",
    "```\n",
    "\n",
    "calculate via all the corpus(the word column)"
   ]
  },
  {
   "cell_type": "code",
   "execution_count": 9,
   "metadata": {
    "ExecuteTime": {
     "end_time": "2021-08-03T02:28:03.883892Z",
     "start_time": "2021-08-03T02:28:00.407670Z"
    }
   },
   "outputs": [
    {
     "name": "stderr",
     "output_type": "stream",
     "text": [
      "\r",
      "[Stage 0:>                                                          (0 + 1) / 1]\r"
     ]
    },
    {
     "name": "stdout",
     "output_type": "stream",
     "text": [
      "+---+--------------------+\n",
      "|id |words               |\n",
      "+---+--------------------+\n",
      "|0  |[PYTHON, HIVE, HIVE]|\n",
      "|1  |[JAVA, JAVA, SQL]   |\n",
      "+---+--------------------+\n",
      "\n",
      "root\n",
      " |-- id: long (nullable = true)\n",
      " |-- words: array (nullable = true)\n",
      " |    |-- element: string (containsNull = true)\n",
      "\n"
     ]
    },
    {
     "name": "stderr",
     "output_type": "stream",
     "text": [
      "\r",
      "                                                                                \r"
     ]
    }
   ],
   "source": [
    "data = [\n",
    "    (0, \"PYTHON HIVE HIVE\".split(\" \")),\n",
    "    (1, \"JAVA JAVA SQL\".split(\" \")),\n",
    "]\n",
    "\n",
    "cols = [\"id\",\"words\"]\n",
    "\n",
    "df = spark.createDataFrame(data, cols)\n",
    "df.show(truncate=False)\n",
    "df.printSchema()"
   ]
  },
  {
   "cell_type": "code",
   "execution_count": 10,
   "metadata": {
    "ExecuteTime": {
     "end_time": "2021-08-03T02:28:03.966014Z",
     "start_time": "2021-08-03T02:28:03.885314Z"
    }
   },
   "outputs": [],
   "source": [
    "## CounterVectorlizerModel\n",
    "\n",
    "from pyspark.ml.feature import CountVectorizer\n",
    "# CountVectorizer??\n",
    "\n",
    "# minTF=1.0,\n",
    "# minDF=1.0,\n",
    "# vocabSize=262144,\n",
    "# binary=False,\n",
    "# inputCol=None,\n",
    "# outputCol=None,"
   ]
  },
  {
   "cell_type": "code",
   "execution_count": 11,
   "metadata": {
    "ExecuteTime": {
     "end_time": "2021-08-03T02:28:05.510737Z",
     "start_time": "2021-08-03T02:28:03.967576Z"
    }
   },
   "outputs": [
    {
     "name": "stdout",
     "output_type": "stream",
     "text": [
      "root\n",
      " |-- id: long (nullable = true)\n",
      " |-- words: array (nullable = true)\n",
      " |    |-- element: string (containsNull = true)\n",
      " |-- features: vector (nullable = true)\n",
      "\n",
      "+---+--------------------+-------------------+\n",
      "|id |words               |features           |\n",
      "+---+--------------------+-------------------+\n",
      "|0  |[PYTHON, HIVE, HIVE]|(4,[0,3],[2.0,1.0])|\n",
      "|1  |[JAVA, JAVA, SQL]   |(4,[1,2],[2.0,1.0])|\n",
      "+---+--------------------+-------------------+\n",
      "\n",
      "you can check the vocabulary :  ['HIVE', 'JAVA', 'PYTHON', 'SQL']\n",
      "the order per row (follow the counts)\n",
      "0 : {'HIVE', 'PYTHON'}\n",
      "1 : {'SQL', 'JAVA'}\n"
     ]
    }
   ],
   "source": [
    "cv = CountVectorizer(inputCol=\"words\",outputCol=\"features\")\n",
    "\n",
    "model = cv.fit(df)\n",
    "\n",
    "res = model.transform(df)\n",
    "\n",
    "res.printSchema()\n",
    "\n",
    "res.show(truncate=False)\n",
    "\n",
    "print('you can check the vocabulary : ',sorted(model.vocabulary))\n",
    "print('the order per row (follow the counts)')\n",
    "\n",
    "for row in df.rdd.toLocalIterator():\n",
    "    print(row.id, ':', set(row.words), sep=' ')\n",
    "    \n",
    "# Term    Freq Index\n",
    "# HIVE     2     0\n",
    "# JAVA     2     1\n",
    "# PYTHON      1     2\n",
    "# SQL   1     3\n",
    "\n",
    "# (4,             [1, 2], [2.0, 1.0])\n",
    "# (vector_legnth, vector index)"
   ]
  },
  {
   "cell_type": "code",
   "execution_count": 12,
   "metadata": {
    "ExecuteTime": {
     "end_time": "2021-08-03T02:28:05.524517Z",
     "start_time": "2021-08-03T02:28:05.513133Z"
    }
   },
   "outputs": [],
   "source": [
    "# sorted(model.vocabulary)\n",
    "# model.params"
   ]
  },
  {
   "cell_type": "code",
   "execution_count": 13,
   "metadata": {
    "ExecuteTime": {
     "end_time": "2021-08-03T02:28:05.651285Z",
     "start_time": "2021-08-03T02:28:05.525713Z"
    }
   },
   "outputs": [],
   "source": [
    "# dir(cv)\n",
    "# dir(model)"
   ]
  },
  {
   "cell_type": "code",
   "execution_count": 14,
   "metadata": {
    "ExecuteTime": {
     "end_time": "2021-08-03T02:28:05.752006Z",
     "start_time": "2021-08-03T02:28:05.655926Z"
    }
   },
   "outputs": [],
   "source": [
    "from pyspark.ml.feature import HashingTF"
   ]
  },
  {
   "cell_type": "code",
   "execution_count": 15,
   "metadata": {
    "ExecuteTime": {
     "end_time": "2021-08-03T02:28:06.166730Z",
     "start_time": "2021-08-03T02:28:05.754844Z"
    }
   },
   "outputs": [
    {
     "name": "stdout",
     "output_type": "stream",
     "text": [
      "root\n",
      " |-- id: long (nullable = true)\n",
      " |-- words: array (nullable = true)\n",
      " |    |-- element: string (containsNull = true)\n",
      " |-- features: vector (nullable = true)\n",
      "\n",
      "+---+--------------------+----------------------------------+\n",
      "|id |words               |features                          |\n",
      "+---+--------------------+----------------------------------+\n",
      "|0  |[PYTHON, HIVE, HIVE]|(262144,[129668,191247],[2.0,1.0])|\n",
      "|1  |[JAVA, JAVA, SQL]   |(262144,[53343,256570],[2.0,1.0]) |\n",
      "+---+--------------------+----------------------------------+\n",
      "\n"
     ]
    }
   ],
   "source": [
    "ht = HashingTF(inputCol=\"words\",outputCol=\"features\")\n",
    "\n",
    "ht_res = ht.transform(df)\n",
    "\n",
    "ht_res.printSchema()\n",
    "ht_res.show(truncate=False)"
   ]
  },
  {
   "cell_type": "markdown",
   "metadata": {},
   "source": [
    "# TFIDF\n",
    "\n",
    "https://spark.apache.org/docs/2.3.4/api/python/pyspark.ml.html?highlight=idf#pyspark.ml.feature.IDF\n",
    "\n",
    "$t$ : term\n",
    "\n",
    "$d$ : document\n",
    "\n",
    "$D$ : corpus\n",
    "\n",
    "$TF(t, d)$ - Term frequency : number of times that term $t$ appears in document $d$\n",
    "\n",
    "$DF(t, D) : $ - document frequency : number of documents that contains term $t$\n",
    "\n",
    "$IDF(t, D) = log \\frac{|D| + 1}{DF(t, D) + 1}$ - numerical measure of how much information a term $t$ provides in corpus $D$\n",
    "\n",
    "* a term appears in all documents, $IDF(t, D) = 0$\n",
    "\n",
    "* smoothing term is applied to avoid dividibng by zero for terms outside the corpus(unseen testing set)"
   ]
  },
  {
   "cell_type": "markdown",
   "metadata": {},
   "source": [
    "## Toy Sample I\n",
    "\n",
    "https://runawayhorse001.github.io/LearningApacheSpark/pyspark.pdf\n",
    "\n",
    "page 93"
   ]
  },
  {
   "cell_type": "code",
   "execution_count": 16,
   "metadata": {
    "ExecuteTime": {
     "end_time": "2021-08-03T02:28:06.181535Z",
     "start_time": "2021-08-03T02:28:06.169014Z"
    }
   },
   "outputs": [],
   "source": [
    "from pyspark.ml import Pipeline\n",
    "from pyspark.ml.feature import Tokenizer\n",
    "from pyspark.ml.feature import CountVectorizer\n",
    "from pyspark.ml.feature import IDF"
   ]
  },
  {
   "cell_type": "code",
   "execution_count": 17,
   "metadata": {
    "ExecuteTime": {
     "end_time": "2021-08-03T02:28:06.480188Z",
     "start_time": "2021-08-03T02:28:06.182964Z"
    }
   },
   "outputs": [
    {
     "name": "stdout",
     "output_type": "stream",
     "text": [
      "root\n",
      " |-- doc_id: long (nullable = true)\n",
      " |-- document: string (nullable = true)\n",
      "\n",
      "+------+-------------------------+\n",
      "|doc_id|document                 |\n",
      "+------+-------------------------+\n",
      "|0     |Python python Spark Spark|\n",
      "|1     |Python SQL               |\n",
      "+------+-------------------------+\n",
      "\n"
     ]
    }
   ],
   "source": [
    "sentence = [\n",
    "    (0, \"Python python Spark Spark\"),\n",
    "    (1, \"Python SQL\")\n",
    "]\n",
    "\n",
    "col = [\"doc_id\",\"document\"]\n",
    "\n",
    "df = spark.createDataFrame(sentence, col)\n",
    "df.printSchema()\n",
    "df.show(truncate=False)"
   ]
  },
  {
   "cell_type": "markdown",
   "metadata": {},
   "source": [
    "Calculate the idf of each terms by hand\n",
    "\n",
    "$t$ : (normalized) term : $\\text{{python, spark, sql}}$\n",
    "\n",
    "$d_{i}$ : document : $d_1, d_2$\n",
    "\n",
    "$D$ : copus = ${d_1, d_2}$\n",
    "\n",
    "----------------------------------------------------------------\n",
    "\n",
    "$DF(\\text{python}, D) = 2$\n",
    "\n",
    "$DF(\\text{spark}, D) = 1$\n",
    "\n",
    "$DF(\\text{sql}, D) = 1$\n",
    "\n",
    "$DF(\\text{python}, D) = log_{2} \\frac{2+1}{2+1} = 0$ - `python` appears in every document\n",
    "\n",
    "$DF(\\text{spark}, D) = log_{2} \\frac{2+1}{1+1} = log_{2} \\frac{3}{2}$ - 0.405\n",
    "\n",
    "$DF(\\text{sql}, D) = log_{2} \\frac{2+1}{1+1} = log_{2} \\frac{3}{2}$ - 0.405\n"
   ]
  },
  {
   "cell_type": "code",
   "execution_count": 18,
   "metadata": {
    "ExecuteTime": {
     "end_time": "2021-08-03T02:28:06.496453Z",
     "start_time": "2021-08-03T02:28:06.481794Z"
    }
   },
   "outputs": [
    {
     "data": {
      "text/plain": [
       "0.4054651081081644"
      ]
     },
     "execution_count": 18,
     "metadata": {},
     "output_type": "execute_result"
    }
   ],
   "source": [
    "import numpy as np\n",
    "\n",
    "np.log(3/2)"
   ]
  },
  {
   "cell_type": "code",
   "execution_count": 19,
   "metadata": {
    "ExecuteTime": {
     "end_time": "2021-08-03T02:28:07.391153Z",
     "start_time": "2021-08-03T02:28:06.497934Z"
    }
   },
   "outputs": [],
   "source": [
    "# TODO\n",
    "\n",
    "# It's wrong, we need idf only\n",
    "\n",
    "tokenizer = Tokenizer(inputCol=\"document\",\n",
    "                      outputCol=\"term\")\n",
    "\n",
    "vectorizer = CountVectorizer(inputCol=\"term\",\n",
    "                             outputCol=\"raw_features\")\n",
    "\n",
    "idf = IDF(inputCol=\"raw_features\",outputCol=\"features\")\n",
    "\n",
    "pipeline = Pipeline(stages=[tokenizer, vectorizer, idf])\n",
    "\n",
    "model = pipeline.fit(df)"
   ]
  },
  {
   "cell_type": "code",
   "execution_count": 20,
   "metadata": {
    "ExecuteTime": {
     "end_time": "2021-08-03T02:28:07.725870Z",
     "start_time": "2021-08-03T02:28:07.392764Z"
    }
   },
   "outputs": [
    {
     "name": "stdout",
     "output_type": "stream",
     "text": [
      "-RECORD 0------------------------------------------\n",
      " doc_id       | 0                                  \n",
      " document     | Python python Spark Spark          \n",
      " term         | [python, python, spark, spark]     \n",
      " raw_features | (3,[0,1],[2.0,2.0])                \n",
      " features     | (3,[0,1],[0.0,0.8109302162163288]) \n",
      "-RECORD 1------------------------------------------\n",
      " doc_id       | 1                                  \n",
      " document     | Python SQL                         \n",
      " term         | [python, sql]                      \n",
      " raw_features | (3,[0,2],[1.0,1.0])                \n",
      " features     | (3,[0,2],[0.0,0.4054651081081644]) \n",
      "\n"
     ]
    }
   ],
   "source": [
    "model.transform(df).show(vertical=True, truncate=False)"
   ]
  },
  {
   "cell_type": "markdown",
   "metadata": {},
   "source": [
    "### IDF Only"
   ]
  },
  {
   "cell_type": "code",
   "execution_count": 21,
   "metadata": {
    "ExecuteTime": {
     "end_time": "2021-08-03T02:28:07.901627Z",
     "start_time": "2021-08-03T02:28:07.728321Z"
    }
   },
   "outputs": [
    {
     "name": "stdout",
     "output_type": "stream",
     "text": [
      "+------+-------------------------+\n",
      "|doc_id|document                 |\n",
      "+------+-------------------------+\n",
      "|0     |Python python Spark Spark|\n",
      "|1     |Python SQL               |\n",
      "+------+-------------------------+\n",
      "\n"
     ]
    }
   ],
   "source": [
    "df.show(truncate=False)"
   ]
  },
  {
   "cell_type": "code",
   "execution_count": 22,
   "metadata": {
    "ExecuteTime": {
     "end_time": "2021-08-03T02:28:13.101921Z",
     "start_time": "2021-08-03T02:28:07.904508Z"
    }
   },
   "outputs": [
    {
     "name": "stdout",
     "output_type": "stream",
     "text": [
      "doc_term dataframe : \n",
      "+------+-------------------------+------+\n",
      "|doc_id|document                 |term  |\n",
      "+------+-------------------------+------+\n",
      "|0     |Python python Spark Spark|python|\n",
      "|0     |Python python Spark Spark|python|\n",
      "|0     |Python python Spark Spark|spark |\n",
      "|0     |Python python Spark Spark|spark |\n",
      "|1     |Python SQL               |python|\n",
      "|1     |Python SQL               |sql   |\n",
      "+------+-------------------------+------+\n",
      "\n"
     ]
    },
    {
     "name": "stderr",
     "output_type": "stream",
     "text": [
      "                                                                                \r"
     ]
    },
    {
     "name": "stdout",
     "output_type": "stream",
     "text": [
      "n document :  2\n"
     ]
    },
    {
     "name": "stderr",
     "output_type": "stream",
     "text": [
      "\r",
      "[Stage 29:============================================>         (164 + 2) / 200]\r",
      "\r",
      "                                                                                \r"
     ]
    },
    {
     "name": "stdout",
     "output_type": "stream",
     "text": [
      "+------+--------------------------+-----+------------------+\n",
      "|  term|document_frequency_by_term|n_doc|               idf|\n",
      "+------+--------------------------+-----+------------------+\n",
      "|   sql|                         1|    2|0.5849625007211562|\n",
      "| spark|                         1|    2|0.5849625007211562|\n",
      "|python|                         2|    2|               0.0|\n",
      "+------+--------------------------+-----+------------------+\n",
      "\n",
      "-RECORD 0-----------------------------------------------\n",
      " term                       | sql                       \n",
      " doc_id                     | 1                         \n",
      " document                   | Python SQL                \n",
      " document_frequency_by_term | 1                         \n",
      " idf                        | 0.5849625007211562        \n",
      "-RECORD 1-----------------------------------------------\n",
      " term                       | spark                     \n",
      " doc_id                     | 0                         \n",
      " document                   | Python python Spark Spark \n",
      " document_frequency_by_term | 1                         \n",
      " idf                        | 0.5849625007211562        \n",
      "-RECORD 2-----------------------------------------------\n",
      " term                       | spark                     \n",
      " doc_id                     | 0                         \n",
      " document                   | Python python Spark Spark \n",
      " document_frequency_by_term | 1                         \n",
      " idf                        | 0.5849625007211562        \n",
      "-RECORD 3-----------------------------------------------\n",
      " term                       | python                    \n",
      " doc_id                     | 0                         \n",
      " document                   | Python python Spark Spark \n",
      " document_frequency_by_term | 2                         \n",
      " idf                        | 0.0                       \n",
      "-RECORD 4-----------------------------------------------\n",
      " term                       | python                    \n",
      " doc_id                     | 0                         \n",
      " document                   | Python python Spark Spark \n",
      " document_frequency_by_term | 2                         \n",
      " idf                        | 0.0                       \n",
      "-RECORD 5-----------------------------------------------\n",
      " term                       | python                    \n",
      " doc_id                     | 1                         \n",
      " document                   | Python SQL                \n",
      " document_frequency_by_term | 2                         \n",
      " idf                        | 0.0                       \n",
      "\n"
     ]
    }
   ],
   "source": [
    "tokenizer = Pipeline(stages=[tokenizer])\n",
    "\n",
    "model = tokenizer.fit(df)\n",
    "\n",
    "doc_term_sdf = (\n",
    "    model.transform(df)\n",
    "    .withColumn('term',F.explode_outer('term'))\n",
    ")\n",
    "\n",
    "print(\"doc_term dataframe : \")\n",
    "\n",
    "doc_term_sdf.show(truncate=False)\n",
    "\n",
    "def compute_idf(doc_term_sdf : DataFrame,\n",
    "                doc_id_col : str,\n",
    "                term_col : str,\n",
    "                verbose : bool = True\n",
    "               ):\n",
    "    \"\"\"\n",
    "    Input : should be term level dataframe \n",
    "            with document content and doc_id\n",
    "    \n",
    "    +------+-------------------------+\n",
    "    |doc_id|document                 |\n",
    "    +------+-------------------------+\n",
    "    |0     |Python python Spark Spark|\n",
    "    |1     |Python SQL               |\n",
    "    +------+-------------------------+\n",
    "    \n",
    "    Out : term level idf values\n",
    "    \n",
    "    +------+--------------------------+-----+------------------+\n",
    "    |term  |document_frequency_by_term|n_doc|idf               |\n",
    "    +------+--------------------------+-----+------------------+\n",
    "    |sql   |1                         |2    |0.5849625007211562|\n",
    "    |spark |1                         |2    |0.5849625007211562|\n",
    "    |python|2                         |2    |0.0               |\n",
    "    +------+--------------------------+-----+------------------+\n",
    "    \n",
    "    TODO add formula\n",
    "    \n",
    "    \"\"\"\n",
    "    \n",
    "    n_document = doc_term_sdf.select(doc_id_col).distinct().count()\n",
    "    \n",
    "    if verbose:\n",
    "        print('n document : ',n_document)\n",
    "    \n",
    "    idf : DataFrame = (\n",
    "    doc_term_sdf\n",
    "    .groupBy(term_col)\n",
    "    # well, id means document_id\n",
    "    .agg(F.countDistinct(doc_id_col).alias(\"document_frequency_by_term\"))\n",
    "    .withColumn('n_doc', F.lit(n_document).cast('integer'))\n",
    "    .withColumn(\"idf\",\n",
    "                F.log2(\n",
    "                    (C(\"n_doc\") + F.lit(1)) / (C(\"document_frequency_by_term\") + F.lit(1))\n",
    "                )\n",
    "               )\n",
    "    )\n",
    "    \n",
    "    return idf\n",
    "    \n",
    "    \n",
    "idf_sdf = compute_idf(doc_term_sdf, 'doc_id', 'term')\n",
    "idf_sdf.show()\n",
    "\n",
    "doc_term_idf_sdf = (\n",
    "    doc_term_sdf\n",
    "    .join(\n",
    "        idf_sdf.drop('n_doc'),\n",
    "    on='term',\n",
    "    how='left')\n",
    ")\n",
    "\n",
    "doc_term_idf_sdf.show(vertical=True,truncate=False)"
   ]
  },
  {
   "cell_type": "markdown",
   "metadata": {},
   "source": [
    "## Toy Sample III (PoI)"
   ]
  },
  {
   "cell_type": "code",
   "execution_count": 23,
   "metadata": {
    "ExecuteTime": {
     "end_time": "2021-08-03T02:28:13.464441Z",
     "start_time": "2021-08-03T02:28:13.103855Z"
    }
   },
   "outputs": [
    {
     "name": "stderr",
     "output_type": "stream",
     "text": [
      "/tmp/ipykernel_4329/3690247368.py:1: DeprecationWarning: \"pixlake.models.spark.DatePartitionedTable\" is deprecated, and will be replaced by: \"pixlake.catadog.models.spark.DatePartitionDir\"\n",
      "  from pixlake.tables.warehouse.log.mainstream.meta import poi\n"
     ]
    }
   ],
   "source": [
    "from pixlake.tables.warehouse.log.mainstream.meta import poi"
   ]
  },
  {
   "cell_type": "code",
   "execution_count": 25,
   "metadata": {
    "ExecuteTime": {
     "end_time": "2021-08-03T02:29:15.996804Z",
     "start_time": "2021-08-03T02:29:15.977303Z"
    }
   },
   "outputs": [],
   "source": [
    "# poi_sdf = ( poi\n",
    "#             .load(daterange=[20210530, 20210530])\n",
    "#           )"
   ]
  },
  {
   "cell_type": "code",
   "execution_count": 27,
   "metadata": {
    "ExecuteTime": {
     "end_time": "2021-08-03T02:29:21.819663Z",
     "start_time": "2021-08-03T02:29:21.572314Z"
    }
   },
   "outputs": [
    {
     "name": "stdout",
     "output_type": "stream",
     "text": [
      "root\n",
      " |-- doc_id: long (nullable = true)\n",
      " |-- document: string (nullable = true)\n",
      "\n",
      "+------+----------------------+\n",
      "|doc_id|document              |\n",
      "+------+----------------------+\n",
      "|0     |江蘇老趙刀切麵        |\n",
      "|1     |石研室 石頭火鍋       |\n",
      "|2     |石二鍋                |\n",
      "|3     |肉多多火鍋            |\n",
      "|4     |Vivienne Westwood Cafe|\n",
      "+------+----------------------+\n",
      "\n"
     ]
    }
   ],
   "source": [
    "# (\n",
    "#     poi_sdf\n",
    "#     .where(C(\"category_id\") == 0)\n",
    "# #     .orderBy(C(\"name\"))\n",
    "#     .limit(5)\n",
    "#     .select(['name'])\n",
    "# ).show(truncate=False)\n",
    "\n",
    "\n",
    "sentence = [\n",
    "    (0, \"江蘇老趙刀切麵\"),\n",
    "    (1, \"石研室 石頭火鍋\"),\n",
    "    (2, \"石二鍋\"),\n",
    "    (3, \"肉多多火鍋\"),\n",
    "    (4, \"Vivienne Westwood Cafe\")\n",
    "]\n",
    "\n",
    "col = [\"doc_id\",\"document\"]\n",
    "\n",
    "df = spark.createDataFrame(sentence, col)\n",
    "df.printSchema()\n",
    "df.show(truncate=False)\n"
   ]
  },
  {
   "cell_type": "code",
   "execution_count": 28,
   "metadata": {
    "ExecuteTime": {
     "end_time": "2021-08-03T02:29:22.897196Z",
     "start_time": "2021-08-03T02:29:22.568250Z"
    }
   },
   "outputs": [],
   "source": [
    "tokenizer = Tokenizer(inputCol=\"document\",\n",
    "                      outputCol=\"term\")\n",
    "\n",
    "vectorizer = CountVectorizer(inputCol=\"term\",\n",
    "                             outputCol=\"raw_features\")\n",
    "\n",
    "idf = IDF(inputCol=\"raw_features\",outputCol=\"features\")\n",
    "\n",
    "pipeline = Pipeline(stages=[tokenizer, vectorizer, idf])\n",
    "\n",
    "model = pipeline.fit(df)"
   ]
  },
  {
   "cell_type": "code",
   "execution_count": 29,
   "metadata": {
    "ExecuteTime": {
     "end_time": "2021-08-03T02:29:23.144553Z",
     "start_time": "2021-08-03T02:29:22.900171Z"
    }
   },
   "outputs": [
    {
     "name": "stdout",
     "output_type": "stream",
     "text": [
      "root\n",
      " |-- doc_id: long (nullable = true)\n",
      " |-- document: string (nullable = true)\n",
      " |-- term: array (nullable = true)\n",
      " |    |-- element: string (containsNull = true)\n",
      " |-- raw_features: vector (nullable = true)\n",
      " |-- features: vector (nullable = true)\n",
      "\n",
      "-RECORD 0------------------------------------------------------------------------------\n",
      " doc_id       | 0                                                                      \n",
      " document     | 江蘇老趙刀切麵                                                         \n",
      " term         | [江蘇老趙刀切麵]                                                       \n",
      " raw_features | (8,[3],[1.0])                                                          \n",
      " features     | (8,[3],[1.0986122886681098])                                           \n",
      "-RECORD 1------------------------------------------------------------------------------\n",
      " doc_id       | 1                                                                      \n",
      " document     | 石研室 石頭火鍋                                                        \n",
      " term         | [石研室, 石頭火鍋]                                                     \n",
      " raw_features | (8,[2,6],[1.0,1.0])                                                    \n",
      " features     | (8,[2,6],[1.0986122886681098,1.0986122886681098])                      \n",
      "-RECORD 2------------------------------------------------------------------------------\n",
      " doc_id       | 2                                                                      \n",
      " document     | 石二鍋                                                                 \n",
      " term         | [石二鍋]                                                               \n",
      " raw_features | (8,[4],[1.0])                                                          \n",
      " features     | (8,[4],[1.0986122886681098])                                           \n",
      "-RECORD 3------------------------------------------------------------------------------\n",
      " doc_id       | 3                                                                      \n",
      " document     | 肉多多火鍋                                                             \n",
      " term         | [肉多多火鍋]                                                           \n",
      " raw_features | (8,[1],[1.0])                                                          \n",
      " features     | (8,[1],[1.0986122886681098])                                           \n",
      "-RECORD 4------------------------------------------------------------------------------\n",
      " doc_id       | 4                                                                      \n",
      " document     | Vivienne Westwood Cafe                                                 \n",
      " term         | [vivienne, westwood, cafe]                                             \n",
      " raw_features | (8,[0,5,7],[1.0,1.0,1.0])                                              \n",
      " features     | (8,[0,5,7],[1.0986122886681098,1.0986122886681098,1.0986122886681098]) \n",
      "\n"
     ]
    }
   ],
   "source": [
    "res = model.transform(df)\n",
    "\n",
    "res.printSchema()\n",
    "\n",
    "res.show(vertical=True, truncate=False)"
   ]
  },
  {
   "cell_type": "markdown",
   "metadata": {},
   "source": [
    "## idf only"
   ]
  },
  {
   "cell_type": "code",
   "execution_count": 30,
   "metadata": {
    "ExecuteTime": {
     "end_time": "2021-08-03T02:29:23.315576Z",
     "start_time": "2021-08-03T02:29:23.147378Z"
    }
   },
   "outputs": [
    {
     "name": "stdout",
     "output_type": "stream",
     "text": [
      "+------+----------------------+\n",
      "|doc_id|document              |\n",
      "+------+----------------------+\n",
      "|0     |江蘇老趙刀切麵        |\n",
      "|1     |石研室 石頭火鍋       |\n",
      "|2     |石二鍋                |\n",
      "|3     |肉多多火鍋            |\n",
      "|4     |Vivienne Westwood Cafe|\n",
      "+------+----------------------+\n",
      "\n"
     ]
    }
   ],
   "source": [
    "from pixlake.nlp.utils import unigram\n",
    "df.show(truncate=False)"
   ]
  },
  {
   "cell_type": "code",
   "execution_count": 31,
   "metadata": {
    "ExecuteTime": {
     "end_time": "2021-08-03T02:29:25.806986Z",
     "start_time": "2021-08-03T02:29:23.330965Z"
    },
    "scrolled": false
   },
   "outputs": [
    {
     "name": "stdout",
     "output_type": "stream",
     "text": [
      "+------+---------------+----+\n",
      "|doc_id|document       |term|\n",
      "+------+---------------+----+\n",
      "|0     |江蘇老趙刀切麵 |江  |\n",
      "|0     |江蘇老趙刀切麵 |蘇  |\n",
      "|0     |江蘇老趙刀切麵 |老  |\n",
      "|0     |江蘇老趙刀切麵 |趙  |\n",
      "|0     |江蘇老趙刀切麵 |刀  |\n",
      "|0     |江蘇老趙刀切麵 |切  |\n",
      "|0     |江蘇老趙刀切麵 |麵  |\n",
      "|1     |石研室 石頭火鍋|石  |\n",
      "|1     |石研室 石頭火鍋|研  |\n",
      "|1     |石研室 石頭火鍋|室  |\n",
      "|1     |石研室 石頭火鍋|石  |\n",
      "|1     |石研室 石頭火鍋|頭  |\n",
      "|1     |石研室 石頭火鍋|火  |\n",
      "|1     |石研室 石頭火鍋|鍋  |\n",
      "|2     |石二鍋         |石  |\n",
      "|2     |石二鍋         |二  |\n",
      "|2     |石二鍋         |鍋  |\n",
      "|3     |肉多多火鍋     |肉  |\n",
      "|3     |肉多多火鍋     |多  |\n",
      "|3     |肉多多火鍋     |多  |\n",
      "+------+---------------+----+\n",
      "only showing top 20 rows\n",
      "\n",
      "n document :  5\n"
     ]
    },
    {
     "name": "stderr",
     "output_type": "stream",
     "text": [
      "\r",
      "[Stage 81:=====================================================>(197 + 2) / 200]\r"
     ]
    },
    {
     "name": "stdout",
     "output_type": "stream",
     "text": [
      "-RECORD 0--------------------------------------------\n",
      " term                       | 鍋                     \n",
      " doc_id                     | 3                      \n",
      " document                   | 肉多多火鍋             \n",
      " document_frequency_by_term | 3                      \n",
      " idf                        | 0.5849625007211562     \n",
      "-RECORD 1--------------------------------------------\n",
      " term                       | 鍋                     \n",
      " doc_id                     | 2                      \n",
      " document                   | 石二鍋                 \n",
      " document_frequency_by_term | 3                      \n",
      " idf                        | 0.5849625007211562     \n",
      "-RECORD 2--------------------------------------------\n",
      " term                       | 鍋                     \n",
      " doc_id                     | 1                      \n",
      " document                   | 石研室 石頭火鍋        \n",
      " document_frequency_by_term | 3                      \n",
      " idf                        | 0.5849625007211562     \n",
      "-RECORD 3--------------------------------------------\n",
      " term                       | 石                     \n",
      " doc_id                     | 1                      \n",
      " document                   | 石研室 石頭火鍋        \n",
      " document_frequency_by_term | 2                      \n",
      " idf                        | 1.0                    \n",
      "-RECORD 4--------------------------------------------\n",
      " term                       | 石                     \n",
      " doc_id                     | 1                      \n",
      " document                   | 石研室 石頭火鍋        \n",
      " document_frequency_by_term | 2                      \n",
      " idf                        | 1.0                    \n",
      "-RECORD 5--------------------------------------------\n",
      " term                       | 石                     \n",
      " doc_id                     | 2                      \n",
      " document                   | 石二鍋                 \n",
      " document_frequency_by_term | 2                      \n",
      " idf                        | 1.0                    \n",
      "-RECORD 6--------------------------------------------\n",
      " term                       | 火                     \n",
      " doc_id                     | 1                      \n",
      " document                   | 石研室 石頭火鍋        \n",
      " document_frequency_by_term | 2                      \n",
      " idf                        | 1.0                    \n",
      "-RECORD 7--------------------------------------------\n",
      " term                       | 火                     \n",
      " doc_id                     | 3                      \n",
      " document                   | 肉多多火鍋             \n",
      " document_frequency_by_term | 2                      \n",
      " idf                        | 1.0                    \n",
      "-RECORD 8--------------------------------------------\n",
      " term                       | 多                     \n",
      " doc_id                     | 3                      \n",
      " document                   | 肉多多火鍋             \n",
      " document_frequency_by_term | 1                      \n",
      " idf                        | 1.584962500721156      \n",
      "-RECORD 9--------------------------------------------\n",
      " term                       | 蘇                     \n",
      " doc_id                     | 0                      \n",
      " document                   | 江蘇老趙刀切麵         \n",
      " document_frequency_by_term | 1                      \n",
      " idf                        | 1.584962500721156      \n",
      "-RECORD 10-------------------------------------------\n",
      " term                       | 多                     \n",
      " doc_id                     | 3                      \n",
      " document                   | 肉多多火鍋             \n",
      " document_frequency_by_term | 1                      \n",
      " idf                        | 1.584962500721156      \n",
      "-RECORD 11-------------------------------------------\n",
      " term                       | 趙                     \n",
      " doc_id                     | 0                      \n",
      " document                   | 江蘇老趙刀切麵         \n",
      " document_frequency_by_term | 1                      \n",
      " idf                        | 1.584962500721156      \n",
      "-RECORD 12-------------------------------------------\n",
      " term                       | 二                     \n",
      " doc_id                     | 2                      \n",
      " document                   | 石二鍋                 \n",
      " document_frequency_by_term | 1                      \n",
      " idf                        | 1.584962500721156      \n",
      "-RECORD 13-------------------------------------------\n",
      " term                       | 切                     \n",
      " doc_id                     | 0                      \n",
      " document                   | 江蘇老趙刀切麵         \n",
      " document_frequency_by_term | 1                      \n",
      " idf                        | 1.584962500721156      \n",
      "-RECORD 14-------------------------------------------\n",
      " term                       | 老                     \n",
      " doc_id                     | 0                      \n",
      " document                   | 江蘇老趙刀切麵         \n",
      " document_frequency_by_term | 1                      \n",
      " idf                        | 1.584962500721156      \n",
      "-RECORD 15-------------------------------------------\n",
      " term                       | 麵                     \n",
      " doc_id                     | 0                      \n",
      " document                   | 江蘇老趙刀切麵         \n",
      " document_frequency_by_term | 1                      \n",
      " idf                        | 1.584962500721156      \n",
      "-RECORD 16-------------------------------------------\n",
      " term                       | 刀                     \n",
      " doc_id                     | 0                      \n",
      " document                   | 江蘇老趙刀切麵         \n",
      " document_frequency_by_term | 1                      \n",
      " idf                        | 1.584962500721156      \n",
      "-RECORD 17-------------------------------------------\n",
      " term                       | Vivienne               \n",
      " doc_id                     | 4                      \n",
      " document                   | Vivienne Westwood Cafe \n",
      " document_frequency_by_term | 1                      \n",
      " idf                        | 1.584962500721156      \n",
      "-RECORD 18-------------------------------------------\n",
      " term                       | 肉                     \n",
      " doc_id                     | 3                      \n",
      " document                   | 肉多多火鍋             \n",
      " document_frequency_by_term | 1                      \n",
      " idf                        | 1.584962500721156      \n",
      "-RECORD 19-------------------------------------------\n",
      " term                       | 室                     \n",
      " doc_id                     | 1                      \n",
      " document                   | 石研室 石頭火鍋        \n",
      " document_frequency_by_term | 1                      \n",
      " idf                        | 1.584962500721156      \n",
      "only showing top 20 rows\n",
      "\n"
     ]
    },
    {
     "name": "stderr",
     "output_type": "stream",
     "text": [
      "\r",
      "[Stage 82:================================================>     (178 + 2) / 200]\r",
      "\r",
      "                                                                                \r"
     ]
    }
   ],
   "source": [
    "doc_term_sdf = (\n",
    "    df\n",
    "    .withColumn('term',F.udf(unigram,\n",
    "                             returnType=\"array<string>\")(\"document\", F.lit(True))\n",
    "               )\n",
    "    .withColumn('term',F.explode_outer('term'))\n",
    ")\n",
    "\n",
    "\n",
    "doc_term_sdf.show(truncate=False)\n",
    "\n",
    "\n",
    "    \n",
    "idf_sdf = compute_idf(doc_term_sdf, 'doc_id', 'term')\n",
    "\n",
    "doc_term_idf_sdf = (\n",
    "    doc_term_sdf\n",
    "    .join(\n",
    "        idf_sdf.drop('n_doc'),\n",
    "    on='term',\n",
    "    how='left')\n",
    ")\n",
    "\n",
    "(\n",
    "    doc_term_idf_sdf\n",
    "    .orderBy(\"idf\")\n",
    "#     .orderBy(\"doc_id\",'document')\n",
    ").show(vertical=True,truncate=False)"
   ]
  },
  {
   "cell_type": "markdown",
   "metadata": {},
   "source": [
    "# ngram\n",
    "\n",
    "* we use `unigram` in pixlake ( a simple tokenizer to split english word and chinese word, skip sapce"
   ]
  },
  {
   "cell_type": "markdown",
   "metadata": {},
   "source": [
    "## sklearn ngram"
   ]
  },
  {
   "cell_type": "code",
   "execution_count": 32,
   "metadata": {
    "ExecuteTime": {
     "end_time": "2021-08-03T02:29:26.131136Z",
     "start_time": "2021-08-03T02:29:25.808727Z"
    }
   },
   "outputs": [],
   "source": [
    "from sklearn.feature_extraction.text import CountVectorizer\n",
    "# from pixlake.nlp.utils import ZH_PATTERNS"
   ]
  },
  {
   "cell_type": "code",
   "execution_count": 33,
   "metadata": {
    "ExecuteTime": {
     "end_time": "2021-08-03T02:29:26.148588Z",
     "start_time": "2021-08-03T02:29:26.132434Z"
    }
   },
   "outputs": [
    {
     "name": "stdout",
     "output_type": "stream",
     "text": [
      "['is the first', 'the first document', 'this is the']\n",
      "[[1 1 1]]\n"
     ]
    }
   ],
   "source": [
    "\n",
    "corpus = [\n",
    "    'This is the first document.',\n",
    "#     '江蘇老趙刀切麵',\n",
    "]\n",
    "\n",
    "\n",
    "\n",
    "\n",
    "vectorizer2 = CountVectorizer(\n",
    "    analyzer='word',\n",
    "     # you gonna need a tokenizer if you wanna dealing with chinese\n",
    "    ngram_range=(3, 3)\n",
    ")\n",
    "X2 = vectorizer2.fit_transform(corpus)\n",
    "print(vectorizer2.get_feature_names())\n",
    "print(X2.toarray())\n"
   ]
  },
  {
   "cell_type": "markdown",
   "metadata": {},
   "source": [
    "## pyspark NGram\n",
    "\n",
    "\n",
    "input : array of tokens\n",
    "output : array of Ngram(space seperated)\n",
    "\n",
    "\n",
    "e.g.\n",
    "\n",
    "```\n",
    "root\n",
    " |-- doc_id: long (nullable = true)\n",
    " |-- token: array (nullable = true)\n",
    " |    |-- element: string (containsNull = true)\n",
    " |-- bi-gram: array (nullable = true)\n",
    " |    |-- element: string (containsNull = false)\n",
    "```\n",
    "\n",
    "if we wanna build `NGram range`, union_dataframe is needed due to it's fux sized range\n",
    "\n",
    "```\n",
    "-RECORD 6----------------------------------------------------------------\n",
    " doc_id   | 6                                                            \n",
    " document | mo-mo-paradise                                               \n",
    " token    | [mo-mo-paradise]                                             \n",
    " bi-gram  | []\n",
    "```\n",
    "\n",
    "You gonna do some filtering each `i^th` gram"
   ]
  },
  {
   "cell_type": "code",
   "execution_count": 34,
   "metadata": {
    "ExecuteTime": {
     "end_time": "2021-08-03T02:29:26.795393Z",
     "start_time": "2021-08-03T02:29:26.150062Z"
    }
   },
   "outputs": [
    {
     "name": "stdout",
     "output_type": "stream",
     "text": [
      "root\n",
      " |-- doc_id: long (nullable = true)\n",
      " |-- document: string (nullable = true)\n",
      " |-- token: array (nullable = true)\n",
      " |    |-- element: string (containsNull = true)\n",
      " |-- bi-gram: array (nullable = true)\n",
      " |    |-- element: string (containsNull = true)\n",
      "\n",
      "-RECORD 0-------------------------------------------------------------------------------------------\n",
      " doc_id   | 0                                                                                       \n",
      " document | 江蘇老趙刀切麵                                                                          \n",
      " token    | [江, 蘇, 老, 趙, 刀, 切, 麵]                                                            \n",
      " bi-gram  | [江 蘇, 蘇 老, 老 趙, 趙 刀, 刀 切, 切 麵]                                              \n",
      "-RECORD 1-------------------------------------------------------------------------------------------\n",
      " doc_id   | 1                                                                                       \n",
      " document | 石研室 石頭火鍋                                                                         \n",
      " token    | [石, 研, 室, 石, 頭, 火, 鍋]                                                            \n",
      " bi-gram  | [石 研, 研 室, 室 石, 石 頭, 頭 火, 火 鍋]                                              \n",
      "-RECORD 2-------------------------------------------------------------------------------------------\n",
      " doc_id   | 2                                                                                       \n",
      " document | 石二鍋                                                                                  \n",
      " token    | [石, 二, 鍋]                                                                            \n",
      " bi-gram  | [石 二, 二 鍋]                                                                          \n",
      "-RECORD 3-------------------------------------------------------------------------------------------\n",
      " doc_id   | 3                                                                                       \n",
      " document | しゃぶしゃぶ温野菜日本涮涮鍋專門店                                                      \n",
      " token    | [しゃぶしゃぶ, 温, 野, 菜, 日, 本, 涮, 涮, 鍋, 專, 門, 店]                              \n",
      " bi-gram  | [しゃぶしゃぶ 温, 温 野, 野 菜, 菜 日, 日 本, 本 涮, 涮 涮, 涮 鍋, 鍋 專, 專 門, 門 店] \n",
      "-RECORD 4-------------------------------------------------------------------------------------------\n",
      " doc_id   | 4                                                                                       \n",
      " document | Vivienne Westwood Cafe                                                                  \n",
      " token    | [Vivienne, Westwood, Cafe]                                                              \n",
      " bi-gram  | [Vivienne Westwood, Westwood Cafe]                                                      \n",
      "-RECORD 5-------------------------------------------------------------------------------------------\n",
      " doc_id   | 5                                                                                       \n",
      " document | 婧 shabu                                                                                \n",
      " token    | [婧, shabu]                                                                             \n",
      " bi-gram  | [婧 shabu]                                                                              \n",
      "-RECORD 6-------------------------------------------------------------------------------------------\n",
      " doc_id   | 6                                                                                       \n",
      " document | mo-mo-paradise                                                                          \n",
      " token    | [mo-mo-paradise]                                                                        \n",
      " bi-gram  | []                                                                                      \n",
      "-RECORD 7-------------------------------------------------------------------------------------------\n",
      " doc_id   | 7                                                                                       \n",
      " document | mo mo paradise                                                                          \n",
      " token    | [mo, mo, paradise]                                                                      \n",
      " bi-gram  | [mo mo, mo paradise]                                                                    \n",
      "\n",
      "-RECORD 0----------------------------------------------------------------------------------------------------------------------------------------------\n",
      " doc_id   | 0                                                                                                                                          \n",
      " document | 江蘇老趙刀切麵                                                                                                                             \n",
      " token    | [江, 蘇, 老, 趙, 刀, 切, 麵]                                                                                                               \n",
      " 5-gram   | [江 蘇 老 趙 刀, 蘇 老 趙 刀 切, 老 趙 刀 切 麵]                                                                                           \n",
      "-RECORD 1----------------------------------------------------------------------------------------------------------------------------------------------\n",
      " doc_id   | 1                                                                                                                                          \n",
      " document | 石研室 石頭火鍋                                                                                                                            \n",
      " token    | [石, 研, 室, 石, 頭, 火, 鍋]                                                                                                               \n",
      " 5-gram   | [石 研 室 石 頭, 研 室 石 頭 火, 室 石 頭 火 鍋]                                                                                           \n",
      "-RECORD 2----------------------------------------------------------------------------------------------------------------------------------------------\n",
      " doc_id   | 2                                                                                                                                          \n",
      " document | 石二鍋                                                                                                                                     \n",
      " token    | [石, 二, 鍋]                                                                                                                               \n",
      " 5-gram   | []                                                                                                                                         \n",
      "-RECORD 3----------------------------------------------------------------------------------------------------------------------------------------------\n",
      " doc_id   | 3                                                                                                                                          \n",
      " document | しゃぶしゃぶ温野菜日本涮涮鍋專門店                                                                                                         \n",
      " token    | [しゃぶしゃぶ, 温, 野, 菜, 日, 本, 涮, 涮, 鍋, 專, 門, 店]                                                                                 \n",
      " 5-gram   | [しゃぶしゃぶ 温 野 菜 日, 温 野 菜 日 本, 野 菜 日 本 涮, 菜 日 本 涮 涮, 日 本 涮 涮 鍋, 本 涮 涮 鍋 專, 涮 涮 鍋 專 門, 涮 鍋 專 門 店] \n",
      "-RECORD 4----------------------------------------------------------------------------------------------------------------------------------------------\n",
      " doc_id   | 4                                                                                                                                          \n",
      " document | Vivienne Westwood Cafe                                                                                                                     \n",
      " token    | [Vivienne, Westwood, Cafe]                                                                                                                 \n",
      " 5-gram   | []                                                                                                                                         \n",
      "-RECORD 5----------------------------------------------------------------------------------------------------------------------------------------------\n",
      " doc_id   | 5                                                                                                                                          \n",
      " document | 婧 shabu                                                                                                                                   \n",
      " token    | [婧, shabu]                                                                                                                                \n",
      " 5-gram   | []                                                                                                                                         \n",
      "-RECORD 6----------------------------------------------------------------------------------------------------------------------------------------------\n",
      " doc_id   | 6                                                                                                                                          \n",
      " document | mo-mo-paradise                                                                                                                             \n",
      " token    | [mo-mo-paradise]                                                                                                                           \n",
      " 5-gram   | []                                                                                                                                         \n",
      "-RECORD 7----------------------------------------------------------------------------------------------------------------------------------------------\n",
      " doc_id   | 7                                                                                                                                          \n",
      " document | mo mo paradise                                                                                                                             \n",
      " token    | [mo, mo, paradise]                                                                                                                         \n",
      " 5-gram   | []                                                                                                                                         \n",
      "\n"
     ]
    }
   ],
   "source": [
    "from pyspark.ml.feature import NGram\n",
    "\n",
    "ngram = NGram(n=2, inputCol='token',outputCol='bi-gram')\n",
    "\n",
    "fivegram = NGram(n=5, inputCol='token',outputCol='5-gram')\n",
    "\n",
    "sentence = [\n",
    "    (0, \"江蘇老趙刀切麵\"),\n",
    "    (1, \"石研室 石頭火鍋\"),\n",
    "    (2, \"石二鍋\"),\n",
    "    (3, \"しゃぶしゃぶ温野菜日本涮涮鍋專門店\"),\n",
    "    (4, \"Vivienne Westwood Cafe\"),\n",
    "    (5, \"婧 shabu\"),\n",
    "    (6, 'mo-mo-paradise'),\n",
    "    (7, 'mo mo paradise')\n",
    "]\n",
    "\n",
    "\n",
    "col = [\"doc_id\",\"document\"]\n",
    "\n",
    "# space-separated by default\n",
    "\n",
    "df = (\n",
    "    spark.createDataFrame(sentence, col)\n",
    "    .withColumn('token', F.udf(unigram,'array<string>')('document', F.lit(True)))\n",
    ")\n",
    "\n",
    "bigram_df = ngram.transform(df).cache()\n",
    "bigram_df.printSchema()\n",
    "bigram_df.show(vertical=True,truncate=False)\n",
    "\n",
    "fivegram.transform(df).show(vertical=True, truncate=False)"
   ]
  },
  {
   "cell_type": "code",
   "execution_count": null,
   "metadata": {},
   "outputs": [],
   "source": []
  },
  {
   "cell_type": "code",
   "execution_count": null,
   "metadata": {},
   "outputs": [],
   "source": []
  },
  {
   "cell_type": "code",
   "execution_count": null,
   "metadata": {},
   "outputs": [],
   "source": []
  },
  {
   "cell_type": "markdown",
   "metadata": {},
   "source": [
    "## ngram by window func\n",
    "\n",
    "input : token - array of string\n",
    "output : Ngram - array of string\n",
    "\n",
    "```\n",
    "root\n",
    " |-- doc_id: long (nullable = true)\n",
    " |-- token: string (nullable = true)\n",
    " |-- bi-gram: array (nullable = true)\n",
    " |    |-- element: string (containsNull = true)\n",
    "```\n",
    "\n",
    "1. compare to `Pyspark NGram` - the NGram displayed at `row` level not `column` level\n",
    "\n",
    "It's fix size range, if you wanna implement NGram range, you still needs union_dataframe\n",
    "\n",
    "and perform some filtering"
   ]
  },
  {
   "cell_type": "code",
   "execution_count": 35,
   "metadata": {
    "ExecuteTime": {
     "end_time": "2021-08-03T02:29:27.963729Z",
     "start_time": "2021-08-03T02:29:27.033371Z"
    }
   },
   "outputs": [
    {
     "name": "stdout",
     "output_type": "stream",
     "text": [
      "root\n",
      " |-- doc_id: long (nullable = true)\n",
      " |-- document: string (nullable = true)\n",
      "\n",
      "+------+----------------------------------+\n",
      "|doc_id|document                          |\n",
      "+------+----------------------------------+\n",
      "|0     |江蘇老趙刀切麵                    |\n",
      "|1     |石研室 石頭火鍋                   |\n",
      "|2     |石二鍋                            |\n",
      "|3     |しゃぶしゃぶ温野菜日本涮涮鍋專門店|\n",
      "|4     |Vivienne Westwood Cafe            |\n",
      "|5     |婧 shabu                          |\n",
      "|6     |mo-mo-paradise                    |\n",
      "|7     |mo mo paradise                    |\n",
      "+------+----------------------------------+\n",
      "\n",
      "root\n",
      " |-- doc_id: long (nullable = true)\n",
      " |-- document: string (nullable = true)\n",
      " |-- token_id: integer (nullable = true)\n",
      " |-- token: string (nullable = true)\n",
      " |-- bi-gram: array (nullable = false)\n",
      " |    |-- element: string (containsNull = false)\n",
      " |-- length_of_bi-gram: integer (nullable = false)\n",
      "\n",
      "+------+----------------------------------+--------+--------------+------------------+-----------------+\n",
      "|doc_id|document                          |token_id|token         |bi-gram           |length_of_bi-gram|\n",
      "+------+----------------------------------+--------+--------------+------------------+-----------------+\n",
      "|0     |江蘇老趙刀切麵                    |0       |江            |[江, 蘇]          |2                |\n",
      "|0     |江蘇老趙刀切麵                    |1       |蘇            |[蘇, 老]          |2                |\n",
      "|0     |江蘇老趙刀切麵                    |2       |老            |[老, 趙]          |2                |\n",
      "|0     |江蘇老趙刀切麵                    |3       |趙            |[趙, 刀]          |2                |\n",
      "|0     |江蘇老趙刀切麵                    |4       |刀            |[刀, 切]          |2                |\n",
      "|0     |江蘇老趙刀切麵                    |5       |切            |[切, 麵]          |2                |\n",
      "|0     |江蘇老趙刀切麵                    |6       |麵            |[麵]              |1                |\n",
      "|7     |mo mo paradise                    |0       |mo            |[mo, mo]          |2                |\n",
      "|7     |mo mo paradise                    |1       |mo            |[mo, paradise]    |2                |\n",
      "|7     |mo mo paradise                    |2       |paradise      |[paradise]        |1                |\n",
      "|6     |mo-mo-paradise                    |0       |mo-mo-paradise|[mo-mo-paradise]  |1                |\n",
      "|5     |婧 shabu                          |0       |婧            |[婧, shabu]       |2                |\n",
      "|5     |婧 shabu                          |1       |shabu         |[shabu]           |1                |\n",
      "|1     |石研室 石頭火鍋                   |0       |石            |[石, 研]          |2                |\n",
      "|1     |石研室 石頭火鍋                   |1       |研            |[研, 室]          |2                |\n",
      "|1     |石研室 石頭火鍋                   |2       |室            |[室, 石]          |2                |\n",
      "|1     |石研室 石頭火鍋                   |3       |石            |[石, 頭]          |2                |\n",
      "|1     |石研室 石頭火鍋                   |4       |頭            |[頭, 火]          |2                |\n",
      "|1     |石研室 石頭火鍋                   |5       |火            |[火, 鍋]          |2                |\n",
      "|1     |石研室 石頭火鍋                   |6       |鍋            |[鍋]              |1                |\n",
      "|3     |しゃぶしゃぶ温野菜日本涮涮鍋專門店|0       |しゃぶしゃぶ  |[しゃぶしゃぶ, 温]|2                |\n",
      "|3     |しゃぶしゃぶ温野菜日本涮涮鍋專門店|1       |温            |[温, 野]          |2                |\n",
      "|3     |しゃぶしゃぶ温野菜日本涮涮鍋專門店|2       |野            |[野, 菜]          |2                |\n",
      "|3     |しゃぶしゃぶ温野菜日本涮涮鍋專門店|3       |菜            |[菜, 日]          |2                |\n",
      "|3     |しゃぶしゃぶ温野菜日本涮涮鍋專門店|4       |日            |[日, 本]          |2                |\n",
      "|3     |しゃぶしゃぶ温野菜日本涮涮鍋專門店|5       |本            |[本, 涮]          |2                |\n",
      "|3     |しゃぶしゃぶ温野菜日本涮涮鍋專門店|6       |涮            |[涮, 涮]          |2                |\n",
      "|3     |しゃぶしゃぶ温野菜日本涮涮鍋專門店|7       |涮            |[涮, 鍋]          |2                |\n",
      "|3     |しゃぶしゃぶ温野菜日本涮涮鍋專門店|8       |鍋            |[鍋, 專]          |2                |\n",
      "|3     |しゃぶしゃぶ温野菜日本涮涮鍋專門店|9       |專            |[專, 門]          |2                |\n",
      "+------+----------------------------------+--------+--------------+------------------+-----------------+\n",
      "only showing top 30 rows\n",
      "\n"
     ]
    }
   ],
   "source": [
    "sentence = [\n",
    "    (0, \"江蘇老趙刀切麵\"),\n",
    "    (1, \"石研室 石頭火鍋\"),\n",
    "    (2, \"石二鍋\"),\n",
    "    (3, \"しゃぶしゃぶ温野菜日本涮涮鍋專門店\"),\n",
    "    (4, \"Vivienne Westwood Cafe\"),\n",
    "    (5, \"婧 shabu\"),\n",
    "    (6, 'mo-mo-paradise'),\n",
    "    (7, 'mo mo paradise')\n",
    "]\n",
    "\n",
    "col = [\"doc_id\",\"document\"]\n",
    "\n",
    "df = spark.createDataFrame(sentence, col)\n",
    "df.printSchema()\n",
    "df.show(truncate=False)\n",
    "\n",
    "\n",
    "bigram_span_in_doc = (\n",
    "    W.partitionBy('doc_id')\n",
    "     .orderBy('token_id')\n",
    "#      .rowsBetween(0, 2) \n",
    "     .rowsBetween(0, 1) \n",
    "    \n",
    "    \n",
    "#     |2     |石二鍋     |0       |石    |石二鍋    | 4gram for 3 words, jusrt filter them =)\n",
    ")\n",
    "\n",
    "bigram_df = (\n",
    "    df\n",
    "    .withColumn('unigram', F.udf(unigram, \"array<string>\")(\"document\", F.lit(True)))\n",
    "    .select(\n",
    "        '*',\n",
    "        F.posexplode_outer('unigram').alias('token_id','token')\n",
    "    )\n",
    "    .drop('unigram')\n",
    "    .withColumn('bi-gram', F.collect_list(C(\"token\")).over(bigram_span_in_doc))\n",
    "    .withColumn('length_of_bi-gram', F.size(C(\"bi-gram\")))\n",
    ")\n",
    "#     .withColumn('bi-gram',F.concat_ws('',C(\"bi-gram\")))\n",
    "\n",
    "bigram_df.printSchema()\n",
    "bigram_df.show(n=30,truncate=False)"
   ]
  },
  {
   "cell_type": "markdown",
   "metadata": {},
   "source": [
    "### creating ngram_groups "
   ]
  },
  {
   "cell_type": "code",
   "execution_count": 36,
   "metadata": {
    "ExecuteTime": {
     "end_time": "2021-08-03T02:29:27.991657Z",
     "start_time": "2021-08-03T02:29:27.966073Z"
    },
    "code_folding": []
   },
   "outputs": [],
   "source": [
    "from pixlake.etl.snippets import union_dataframes\n",
    "\n",
    "def build_ngram(\n",
    "                sdf : DataFrame,\n",
    "                doc_id_col : str,\n",
    "                document_col : str,\n",
    "                output_col : str ,\n",
    "                ngram_range : list):\n",
    "    \"\"\"\n",
    "    Example\n",
    "    \n",
    "        sentence = [\n",
    "        (0, \"江蘇老趙刀切麵\"),\n",
    "        (1, \"石研室 石頭火鍋\"),\n",
    "        (2, \"石二鍋\"),\n",
    "        (3, \"しゃぶしゃぶ温野菜日本涮涮鍋專門店\"),\n",
    "        (4, \"Vivienne Westwood Cafe\")\n",
    "        ]\n",
    "\n",
    "        col = [\"doc_id\",\"document\"]\n",
    "\n",
    "        df = spark.createDataFrame(sentence, col)\n",
    "        \n",
    "        +------+----------------------+\n",
    "        |doc_id|document              |\n",
    "        +------+----------------------+\n",
    "        |0     |江蘇老趙刀切麵               |\n",
    "        |1     |石研室 石頭火鍋              |\n",
    "        |2     |石二鍋                   |\n",
    "        |3     |しゃぶしゃぶ温野菜日本涮涮鍋專門店     |\n",
    "        |4     |Vivienne Westwood Cafe|\n",
    "        +------+----------------------+\n",
    "        \n",
    "        ngram_sdf = build_ngram(df,\n",
    "            doc_id_col='doc_id',\n",
    "            document_col='document',\n",
    "            output_col='ngram',\n",
    "            ngram_range = [2,3]\n",
    "           )\n",
    "\n",
    "        (\n",
    "            ngram_sdf\n",
    "            .select(\n",
    "                'doc_id',\n",
    "                'document',\n",
    "                C('ngram.n').alias('n'),\n",
    "                C('ngram.ngram').alias('ngram'),\n",
    "            )\n",
    "            .orderBy(C('doc_id'),C('n').desc())\n",
    "        ).show()\n",
    "        \n",
    "        +------+--------+---+---------+\n",
    "        |doc_id|document|  n|    ngram|\n",
    "        +------+--------+---+---------+\n",
    "        |     0| 江蘇老趙刀切麵|  3|[蘇, 老, 趙]|\n",
    "        |     0| 江蘇老趙刀切麵|  3|[刀, 切, 麵]|\n",
    "        |     0| 江蘇老趙刀切麵|  3|[趙, 刀, 切]|\n",
    "        |     0| 江蘇老趙刀切麵|  3|[老, 趙, 刀]|\n",
    "        |     0| 江蘇老趙刀切麵|  3|[江, 蘇, 老]|\n",
    "        |     0| 江蘇老趙刀切麵|  2|   [切, 麵]|\n",
    "        |     0| 江蘇老趙刀切麵|  2|   [江, 蘇]|\n",
    "        |     0| 江蘇老趙刀切麵|  2|   [老, 趙]|\n",
    "        |     0| 江蘇老趙刀切麵|  2|   [趙, 刀]|\n",
    "        |     0| 江蘇老趙刀切麵|  2|   [刀, 切]|\n",
    "        |     0| 江蘇老趙刀切麵|  2|   [蘇, 老]|\n",
    "        |     1|石研室 石頭火鍋|  3|[石, 頭, 火]|\n",
    "        |     1|石研室 石頭火鍋|  3|[研, 室, 石]|\n",
    "        |     1|石研室 石頭火鍋|  3|[室, 石, 頭]|\n",
    "        |     1|石研室 石頭火鍋|  3|[石, 研, 室]|\n",
    "        |     1|石研室 石頭火鍋|  3|[頭, 火, 鍋]|\n",
    "        |     1|石研室 石頭火鍋|  2|   [室, 石]|\n",
    "        |     1|石研室 石頭火鍋|  2|   [石, 頭]|\n",
    "        |     1|石研室 石頭火鍋|  2|   [火, 鍋]|\n",
    "        |     1|石研室 石頭火鍋|  2|   [頭, 火]|\n",
    "        +------+--------+---+---------+\n",
    "        \n",
    "    \"\"\"\n",
    "    \n",
    "    ngram_start, ngram_end = ngram_range[0], ngram_range[1] # complement\n",
    "    print(f'ngram_start : {ngram_start}, ngram_end : {ngram_end}')\n",
    "    \n",
    "    unigram_sdf = (\n",
    "        sdf\n",
    "        .withColumn('unigram', F.udf(unigram, \"array<string>\")(document_col, F.lit(True)))\n",
    "        .withColumn('n', F.lit(1))\n",
    "        .select(\n",
    "            '*',\n",
    "            F.posexplode_outer('unigram').alias('token_id','token')\n",
    "        )\n",
    "        .drop('unigram')\n",
    "    )\n",
    "    \n",
    "    _sdf_list = []\n",
    "    \n",
    "    _sdf_list.append(\n",
    "                unigram_sdf\n",
    "                .withColumn(output_col,F.struct(C(\"n\"),\n",
    "                                                C(\"token\"))\n",
    "                           )\n",
    "        )\n",
    "\n",
    "#     unigram_sdf.show()  \n",
    "\n",
    "    if ngram_end == 1:\n",
    "        raise NotImplementedError('NotImplementedError')\n",
    "#         return union_dataframes()\n",
    "    \n",
    "    else:\n",
    "        for i in range(ngram_start, ngram_end + 1):\n",
    "            print(f'get {i} grams excution plan...') #2\n",
    "\n",
    "            token_span = (\n",
    "                    W.partitionBy(doc_id_col)\n",
    "                     .orderBy('token_id')\n",
    "                     .rowsBetween(0, i - 1)\n",
    "                )\n",
    "            ngram_sdf = (\n",
    "                unigram_sdf\n",
    "                # TODO add ngram position_id\n",
    "                .withColumn(\"n\", F.lit(i))\n",
    "                .withColumn(output_col, F.collect_list(C(\"token\")).over(token_span))\n",
    "                .withColumn('length_of_ngram', F.size(output_col))\n",
    "#                 .withColumn(output_col,F.concat_ws('',C(output_col)))\n",
    "                .withColumn(output_col, F.struct(C(\"n\"),C(output_col)))\n",
    "                .where(C('length_of_ngram') == i)\n",
    "                .drop('length_of_ngram')\n",
    "            )\n",
    "               \n",
    "#             ngram_sdf.show(truncate=False)\n",
    "            \n",
    "            _sdf_list.append(ngram_sdf)\n",
    "        \n",
    "    _sdf_list = [sdf.drop('token_id','token','n') for sdf in _sdf_list]\n",
    "    \n",
    "    if ngram_start > 1:\n",
    "        return union_dataframes(_sdf_list[1:])\n",
    "    else:\n",
    "        return union_dataframes(_sdf_list)"
   ]
  },
  {
   "cell_type": "code",
   "execution_count": 37,
   "metadata": {
    "ExecuteTime": {
     "end_time": "2021-08-03T02:29:28.273064Z",
     "start_time": "2021-08-03T02:29:27.993059Z"
    }
   },
   "outputs": [
    {
     "name": "stdout",
     "output_type": "stream",
     "text": [
      "+------+----------------------------------+\n",
      "|doc_id|                          document|\n",
      "+------+----------------------------------+\n",
      "|     0|                    江蘇老趙刀切麵|\n",
      "|     1|                   石研室 石頭火鍋|\n",
      "|     2|                            石二鍋|\n",
      "|     3|しゃぶしゃぶ温野菜日本涮涮鍋專門店|\n",
      "|     4|              Vivienne Westwood...|\n",
      "|     5|                          婧 shabu|\n",
      "|     6|                    mo-mo-paradise|\n",
      "|     7|                    mo mo paradise|\n",
      "+------+----------------------------------+\n",
      "\n"
     ]
    }
   ],
   "source": [
    "df.show()"
   ]
  },
  {
   "cell_type": "code",
   "execution_count": 38,
   "metadata": {
    "ExecuteTime": {
     "end_time": "2021-08-03T02:29:28.484408Z",
     "start_time": "2021-08-03T02:29:28.276012Z"
    }
   },
   "outputs": [
    {
     "name": "stdout",
     "output_type": "stream",
     "text": [
      "ngram_start : 2, ngram_end : 3\n",
      "get 2 grams excution plan...\n",
      "get 3 grams excution plan...\n"
     ]
    }
   ],
   "source": [
    "ngram_sdf = build_ngram(df,\n",
    "            doc_id_col='doc_id',\n",
    "            document_col='document',\n",
    "            output_col='ngram',\n",
    "            ngram_range = [2,3]\n",
    "           )"
   ]
  },
  {
   "cell_type": "code",
   "execution_count": 39,
   "metadata": {
    "ExecuteTime": {
     "end_time": "2021-08-03T02:29:29.729027Z",
     "start_time": "2021-08-03T02:29:28.486799Z"
    },
    "scrolled": false
   },
   "outputs": [
    {
     "name": "stderr",
     "output_type": "stream",
     "text": [
      "\r",
      "[Stage 102:=============================>                       (219 + 2) / 400]\r",
      "\r",
      "[Stage 102:=========================================>           (310 + 3) / 400]\r"
     ]
    },
    {
     "name": "stdout",
     "output_type": "stream",
     "text": [
      "+------+---------------+---+------------+\n",
      "|doc_id|       document|  n|       ngram|\n",
      "+------+---------------+---+------------+\n",
      "|     0| 江蘇老趙刀切麵|  3|[趙, 刀, 切]|\n",
      "|     0| 江蘇老趙刀切麵|  3|[蘇, 老, 趙]|\n",
      "|     0| 江蘇老趙刀切麵|  3|[刀, 切, 麵]|\n",
      "|     0| 江蘇老趙刀切麵|  3|[江, 蘇, 老]|\n",
      "|     0| 江蘇老趙刀切麵|  3|[老, 趙, 刀]|\n",
      "|     0| 江蘇老趙刀切麵|  2|    [刀, 切]|\n",
      "|     0| 江蘇老趙刀切麵|  2|    [蘇, 老]|\n",
      "|     0| 江蘇老趙刀切麵|  2|    [切, 麵]|\n",
      "|     0| 江蘇老趙刀切麵|  2|    [江, 蘇]|\n",
      "|     0| 江蘇老趙刀切麵|  2|    [老, 趙]|\n",
      "|     0| 江蘇老趙刀切麵|  2|    [趙, 刀]|\n",
      "|     1|石研室 石頭火鍋|  3|[石, 頭, 火]|\n",
      "|     1|石研室 石頭火鍋|  3|[研, 室, 石]|\n",
      "|     1|石研室 石頭火鍋|  3|[室, 石, 頭]|\n",
      "|     1|石研室 石頭火鍋|  3|[石, 研, 室]|\n",
      "|     1|石研室 石頭火鍋|  3|[頭, 火, 鍋]|\n",
      "|     1|石研室 石頭火鍋|  2|    [研, 室]|\n",
      "|     1|石研室 石頭火鍋|  2|    [室, 石]|\n",
      "|     1|石研室 石頭火鍋|  2|    [石, 頭]|\n",
      "|     1|石研室 石頭火鍋|  2|    [頭, 火]|\n",
      "+------+---------------+---+------------+\n",
      "only showing top 20 rows\n",
      "\n"
     ]
    },
    {
     "name": "stderr",
     "output_type": "stream",
     "text": [
      "\r",
      "                                                                                \r"
     ]
    }
   ],
   "source": [
    "(\n",
    "    ngram_sdf\n",
    "    .select(\n",
    "        'doc_id',\n",
    "        'document',\n",
    "        C('ngram.n').alias('n'),\n",
    "        C('ngram.ngram').alias('ngram'),\n",
    "    )\n",
    "    .orderBy(C('doc_id'),C('n').desc())\n",
    ").show()\n",
    "# ).show(n=200,vertical=True, truncate=False)\n",
    "# ).count()"
   ]
  },
  {
   "cell_type": "markdown",
   "metadata": {},
   "source": [
    "## ngram by slice\n",
    "\n",
    "\n",
    "Do not support column =(\n",
    "\n"
   ]
  },
  {
   "cell_type": "code",
   "execution_count": 45,
   "metadata": {
    "ExecuteTime": {
     "end_time": "2021-08-03T02:36:23.825224Z",
     "start_time": "2021-08-03T02:36:23.493352Z"
    }
   },
   "outputs": [
    {
     "name": "stdout",
     "output_type": "stream",
     "text": [
      "+------+----------------------------------+-----------------------------+-------+--------------------+----------------------+\n",
      "|doc_id|                          document|                        token|l_token|           slice_1_2|             slice_1_3|\n",
      "+------+----------------------------------+-----------------------------+-------+--------------------+----------------------+\n",
      "|     0|                    江蘇老趙刀切麵|   [江, 蘇, 老, 趙, 刀, 切...|      7|            [江, 蘇]|          [江, 蘇, 老]|\n",
      "|     1|                   石研室 石頭火鍋|   [石, 研, 室, 石, 頭, 火...|      7|            [石, 研]|          [石, 研, 室]|\n",
      "|     2|                            石二鍋|                 [石, 二, 鍋]|      3|            [石, 二]|          [石, 二, 鍋]|\n",
      "|     3|しゃぶしゃぶ温野菜日本涮涮鍋專門店|[しゃぶしゃぶ, 温, 野, 菜,...|     12|  [しゃぶしゃぶ, 温]|[しゃぶしゃぶ, 温, 野]|\n",
      "|     4|              Vivienne Westwood...|         [Vivienne, Westwo...|      3|[Vivienne, Westwood]|  [Vivienne, Westwo...|\n",
      "|     5|                          婧 shabu|                  [婧, shabu]|      2|         [婧, shabu]|           [婧, shabu]|\n",
      "|     6|                    mo-mo-paradise|             [mo-mo-paradise]|      1|    [mo-mo-paradise]|      [mo-mo-paradise]|\n",
      "|     7|                    mo mo paradise|           [mo, mo, paradise]|      3|            [mo, mo]|    [mo, mo, paradise]|\n",
      "+------+----------------------------------+-----------------------------+-------+--------------------+----------------------+\n",
      "\n"
     ]
    }
   ],
   "source": [
    "sentence = [\n",
    "    (0, \"江蘇老趙刀切麵\"),\n",
    "    (1, \"石研室 石頭火鍋\"),\n",
    "    (2, \"石二鍋\"),\n",
    "    (3, \"しゃぶしゃぶ温野菜日本涮涮鍋專門店\"),\n",
    "    (4, \"Vivienne Westwood Cafe\"),\n",
    "    (5, \"婧 shabu\"),\n",
    "    (6, 'mo-mo-paradise'),\n",
    "    (7, 'mo mo paradise')\n",
    "]\n",
    "\n",
    "col = [\"doc_id\",\"document\"]\n",
    "\n",
    "df = spark.createDataFrame(sentence, col)\n",
    "(\n",
    "    df\n",
    "    .withColumn('token', F.udf(unigram, 'array<string>')('document',F.lit(True)))\n",
    "    .withColumn(\"l_token\", F.size(\"token\"))\n",
    "#     .withColumn('slice_0_2', F.slice(\"x\", 0, 2)) # Unexpected value for start in function slice: SQL array indices start at 1.\n",
    "    .withColumn('slice_1_2', F.slice(\"token\", 1, 2))\n",
    "    .withColumn('slice_1_3', F.slice(\"token\", 1, 3))\n",
    "    # py4j.Py4JException: Method slice([class org.apache.spark.sql.Column, class java.lang.Integer, class org.apache.spark.sql.Column]) does not exist\n",
    "#     .withColumn('slice_1_N', F.slice(\"token\", 1, C(\"l_token\"))\n",
    "#                )\n",
    ").show()"
   ]
  },
  {
   "cell_type": "markdown",
   "metadata": {},
   "source": [
    "# LSH API\n",
    "\n",
    "* Min-Hash for Jaccard (token 沒有權重的概念在裡面)\n",
    "* Bucketed Random Projection for L2 (Threshold 很難切，因為你不知道要取多少)\n",
    "* signed random projection for cosine ( spark 沒有官方實作 )"
   ]
  },
  {
   "cell_type": "code",
   "execution_count": null,
   "metadata": {},
   "outputs": [],
   "source": []
  },
  {
   "cell_type": "code",
   "execution_count": null,
   "metadata": {},
   "outputs": [],
   "source": []
  }
 ],
 "metadata": {
  "kernelspec": {
   "display_name": "pixlake_spark3",
   "language": "python",
   "name": "pixlake_spark3"
  },
  "language_info": {
   "codemirror_mode": {
    "name": "ipython",
    "version": 3
   },
   "file_extension": ".py",
   "mimetype": "text/x-python",
   "name": "python",
   "nbconvert_exporter": "python",
   "pygments_lexer": "ipython3",
   "version": "3.8.10"
  },
  "toc": {
   "base_numbering": 1,
   "nav_menu": {},
   "number_sections": true,
   "sideBar": true,
   "skip_h1_title": false,
   "title_cell": "Table of Contents",
   "title_sidebar": "Contents",
   "toc_cell": false,
   "toc_position": {},
   "toc_section_display": true,
   "toc_window_display": true
  }
 },
 "nbformat": 4,
 "nbformat_minor": 4
}
