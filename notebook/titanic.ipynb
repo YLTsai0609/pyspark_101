{
 "cells": [
  {
   "cell_type": "markdown",
   "metadata": {
    "papermill": {
     "duration": 0.072262,
     "end_time": "2020-09-05T14:19:50.802174",
     "exception": false,
     "start_time": "2020-09-05T14:19:50.729912",
     "status": "completed"
    },
    "tags": []
   },
   "source": [
    "This kernel will give a tutorial for starting out with PySpark using Titanic dataset. Let's get started. \n",
    "\n",
    "\n",
    "### Kernel Goals\n",
    "\n",
    "[Link to the tutorial](https://www.kaggle.com/masumrumi/a-pyspark-tutorial-with-titanic)\n",
    "\n",
    "<a id=\"aboutthiskernel\"></a>\n",
    "***\n",
    "There are three primary goals of this kernel.\n",
    "- <b>Provide a tutorial for someone who is starting out with pyspark.\n",
    "- <b>Do an exploratory data analysis(EDA)</b> of titanic with visualizations and storytelling.  \n",
    "- <b>Predict</b>: Use machine learning classification models to predict the chances of passengers survival.\n",
    "\n",
    "### What is Spark, anyway?\n",
    "Spark is a platform for cluster computing. Spark lets us spread data and computations over clusters with multiple nodes (think of each node as a separate computer). Splitting up data makes it easier to work with very large datasets because each node only works with a small amount of data.\n",
    "As each node works on its own subset of the total data, it also carries out a part of the total calculations required, so that both data processing and computation are performed in parallel over the nodes in the cluster. It is a fact that parallel computation can make certain types of programming tasks much faster.\n",
    "\n",
    "Deciding whether or not Spark is the best solution for your problem takes some experience, but you can consider questions like:\n",
    "* Is my data too big to work with on a single machine?\n",
    "* Can my calculations be easily parallelized?\n",
    "\n"
   ]
  },
  {
   "cell_type": "code",
   "execution_count": 1,
   "metadata": {
    "ExecuteTime": {
     "end_time": "2021-02-13T09:53:02.290252Z",
     "start_time": "2021-02-13T09:53:01.571906Z"
    },
    "_cell_guid": "b1076dfc-b9ad-4769-8c92-a6c4dae69d19",
    "_uuid": "8f2839f25d086af736a60e9eeb907d3b93b6e0e5",
    "execution": {
     "iopub.execute_input": "2020-09-05T14:19:50.947856Z",
     "iopub.status.busy": "2020-09-05T14:19:50.946726Z",
     "iopub.status.idle": "2020-09-05T14:19:50.952106Z",
     "shell.execute_reply": "2020-09-05T14:19:50.951507Z"
    },
    "papermill": {
     "duration": 0.080775,
     "end_time": "2020-09-05T14:19:50.952238",
     "exception": false,
     "start_time": "2020-09-05T14:19:50.871463",
     "status": "completed"
    },
    "tags": []
   },
   "outputs": [],
   "source": [
    "# This Python 3 environment comes with many helpful analytics libraries installed\n",
    "# It is defined by the kaggle/python Docker image: https://github.com/kaggle/docker-python\n",
    "# For example, here's several helpful packages to load\n",
    "\n",
    "import numpy as np # linear algebra\n",
    "import pandas as pd # data processing, CSV file I/O (e.g. pd.read_csv)\n",
    "\n",
    "# Input data files are available in the read-only \"../input/\" directory\n",
    "# For example, running this (by clicking run or pressing Shift+Enter) will list all files under the input directory\n",
    "# You can write up to 5GB to the current directory (/kaggle/working/) that gets preserved as output when you create a version using \"Save & Run All\" \n",
    "# You can also write temporary files to /kaggle/temp/, but they won't be saved outside of the current session"
   ]
  },
  {
   "cell_type": "markdown",
   "metadata": {
    "papermill": {
     "duration": 0.206781,
     "end_time": "2020-09-05T14:20:32.951188",
     "exception": false,
     "start_time": "2020-09-05T14:20:32.744407",
     "status": "completed"
    },
    "tags": []
   },
   "source": [
    "The first step in using Spark is connecting to a cluster. In practice, the cluster will be hosted on a remote machine that's connected to all other nodes. There will be one computer, called the master that manages splitting up the data and the computations. The master is connected to the rest of the computers in the cluster, which are called worker. The master sends the workers data and calculations to run, and they send their results back to the master.\n",
    "\n",
    "We definitely don't need may clusters for Titanic dataset. In addition to that, the syntax for running locally or using many clusters are pretty similar. To start working with Spark DataFrames, we first have to create a SparkSession object from SparkContext. We can think of the SparkContext as the connection to the cluster and SparkSession as the interface with that connection. Let's create a SparkSession. "
   ]
  },
  {
   "cell_type": "markdown",
   "metadata": {
    "papermill": {
     "duration": 0.197948,
     "end_time": "2020-09-05T14:20:33.348758",
     "exception": false,
     "start_time": "2020-09-05T14:20:33.150810",
     "status": "completed"
    },
    "tags": []
   },
   "source": [
    "# Beginner Tutorial\n",
    "This part is solely for beginners. I recommend starting from to get a good understanding of the flow. "
   ]
  },
  {
   "cell_type": "code",
   "execution_count": 9,
   "metadata": {
    "ExecuteTime": {
     "end_time": "2021-02-13T09:57:45.264367Z",
     "start_time": "2021-02-13T09:57:45.259064Z"
    },
    "execution": {
     "iopub.execute_input": "2020-09-05T14:20:33.752853Z",
     "iopub.status.busy": "2020-09-05T14:20:33.752059Z",
     "iopub.status.idle": "2020-09-05T14:20:40.664190Z",
     "shell.execute_reply": "2020-09-05T14:20:40.665314Z"
    },
    "papermill": {
     "duration": 7.118456,
     "end_time": "2020-09-05T14:20:40.665581",
     "exception": false,
     "start_time": "2020-09-05T14:20:33.547125",
     "status": "completed"
    },
    "tags": []
   },
   "outputs": [],
   "source": [
    "## creating a spark session\n",
    "from pyspark.sql import SparkSession\n",
    "\n",
    "spark = SparkSession.builder.appName('tutorial').getOrCreate()"
   ]
  },
  {
   "cell_type": "markdown",
   "metadata": {
    "papermill": {
     "duration": 0.200034,
     "end_time": "2020-09-05T14:20:41.070612",
     "exception": false,
     "start_time": "2020-09-05T14:20:40.870578",
     "status": "completed"
    },
    "tags": []
   },
   "source": [
    "Let's read the dataset. "
   ]
  },
  {
   "cell_type": "code",
   "execution_count": 4,
   "metadata": {
    "ExecuteTime": {
     "end_time": "2021-02-13T09:56:03.817903Z",
     "start_time": "2021-02-13T09:55:59.383408Z"
    },
    "execution": {
     "iopub.execute_input": "2020-09-05T14:20:41.479178Z",
     "iopub.status.busy": "2020-09-05T14:20:41.478342Z",
     "iopub.status.idle": "2020-09-05T14:20:47.229904Z",
     "shell.execute_reply": "2020-09-05T14:20:47.229242Z"
    },
    "papermill": {
     "duration": 5.960083,
     "end_time": "2020-09-05T14:20:47.230050",
     "exception": false,
     "start_time": "2020-09-05T14:20:41.269967",
     "status": "completed"
    },
    "tags": []
   },
   "outputs": [],
   "source": [
    "# download data from the internet :P\n",
    "df = spark.read.csv('../data/titanic_train.csv', header = True, inferSchema=True)\n",
    "df_test = spark.read.csv('../data/titanic_test.csv', header = True, inferSchema=True)"
   ]
  },
  {
   "cell_type": "code",
   "execution_count": 5,
   "metadata": {
    "ExecuteTime": {
     "end_time": "2021-02-13T09:56:06.158219Z",
     "start_time": "2021-02-13T09:56:06.147007Z"
    },
    "execution": {
     "iopub.execute_input": "2020-09-05T14:20:47.636512Z",
     "iopub.status.busy": "2020-09-05T14:20:47.635454Z",
     "iopub.status.idle": "2020-09-05T14:20:47.639409Z",
     "shell.execute_reply": "2020-09-05T14:20:47.639953Z"
    },
    "papermill": {
     "duration": 0.211072,
     "end_time": "2020-09-05T14:20:47.640113",
     "exception": false,
     "start_time": "2020-09-05T14:20:47.429041",
     "status": "completed"
    },
    "tags": []
   },
   "outputs": [
    {
     "data": {
      "text/plain": [
       "pyspark.sql.dataframe.DataFrame"
      ]
     },
     "execution_count": 5,
     "metadata": {},
     "output_type": "execute_result"
    }
   ],
   "source": [
    "## So, what is df?\n",
    "type(df)"
   ]
  },
  {
   "cell_type": "code",
   "execution_count": 7,
   "metadata": {
    "ExecuteTime": {
     "end_time": "2021-02-13T09:56:51.114481Z",
     "start_time": "2021-02-13T09:56:51.107009Z"
    }
   },
   "outputs": [
    {
     "data": {
      "text/plain": [
       "['__class__',\n",
       " '__delattr__',\n",
       " '__dict__',\n",
       " '__dir__',\n",
       " '__doc__',\n",
       " '__eq__',\n",
       " '__format__',\n",
       " '__ge__',\n",
       " '__getattr__',\n",
       " '__getattribute__',\n",
       " '__getitem__',\n",
       " '__gt__',\n",
       " '__hash__',\n",
       " '__init__',\n",
       " '__init_subclass__',\n",
       " '__le__',\n",
       " '__lt__',\n",
       " '__module__',\n",
       " '__ne__',\n",
       " '__new__',\n",
       " '__reduce__',\n",
       " '__reduce_ex__',\n",
       " '__repr__',\n",
       " '__setattr__',\n",
       " '__sizeof__',\n",
       " '__str__',\n",
       " '__subclasshook__',\n",
       " '__weakref__',\n",
       " '_collect_as_arrow',\n",
       " '_jcols',\n",
       " '_jdf',\n",
       " '_jmap',\n",
       " '_jseq',\n",
       " '_lazy_rdd',\n",
       " '_repr_html_',\n",
       " '_sc',\n",
       " '_schema',\n",
       " '_sort_cols',\n",
       " '_support_repr_html',\n",
       " '_to_corrected_pandas_type',\n",
       " 'agg',\n",
       " 'alias',\n",
       " 'approxQuantile',\n",
       " 'cache',\n",
       " 'checkpoint',\n",
       " 'coalesce',\n",
       " 'colRegex',\n",
       " 'collect',\n",
       " 'columns',\n",
       " 'corr',\n",
       " 'count',\n",
       " 'cov',\n",
       " 'createGlobalTempView',\n",
       " 'createOrReplaceGlobalTempView',\n",
       " 'createOrReplaceTempView',\n",
       " 'createTempView',\n",
       " 'crossJoin',\n",
       " 'crosstab',\n",
       " 'cube',\n",
       " 'describe',\n",
       " 'distinct',\n",
       " 'drop',\n",
       " 'dropDuplicates',\n",
       " 'drop_duplicates',\n",
       " 'dropna',\n",
       " 'dtypes',\n",
       " 'exceptAll',\n",
       " 'explain',\n",
       " 'fillna',\n",
       " 'filter',\n",
       " 'first',\n",
       " 'foreach',\n",
       " 'foreachPartition',\n",
       " 'freqItems',\n",
       " 'groupBy',\n",
       " 'groupby',\n",
       " 'head',\n",
       " 'hint',\n",
       " 'intersect',\n",
       " 'intersectAll',\n",
       " 'isLocal',\n",
       " 'isStreaming',\n",
       " 'is_cached',\n",
       " 'join',\n",
       " 'limit',\n",
       " 'localCheckpoint',\n",
       " 'mapInPandas',\n",
       " 'na',\n",
       " 'orderBy',\n",
       " 'persist',\n",
       " 'printSchema',\n",
       " 'randomSplit',\n",
       " 'rdd',\n",
       " 'registerTempTable',\n",
       " 'repartition',\n",
       " 'repartitionByRange',\n",
       " 'replace',\n",
       " 'rollup',\n",
       " 'sample',\n",
       " 'sampleBy',\n",
       " 'schema',\n",
       " 'select',\n",
       " 'selectExpr',\n",
       " 'show',\n",
       " 'sort',\n",
       " 'sortWithinPartitions',\n",
       " 'sql_ctx',\n",
       " 'stat',\n",
       " 'storageLevel',\n",
       " 'subtract',\n",
       " 'summary',\n",
       " 'tail',\n",
       " 'take',\n",
       " 'toDF',\n",
       " 'toJSON',\n",
       " 'toLocalIterator',\n",
       " 'toPandas',\n",
       " 'transform',\n",
       " 'union',\n",
       " 'unionAll',\n",
       " 'unionByName',\n",
       " 'unpersist',\n",
       " 'where',\n",
       " 'withColumn',\n",
       " 'withColumnRenamed',\n",
       " 'withWatermark',\n",
       " 'write',\n",
       " 'writeStream']"
      ]
     },
     "execution_count": 7,
     "metadata": {},
     "output_type": "execute_result"
    }
   ],
   "source": [
    "## how we can perform on this?\n",
    "[method for method in dir(df)]"
   ]
  },
  {
   "cell_type": "code",
   "execution_count": 10,
   "metadata": {
    "ExecuteTime": {
     "end_time": "2021-02-13T09:57:58.974359Z",
     "start_time": "2021-02-13T09:57:58.687547Z"
    },
    "execution": {
     "iopub.execute_input": "2020-09-05T14:20:48.050971Z",
     "iopub.status.busy": "2020-09-05T14:20:48.049704Z",
     "iopub.status.idle": "2020-09-05T14:20:48.591972Z",
     "shell.execute_reply": "2020-09-05T14:20:48.590733Z"
    },
    "papermill": {
     "duration": 0.750661,
     "end_time": "2020-09-05T14:20:48.592166",
     "exception": false,
     "start_time": "2020-09-05T14:20:47.841505",
     "status": "completed"
    },
    "tags": []
   },
   "outputs": [
    {
     "name": "stdout",
     "output_type": "stream",
     "text": [
      "+-----------+--------+------+--------------------+------+----+-----+-----+----------------+-------+-----+--------+\n",
      "|PassengerId|Survived|Pclass|                Name|   Sex| Age|SibSp|Parch|          Ticket|   Fare|Cabin|Embarked|\n",
      "+-----------+--------+------+--------------------+------+----+-----+-----+----------------+-------+-----+--------+\n",
      "|          1|       0|     3|Braund, Mr. Owen ...|  male|22.0|    1|    0|       A/5 21171|   7.25| null|       S|\n",
      "|          2|       1|     1|Cumings, Mrs. Joh...|female|38.0|    1|    0|        PC 17599|71.2833|  C85|       C|\n",
      "|          3|       1|     3|Heikkinen, Miss. ...|female|26.0|    0|    0|STON/O2. 3101282|  7.925| null|       S|\n",
      "|          4|       1|     1|Futrelle, Mrs. Ja...|female|35.0|    1|    0|          113803|   53.1| C123|       S|\n",
      "|          5|       0|     3|Allen, Mr. Willia...|  male|35.0|    0|    0|          373450|   8.05| null|       S|\n",
      "|          6|       0|     3|    Moran, Mr. James|  male|null|    0|    0|          330877| 8.4583| null|       Q|\n",
      "|          7|       0|     1|McCarthy, Mr. Tim...|  male|54.0|    0|    0|           17463|51.8625|  E46|       S|\n",
      "|          8|       0|     3|Palsson, Master. ...|  male| 2.0|    3|    1|          349909| 21.075| null|       S|\n",
      "|          9|       1|     3|Johnson, Mrs. Osc...|female|27.0|    0|    2|          347742|11.1333| null|       S|\n",
      "|         10|       1|     2|Nasser, Mrs. Nich...|female|14.0|    1|    0|          237736|30.0708| null|       C|\n",
      "|         11|       1|     3|Sandstrom, Miss. ...|female| 4.0|    1|    1|         PP 9549|   16.7|   G6|       S|\n",
      "|         12|       1|     1|Bonnell, Miss. El...|female|58.0|    0|    0|          113783|  26.55| C103|       S|\n",
      "|         13|       0|     3|Saundercock, Mr. ...|  male|20.0|    0|    0|       A/5. 2151|   8.05| null|       S|\n",
      "|         14|       0|     3|Andersson, Mr. An...|  male|39.0|    1|    5|          347082| 31.275| null|       S|\n",
      "|         15|       0|     3|Vestrom, Miss. Hu...|female|14.0|    0|    0|          350406| 7.8542| null|       S|\n",
      "|         16|       1|     2|Hewlett, Mrs. (Ma...|female|55.0|    0|    0|          248706|   16.0| null|       S|\n",
      "|         17|       0|     3|Rice, Master. Eugene|  male| 2.0|    4|    1|          382652| 29.125| null|       Q|\n",
      "|         18|       1|     2|Williams, Mr. Cha...|  male|null|    0|    0|          244373|   13.0| null|       S|\n",
      "|         19|       0|     3|Vander Planke, Mr...|female|31.0|    1|    0|          345763|   18.0| null|       S|\n",
      "|         20|       1|     3|Masselmani, Mrs. ...|female|null|    0|    0|            2649|  7.225| null|       C|\n",
      "+-----------+--------+------+--------------------+------+----+-----+-----+----------------+-------+-----+--------+\n",
      "only showing top 20 rows\n",
      "\n"
     ]
    }
   ],
   "source": [
    "## As you can see it's a Spark dataframe. Let's take a look at the preview of the dataset. \n",
    "df.show()"
   ]
  },
  {
   "cell_type": "code",
   "execution_count": 11,
   "metadata": {
    "ExecuteTime": {
     "end_time": "2021-02-13T09:58:10.669456Z",
     "start_time": "2021-02-13T09:58:10.344196Z"
    },
    "execution": {
     "iopub.execute_input": "2020-09-05T14:20:49.072910Z",
     "iopub.status.busy": "2020-09-05T14:20:49.071849Z",
     "iopub.status.idle": "2020-09-05T14:20:49.495738Z",
     "shell.execute_reply": "2020-09-05T14:20:49.495079Z"
    },
    "papermill": {
     "duration": 0.67977,
     "end_time": "2020-09-05T14:20:49.495881",
     "exception": false,
     "start_time": "2020-09-05T14:20:48.816111",
     "status": "completed"
    },
    "tags": []
   },
   "outputs": [
    {
     "data": {
      "text/html": [
       "<div>\n",
       "<style scoped>\n",
       "    .dataframe tbody tr th:only-of-type {\n",
       "        vertical-align: middle;\n",
       "    }\n",
       "\n",
       "    .dataframe tbody tr th {\n",
       "        vertical-align: top;\n",
       "    }\n",
       "\n",
       "    .dataframe thead th {\n",
       "        text-align: right;\n",
       "    }\n",
       "</style>\n",
       "<table border=\"1\" class=\"dataframe\">\n",
       "  <thead>\n",
       "    <tr style=\"text-align: right;\">\n",
       "      <th></th>\n",
       "      <th>PassengerId</th>\n",
       "      <th>Survived</th>\n",
       "      <th>Pclass</th>\n",
       "      <th>Name</th>\n",
       "      <th>Sex</th>\n",
       "      <th>Age</th>\n",
       "      <th>SibSp</th>\n",
       "      <th>Parch</th>\n",
       "      <th>Ticket</th>\n",
       "      <th>Fare</th>\n",
       "      <th>Cabin</th>\n",
       "      <th>Embarked</th>\n",
       "    </tr>\n",
       "  </thead>\n",
       "  <tbody>\n",
       "    <tr>\n",
       "      <th>0</th>\n",
       "      <td>1</td>\n",
       "      <td>0</td>\n",
       "      <td>3</td>\n",
       "      <td>Braund, Mr. Owen Harris</td>\n",
       "      <td>male</td>\n",
       "      <td>22.0</td>\n",
       "      <td>1</td>\n",
       "      <td>0</td>\n",
       "      <td>A/5 21171</td>\n",
       "      <td>7.2500</td>\n",
       "      <td>None</td>\n",
       "      <td>S</td>\n",
       "    </tr>\n",
       "    <tr>\n",
       "      <th>1</th>\n",
       "      <td>2</td>\n",
       "      <td>1</td>\n",
       "      <td>1</td>\n",
       "      <td>Cumings, Mrs. John Bradley (Florence Briggs Th...</td>\n",
       "      <td>female</td>\n",
       "      <td>38.0</td>\n",
       "      <td>1</td>\n",
       "      <td>0</td>\n",
       "      <td>PC 17599</td>\n",
       "      <td>71.2833</td>\n",
       "      <td>C85</td>\n",
       "      <td>C</td>\n",
       "    </tr>\n",
       "    <tr>\n",
       "      <th>2</th>\n",
       "      <td>3</td>\n",
       "      <td>1</td>\n",
       "      <td>3</td>\n",
       "      <td>Heikkinen, Miss. Laina</td>\n",
       "      <td>female</td>\n",
       "      <td>26.0</td>\n",
       "      <td>0</td>\n",
       "      <td>0</td>\n",
       "      <td>STON/O2. 3101282</td>\n",
       "      <td>7.9250</td>\n",
       "      <td>None</td>\n",
       "      <td>S</td>\n",
       "    </tr>\n",
       "    <tr>\n",
       "      <th>3</th>\n",
       "      <td>4</td>\n",
       "      <td>1</td>\n",
       "      <td>1</td>\n",
       "      <td>Futrelle, Mrs. Jacques Heath (Lily May Peel)</td>\n",
       "      <td>female</td>\n",
       "      <td>35.0</td>\n",
       "      <td>1</td>\n",
       "      <td>0</td>\n",
       "      <td>113803</td>\n",
       "      <td>53.1000</td>\n",
       "      <td>C123</td>\n",
       "      <td>S</td>\n",
       "    </tr>\n",
       "    <tr>\n",
       "      <th>4</th>\n",
       "      <td>5</td>\n",
       "      <td>0</td>\n",
       "      <td>3</td>\n",
       "      <td>Allen, Mr. William Henry</td>\n",
       "      <td>male</td>\n",
       "      <td>35.0</td>\n",
       "      <td>0</td>\n",
       "      <td>0</td>\n",
       "      <td>373450</td>\n",
       "      <td>8.0500</td>\n",
       "      <td>None</td>\n",
       "      <td>S</td>\n",
       "    </tr>\n",
       "    <tr>\n",
       "      <th>...</th>\n",
       "      <td>...</td>\n",
       "      <td>...</td>\n",
       "      <td>...</td>\n",
       "      <td>...</td>\n",
       "      <td>...</td>\n",
       "      <td>...</td>\n",
       "      <td>...</td>\n",
       "      <td>...</td>\n",
       "      <td>...</td>\n",
       "      <td>...</td>\n",
       "      <td>...</td>\n",
       "      <td>...</td>\n",
       "    </tr>\n",
       "    <tr>\n",
       "      <th>886</th>\n",
       "      <td>887</td>\n",
       "      <td>0</td>\n",
       "      <td>2</td>\n",
       "      <td>Montvila, Rev. Juozas</td>\n",
       "      <td>male</td>\n",
       "      <td>27.0</td>\n",
       "      <td>0</td>\n",
       "      <td>0</td>\n",
       "      <td>211536</td>\n",
       "      <td>13.0000</td>\n",
       "      <td>None</td>\n",
       "      <td>S</td>\n",
       "    </tr>\n",
       "    <tr>\n",
       "      <th>887</th>\n",
       "      <td>888</td>\n",
       "      <td>1</td>\n",
       "      <td>1</td>\n",
       "      <td>Graham, Miss. Margaret Edith</td>\n",
       "      <td>female</td>\n",
       "      <td>19.0</td>\n",
       "      <td>0</td>\n",
       "      <td>0</td>\n",
       "      <td>112053</td>\n",
       "      <td>30.0000</td>\n",
       "      <td>B42</td>\n",
       "      <td>S</td>\n",
       "    </tr>\n",
       "    <tr>\n",
       "      <th>888</th>\n",
       "      <td>889</td>\n",
       "      <td>0</td>\n",
       "      <td>3</td>\n",
       "      <td>\"Johnston, Miss. Catherine Helen \"\"Carrie\"\"\"</td>\n",
       "      <td>female</td>\n",
       "      <td>NaN</td>\n",
       "      <td>1</td>\n",
       "      <td>2</td>\n",
       "      <td>W./C. 6607</td>\n",
       "      <td>23.4500</td>\n",
       "      <td>None</td>\n",
       "      <td>S</td>\n",
       "    </tr>\n",
       "    <tr>\n",
       "      <th>889</th>\n",
       "      <td>890</td>\n",
       "      <td>1</td>\n",
       "      <td>1</td>\n",
       "      <td>Behr, Mr. Karl Howell</td>\n",
       "      <td>male</td>\n",
       "      <td>26.0</td>\n",
       "      <td>0</td>\n",
       "      <td>0</td>\n",
       "      <td>111369</td>\n",
       "      <td>30.0000</td>\n",
       "      <td>C148</td>\n",
       "      <td>C</td>\n",
       "    </tr>\n",
       "    <tr>\n",
       "      <th>890</th>\n",
       "      <td>891</td>\n",
       "      <td>0</td>\n",
       "      <td>3</td>\n",
       "      <td>Dooley, Mr. Patrick</td>\n",
       "      <td>male</td>\n",
       "      <td>32.0</td>\n",
       "      <td>0</td>\n",
       "      <td>0</td>\n",
       "      <td>370376</td>\n",
       "      <td>7.7500</td>\n",
       "      <td>None</td>\n",
       "      <td>Q</td>\n",
       "    </tr>\n",
       "  </tbody>\n",
       "</table>\n",
       "<p>891 rows × 12 columns</p>\n",
       "</div>"
      ],
      "text/plain": [
       "     PassengerId  Survived  Pclass  \\\n",
       "0              1         0       3   \n",
       "1              2         1       1   \n",
       "2              3         1       3   \n",
       "3              4         1       1   \n",
       "4              5         0       3   \n",
       "..           ...       ...     ...   \n",
       "886          887         0       2   \n",
       "887          888         1       1   \n",
       "888          889         0       3   \n",
       "889          890         1       1   \n",
       "890          891         0       3   \n",
       "\n",
       "                                                  Name     Sex   Age  SibSp  \\\n",
       "0                              Braund, Mr. Owen Harris    male  22.0      1   \n",
       "1    Cumings, Mrs. John Bradley (Florence Briggs Th...  female  38.0      1   \n",
       "2                               Heikkinen, Miss. Laina  female  26.0      0   \n",
       "3         Futrelle, Mrs. Jacques Heath (Lily May Peel)  female  35.0      1   \n",
       "4                             Allen, Mr. William Henry    male  35.0      0   \n",
       "..                                                 ...     ...   ...    ...   \n",
       "886                              Montvila, Rev. Juozas    male  27.0      0   \n",
       "887                       Graham, Miss. Margaret Edith  female  19.0      0   \n",
       "888       \"Johnston, Miss. Catherine Helen \"\"Carrie\"\"\"  female   NaN      1   \n",
       "889                              Behr, Mr. Karl Howell    male  26.0      0   \n",
       "890                                Dooley, Mr. Patrick    male  32.0      0   \n",
       "\n",
       "     Parch            Ticket     Fare Cabin Embarked  \n",
       "0        0         A/5 21171   7.2500  None        S  \n",
       "1        0          PC 17599  71.2833   C85        C  \n",
       "2        0  STON/O2. 3101282   7.9250  None        S  \n",
       "3        0            113803  53.1000  C123        S  \n",
       "4        0            373450   8.0500  None        S  \n",
       "..     ...               ...      ...   ...      ...  \n",
       "886      0            211536  13.0000  None        S  \n",
       "887      0            112053  30.0000   B42        S  \n",
       "888      2        W./C. 6607  23.4500  None        S  \n",
       "889      0            111369  30.0000  C148        C  \n",
       "890      0            370376   7.7500  None        Q  \n",
       "\n",
       "[891 rows x 12 columns]"
      ]
     },
     "execution_count": 11,
     "metadata": {},
     "output_type": "execute_result"
    }
   ],
   "source": [
    "## It looks a bit messi. See what I did there? ;). Anyway, how about using .toPandas() for change. \n",
    "df.toPandas()"
   ]
  },
  {
   "cell_type": "code",
   "execution_count": 14,
   "metadata": {
    "ExecuteTime": {
     "end_time": "2021-02-13T09:58:40.527012Z",
     "start_time": "2021-02-13T09:58:40.080470Z"
    },
    "execution": {
     "iopub.execute_input": "2020-09-05T14:20:49.914040Z",
     "iopub.status.busy": "2020-09-05T14:20:49.912806Z",
     "iopub.status.idle": "2020-09-05T14:20:52.384538Z",
     "shell.execute_reply": "2020-09-05T14:20:52.385220Z"
    },
    "papermill": {
     "duration": 2.684787,
     "end_time": "2020-09-05T14:20:52.385403",
     "exception": false,
     "start_time": "2020-09-05T14:20:49.700616",
     "status": "completed"
    },
    "tags": []
   },
   "outputs": [
    {
     "data": {
      "text/html": [
       "<div>\n",
       "<style scoped>\n",
       "    .dataframe tbody tr th:only-of-type {\n",
       "        vertical-align: middle;\n",
       "    }\n",
       "\n",
       "    .dataframe tbody tr th {\n",
       "        vertical-align: top;\n",
       "    }\n",
       "\n",
       "    .dataframe thead th {\n",
       "        text-align: right;\n",
       "    }\n",
       "</style>\n",
       "<table border=\"1\" class=\"dataframe\">\n",
       "  <thead>\n",
       "    <tr style=\"text-align: right;\">\n",
       "      <th></th>\n",
       "      <th>summary</th>\n",
       "      <th>PassengerId</th>\n",
       "      <th>Survived</th>\n",
       "      <th>Pclass</th>\n",
       "      <th>Name</th>\n",
       "      <th>Sex</th>\n",
       "      <th>Age</th>\n",
       "      <th>SibSp</th>\n",
       "      <th>Parch</th>\n",
       "      <th>Ticket</th>\n",
       "      <th>Fare</th>\n",
       "      <th>Cabin</th>\n",
       "      <th>Embarked</th>\n",
       "    </tr>\n",
       "  </thead>\n",
       "  <tbody>\n",
       "    <tr>\n",
       "      <th>0</th>\n",
       "      <td>count</td>\n",
       "      <td>891</td>\n",
       "      <td>891</td>\n",
       "      <td>891</td>\n",
       "      <td>891</td>\n",
       "      <td>891</td>\n",
       "      <td>714</td>\n",
       "      <td>891</td>\n",
       "      <td>891</td>\n",
       "      <td>891</td>\n",
       "      <td>891</td>\n",
       "      <td>204</td>\n",
       "      <td>889</td>\n",
       "    </tr>\n",
       "    <tr>\n",
       "      <th>1</th>\n",
       "      <td>mean</td>\n",
       "      <td>446.0</td>\n",
       "      <td>0.3838383838383838</td>\n",
       "      <td>2.308641975308642</td>\n",
       "      <td>None</td>\n",
       "      <td>None</td>\n",
       "      <td>29.69911764705882</td>\n",
       "      <td>0.5230078563411896</td>\n",
       "      <td>0.38159371492704824</td>\n",
       "      <td>260318.54916792738</td>\n",
       "      <td>32.2042079685746</td>\n",
       "      <td>None</td>\n",
       "      <td>None</td>\n",
       "    </tr>\n",
       "    <tr>\n",
       "      <th>2</th>\n",
       "      <td>stddev</td>\n",
       "      <td>257.3538420152301</td>\n",
       "      <td>0.48659245426485753</td>\n",
       "      <td>0.8360712409770491</td>\n",
       "      <td>None</td>\n",
       "      <td>None</td>\n",
       "      <td>14.526497332334035</td>\n",
       "      <td>1.1027434322934315</td>\n",
       "      <td>0.8060572211299488</td>\n",
       "      <td>471609.26868834975</td>\n",
       "      <td>49.69342859718089</td>\n",
       "      <td>None</td>\n",
       "      <td>None</td>\n",
       "    </tr>\n",
       "    <tr>\n",
       "      <th>3</th>\n",
       "      <td>min</td>\n",
       "      <td>1</td>\n",
       "      <td>0</td>\n",
       "      <td>1</td>\n",
       "      <td>\"Andersson, Mr. August Edvard (\"\"Wennerstrom\"\")\"</td>\n",
       "      <td>female</td>\n",
       "      <td>0.42</td>\n",
       "      <td>0</td>\n",
       "      <td>0</td>\n",
       "      <td>110152</td>\n",
       "      <td>0.0</td>\n",
       "      <td>A10</td>\n",
       "      <td>C</td>\n",
       "    </tr>\n",
       "    <tr>\n",
       "      <th>4</th>\n",
       "      <td>max</td>\n",
       "      <td>891</td>\n",
       "      <td>1</td>\n",
       "      <td>3</td>\n",
       "      <td>van Melkebeke, Mr. Philemon</td>\n",
       "      <td>male</td>\n",
       "      <td>80.0</td>\n",
       "      <td>8</td>\n",
       "      <td>6</td>\n",
       "      <td>WE/P 5735</td>\n",
       "      <td>512.3292</td>\n",
       "      <td>T</td>\n",
       "      <td>S</td>\n",
       "    </tr>\n",
       "  </tbody>\n",
       "</table>\n",
       "</div>"
      ],
      "text/plain": [
       "  summary        PassengerId             Survived              Pclass  \\\n",
       "0   count                891                  891                 891   \n",
       "1    mean              446.0   0.3838383838383838   2.308641975308642   \n",
       "2  stddev  257.3538420152301  0.48659245426485753  0.8360712409770491   \n",
       "3     min                  1                    0                   1   \n",
       "4     max                891                    1                   3   \n",
       "\n",
       "                                               Name     Sex  \\\n",
       "0                                               891     891   \n",
       "1                                              None    None   \n",
       "2                                              None    None   \n",
       "3  \"Andersson, Mr. August Edvard (\"\"Wennerstrom\"\")\"  female   \n",
       "4                       van Melkebeke, Mr. Philemon    male   \n",
       "\n",
       "                  Age               SibSp                Parch  \\\n",
       "0                 714                 891                  891   \n",
       "1   29.69911764705882  0.5230078563411896  0.38159371492704824   \n",
       "2  14.526497332334035  1.1027434322934315   0.8060572211299488   \n",
       "3                0.42                   0                    0   \n",
       "4                80.0                   8                    6   \n",
       "\n",
       "               Ticket               Fare Cabin Embarked  \n",
       "0                 891                891   204      889  \n",
       "1  260318.54916792738   32.2042079685746  None     None  \n",
       "2  471609.26868834975  49.69342859718089  None     None  \n",
       "3              110152                0.0   A10        C  \n",
       "4           WE/P 5735           512.3292     T        S  "
      ]
     },
     "execution_count": 14,
     "metadata": {},
     "output_type": "execute_result"
    }
   ],
   "source": [
    "# I use the toPandas() in a riddiculous amount as you will see in this kernel. \n",
    "# It is just convenient and doesn't put a lot of constran in my eye. \n",
    "## in addition to that if you know pandas, this can be very helpful \n",
    "## for checking your work.\n",
    "## how about a summary. \n",
    "df.describe().toPandas()"
   ]
  },
  {
   "cell_type": "code",
   "execution_count": 16,
   "metadata": {
    "ExecuteTime": {
     "end_time": "2021-02-13T09:59:13.368109Z",
     "start_time": "2021-02-13T09:59:13.362115Z"
    },
    "execution": {
     "iopub.execute_input": "2020-09-05T14:20:52.812982Z",
     "iopub.status.busy": "2020-09-05T14:20:52.812118Z",
     "iopub.status.idle": "2020-09-05T14:20:52.822934Z",
     "shell.execute_reply": "2020-09-05T14:20:52.822191Z"
    },
    "papermill": {
     "duration": 0.226165,
     "end_time": "2020-09-05T14:20:52.823089",
     "exception": false,
     "start_time": "2020-09-05T14:20:52.596924",
     "status": "completed"
    },
    "tags": []
   },
   "outputs": [
    {
     "name": "stdout",
     "output_type": "stream",
     "text": [
      "root\n",
      " |-- PassengerId: integer (nullable = true)\n",
      " |-- Survived: integer (nullable = true)\n",
      " |-- Pclass: integer (nullable = true)\n",
      " |-- Name: string (nullable = true)\n",
      " |-- Sex: string (nullable = true)\n",
      " |-- Age: double (nullable = true)\n",
      " |-- SibSp: integer (nullable = true)\n",
      " |-- Parch: integer (nullable = true)\n",
      " |-- Ticket: string (nullable = true)\n",
      " |-- Fare: double (nullable = true)\n",
      " |-- Cabin: string (nullable = true)\n",
      " |-- Embarked: string (nullable = true)\n",
      "\n"
     ]
    }
   ],
   "source": [
    "## That's better. Let's print the schema of the df using .printSchema()\n",
    "df.printSchema()"
   ]
  },
  {
   "cell_type": "code",
   "execution_count": 17,
   "metadata": {
    "ExecuteTime": {
     "end_time": "2021-02-13T09:59:22.322131Z",
     "start_time": "2021-02-13T09:59:22.317297Z"
    },
    "execution": {
     "iopub.execute_input": "2020-09-05T14:20:53.237340Z",
     "iopub.status.busy": "2020-09-05T14:20:53.236013Z",
     "iopub.status.idle": "2020-09-05T14:20:53.241082Z",
     "shell.execute_reply": "2020-09-05T14:20:53.240461Z"
    },
    "papermill": {
     "duration": 0.213085,
     "end_time": "2020-09-05T14:20:53.241217",
     "exception": false,
     "start_time": "2020-09-05T14:20:53.028132",
     "status": "completed"
    },
    "tags": []
   },
   "outputs": [
    {
     "data": {
      "text/plain": [
       "[('PassengerId', 'int'),\n",
       " ('Survived', 'int'),\n",
       " ('Pclass', 'int'),\n",
       " ('Name', 'string'),\n",
       " ('Sex', 'string'),\n",
       " ('Age', 'double'),\n",
       " ('SibSp', 'int'),\n",
       " ('Parch', 'int'),\n",
       " ('Ticket', 'string'),\n",
       " ('Fare', 'double'),\n",
       " ('Cabin', 'string'),\n",
       " ('Embarked', 'string')]"
      ]
     },
     "execution_count": 17,
     "metadata": {},
     "output_type": "execute_result"
    }
   ],
   "source": [
    "# similar approach\n",
    "df.dtypes"
   ]
  },
  {
   "cell_type": "markdown",
   "metadata": {
    "papermill": {
     "duration": 0.213248,
     "end_time": "2020-09-05T14:20:53.655789",
     "exception": false,
     "start_time": "2020-09-05T14:20:53.442541",
     "status": "completed"
    },
    "tags": []
   },
   "source": [
    "The data in the real world is not this clean. We often have to create our own schema and implement it. We will describe more about it in the future. Since we are talking about schema, are you wondering if you would be able to implement sql with Spark?. Yes, you can. \n",
    "\n",
    "One of the best advantage of Spark is that you can run sql commands to do analysis. If you are like that nifty co-worker of mine, you would probably want to use sql with spark. Let's do an example. "
   ]
  },
  {
   "cell_type": "code",
   "execution_count": 11,
   "metadata": {
    "execution": {
     "iopub.execute_input": "2020-09-05T14:20:54.099059Z",
     "iopub.status.busy": "2020-09-05T14:20:54.096481Z",
     "iopub.status.idle": "2020-09-05T14:20:54.775273Z",
     "shell.execute_reply": "2020-09-05T14:20:54.776040Z"
    },
    "papermill": {
     "duration": 0.917694,
     "end_time": "2020-09-05T14:20:54.776251",
     "exception": false,
     "start_time": "2020-09-05T14:20:53.858557",
     "status": "completed"
    },
    "tags": []
   },
   "outputs": [
    {
     "data": {
      "text/html": [
       "<div>\n",
       "<style scoped>\n",
       "    .dataframe tbody tr th:only-of-type {\n",
       "        vertical-align: middle;\n",
       "    }\n",
       "\n",
       "    .dataframe tbody tr th {\n",
       "        vertical-align: top;\n",
       "    }\n",
       "\n",
       "    .dataframe thead th {\n",
       "        text-align: right;\n",
       "    }\n",
       "</style>\n",
       "<table border=\"1\" class=\"dataframe\">\n",
       "  <thead>\n",
       "    <tr style=\"text-align: right;\">\n",
       "      <th></th>\n",
       "      <th>PassengerId</th>\n",
       "      <th>Survived</th>\n",
       "      <th>Pclass</th>\n",
       "      <th>Name</th>\n",
       "      <th>Sex</th>\n",
       "      <th>Age</th>\n",
       "      <th>SibSp</th>\n",
       "      <th>Parch</th>\n",
       "      <th>Ticket</th>\n",
       "      <th>Fare</th>\n",
       "      <th>Cabin</th>\n",
       "      <th>Embarked</th>\n",
       "    </tr>\n",
       "  </thead>\n",
       "  <tbody>\n",
       "    <tr>\n",
       "      <th>0</th>\n",
       "      <td>738</td>\n",
       "      <td>1</td>\n",
       "      <td>1</td>\n",
       "      <td>Lesurer, Mr. Gustave J</td>\n",
       "      <td>male</td>\n",
       "      <td>35.0</td>\n",
       "      <td>0</td>\n",
       "      <td>0</td>\n",
       "      <td>PC 17755</td>\n",
       "      <td>512.3292</td>\n",
       "      <td>B101</td>\n",
       "      <td>C</td>\n",
       "    </tr>\n",
       "    <tr>\n",
       "      <th>1</th>\n",
       "      <td>259</td>\n",
       "      <td>1</td>\n",
       "      <td>1</td>\n",
       "      <td>Ward, Miss. Anna</td>\n",
       "      <td>female</td>\n",
       "      <td>35.0</td>\n",
       "      <td>0</td>\n",
       "      <td>0</td>\n",
       "      <td>PC 17755</td>\n",
       "      <td>512.3292</td>\n",
       "      <td>None</td>\n",
       "      <td>C</td>\n",
       "    </tr>\n",
       "    <tr>\n",
       "      <th>2</th>\n",
       "      <td>680</td>\n",
       "      <td>1</td>\n",
       "      <td>1</td>\n",
       "      <td>Cardeza, Mr. Thomas Drake Martinez</td>\n",
       "      <td>male</td>\n",
       "      <td>36.0</td>\n",
       "      <td>0</td>\n",
       "      <td>1</td>\n",
       "      <td>PC 17755</td>\n",
       "      <td>512.3292</td>\n",
       "      <td>B51 B53 B55</td>\n",
       "      <td>C</td>\n",
       "    </tr>\n",
       "    <tr>\n",
       "      <th>3</th>\n",
       "      <td>342</td>\n",
       "      <td>1</td>\n",
       "      <td>1</td>\n",
       "      <td>Fortune, Miss. Alice Elizabeth</td>\n",
       "      <td>female</td>\n",
       "      <td>24.0</td>\n",
       "      <td>3</td>\n",
       "      <td>2</td>\n",
       "      <td>19950</td>\n",
       "      <td>263.0000</td>\n",
       "      <td>C23 C25 C27</td>\n",
       "      <td>S</td>\n",
       "    </tr>\n",
       "    <tr>\n",
       "      <th>4</th>\n",
       "      <td>89</td>\n",
       "      <td>1</td>\n",
       "      <td>1</td>\n",
       "      <td>Fortune, Miss. Mabel Helen</td>\n",
       "      <td>female</td>\n",
       "      <td>23.0</td>\n",
       "      <td>3</td>\n",
       "      <td>2</td>\n",
       "      <td>19950</td>\n",
       "      <td>263.0000</td>\n",
       "      <td>C23 C25 C27</td>\n",
       "      <td>S</td>\n",
       "    </tr>\n",
       "    <tr>\n",
       "      <th>5</th>\n",
       "      <td>439</td>\n",
       "      <td>0</td>\n",
       "      <td>1</td>\n",
       "      <td>Fortune, Mr. Mark</td>\n",
       "      <td>male</td>\n",
       "      <td>64.0</td>\n",
       "      <td>1</td>\n",
       "      <td>4</td>\n",
       "      <td>19950</td>\n",
       "      <td>263.0000</td>\n",
       "      <td>C23 C25 C27</td>\n",
       "      <td>S</td>\n",
       "    </tr>\n",
       "    <tr>\n",
       "      <th>6</th>\n",
       "      <td>28</td>\n",
       "      <td>0</td>\n",
       "      <td>1</td>\n",
       "      <td>Fortune, Mr. Charles Alexander</td>\n",
       "      <td>male</td>\n",
       "      <td>19.0</td>\n",
       "      <td>3</td>\n",
       "      <td>2</td>\n",
       "      <td>19950</td>\n",
       "      <td>263.0000</td>\n",
       "      <td>C23 C25 C27</td>\n",
       "      <td>S</td>\n",
       "    </tr>\n",
       "    <tr>\n",
       "      <th>7</th>\n",
       "      <td>312</td>\n",
       "      <td>1</td>\n",
       "      <td>1</td>\n",
       "      <td>Ryerson, Miss. Emily Borie</td>\n",
       "      <td>female</td>\n",
       "      <td>18.0</td>\n",
       "      <td>2</td>\n",
       "      <td>2</td>\n",
       "      <td>PC 17608</td>\n",
       "      <td>262.3750</td>\n",
       "      <td>B57 B59 B63 B66</td>\n",
       "      <td>C</td>\n",
       "    </tr>\n",
       "    <tr>\n",
       "      <th>8</th>\n",
       "      <td>743</td>\n",
       "      <td>1</td>\n",
       "      <td>1</td>\n",
       "      <td>\"Ryerson, Miss. Susan Parker \"\"Suzette\"\"\"</td>\n",
       "      <td>female</td>\n",
       "      <td>21.0</td>\n",
       "      <td>2</td>\n",
       "      <td>2</td>\n",
       "      <td>PC 17608</td>\n",
       "      <td>262.3750</td>\n",
       "      <td>B57 B59 B63 B66</td>\n",
       "      <td>C</td>\n",
       "    </tr>\n",
       "    <tr>\n",
       "      <th>9</th>\n",
       "      <td>119</td>\n",
       "      <td>0</td>\n",
       "      <td>1</td>\n",
       "      <td>Baxter, Mr. Quigg Edmond</td>\n",
       "      <td>male</td>\n",
       "      <td>24.0</td>\n",
       "      <td>0</td>\n",
       "      <td>1</td>\n",
       "      <td>PC 17558</td>\n",
       "      <td>247.5208</td>\n",
       "      <td>B58 B60</td>\n",
       "      <td>C</td>\n",
       "    </tr>\n",
       "  </tbody>\n",
       "</table>\n",
       "</div>"
      ],
      "text/plain": [
       "   PassengerId  Survived  Pclass                                       Name  \\\n",
       "0          738         1       1                     Lesurer, Mr. Gustave J   \n",
       "1          259         1       1                           Ward, Miss. Anna   \n",
       "2          680         1       1         Cardeza, Mr. Thomas Drake Martinez   \n",
       "3          342         1       1             Fortune, Miss. Alice Elizabeth   \n",
       "4           89         1       1                 Fortune, Miss. Mabel Helen   \n",
       "5          439         0       1                          Fortune, Mr. Mark   \n",
       "6           28         0       1             Fortune, Mr. Charles Alexander   \n",
       "7          312         1       1                 Ryerson, Miss. Emily Borie   \n",
       "8          743         1       1  \"Ryerson, Miss. Susan Parker \"\"Suzette\"\"\"   \n",
       "9          119         0       1                   Baxter, Mr. Quigg Edmond   \n",
       "\n",
       "      Sex   Age  SibSp  Parch    Ticket      Fare            Cabin Embarked  \n",
       "0    male  35.0      0      0  PC 17755  512.3292             B101        C  \n",
       "1  female  35.0      0      0  PC 17755  512.3292             None        C  \n",
       "2    male  36.0      0      1  PC 17755  512.3292      B51 B53 B55        C  \n",
       "3  female  24.0      3      2     19950  263.0000      C23 C25 C27        S  \n",
       "4  female  23.0      3      2     19950  263.0000      C23 C25 C27        S  \n",
       "5    male  64.0      1      4     19950  263.0000      C23 C25 C27        S  \n",
       "6    male  19.0      3      2     19950  263.0000      C23 C25 C27        S  \n",
       "7  female  18.0      2      2  PC 17608  262.3750  B57 B59 B63 B66        C  \n",
       "8  female  21.0      2      2  PC 17608  262.3750  B57 B59 B63 B66        C  \n",
       "9    male  24.0      0      1  PC 17558  247.5208          B58 B60        C  "
      ]
     },
     "execution_count": 11,
     "metadata": {},
     "output_type": "execute_result"
    }
   ],
   "source": [
    "## First, we need to register a sql temporary view.\n",
    "df.createOrReplaceTempView(\"mytable\");\n",
    "\n",
    "## Then, we use spark.sql and write sql inside it. \n",
    "result = spark.sql(\"SELECT * FROM mytable ORDER BY Fare DESC LIMIT 10\")\n",
    "result.toPandas()"
   ]
  },
  {
   "cell_type": "code",
   "execution_count": 12,
   "metadata": {
    "execution": {
     "iopub.execute_input": "2020-09-05T14:20:55.394679Z",
     "iopub.status.busy": "2020-09-05T14:20:55.393365Z",
     "iopub.status.idle": "2020-09-05T14:20:55.397647Z",
     "shell.execute_reply": "2020-09-05T14:20:55.398434Z"
    },
    "papermill": {
     "duration": 0.31789,
     "end_time": "2020-09-05T14:20:55.398659",
     "exception": false,
     "start_time": "2020-09-05T14:20:55.080769",
     "status": "completed"
    },
    "tags": []
   },
   "outputs": [
    {
     "data": {
      "text/plain": [
       "['PassengerId',\n",
       " 'Survived',\n",
       " 'Pclass',\n",
       " 'Name',\n",
       " 'Sex',\n",
       " 'Age',\n",
       " 'SibSp',\n",
       " 'Parch',\n",
       " 'Ticket',\n",
       " 'Fare',\n",
       " 'Cabin',\n",
       " 'Embarked']"
      ]
     },
     "execution_count": 12,
     "metadata": {},
     "output_type": "execute_result"
    }
   ],
   "source": [
    "# pretty cool, We will dive deep in sql later. \n",
    "# Let's go back to dataFrame and do some nitty-gritty stuff. \n",
    "# What if want the column names only. \n",
    "df.columns"
   ]
  },
  {
   "cell_type": "code",
   "execution_count": 13,
   "metadata": {
    "execution": {
     "iopub.execute_input": "2020-09-05T14:20:55.882354Z",
     "iopub.status.busy": "2020-09-05T14:20:55.881264Z",
     "iopub.status.idle": "2020-09-05T14:20:55.946444Z",
     "shell.execute_reply": "2020-09-05T14:20:55.945731Z"
    },
    "papermill": {
     "duration": 0.28573,
     "end_time": "2020-09-05T14:20:55.946618",
     "exception": false,
     "start_time": "2020-09-05T14:20:55.660888",
     "status": "completed"
    },
    "tags": []
   },
   "outputs": [
    {
     "data": {
      "text/plain": [
       "Column<b'Age'>"
      ]
     },
     "execution_count": 13,
     "metadata": {},
     "output_type": "execute_result"
    }
   ],
   "source": [
    "# What about just a column?\n",
    "df['Age']"
   ]
  },
  {
   "cell_type": "code",
   "execution_count": 14,
   "metadata": {
    "execution": {
     "iopub.execute_input": "2020-09-05T14:20:56.367974Z",
     "iopub.status.busy": "2020-09-05T14:20:56.366984Z",
     "iopub.status.idle": "2020-09-05T14:20:56.373611Z",
     "shell.execute_reply": "2020-09-05T14:20:56.372988Z"
    },
    "papermill": {
     "duration": 0.21693,
     "end_time": "2020-09-05T14:20:56.373748",
     "exception": false,
     "start_time": "2020-09-05T14:20:56.156818",
     "status": "completed"
    },
    "tags": []
   },
   "outputs": [
    {
     "data": {
      "text/plain": [
       "pyspark.sql.column.Column"
      ]
     },
     "execution_count": 14,
     "metadata": {},
     "output_type": "execute_result"
    }
   ],
   "source": [
    "type(df['Age'])"
   ]
  },
  {
   "cell_type": "code",
   "execution_count": 15,
   "metadata": {
    "execution": {
     "iopub.execute_input": "2020-09-05T14:20:56.845606Z",
     "iopub.status.busy": "2020-09-05T14:20:56.844819Z",
     "iopub.status.idle": "2020-09-05T14:20:57.035968Z",
     "shell.execute_reply": "2020-09-05T14:20:57.035089Z"
    },
    "papermill": {
     "duration": 0.404693,
     "end_time": "2020-09-05T14:20:57.036149",
     "exception": false,
     "start_time": "2020-09-05T14:20:56.631456",
     "status": "completed"
    },
    "tags": []
   },
   "outputs": [
    {
     "name": "stdout",
     "output_type": "stream",
     "text": [
      "+----+\n",
      "| Age|\n",
      "+----+\n",
      "|22.0|\n",
      "|38.0|\n",
      "|26.0|\n",
      "|35.0|\n",
      "|35.0|\n",
      "|null|\n",
      "|54.0|\n",
      "| 2.0|\n",
      "|27.0|\n",
      "|14.0|\n",
      "| 4.0|\n",
      "|58.0|\n",
      "|20.0|\n",
      "|39.0|\n",
      "|14.0|\n",
      "|55.0|\n",
      "| 2.0|\n",
      "|null|\n",
      "|31.0|\n",
      "|null|\n",
      "+----+\n",
      "only showing top 20 rows\n",
      "\n"
     ]
    }
   ],
   "source": [
    "# Well, that's not what we pandas users have expected. \n",
    "# Yes, in order to get a column we need to use select().  \n",
    "# df.select(df['Age']).show()\n",
    "df.select('Age').show()"
   ]
  },
  {
   "cell_type": "code",
   "execution_count": 16,
   "metadata": {
    "execution": {
     "iopub.execute_input": "2020-09-05T14:20:57.516443Z",
     "iopub.status.busy": "2020-09-05T14:20:57.515698Z",
     "iopub.status.idle": "2020-09-05T14:20:57.690987Z",
     "shell.execute_reply": "2020-09-05T14:20:57.690188Z"
    },
    "papermill": {
     "duration": 0.392816,
     "end_time": "2020-09-05T14:20:57.691165",
     "exception": false,
     "start_time": "2020-09-05T14:20:57.298349",
     "status": "completed"
    },
    "tags": []
   },
   "outputs": [
    {
     "name": "stdout",
     "output_type": "stream",
     "text": [
      "+----+-------+\n",
      "| Age|   Fare|\n",
      "+----+-------+\n",
      "|22.0|   7.25|\n",
      "|38.0|71.2833|\n",
      "|26.0|  7.925|\n",
      "|35.0|   53.1|\n",
      "|35.0|   8.05|\n",
      "|null| 8.4583|\n",
      "|54.0|51.8625|\n",
      "| 2.0| 21.075|\n",
      "|27.0|11.1333|\n",
      "|14.0|30.0708|\n",
      "| 4.0|   16.7|\n",
      "|58.0|  26.55|\n",
      "|20.0|   8.05|\n",
      "|39.0| 31.275|\n",
      "|14.0| 7.8542|\n",
      "|55.0|   16.0|\n",
      "| 2.0| 29.125|\n",
      "|null|   13.0|\n",
      "|31.0|   18.0|\n",
      "|null|  7.225|\n",
      "+----+-------+\n",
      "only showing top 20 rows\n",
      "\n"
     ]
    }
   ],
   "source": [
    "## What if we want multiple columns?\n",
    "df.select(['Age', 'Fare']).show()"
   ]
  },
  {
   "cell_type": "code",
   "execution_count": 17,
   "metadata": {
    "execution": {
     "iopub.execute_input": "2020-09-05T14:20:58.173889Z",
     "iopub.status.busy": "2020-09-05T14:20:58.172643Z",
     "iopub.status.idle": "2020-09-05T14:20:58.265916Z",
     "shell.execute_reply": "2020-09-05T14:20:58.264384Z"
    },
    "papermill": {
     "duration": 0.30756,
     "end_time": "2020-09-05T14:20:58.266110",
     "exception": false,
     "start_time": "2020-09-05T14:20:57.958550",
     "status": "completed"
    },
    "tags": []
   },
   "outputs": [
    {
     "data": {
      "text/plain": [
       "[Row(PassengerId=1, Survived=0, Pclass=3, Name='Braund, Mr. Owen Harris', Sex='male', Age=22.0, SibSp=1, Parch=0, Ticket='A/5 21171', Fare=7.25, Cabin=None, Embarked='S')]"
      ]
     },
     "execution_count": 17,
     "metadata": {},
     "output_type": "execute_result"
    }
   ],
   "source": [
    "# that's more like it. \n",
    "# What about accessing a row\n",
    "df.head(1)"
   ]
  },
  {
   "cell_type": "code",
   "execution_count": 18,
   "metadata": {
    "execution": {
     "iopub.execute_input": "2020-09-05T14:20:58.762001Z",
     "iopub.status.busy": "2020-09-05T14:20:58.760840Z",
     "iopub.status.idle": "2020-09-05T14:20:58.887687Z",
     "shell.execute_reply": "2020-09-05T14:20:58.886523Z"
    },
    "papermill": {
     "duration": 0.338606,
     "end_time": "2020-09-05T14:20:58.887896",
     "exception": false,
     "start_time": "2020-09-05T14:20:58.549290",
     "status": "completed"
    },
    "tags": []
   },
   "outputs": [
    {
     "data": {
      "text/plain": [
       "list"
      ]
     },
     "execution_count": 18,
     "metadata": {},
     "output_type": "execute_result"
    }
   ],
   "source": [
    "type(df.head(1))"
   ]
  },
  {
   "cell_type": "code",
   "execution_count": 19,
   "metadata": {
    "execution": {
     "iopub.execute_input": "2020-09-05T14:20:59.324520Z",
     "iopub.status.busy": "2020-09-05T14:20:59.323344Z",
     "iopub.status.idle": "2020-09-05T14:20:59.411061Z",
     "shell.execute_reply": "2020-09-05T14:20:59.409261Z"
    },
    "papermill": {
     "duration": 0.299132,
     "end_time": "2020-09-05T14:20:59.411259",
     "exception": false,
     "start_time": "2020-09-05T14:20:59.112127",
     "status": "completed"
    },
    "tags": []
   },
   "outputs": [
    {
     "data": {
      "text/plain": [
       "Row(PassengerId=1, Survived=0, Pclass=3, Name='Braund, Mr. Owen Harris', Sex='male', Age=22.0, SibSp=1, Parch=0, Ticket='A/5 21171', Fare=7.25, Cabin=None, Embarked='S')"
      ]
     },
     "execution_count": 19,
     "metadata": {},
     "output_type": "execute_result"
    }
   ],
   "source": [
    "## returns a list. let's get the item in the list\n",
    "row = df.head(1)[0]\n",
    "row"
   ]
  },
  {
   "cell_type": "code",
   "execution_count": 20,
   "metadata": {
    "execution": {
     "iopub.execute_input": "2020-09-05T14:20:59.857192Z",
     "iopub.status.busy": "2020-09-05T14:20:59.856349Z",
     "iopub.status.idle": "2020-09-05T14:20:59.860356Z",
     "shell.execute_reply": "2020-09-05T14:20:59.860904Z"
    },
    "papermill": {
     "duration": 0.216696,
     "end_time": "2020-09-05T14:20:59.861061",
     "exception": false,
     "start_time": "2020-09-05T14:20:59.644365",
     "status": "completed"
    },
    "tags": []
   },
   "outputs": [
    {
     "data": {
      "text/plain": [
       "pyspark.sql.types.Row"
      ]
     },
     "execution_count": 20,
     "metadata": {},
     "output_type": "execute_result"
    }
   ],
   "source": [
    "type(row)"
   ]
  },
  {
   "cell_type": "code",
   "execution_count": 21,
   "metadata": {
    "execution": {
     "iopub.execute_input": "2020-09-05T14:21:00.326885Z",
     "iopub.status.busy": "2020-09-05T14:21:00.325731Z",
     "iopub.status.idle": "2020-09-05T14:21:00.330797Z",
     "shell.execute_reply": "2020-09-05T14:21:00.330032Z"
    },
    "papermill": {
     "duration": 0.220035,
     "end_time": "2020-09-05T14:21:00.330925",
     "exception": false,
     "start_time": "2020-09-05T14:21:00.110890",
     "status": "completed"
    },
    "tags": []
   },
   "outputs": [
    {
     "data": {
      "text/plain": [
       "{'PassengerId': 1,\n",
       " 'Survived': 0,\n",
       " 'Pclass': 3,\n",
       " 'Name': 'Braund, Mr. Owen Harris',\n",
       " 'Sex': 'male',\n",
       " 'Age': 22.0,\n",
       " 'SibSp': 1,\n",
       " 'Parch': 0,\n",
       " 'Ticket': 'A/5 21171',\n",
       " 'Fare': 7.25,\n",
       " 'Cabin': None,\n",
       " 'Embarked': 'S'}"
      ]
     },
     "execution_count": 21,
     "metadata": {},
     "output_type": "execute_result"
    }
   ],
   "source": [
    "## row can be converted into dict using .asDict()\n",
    "row.asDict()"
   ]
  },
  {
   "cell_type": "code",
   "execution_count": 22,
   "metadata": {
    "execution": {
     "iopub.execute_input": "2020-09-05T14:21:00.752613Z",
     "iopub.status.busy": "2020-09-05T14:21:00.751613Z",
     "iopub.status.idle": "2020-09-05T14:21:00.756293Z",
     "shell.execute_reply": "2020-09-05T14:21:00.755554Z"
    },
    "papermill": {
     "duration": 0.217724,
     "end_time": "2020-09-05T14:21:00.756418",
     "exception": false,
     "start_time": "2020-09-05T14:21:00.538694",
     "status": "completed"
    },
    "tags": []
   },
   "outputs": [
    {
     "data": {
      "text/plain": [
       "1"
      ]
     },
     "execution_count": 22,
     "metadata": {},
     "output_type": "execute_result"
    }
   ],
   "source": [
    "## Then the value can be accessed from the row dictionaly. \n",
    "row.asDict()['PassengerId']"
   ]
  },
  {
   "cell_type": "code",
   "execution_count": 23,
   "metadata": {
    "execution": {
     "iopub.execute_input": "2020-09-05T14:21:01.187066Z",
     "iopub.status.busy": "2020-09-05T14:21:01.185968Z",
     "iopub.status.idle": "2020-09-05T14:21:01.190564Z",
     "shell.execute_reply": "2020-09-05T14:21:01.189948Z"
    },
    "papermill": {
     "duration": 0.223596,
     "end_time": "2020-09-05T14:21:01.190693",
     "exception": false,
     "start_time": "2020-09-05T14:21:00.967097",
     "status": "completed"
    },
    "tags": []
   },
   "outputs": [
    {
     "data": {
      "text/plain": [
       "'Braund, Mr. Owen Harris'"
      ]
     },
     "execution_count": 23,
     "metadata": {},
     "output_type": "execute_result"
    }
   ],
   "source": [
    "## similarly\n",
    "row.asDict()['Name']"
   ]
  },
  {
   "cell_type": "code",
   "execution_count": 24,
   "metadata": {
    "execution": {
     "iopub.execute_input": "2020-09-05T14:21:01.614428Z",
     "iopub.status.busy": "2020-09-05T14:21:01.613640Z",
     "iopub.status.idle": "2020-09-05T14:21:01.797433Z",
     "shell.execute_reply": "2020-09-05T14:21:01.796734Z"
    },
    "papermill": {
     "duration": 0.398814,
     "end_time": "2020-09-05T14:21:01.797579",
     "exception": false,
     "start_time": "2020-09-05T14:21:01.398765",
     "status": "completed"
    },
    "tags": []
   },
   "outputs": [
    {
     "data": {
      "text/html": [
       "<div>\n",
       "<style scoped>\n",
       "    .dataframe tbody tr th:only-of-type {\n",
       "        vertical-align: middle;\n",
       "    }\n",
       "\n",
       "    .dataframe tbody tr th {\n",
       "        vertical-align: top;\n",
       "    }\n",
       "\n",
       "    .dataframe thead th {\n",
       "        text-align: right;\n",
       "    }\n",
       "</style>\n",
       "<table border=\"1\" class=\"dataframe\">\n",
       "  <thead>\n",
       "    <tr style=\"text-align: right;\">\n",
       "      <th></th>\n",
       "      <th>PassengerId</th>\n",
       "      <th>Survived</th>\n",
       "      <th>Pclass</th>\n",
       "      <th>Name</th>\n",
       "      <th>Sex</th>\n",
       "      <th>newA</th>\n",
       "      <th>SibSp</th>\n",
       "      <th>Parch</th>\n",
       "      <th>Ticket</th>\n",
       "      <th>Fare</th>\n",
       "      <th>Cabin</th>\n",
       "      <th>Embarked</th>\n",
       "    </tr>\n",
       "  </thead>\n",
       "  <tbody>\n",
       "    <tr>\n",
       "      <th>0</th>\n",
       "      <td>1</td>\n",
       "      <td>0</td>\n",
       "      <td>3</td>\n",
       "      <td>Braund, Mr. Owen Harris</td>\n",
       "      <td>male</td>\n",
       "      <td>22.0</td>\n",
       "      <td>1</td>\n",
       "      <td>0</td>\n",
       "      <td>A/5 21171</td>\n",
       "      <td>7.2500</td>\n",
       "      <td>None</td>\n",
       "      <td>S</td>\n",
       "    </tr>\n",
       "    <tr>\n",
       "      <th>1</th>\n",
       "      <td>2</td>\n",
       "      <td>1</td>\n",
       "      <td>1</td>\n",
       "      <td>Cumings, Mrs. John Bradley (Florence Briggs Th...</td>\n",
       "      <td>female</td>\n",
       "      <td>38.0</td>\n",
       "      <td>1</td>\n",
       "      <td>0</td>\n",
       "      <td>PC 17599</td>\n",
       "      <td>71.2833</td>\n",
       "      <td>C85</td>\n",
       "      <td>C</td>\n",
       "    </tr>\n",
       "    <tr>\n",
       "      <th>2</th>\n",
       "      <td>3</td>\n",
       "      <td>1</td>\n",
       "      <td>3</td>\n",
       "      <td>Heikkinen, Miss. Laina</td>\n",
       "      <td>female</td>\n",
       "      <td>26.0</td>\n",
       "      <td>0</td>\n",
       "      <td>0</td>\n",
       "      <td>STON/O2. 3101282</td>\n",
       "      <td>7.9250</td>\n",
       "      <td>None</td>\n",
       "      <td>S</td>\n",
       "    </tr>\n",
       "    <tr>\n",
       "      <th>3</th>\n",
       "      <td>4</td>\n",
       "      <td>1</td>\n",
       "      <td>1</td>\n",
       "      <td>Futrelle, Mrs. Jacques Heath (Lily May Peel)</td>\n",
       "      <td>female</td>\n",
       "      <td>35.0</td>\n",
       "      <td>1</td>\n",
       "      <td>0</td>\n",
       "      <td>113803</td>\n",
       "      <td>53.1000</td>\n",
       "      <td>C123</td>\n",
       "      <td>S</td>\n",
       "    </tr>\n",
       "    <tr>\n",
       "      <th>4</th>\n",
       "      <td>5</td>\n",
       "      <td>0</td>\n",
       "      <td>3</td>\n",
       "      <td>Allen, Mr. William Henry</td>\n",
       "      <td>male</td>\n",
       "      <td>35.0</td>\n",
       "      <td>0</td>\n",
       "      <td>0</td>\n",
       "      <td>373450</td>\n",
       "      <td>8.0500</td>\n",
       "      <td>None</td>\n",
       "      <td>S</td>\n",
       "    </tr>\n",
       "  </tbody>\n",
       "</table>\n",
       "</div>"
      ],
      "text/plain": [
       "   PassengerId  Survived  Pclass  \\\n",
       "0            1         0       3   \n",
       "1            2         1       1   \n",
       "2            3         1       3   \n",
       "3            4         1       1   \n",
       "4            5         0       3   \n",
       "\n",
       "                                                Name     Sex  newA  SibSp  \\\n",
       "0                            Braund, Mr. Owen Harris    male  22.0      1   \n",
       "1  Cumings, Mrs. John Bradley (Florence Briggs Th...  female  38.0      1   \n",
       "2                             Heikkinen, Miss. Laina  female  26.0      0   \n",
       "3       Futrelle, Mrs. Jacques Heath (Lily May Peel)  female  35.0      1   \n",
       "4                           Allen, Mr. William Henry    male  35.0      0   \n",
       "\n",
       "   Parch            Ticket     Fare Cabin Embarked  \n",
       "0      0         A/5 21171   7.2500  None        S  \n",
       "1      0          PC 17599  71.2833   C85        C  \n",
       "2      0  STON/O2. 3101282   7.9250  None        S  \n",
       "3      0            113803  53.1000  C123        S  \n",
       "4      0            373450   8.0500  None        S  "
      ]
     },
     "execution_count": 24,
     "metadata": {},
     "output_type": "execute_result"
    }
   ],
   "source": [
    "## let's say we want to change the name of a column. we can use withColumnRenamed\n",
    "# df.withColumnRenamed('exsisting name', 'anticipated name');\n",
    "df.withColumnRenamed(\"Age\", \"newA\").limit(5).toPandas()"
   ]
  },
  {
   "cell_type": "code",
   "execution_count": 25,
   "metadata": {
    "execution": {
     "iopub.execute_input": "2020-09-05T14:21:02.235256Z",
     "iopub.status.busy": "2020-09-05T14:21:02.233976Z",
     "iopub.status.idle": "2020-09-05T14:21:02.509931Z",
     "shell.execute_reply": "2020-09-05T14:21:02.510997Z"
    },
    "papermill": {
     "duration": 0.496925,
     "end_time": "2020-09-05T14:21:02.511212",
     "exception": false,
     "start_time": "2020-09-05T14:21:02.014287",
     "status": "completed"
    },
    "scrolled": false,
    "tags": []
   },
   "outputs": [
    {
     "name": "stdout",
     "output_type": "stream",
     "text": [
      "+-----------+--------+------+--------------------+------+----+-----+-----+----------------+-------+-----+--------+\n",
      "|PassengerId|Survived|Pclass|                Name|   Sex| Age|SibSp|Parch|          Ticket|   Fare|Cabin|Embarked|\n",
      "+-----------+--------+------+--------------------+------+----+-----+-----+----------------+-------+-----+--------+\n",
      "|          1|       0|     3|Braund, Mr. Owen ...|  male|22.0|    1|    0|       A/5 21171|  27.25| null|       S|\n",
      "|          2|       1|     1|Cumings, Mrs. Joh...|female|38.0|    1|    0|        PC 17599|91.2833|  C85|       C|\n",
      "|          3|       1|     3|Heikkinen, Miss. ...|female|26.0|    0|    0|STON/O2. 3101282| 27.925| null|       S|\n",
      "|          4|       1|     1|Futrelle, Mrs. Ja...|female|35.0|    1|    0|          113803|   73.1| C123|       S|\n",
      "|          5|       0|     3|Allen, Mr. Willia...|  male|35.0|    0|    0|          373450|  28.05| null|       S|\n",
      "+-----------+--------+------+--------------------+------+----+-----+-----+----------------+-------+-----+--------+\n",
      "\n"
     ]
    }
   ],
   "source": [
    "# Let's say we want to modify a column add in this case, adding $20 with every fare. \n",
    "## df.withColumn('existing column', 'calculation with the column(we have to put df not just column)')\n",
    "## so not df.withColumn('Fare', 'Fare' +20).show()\n",
    "df.withColumn('Fare', df['Fare']+20).limit(5).show()"
   ]
  },
  {
   "cell_type": "code",
   "execution_count": 26,
   "metadata": {
    "execution": {
     "iopub.execute_input": "2020-09-05T14:21:02.944018Z",
     "iopub.status.busy": "2020-09-05T14:21:02.942893Z",
     "iopub.status.idle": "2020-09-05T14:21:02.945951Z",
     "shell.execute_reply": "2020-09-05T14:21:02.945195Z"
    },
    "papermill": {
     "duration": 0.219359,
     "end_time": "2020-09-05T14:21:02.946074",
     "exception": false,
     "start_time": "2020-09-05T14:21:02.726715",
     "status": "completed"
    },
    "tags": []
   },
   "outputs": [],
   "source": [
    "## let's say we want get the average fare.\n",
    "# we will use the \"mean\" function from pyspark.sql.functions(this is where all the functions are stored) and\n",
    "# collect the data using \".collect()\" instead of using .show()\n",
    "# collect returns a list so we need to get the value from the list using index"
   ]
  },
  {
   "cell_type": "code",
   "execution_count": 26,
   "metadata": {
    "ExecuteTime": {
     "end_time": "2021-02-13T10:03:56.480063Z",
     "start_time": "2021-02-13T10:03:56.281689Z"
    },
    "execution": {
     "iopub.execute_input": "2020-09-05T14:21:03.372524Z",
     "iopub.status.busy": "2020-09-05T14:21:03.371724Z",
     "iopub.status.idle": "2020-09-05T14:21:03.593802Z",
     "shell.execute_reply": "2020-09-05T14:21:03.592851Z"
    },
    "papermill": {
     "duration": 0.437385,
     "end_time": "2020-09-05T14:21:03.594006",
     "exception": false,
     "start_time": "2020-09-05T14:21:03.156621",
     "status": "completed"
    },
    "tags": []
   },
   "outputs": [
    {
     "data": {
      "text/plain": [
       "32.2042079685746"
      ]
     },
     "execution_count": 26,
     "metadata": {},
     "output_type": "execute_result"
    }
   ],
   "source": [
    "from pyspark.sql.functions import mean\n",
    "fare_mean = df.select(mean(\"Fare\")).collect()\n",
    "fare_mean[0][0]"
   ]
  },
  {
   "cell_type": "code",
   "execution_count": 27,
   "metadata": {
    "ExecuteTime": {
     "end_time": "2021-02-13T10:03:56.937059Z",
     "start_time": "2021-02-13T10:03:56.929226Z"
    }
   },
   "outputs": [
    {
     "data": {
      "text/plain": [
       "['Column',\n",
       " 'DataFrame',\n",
       " 'DataType',\n",
       " 'PandasUDFType',\n",
       " 'PythonEvalType',\n",
       " 'SparkContext',\n",
       " 'StringType',\n",
       " 'UserDefinedFunction',\n",
       " '__all__',\n",
       " '__builtins__',\n",
       " '__cached__',\n",
       " '__doc__',\n",
       " '__file__',\n",
       " '__loader__',\n",
       " '__name__',\n",
       " '__package__',\n",
       " '__spec__',\n",
       " '_binary_mathfunctions',\n",
       " '_collect_list_doc',\n",
       " '_collect_set_doc',\n",
       " '_create_binary_mathfunction',\n",
       " '_create_column_from_literal',\n",
       " '_create_column_from_name',\n",
       " '_create_function',\n",
       " '_create_function_over_column',\n",
       " '_create_udf',\n",
       " '_create_window_function',\n",
       " '_functions',\n",
       " '_functions_1_4_over_column',\n",
       " '_functions_1_6_over_column',\n",
       " '_functions_2_1_over_column',\n",
       " '_functions_2_4',\n",
       " '_functions_deprecated',\n",
       " '_functions_over_column',\n",
       " '_lit_doc',\n",
       " '_message',\n",
       " '_options_to_str',\n",
       " '_string_functions',\n",
       " '_test',\n",
       " '_to_java_column',\n",
       " '_to_seq',\n",
       " '_window_functions',\n",
       " '_wrap_deprecated_function',\n",
       " 'abs',\n",
       " 'acos',\n",
       " 'add_months',\n",
       " 'approxCountDistinct',\n",
       " 'approx_count_distinct',\n",
       " 'array',\n",
       " 'array_contains',\n",
       " 'array_distinct',\n",
       " 'array_except',\n",
       " 'array_intersect',\n",
       " 'array_join',\n",
       " 'array_max',\n",
       " 'array_min',\n",
       " 'array_position',\n",
       " 'array_remove',\n",
       " 'array_repeat',\n",
       " 'array_sort',\n",
       " 'array_union',\n",
       " 'arrays_overlap',\n",
       " 'arrays_zip',\n",
       " 'asc',\n",
       " 'asc_nulls_first',\n",
       " 'asc_nulls_last',\n",
       " 'ascii',\n",
       " 'asin',\n",
       " 'atan',\n",
       " 'atan2',\n",
       " 'avg',\n",
       " 'base64',\n",
       " 'basestring',\n",
       " 'bin',\n",
       " 'bitwiseNOT',\n",
       " 'blacklist',\n",
       " 'broadcast',\n",
       " 'bround',\n",
       " 'cbrt',\n",
       " 'ceil',\n",
       " 'coalesce',\n",
       " 'col',\n",
       " 'collect_list',\n",
       " 'collect_set',\n",
       " 'column',\n",
       " 'concat',\n",
       " 'concat_ws',\n",
       " 'conv',\n",
       " 'corr',\n",
       " 'cos',\n",
       " 'cosh',\n",
       " 'count',\n",
       " 'countDistinct',\n",
       " 'covar_pop',\n",
       " 'covar_samp',\n",
       " 'crc32',\n",
       " 'create_map',\n",
       " 'cume_dist',\n",
       " 'current_date',\n",
       " 'current_timestamp',\n",
       " 'date_add',\n",
       " 'date_format',\n",
       " 'date_sub',\n",
       " 'date_trunc',\n",
       " 'datediff',\n",
       " 'dayofmonth',\n",
       " 'dayofweek',\n",
       " 'dayofyear',\n",
       " 'decode',\n",
       " 'degrees',\n",
       " 'dense_rank',\n",
       " 'desc',\n",
       " 'desc_nulls_first',\n",
       " 'desc_nulls_last',\n",
       " 'element_at',\n",
       " 'encode',\n",
       " 'exp',\n",
       " 'explode',\n",
       " 'explode_outer',\n",
       " 'expm1',\n",
       " 'expr',\n",
       " 'factorial',\n",
       " 'first',\n",
       " 'flatten',\n",
       " 'floor',\n",
       " 'format_number',\n",
       " 'format_string',\n",
       " 'from_csv',\n",
       " 'from_json',\n",
       " 'from_unixtime',\n",
       " 'from_utc_timestamp',\n",
       " 'functools',\n",
       " 'get_json_object',\n",
       " 'greatest',\n",
       " 'grouping',\n",
       " 'grouping_id',\n",
       " 'hash',\n",
       " 'hex',\n",
       " 'hour',\n",
       " 'hypot',\n",
       " 'ignore_unicode_prefix',\n",
       " 'initcap',\n",
       " 'input_file_name',\n",
       " 'instr',\n",
       " 'isnan',\n",
       " 'isnull',\n",
       " 'json_tuple',\n",
       " 'kurtosis',\n",
       " 'lag',\n",
       " 'last',\n",
       " 'last_day',\n",
       " 'lead',\n",
       " 'least',\n",
       " 'length',\n",
       " 'levenshtein',\n",
       " 'lit',\n",
       " 'locate',\n",
       " 'log',\n",
       " 'log10',\n",
       " 'log1p',\n",
       " 'log2',\n",
       " 'lower',\n",
       " 'lpad',\n",
       " 'ltrim',\n",
       " 'map_concat',\n",
       " 'map_entries',\n",
       " 'map_from_arrays',\n",
       " 'map_from_entries',\n",
       " 'map_keys',\n",
       " 'map_values',\n",
       " 'max',\n",
       " 'md5',\n",
       " 'mean',\n",
       " 'min',\n",
       " 'minute',\n",
       " 'monotonically_increasing_id',\n",
       " 'month',\n",
       " 'months_between',\n",
       " 'nanvl',\n",
       " 'next_day',\n",
       " 'ntile',\n",
       " 'overlay',\n",
       " 'pandas_udf',\n",
       " 'percent_rank',\n",
       " 'posexplode',\n",
       " 'posexplode_outer',\n",
       " 'pow',\n",
       " 'quarter',\n",
       " 'radians',\n",
       " 'rand',\n",
       " 'randn',\n",
       " 'rank',\n",
       " 'regexp_extract',\n",
       " 'regexp_replace',\n",
       " 'repeat',\n",
       " 'reverse',\n",
       " 'rint',\n",
       " 'round',\n",
       " 'row_number',\n",
       " 'rpad',\n",
       " 'rtrim',\n",
       " 'schema_of_csv',\n",
       " 'schema_of_json',\n",
       " 'second',\n",
       " 'sequence',\n",
       " 'sha1',\n",
       " 'sha2',\n",
       " 'shiftLeft',\n",
       " 'shiftRight',\n",
       " 'shiftRightUnsigned',\n",
       " 'shuffle',\n",
       " 'signum',\n",
       " 'sin',\n",
       " 'since',\n",
       " 'sinh',\n",
       " 'size',\n",
       " 'skewness',\n",
       " 'slice',\n",
       " 'sort_array',\n",
       " 'soundex',\n",
       " 'spark_partition_id',\n",
       " 'split',\n",
       " 'sqrt',\n",
       " 'stddev',\n",
       " 'stddev_pop',\n",
       " 'stddev_samp',\n",
       " 'struct',\n",
       " 'substring',\n",
       " 'substring_index',\n",
       " 'sum',\n",
       " 'sumDistinct',\n",
       " 'sys',\n",
       " 'tan',\n",
       " 'tanh',\n",
       " 'toDegrees',\n",
       " 'toRadians',\n",
       " 'to_csv',\n",
       " 'to_date',\n",
       " 'to_json',\n",
       " 'to_str',\n",
       " 'to_timestamp',\n",
       " 'to_utc_timestamp',\n",
       " 'translate',\n",
       " 'trim',\n",
       " 'trunc',\n",
       " 'udf',\n",
       " 'unbase64',\n",
       " 'unhex',\n",
       " 'unix_timestamp',\n",
       " 'upper',\n",
       " 'var_pop',\n",
       " 'var_samp',\n",
       " 'variance',\n",
       " 'warnings',\n",
       " 'weekofyear',\n",
       " 'when',\n",
       " 'window',\n",
       " 'xxhash64',\n",
       " 'year']"
      ]
     },
     "execution_count": 27,
     "metadata": {},
     "output_type": "execute_result"
    }
   ],
   "source": [
    "# df['Fare'].mean() # this one doesn't work, \n",
    "# to check what function can be used\n",
    "import pyspark.sql.functions as pyspark_func\n",
    "dir(pyspark_func)"
   ]
  },
  {
   "cell_type": "code",
   "execution_count": 28,
   "metadata": {
    "ExecuteTime": {
     "end_time": "2021-02-13T10:03:57.566025Z",
     "start_time": "2021-02-13T10:03:57.561600Z"
    },
    "execution": {
     "iopub.execute_input": "2020-09-05T14:21:04.230060Z",
     "iopub.status.busy": "2020-09-05T14:21:04.228942Z",
     "iopub.status.idle": "2020-09-05T14:21:04.231169Z",
     "shell.execute_reply": "2020-09-05T14:21:04.232167Z"
    },
    "papermill": {
     "duration": 0.325301,
     "end_time": "2020-09-05T14:21:04.232393",
     "exception": false,
     "start_time": "2020-09-05T14:21:03.907092",
     "status": "completed"
    },
    "tags": []
   },
   "outputs": [],
   "source": [
    "fare_mean = fare_mean[0][0]"
   ]
  },
  {
   "cell_type": "code",
   "execution_count": 29,
   "metadata": {
    "ExecuteTime": {
     "end_time": "2021-02-13T10:03:58.505772Z",
     "start_time": "2021-02-13T10:03:58.153363Z"
    },
    "execution": {
     "iopub.execute_input": "2020-09-05T14:21:04.674928Z",
     "iopub.status.busy": "2020-09-05T14:21:04.673980Z",
     "iopub.status.idle": "2020-09-05T14:21:04.973696Z",
     "shell.execute_reply": "2020-09-05T14:21:04.972385Z"
    },
    "papermill": {
     "duration": 0.517764,
     "end_time": "2020-09-05T14:21:04.973903",
     "exception": false,
     "start_time": "2020-09-05T14:21:04.456139",
     "status": "completed"
    },
    "tags": []
   },
   "outputs": [
    {
     "name": "stdout",
     "output_type": "stream",
     "text": [
      "+-----------+--------+------+--------------------+------+----+-----+-----+--------+-------+-----+--------+\n",
      "|PassengerId|Survived|Pclass|                Name|   Sex| Age|SibSp|Parch|  Ticket|   Fare|Cabin|Embarked|\n",
      "+-----------+--------+------+--------------------+------+----+-----+-----+--------+-------+-----+--------+\n",
      "|          2|       1|     1|Cumings, Mrs. Joh...|female|38.0|    1|    0|PC 17599|71.2833|  C85|       C|\n",
      "|          4|       1|     1|Futrelle, Mrs. Ja...|female|35.0|    1|    0|  113803|   53.1| C123|       S|\n",
      "|          7|       0|     1|McCarthy, Mr. Tim...|  male|54.0|    0|    0|   17463|51.8625|  E46|       S|\n",
      "+-----------+--------+------+--------------------+------+----+-----+-----+--------+-------+-----+--------+\n",
      "\n"
     ]
    }
   ],
   "source": [
    "# What if we want to filter data and see all datapoints above average. \n",
    "# there are two approaches of this, we can use sql syntex\n",
    "# or just dataframe approach. \n",
    "# very handy api :P\n",
    "df.filter(\"Fare > 32.20\" ).limit(3).show()"
   ]
  },
  {
   "cell_type": "code",
   "execution_count": 30,
   "metadata": {
    "ExecuteTime": {
     "end_time": "2021-02-13T10:03:59.408974Z",
     "start_time": "2021-02-13T10:03:59.249054Z"
    },
    "execution": {
     "iopub.execute_input": "2020-09-05T14:21:05.419385Z",
     "iopub.status.busy": "2020-09-05T14:21:05.418325Z",
     "iopub.status.idle": "2020-09-05T14:21:05.708113Z",
     "shell.execute_reply": "2020-09-05T14:21:05.706907Z"
    },
    "papermill": {
     "duration": 0.513695,
     "end_time": "2020-09-05T14:21:05.708266",
     "exception": false,
     "start_time": "2020-09-05T14:21:05.194571",
     "status": "completed"
    },
    "tags": []
   },
   "outputs": [
    {
     "name": "stdout",
     "output_type": "stream",
     "text": [
      "+-----------+--------+------+--------------------+------+----+-----+-----+--------+-------+-----+--------+\n",
      "|PassengerId|Survived|Pclass|                Name|   Sex| Age|SibSp|Parch|  Ticket|   Fare|Cabin|Embarked|\n",
      "+-----------+--------+------+--------------------+------+----+-----+-----+--------+-------+-----+--------+\n",
      "|          2|       1|     1|Cumings, Mrs. Joh...|female|38.0|    1|    0|PC 17599|71.2833|  C85|       C|\n",
      "|          4|       1|     1|Futrelle, Mrs. Ja...|female|35.0|    1|    0|  113803|   53.1| C123|       S|\n",
      "|          7|       0|     1|McCarthy, Mr. Tim...|  male|54.0|    0|    0|   17463|51.8625|  E46|       S|\n",
      "+-----------+--------+------+--------------------+------+----+-----+-----+--------+-------+-----+--------+\n",
      "\n"
     ]
    }
   ],
   "source": [
    "## using the dataframe approach\n",
    "df.filter(df['Fare']> fare_mean).limit(3).show()"
   ]
  },
  {
   "cell_type": "code",
   "execution_count": 33,
   "metadata": {
    "ExecuteTime": {
     "end_time": "2021-02-13T10:05:48.676912Z",
     "start_time": "2021-02-13T10:05:48.532554Z"
    },
    "execution": {
     "iopub.execute_input": "2020-09-05T14:21:06.220534Z",
     "iopub.status.busy": "2020-09-05T14:21:06.219315Z",
     "iopub.status.idle": "2020-09-05T14:21:06.478961Z",
     "shell.execute_reply": "2020-09-05T14:21:06.478008Z"
    },
    "papermill": {
     "duration": 0.505097,
     "end_time": "2020-09-05T14:21:06.479165",
     "exception": false,
     "start_time": "2020-09-05T14:21:05.974068",
     "status": "completed"
    },
    "tags": []
   },
   "outputs": [
    {
     "data": {
      "text/html": [
       "<div>\n",
       "<style scoped>\n",
       "    .dataframe tbody tr th:only-of-type {\n",
       "        vertical-align: middle;\n",
       "    }\n",
       "\n",
       "    .dataframe tbody tr th {\n",
       "        vertical-align: top;\n",
       "    }\n",
       "\n",
       "    .dataframe thead th {\n",
       "        text-align: right;\n",
       "    }\n",
       "</style>\n",
       "<table border=\"1\" class=\"dataframe\">\n",
       "  <thead>\n",
       "    <tr style=\"text-align: right;\">\n",
       "      <th></th>\n",
       "      <th>PassengerId</th>\n",
       "      <th>Survived</th>\n",
       "      <th>Pclass</th>\n",
       "      <th>Name</th>\n",
       "      <th>Sex</th>\n",
       "      <th>Age</th>\n",
       "      <th>SibSp</th>\n",
       "      <th>Parch</th>\n",
       "      <th>Ticket</th>\n",
       "      <th>Fare</th>\n",
       "      <th>Cabin</th>\n",
       "      <th>Embarked</th>\n",
       "    </tr>\n",
       "  </thead>\n",
       "  <tbody>\n",
       "    <tr>\n",
       "      <th>0</th>\n",
       "      <td>1</td>\n",
       "      <td>0</td>\n",
       "      <td>3</td>\n",
       "      <td>Braund, Mr. Owen Harris</td>\n",
       "      <td>male</td>\n",
       "      <td>22.0</td>\n",
       "      <td>1</td>\n",
       "      <td>0</td>\n",
       "      <td>A/5 21171</td>\n",
       "      <td>7.2500</td>\n",
       "      <td>None</td>\n",
       "      <td>S</td>\n",
       "    </tr>\n",
       "    <tr>\n",
       "      <th>1</th>\n",
       "      <td>3</td>\n",
       "      <td>1</td>\n",
       "      <td>3</td>\n",
       "      <td>Heikkinen, Miss. Laina</td>\n",
       "      <td>female</td>\n",
       "      <td>26.0</td>\n",
       "      <td>0</td>\n",
       "      <td>0</td>\n",
       "      <td>STON/O2. 3101282</td>\n",
       "      <td>7.9250</td>\n",
       "      <td>None</td>\n",
       "      <td>S</td>\n",
       "    </tr>\n",
       "    <tr>\n",
       "      <th>2</th>\n",
       "      <td>5</td>\n",
       "      <td>0</td>\n",
       "      <td>3</td>\n",
       "      <td>Allen, Mr. William Henry</td>\n",
       "      <td>male</td>\n",
       "      <td>35.0</td>\n",
       "      <td>0</td>\n",
       "      <td>0</td>\n",
       "      <td>373450</td>\n",
       "      <td>8.0500</td>\n",
       "      <td>None</td>\n",
       "      <td>S</td>\n",
       "    </tr>\n",
       "    <tr>\n",
       "      <th>3</th>\n",
       "      <td>6</td>\n",
       "      <td>0</td>\n",
       "      <td>3</td>\n",
       "      <td>Moran, Mr. James</td>\n",
       "      <td>male</td>\n",
       "      <td>NaN</td>\n",
       "      <td>0</td>\n",
       "      <td>0</td>\n",
       "      <td>330877</td>\n",
       "      <td>8.4583</td>\n",
       "      <td>None</td>\n",
       "      <td>Q</td>\n",
       "    </tr>\n",
       "    <tr>\n",
       "      <th>4</th>\n",
       "      <td>8</td>\n",
       "      <td>0</td>\n",
       "      <td>3</td>\n",
       "      <td>Palsson, Master. Gosta Leonard</td>\n",
       "      <td>male</td>\n",
       "      <td>2.0</td>\n",
       "      <td>3</td>\n",
       "      <td>1</td>\n",
       "      <td>349909</td>\n",
       "      <td>21.0750</td>\n",
       "      <td>None</td>\n",
       "      <td>S</td>\n",
       "    </tr>\n",
       "    <tr>\n",
       "      <th>...</th>\n",
       "      <td>...</td>\n",
       "      <td>...</td>\n",
       "      <td>...</td>\n",
       "      <td>...</td>\n",
       "      <td>...</td>\n",
       "      <td>...</td>\n",
       "      <td>...</td>\n",
       "      <td>...</td>\n",
       "      <td>...</td>\n",
       "      <td>...</td>\n",
       "      <td>...</td>\n",
       "      <td>...</td>\n",
       "    </tr>\n",
       "    <tr>\n",
       "      <th>456</th>\n",
       "      <td>883</td>\n",
       "      <td>0</td>\n",
       "      <td>3</td>\n",
       "      <td>Dahlberg, Miss. Gerda Ulrika</td>\n",
       "      <td>female</td>\n",
       "      <td>22.0</td>\n",
       "      <td>0</td>\n",
       "      <td>0</td>\n",
       "      <td>7552</td>\n",
       "      <td>10.5167</td>\n",
       "      <td>None</td>\n",
       "      <td>S</td>\n",
       "    </tr>\n",
       "    <tr>\n",
       "      <th>457</th>\n",
       "      <td>885</td>\n",
       "      <td>0</td>\n",
       "      <td>3</td>\n",
       "      <td>Sutehall, Mr. Henry Jr</td>\n",
       "      <td>male</td>\n",
       "      <td>25.0</td>\n",
       "      <td>0</td>\n",
       "      <td>0</td>\n",
       "      <td>SOTON/OQ 392076</td>\n",
       "      <td>7.0500</td>\n",
       "      <td>None</td>\n",
       "      <td>S</td>\n",
       "    </tr>\n",
       "    <tr>\n",
       "      <th>458</th>\n",
       "      <td>886</td>\n",
       "      <td>0</td>\n",
       "      <td>3</td>\n",
       "      <td>Rice, Mrs. William (Margaret Norton)</td>\n",
       "      <td>female</td>\n",
       "      <td>39.0</td>\n",
       "      <td>0</td>\n",
       "      <td>5</td>\n",
       "      <td>382652</td>\n",
       "      <td>29.1250</td>\n",
       "      <td>None</td>\n",
       "      <td>Q</td>\n",
       "    </tr>\n",
       "    <tr>\n",
       "      <th>459</th>\n",
       "      <td>889</td>\n",
       "      <td>0</td>\n",
       "      <td>3</td>\n",
       "      <td>\"Johnston, Miss. Catherine Helen \"\"Carrie\"\"\"</td>\n",
       "      <td>female</td>\n",
       "      <td>NaN</td>\n",
       "      <td>1</td>\n",
       "      <td>2</td>\n",
       "      <td>W./C. 6607</td>\n",
       "      <td>23.4500</td>\n",
       "      <td>None</td>\n",
       "      <td>S</td>\n",
       "    </tr>\n",
       "    <tr>\n",
       "      <th>460</th>\n",
       "      <td>891</td>\n",
       "      <td>0</td>\n",
       "      <td>3</td>\n",
       "      <td>Dooley, Mr. Patrick</td>\n",
       "      <td>male</td>\n",
       "      <td>32.0</td>\n",
       "      <td>0</td>\n",
       "      <td>0</td>\n",
       "      <td>370376</td>\n",
       "      <td>7.7500</td>\n",
       "      <td>None</td>\n",
       "      <td>Q</td>\n",
       "    </tr>\n",
       "  </tbody>\n",
       "</table>\n",
       "<p>461 rows × 12 columns</p>\n",
       "</div>"
      ],
      "text/plain": [
       "     PassengerId  Survived  Pclass  \\\n",
       "0              1         0       3   \n",
       "1              3         1       3   \n",
       "2              5         0       3   \n",
       "3              6         0       3   \n",
       "4              8         0       3   \n",
       "..           ...       ...     ...   \n",
       "456          883         0       3   \n",
       "457          885         0       3   \n",
       "458          886         0       3   \n",
       "459          889         0       3   \n",
       "460          891         0       3   \n",
       "\n",
       "                                             Name     Sex   Age  SibSp  Parch  \\\n",
       "0                         Braund, Mr. Owen Harris    male  22.0      1      0   \n",
       "1                          Heikkinen, Miss. Laina  female  26.0      0      0   \n",
       "2                        Allen, Mr. William Henry    male  35.0      0      0   \n",
       "3                                Moran, Mr. James    male   NaN      0      0   \n",
       "4                  Palsson, Master. Gosta Leonard    male   2.0      3      1   \n",
       "..                                            ...     ...   ...    ...    ...   \n",
       "456                  Dahlberg, Miss. Gerda Ulrika  female  22.0      0      0   \n",
       "457                        Sutehall, Mr. Henry Jr    male  25.0      0      0   \n",
       "458          Rice, Mrs. William (Margaret Norton)  female  39.0      0      5   \n",
       "459  \"Johnston, Miss. Catherine Helen \"\"Carrie\"\"\"  female   NaN      1      2   \n",
       "460                           Dooley, Mr. Patrick    male  32.0      0      0   \n",
       "\n",
       "               Ticket     Fare Cabin Embarked  \n",
       "0           A/5 21171   7.2500  None        S  \n",
       "1    STON/O2. 3101282   7.9250  None        S  \n",
       "2              373450   8.0500  None        S  \n",
       "3              330877   8.4583  None        Q  \n",
       "4              349909  21.0750  None        S  \n",
       "..                ...      ...   ...      ...  \n",
       "456              7552  10.5167  None        S  \n",
       "457   SOTON/OQ 392076   7.0500  None        S  \n",
       "458            382652  29.1250  None        Q  \n",
       "459        W./C. 6607  23.4500  None        S  \n",
       "460            370376   7.7500  None        Q  \n",
       "\n",
       "[461 rows x 12 columns]"
      ]
     },
     "execution_count": 33,
     "metadata": {},
     "output_type": "execute_result"
    }
   ],
   "source": [
    "## What if we want to filter by multiple columns.\n",
    "# passenger with below average fare with a Pclass equals 3\n",
    "df.filter((df['Fare'] < fare_mean) &\n",
    "          (df['Pclass'] ==  3)\n",
    "         ).toPandas()"
   ]
  },
  {
   "cell_type": "code",
   "execution_count": 34,
   "metadata": {
    "ExecuteTime": {
     "end_time": "2021-02-13T10:05:49.550611Z",
     "start_time": "2021-02-13T10:05:49.445855Z"
    },
    "execution": {
     "iopub.execute_input": "2020-09-05T14:21:06.933032Z",
     "iopub.status.busy": "2020-09-05T14:21:06.932016Z",
     "iopub.status.idle": "2020-09-05T14:21:07.095085Z",
     "shell.execute_reply": "2020-09-05T14:21:07.095911Z"
    },
    "papermill": {
     "duration": 0.384212,
     "end_time": "2020-09-05T14:21:07.096103",
     "exception": false,
     "start_time": "2020-09-05T14:21:06.711891",
     "status": "completed"
    },
    "tags": []
   },
   "outputs": [
    {
     "data": {
      "text/html": [
       "<div>\n",
       "<style scoped>\n",
       "    .dataframe tbody tr th:only-of-type {\n",
       "        vertical-align: middle;\n",
       "    }\n",
       "\n",
       "    .dataframe tbody tr th {\n",
       "        vertical-align: top;\n",
       "    }\n",
       "\n",
       "    .dataframe thead th {\n",
       "        text-align: right;\n",
       "    }\n",
       "</style>\n",
       "<table border=\"1\" class=\"dataframe\">\n",
       "  <thead>\n",
       "    <tr style=\"text-align: right;\">\n",
       "      <th></th>\n",
       "      <th>PassengerId</th>\n",
       "      <th>Survived</th>\n",
       "      <th>Pclass</th>\n",
       "      <th>Name</th>\n",
       "      <th>Sex</th>\n",
       "      <th>Age</th>\n",
       "      <th>SibSp</th>\n",
       "      <th>Parch</th>\n",
       "      <th>Ticket</th>\n",
       "      <th>Fare</th>\n",
       "      <th>Cabin</th>\n",
       "      <th>Embarked</th>\n",
       "    </tr>\n",
       "  </thead>\n",
       "  <tbody>\n",
       "    <tr>\n",
       "      <th>0</th>\n",
       "      <td>3</td>\n",
       "      <td>1</td>\n",
       "      <td>3</td>\n",
       "      <td>Heikkinen, Miss. Laina</td>\n",
       "      <td>female</td>\n",
       "      <td>26.0</td>\n",
       "      <td>0</td>\n",
       "      <td>0</td>\n",
       "      <td>STON/O2. 3101282</td>\n",
       "      <td>7.9250</td>\n",
       "      <td>None</td>\n",
       "      <td>S</td>\n",
       "    </tr>\n",
       "    <tr>\n",
       "      <th>1</th>\n",
       "      <td>9</td>\n",
       "      <td>1</td>\n",
       "      <td>3</td>\n",
       "      <td>Johnson, Mrs. Oscar W (Elisabeth Vilhelmina Berg)</td>\n",
       "      <td>female</td>\n",
       "      <td>27.0</td>\n",
       "      <td>0</td>\n",
       "      <td>2</td>\n",
       "      <td>347742</td>\n",
       "      <td>11.1333</td>\n",
       "      <td>None</td>\n",
       "      <td>S</td>\n",
       "    </tr>\n",
       "    <tr>\n",
       "      <th>2</th>\n",
       "      <td>10</td>\n",
       "      <td>1</td>\n",
       "      <td>2</td>\n",
       "      <td>Nasser, Mrs. Nicholas (Adele Achem)</td>\n",
       "      <td>female</td>\n",
       "      <td>14.0</td>\n",
       "      <td>1</td>\n",
       "      <td>0</td>\n",
       "      <td>237736</td>\n",
       "      <td>30.0708</td>\n",
       "      <td>None</td>\n",
       "      <td>C</td>\n",
       "    </tr>\n",
       "    <tr>\n",
       "      <th>3</th>\n",
       "      <td>11</td>\n",
       "      <td>1</td>\n",
       "      <td>3</td>\n",
       "      <td>Sandstrom, Miss. Marguerite Rut</td>\n",
       "      <td>female</td>\n",
       "      <td>4.0</td>\n",
       "      <td>1</td>\n",
       "      <td>1</td>\n",
       "      <td>PP 9549</td>\n",
       "      <td>16.7000</td>\n",
       "      <td>G6</td>\n",
       "      <td>S</td>\n",
       "    </tr>\n",
       "    <tr>\n",
       "      <th>4</th>\n",
       "      <td>12</td>\n",
       "      <td>1</td>\n",
       "      <td>1</td>\n",
       "      <td>Bonnell, Miss. Elizabeth</td>\n",
       "      <td>female</td>\n",
       "      <td>58.0</td>\n",
       "      <td>0</td>\n",
       "      <td>0</td>\n",
       "      <td>113783</td>\n",
       "      <td>26.5500</td>\n",
       "      <td>C103</td>\n",
       "      <td>S</td>\n",
       "    </tr>\n",
       "  </tbody>\n",
       "</table>\n",
       "</div>"
      ],
      "text/plain": [
       "   PassengerId  Survived  Pclass  \\\n",
       "0            3         1       3   \n",
       "1            9         1       3   \n",
       "2           10         1       2   \n",
       "3           11         1       3   \n",
       "4           12         1       1   \n",
       "\n",
       "                                                Name     Sex   Age  SibSp  \\\n",
       "0                             Heikkinen, Miss. Laina  female  26.0      0   \n",
       "1  Johnson, Mrs. Oscar W (Elisabeth Vilhelmina Berg)  female  27.0      0   \n",
       "2                Nasser, Mrs. Nicholas (Adele Achem)  female  14.0      1   \n",
       "3                    Sandstrom, Miss. Marguerite Rut  female   4.0      1   \n",
       "4                           Bonnell, Miss. Elizabeth  female  58.0      0   \n",
       "\n",
       "   Parch            Ticket     Fare Cabin Embarked  \n",
       "0      0  STON/O2. 3101282   7.9250  None        S  \n",
       "1      2            347742  11.1333  None        S  \n",
       "2      0            237736  30.0708  None        C  \n",
       "3      1           PP 9549  16.7000    G6        S  \n",
       "4      0            113783  26.5500  C103        S  "
      ]
     },
     "execution_count": 34,
     "metadata": {},
     "output_type": "execute_result"
    }
   ],
   "source": [
    "# passenger with below fare and are not male\n",
    "df.filter((df['Fare'] < fare_mean) &\n",
    "          ~(df['Sex'] ==  \"male\")\n",
    "         ).limit(5).toPandas()"
   ]
  },
  {
   "cell_type": "code",
   "execution_count": 35,
   "metadata": {
    "ExecuteTime": {
     "end_time": "2021-02-13T10:05:51.026899Z",
     "start_time": "2021-02-13T10:05:50.346116Z"
    },
    "execution": {
     "iopub.execute_input": "2020-09-05T14:21:07.540966Z",
     "iopub.status.busy": "2020-09-05T14:21:07.539924Z",
     "iopub.status.idle": "2020-09-05T14:21:09.587942Z",
     "shell.execute_reply": "2020-09-05T14:21:09.587027Z"
    },
    "papermill": {
     "duration": 2.268811,
     "end_time": "2020-09-05T14:21:09.588124",
     "exception": false,
     "start_time": "2020-09-05T14:21:07.319313",
     "status": "completed"
    },
    "tags": []
   },
   "outputs": [
    {
     "data": {
      "text/html": [
       "<div>\n",
       "<style scoped>\n",
       "    .dataframe tbody tr th:only-of-type {\n",
       "        vertical-align: middle;\n",
       "    }\n",
       "\n",
       "    .dataframe tbody tr th {\n",
       "        vertical-align: top;\n",
       "    }\n",
       "\n",
       "    .dataframe thead th {\n",
       "        text-align: right;\n",
       "    }\n",
       "</style>\n",
       "<table border=\"1\" class=\"dataframe\">\n",
       "  <thead>\n",
       "    <tr style=\"text-align: right;\">\n",
       "      <th></th>\n",
       "      <th>Pclass</th>\n",
       "      <th>avg(PassengerId)</th>\n",
       "      <th>avg(Survived)</th>\n",
       "      <th>avg(Pclass)</th>\n",
       "      <th>avg(Age)</th>\n",
       "      <th>avg(SibSp)</th>\n",
       "      <th>avg(Parch)</th>\n",
       "      <th>avg(Fare)</th>\n",
       "    </tr>\n",
       "  </thead>\n",
       "  <tbody>\n",
       "    <tr>\n",
       "      <th>0</th>\n",
       "      <td>1</td>\n",
       "      <td>461.597222</td>\n",
       "      <td>0.629630</td>\n",
       "      <td>1.0</td>\n",
       "      <td>38.233441</td>\n",
       "      <td>0.416667</td>\n",
       "      <td>0.356481</td>\n",
       "      <td>84.154687</td>\n",
       "    </tr>\n",
       "    <tr>\n",
       "      <th>1</th>\n",
       "      <td>3</td>\n",
       "      <td>439.154786</td>\n",
       "      <td>0.242363</td>\n",
       "      <td>3.0</td>\n",
       "      <td>25.140620</td>\n",
       "      <td>0.615071</td>\n",
       "      <td>0.393075</td>\n",
       "      <td>13.675550</td>\n",
       "    </tr>\n",
       "    <tr>\n",
       "      <th>2</th>\n",
       "      <td>2</td>\n",
       "      <td>445.956522</td>\n",
       "      <td>0.472826</td>\n",
       "      <td>2.0</td>\n",
       "      <td>29.877630</td>\n",
       "      <td>0.402174</td>\n",
       "      <td>0.380435</td>\n",
       "      <td>20.662183</td>\n",
       "    </tr>\n",
       "  </tbody>\n",
       "</table>\n",
       "</div>"
      ],
      "text/plain": [
       "   Pclass  avg(PassengerId)  avg(Survived)  avg(Pclass)   avg(Age)  \\\n",
       "0       1        461.597222       0.629630          1.0  38.233441   \n",
       "1       3        439.154786       0.242363          3.0  25.140620   \n",
       "2       2        445.956522       0.472826          2.0  29.877630   \n",
       "\n",
       "   avg(SibSp)  avg(Parch)  avg(Fare)  \n",
       "0    0.416667    0.356481  84.154687  \n",
       "1    0.615071    0.393075  13.675550  \n",
       "2    0.402174    0.380435  20.662183  "
      ]
     },
     "execution_count": 35,
     "metadata": {},
     "output_type": "execute_result"
    }
   ],
   "source": [
    "## Let's group by Pclass and see how the average fare price. \n",
    "# groupby object implement aggregstion functions!\n",
    "df.groupBy(\"Pclass\").mean().toPandas()"
   ]
  },
  {
   "cell_type": "code",
   "execution_count": 36,
   "metadata": {
    "ExecuteTime": {
     "end_time": "2021-02-13T10:05:52.061302Z",
     "start_time": "2021-02-13T10:05:51.645167Z"
    },
    "execution": {
     "iopub.execute_input": "2020-09-05T14:21:10.094156Z",
     "iopub.status.busy": "2020-09-05T14:21:10.092897Z",
     "iopub.status.idle": "2020-09-05T14:21:11.466079Z",
     "shell.execute_reply": "2020-09-05T14:21:11.465102Z"
    },
    "papermill": {
     "duration": 1.595563,
     "end_time": "2020-09-05T14:21:11.466265",
     "exception": false,
     "start_time": "2020-09-05T14:21:09.870702",
     "status": "completed"
    },
    "tags": []
   },
   "outputs": [
    {
     "name": "stdout",
     "output_type": "stream",
     "text": [
      "+------+------------------+\n",
      "|Pclass|         avg(Fare)|\n",
      "+------+------------------+\n",
      "|     1| 84.15468749999992|\n",
      "|     3|13.675550101832997|\n",
      "|     2| 20.66218315217391|\n",
      "+------+------------------+\n",
      "\n"
     ]
    }
   ],
   "source": [
    "## let's just look at the Pclass and avg(Fare)\n",
    "df.groupBy(\"Pclass\").mean().select(['Pclass', 'avg(Fare)']).show()"
   ]
  },
  {
   "cell_type": "code",
   "execution_count": 37,
   "metadata": {
    "ExecuteTime": {
     "end_time": "2021-02-13T10:06:21.277680Z",
     "start_time": "2021-02-13T10:06:21.142750Z"
    },
    "execution": {
     "iopub.execute_input": "2020-09-05T14:21:12.006820Z",
     "iopub.status.busy": "2020-09-05T14:21:12.005687Z",
     "iopub.status.idle": "2020-09-05T14:21:12.163387Z",
     "shell.execute_reply": "2020-09-05T14:21:12.162537Z"
    },
    "papermill": {
     "duration": 0.383803,
     "end_time": "2020-09-05T14:21:12.163549",
     "exception": false,
     "start_time": "2020-09-05T14:21:11.779746",
     "status": "completed"
    },
    "tags": []
   },
   "outputs": [
    {
     "name": "stdout",
     "output_type": "stream",
     "text": [
      "+----------------+\n",
      "|       avg(Fare)|\n",
      "+----------------+\n",
      "|32.2042079685746|\n",
      "+----------------+\n",
      "\n"
     ]
    }
   ],
   "source": [
    "## What if we want just the average of all fare, we can use .agg with the dataframe. \n",
    "df.agg({'Fare':'mean'}).show()"
   ]
  },
  {
   "cell_type": "code",
   "execution_count": 38,
   "metadata": {
    "ExecuteTime": {
     "end_time": "2021-02-13T10:06:22.410577Z",
     "start_time": "2021-02-13T10:06:22.314814Z"
    },
    "execution": {
     "iopub.execute_input": "2020-09-05T14:21:12.608160Z",
     "iopub.status.busy": "2020-09-05T14:21:12.607283Z",
     "iopub.status.idle": "2020-09-05T14:21:12.742615Z",
     "shell.execute_reply": "2020-09-05T14:21:12.741700Z"
    },
    "papermill": {
     "duration": 0.35705,
     "end_time": "2020-09-05T14:21:12.742808",
     "exception": false,
     "start_time": "2020-09-05T14:21:12.385758",
     "status": "completed"
    },
    "tags": []
   },
   "outputs": [
    {
     "name": "stdout",
     "output_type": "stream",
     "text": [
      "+----------------+\n",
      "|       avg(Fare)|\n",
      "+----------------+\n",
      "|32.2042079685746|\n",
      "+----------------+\n",
      "\n"
     ]
    }
   ],
   "source": [
    "## another way this can be done is by importing \"mean\" funciton from pyspark.sql.functions\n",
    "from pyspark.sql.functions import mean\n",
    "df.select(mean(\"Fare\")).show()"
   ]
  },
  {
   "cell_type": "code",
   "execution_count": 39,
   "metadata": {
    "ExecuteTime": {
     "end_time": "2021-02-13T10:06:25.317163Z",
     "start_time": "2021-02-13T10:06:24.950377Z"
    },
    "execution": {
     "iopub.execute_input": "2020-09-05T14:21:13.319043Z",
     "iopub.status.busy": "2020-09-05T14:21:13.317972Z",
     "iopub.status.idle": "2020-09-05T14:21:14.352578Z",
     "shell.execute_reply": "2020-09-05T14:21:14.351188Z"
    },
    "papermill": {
     "duration": 1.289215,
     "end_time": "2020-09-05T14:21:14.352803",
     "exception": false,
     "start_time": "2020-09-05T14:21:13.063588",
     "status": "completed"
    },
    "tags": []
   },
   "outputs": [
    {
     "name": "stdout",
     "output_type": "stream",
     "text": [
      "+------+------------------+\n",
      "|Pclass|         avg(Fare)|\n",
      "+------+------------------+\n",
      "|     1| 84.15468749999992|\n",
      "|     3|13.675550101832997|\n",
      "|     2| 20.66218315217391|\n",
      "+------+------------------+\n",
      "\n"
     ]
    }
   ],
   "source": [
    "## we can also combine the few previous approaches to get similar results. \n",
    "temp = df.groupBy(\"Pclass\")\n",
    "temp.agg({\"Fare\": 'mean'}).show()"
   ]
  },
  {
   "cell_type": "code",
   "execution_count": 40,
   "metadata": {
    "ExecuteTime": {
     "end_time": "2021-02-13T10:06:29.749114Z",
     "start_time": "2021-02-13T10:06:29.368543Z"
    },
    "execution": {
     "iopub.execute_input": "2020-09-05T14:21:14.803439Z",
     "iopub.status.busy": "2020-09-05T14:21:14.802409Z",
     "iopub.status.idle": "2020-09-05T14:21:15.794077Z",
     "shell.execute_reply": "2020-09-05T14:21:15.792547Z"
    },
    "papermill": {
     "duration": 1.215542,
     "end_time": "2020-09-05T14:21:15.794267",
     "exception": false,
     "start_time": "2020-09-05T14:21:14.578725",
     "status": "completed"
    },
    "tags": []
   },
   "outputs": [
    {
     "name": "stdout",
     "output_type": "stream",
     "text": [
      "+------+------------+\n",
      "|Pclass|average fare|\n",
      "+------+------------+\n",
      "|     1|       84.15|\n",
      "|     3|       13.68|\n",
      "|     2|       20.66|\n",
      "+------+------------+\n",
      "\n"
     ]
    }
   ],
   "source": [
    "# What if we want to format the results. \n",
    "# for example,\n",
    "# I want to rename the column. this will be accomplished using .alias() method.  \n",
    "# I want to format the number with only two decimals. this can be done using \"format_number\"\n",
    "from pyspark.sql.functions import format_number\n",
    "temp = df.groupBy(\"Pclass\")\n",
    "temp = temp.agg({\"Fare\": 'mean'})\n",
    "temp.select('Pclass', format_number(\"avg(Fare)\", 2).alias(\"average fare\")).show()"
   ]
  },
  {
   "cell_type": "code",
   "execution_count": 41,
   "metadata": {
    "ExecuteTime": {
     "end_time": "2021-02-13T10:06:32.044786Z",
     "start_time": "2021-02-13T10:06:31.844733Z"
    },
    "execution": {
     "iopub.execute_input": "2020-09-05T14:21:16.255860Z",
     "iopub.status.busy": "2020-09-05T14:21:16.254795Z",
     "iopub.status.idle": "2020-09-05T14:21:16.429643Z",
     "shell.execute_reply": "2020-09-05T14:21:16.428700Z"
    },
    "papermill": {
     "duration": 0.398976,
     "end_time": "2020-09-05T14:21:16.429833",
     "exception": false,
     "start_time": "2020-09-05T14:21:16.030857",
     "status": "completed"
    },
    "tags": []
   },
   "outputs": [
    {
     "data": {
      "text/html": [
       "<div>\n",
       "<style scoped>\n",
       "    .dataframe tbody tr th:only-of-type {\n",
       "        vertical-align: middle;\n",
       "    }\n",
       "\n",
       "    .dataframe tbody tr th {\n",
       "        vertical-align: top;\n",
       "    }\n",
       "\n",
       "    .dataframe thead th {\n",
       "        text-align: right;\n",
       "    }\n",
       "</style>\n",
       "<table border=\"1\" class=\"dataframe\">\n",
       "  <thead>\n",
       "    <tr style=\"text-align: right;\">\n",
       "      <th></th>\n",
       "      <th>PassengerId</th>\n",
       "      <th>Survived</th>\n",
       "      <th>Pclass</th>\n",
       "      <th>Name</th>\n",
       "      <th>Sex</th>\n",
       "      <th>Age</th>\n",
       "      <th>SibSp</th>\n",
       "      <th>Parch</th>\n",
       "      <th>Ticket</th>\n",
       "      <th>Fare</th>\n",
       "      <th>Cabin</th>\n",
       "      <th>Embarked</th>\n",
       "    </tr>\n",
       "  </thead>\n",
       "  <tbody>\n",
       "    <tr>\n",
       "      <th>0</th>\n",
       "      <td>180</td>\n",
       "      <td>0</td>\n",
       "      <td>3</td>\n",
       "      <td>Leonard, Mr. Lionel</td>\n",
       "      <td>male</td>\n",
       "      <td>36.0</td>\n",
       "      <td>0</td>\n",
       "      <td>0</td>\n",
       "      <td>LINE</td>\n",
       "      <td>0.0000</td>\n",
       "      <td>None</td>\n",
       "      <td>S</td>\n",
       "    </tr>\n",
       "    <tr>\n",
       "      <th>1</th>\n",
       "      <td>482</td>\n",
       "      <td>0</td>\n",
       "      <td>2</td>\n",
       "      <td>\"Frost, Mr. Anthony Wood \"\"Archie\"\"\"</td>\n",
       "      <td>male</td>\n",
       "      <td>NaN</td>\n",
       "      <td>0</td>\n",
       "      <td>0</td>\n",
       "      <td>239854</td>\n",
       "      <td>0.0000</td>\n",
       "      <td>None</td>\n",
       "      <td>S</td>\n",
       "    </tr>\n",
       "    <tr>\n",
       "      <th>2</th>\n",
       "      <td>414</td>\n",
       "      <td>0</td>\n",
       "      <td>2</td>\n",
       "      <td>Cunningham, Mr. Alfred Fleming</td>\n",
       "      <td>male</td>\n",
       "      <td>NaN</td>\n",
       "      <td>0</td>\n",
       "      <td>0</td>\n",
       "      <td>239853</td>\n",
       "      <td>0.0000</td>\n",
       "      <td>None</td>\n",
       "      <td>S</td>\n",
       "    </tr>\n",
       "    <tr>\n",
       "      <th>3</th>\n",
       "      <td>303</td>\n",
       "      <td>0</td>\n",
       "      <td>3</td>\n",
       "      <td>Johnson, Mr. William Cahoone Jr</td>\n",
       "      <td>male</td>\n",
       "      <td>19.0</td>\n",
       "      <td>0</td>\n",
       "      <td>0</td>\n",
       "      <td>LINE</td>\n",
       "      <td>0.0000</td>\n",
       "      <td>None</td>\n",
       "      <td>S</td>\n",
       "    </tr>\n",
       "    <tr>\n",
       "      <th>4</th>\n",
       "      <td>264</td>\n",
       "      <td>0</td>\n",
       "      <td>1</td>\n",
       "      <td>Harrison, Mr. William</td>\n",
       "      <td>male</td>\n",
       "      <td>40.0</td>\n",
       "      <td>0</td>\n",
       "      <td>0</td>\n",
       "      <td>112059</td>\n",
       "      <td>0.0000</td>\n",
       "      <td>B94</td>\n",
       "      <td>S</td>\n",
       "    </tr>\n",
       "    <tr>\n",
       "      <th>5</th>\n",
       "      <td>675</td>\n",
       "      <td>0</td>\n",
       "      <td>2</td>\n",
       "      <td>Watson, Mr. Ennis Hastings</td>\n",
       "      <td>male</td>\n",
       "      <td>NaN</td>\n",
       "      <td>0</td>\n",
       "      <td>0</td>\n",
       "      <td>239856</td>\n",
       "      <td>0.0000</td>\n",
       "      <td>None</td>\n",
       "      <td>S</td>\n",
       "    </tr>\n",
       "    <tr>\n",
       "      <th>6</th>\n",
       "      <td>733</td>\n",
       "      <td>0</td>\n",
       "      <td>2</td>\n",
       "      <td>Knight, Mr. Robert J</td>\n",
       "      <td>male</td>\n",
       "      <td>NaN</td>\n",
       "      <td>0</td>\n",
       "      <td>0</td>\n",
       "      <td>239855</td>\n",
       "      <td>0.0000</td>\n",
       "      <td>None</td>\n",
       "      <td>S</td>\n",
       "    </tr>\n",
       "    <tr>\n",
       "      <th>7</th>\n",
       "      <td>807</td>\n",
       "      <td>0</td>\n",
       "      <td>1</td>\n",
       "      <td>Andrews, Mr. Thomas Jr</td>\n",
       "      <td>male</td>\n",
       "      <td>39.0</td>\n",
       "      <td>0</td>\n",
       "      <td>0</td>\n",
       "      <td>112050</td>\n",
       "      <td>0.0000</td>\n",
       "      <td>A36</td>\n",
       "      <td>S</td>\n",
       "    </tr>\n",
       "    <tr>\n",
       "      <th>8</th>\n",
       "      <td>816</td>\n",
       "      <td>0</td>\n",
       "      <td>1</td>\n",
       "      <td>Fry, Mr. Richard</td>\n",
       "      <td>male</td>\n",
       "      <td>NaN</td>\n",
       "      <td>0</td>\n",
       "      <td>0</td>\n",
       "      <td>112058</td>\n",
       "      <td>0.0000</td>\n",
       "      <td>B102</td>\n",
       "      <td>S</td>\n",
       "    </tr>\n",
       "    <tr>\n",
       "      <th>9</th>\n",
       "      <td>823</td>\n",
       "      <td>0</td>\n",
       "      <td>1</td>\n",
       "      <td>Reuchlin, Jonkheer. John George</td>\n",
       "      <td>male</td>\n",
       "      <td>38.0</td>\n",
       "      <td>0</td>\n",
       "      <td>0</td>\n",
       "      <td>19972</td>\n",
       "      <td>0.0000</td>\n",
       "      <td>None</td>\n",
       "      <td>S</td>\n",
       "    </tr>\n",
       "    <tr>\n",
       "      <th>10</th>\n",
       "      <td>467</td>\n",
       "      <td>0</td>\n",
       "      <td>2</td>\n",
       "      <td>Campbell, Mr. William</td>\n",
       "      <td>male</td>\n",
       "      <td>NaN</td>\n",
       "      <td>0</td>\n",
       "      <td>0</td>\n",
       "      <td>239853</td>\n",
       "      <td>0.0000</td>\n",
       "      <td>None</td>\n",
       "      <td>S</td>\n",
       "    </tr>\n",
       "    <tr>\n",
       "      <th>11</th>\n",
       "      <td>272</td>\n",
       "      <td>1</td>\n",
       "      <td>3</td>\n",
       "      <td>Tornquist, Mr. William Henry</td>\n",
       "      <td>male</td>\n",
       "      <td>25.0</td>\n",
       "      <td>0</td>\n",
       "      <td>0</td>\n",
       "      <td>LINE</td>\n",
       "      <td>0.0000</td>\n",
       "      <td>None</td>\n",
       "      <td>S</td>\n",
       "    </tr>\n",
       "    <tr>\n",
       "      <th>12</th>\n",
       "      <td>598</td>\n",
       "      <td>0</td>\n",
       "      <td>3</td>\n",
       "      <td>Johnson, Mr. Alfred</td>\n",
       "      <td>male</td>\n",
       "      <td>49.0</td>\n",
       "      <td>0</td>\n",
       "      <td>0</td>\n",
       "      <td>LINE</td>\n",
       "      <td>0.0000</td>\n",
       "      <td>None</td>\n",
       "      <td>S</td>\n",
       "    </tr>\n",
       "    <tr>\n",
       "      <th>13</th>\n",
       "      <td>278</td>\n",
       "      <td>0</td>\n",
       "      <td>2</td>\n",
       "      <td>\"Parkes, Mr. Francis \"\"Frank\"\"\"</td>\n",
       "      <td>male</td>\n",
       "      <td>NaN</td>\n",
       "      <td>0</td>\n",
       "      <td>0</td>\n",
       "      <td>239853</td>\n",
       "      <td>0.0000</td>\n",
       "      <td>None</td>\n",
       "      <td>S</td>\n",
       "    </tr>\n",
       "    <tr>\n",
       "      <th>14</th>\n",
       "      <td>634</td>\n",
       "      <td>0</td>\n",
       "      <td>1</td>\n",
       "      <td>Parr, Mr. William Henry Marsh</td>\n",
       "      <td>male</td>\n",
       "      <td>NaN</td>\n",
       "      <td>0</td>\n",
       "      <td>0</td>\n",
       "      <td>112052</td>\n",
       "      <td>0.0000</td>\n",
       "      <td>None</td>\n",
       "      <td>S</td>\n",
       "    </tr>\n",
       "    <tr>\n",
       "      <th>15</th>\n",
       "      <td>379</td>\n",
       "      <td>0</td>\n",
       "      <td>3</td>\n",
       "      <td>Betros, Mr. Tannous</td>\n",
       "      <td>male</td>\n",
       "      <td>20.0</td>\n",
       "      <td>0</td>\n",
       "      <td>0</td>\n",
       "      <td>2648</td>\n",
       "      <td>4.0125</td>\n",
       "      <td>None</td>\n",
       "      <td>C</td>\n",
       "    </tr>\n",
       "    <tr>\n",
       "      <th>16</th>\n",
       "      <td>873</td>\n",
       "      <td>0</td>\n",
       "      <td>1</td>\n",
       "      <td>Carlsson, Mr. Frans Olof</td>\n",
       "      <td>male</td>\n",
       "      <td>33.0</td>\n",
       "      <td>0</td>\n",
       "      <td>0</td>\n",
       "      <td>695</td>\n",
       "      <td>5.0000</td>\n",
       "      <td>B51 B53 B55</td>\n",
       "      <td>S</td>\n",
       "    </tr>\n",
       "    <tr>\n",
       "      <th>17</th>\n",
       "      <td>327</td>\n",
       "      <td>0</td>\n",
       "      <td>3</td>\n",
       "      <td>Nysveen, Mr. Johan Hansen</td>\n",
       "      <td>male</td>\n",
       "      <td>61.0</td>\n",
       "      <td>0</td>\n",
       "      <td>0</td>\n",
       "      <td>345364</td>\n",
       "      <td>6.2375</td>\n",
       "      <td>None</td>\n",
       "      <td>S</td>\n",
       "    </tr>\n",
       "    <tr>\n",
       "      <th>18</th>\n",
       "      <td>844</td>\n",
       "      <td>0</td>\n",
       "      <td>3</td>\n",
       "      <td>Lemberopolous, Mr. Peter L</td>\n",
       "      <td>male</td>\n",
       "      <td>34.5</td>\n",
       "      <td>0</td>\n",
       "      <td>0</td>\n",
       "      <td>2683</td>\n",
       "      <td>6.4375</td>\n",
       "      <td>None</td>\n",
       "      <td>C</td>\n",
       "    </tr>\n",
       "    <tr>\n",
       "      <th>19</th>\n",
       "      <td>819</td>\n",
       "      <td>0</td>\n",
       "      <td>3</td>\n",
       "      <td>Holm, Mr. John Fredrik Alexander</td>\n",
       "      <td>male</td>\n",
       "      <td>43.0</td>\n",
       "      <td>0</td>\n",
       "      <td>0</td>\n",
       "      <td>C 7075</td>\n",
       "      <td>6.4500</td>\n",
       "      <td>None</td>\n",
       "      <td>S</td>\n",
       "    </tr>\n",
       "  </tbody>\n",
       "</table>\n",
       "</div>"
      ],
      "text/plain": [
       "    PassengerId  Survived  Pclass                                  Name   Sex  \\\n",
       "0           180         0       3                   Leonard, Mr. Lionel  male   \n",
       "1           482         0       2  \"Frost, Mr. Anthony Wood \"\"Archie\"\"\"  male   \n",
       "2           414         0       2        Cunningham, Mr. Alfred Fleming  male   \n",
       "3           303         0       3       Johnson, Mr. William Cahoone Jr  male   \n",
       "4           264         0       1                 Harrison, Mr. William  male   \n",
       "5           675         0       2            Watson, Mr. Ennis Hastings  male   \n",
       "6           733         0       2                  Knight, Mr. Robert J  male   \n",
       "7           807         0       1                Andrews, Mr. Thomas Jr  male   \n",
       "8           816         0       1                      Fry, Mr. Richard  male   \n",
       "9           823         0       1       Reuchlin, Jonkheer. John George  male   \n",
       "10          467         0       2                 Campbell, Mr. William  male   \n",
       "11          272         1       3          Tornquist, Mr. William Henry  male   \n",
       "12          598         0       3                   Johnson, Mr. Alfred  male   \n",
       "13          278         0       2       \"Parkes, Mr. Francis \"\"Frank\"\"\"  male   \n",
       "14          634         0       1         Parr, Mr. William Henry Marsh  male   \n",
       "15          379         0       3                   Betros, Mr. Tannous  male   \n",
       "16          873         0       1              Carlsson, Mr. Frans Olof  male   \n",
       "17          327         0       3             Nysveen, Mr. Johan Hansen  male   \n",
       "18          844         0       3            Lemberopolous, Mr. Peter L  male   \n",
       "19          819         0       3      Holm, Mr. John Fredrik Alexander  male   \n",
       "\n",
       "     Age  SibSp  Parch  Ticket    Fare        Cabin Embarked  \n",
       "0   36.0      0      0    LINE  0.0000         None        S  \n",
       "1    NaN      0      0  239854  0.0000         None        S  \n",
       "2    NaN      0      0  239853  0.0000         None        S  \n",
       "3   19.0      0      0    LINE  0.0000         None        S  \n",
       "4   40.0      0      0  112059  0.0000          B94        S  \n",
       "5    NaN      0      0  239856  0.0000         None        S  \n",
       "6    NaN      0      0  239855  0.0000         None        S  \n",
       "7   39.0      0      0  112050  0.0000          A36        S  \n",
       "8    NaN      0      0  112058  0.0000         B102        S  \n",
       "9   38.0      0      0   19972  0.0000         None        S  \n",
       "10   NaN      0      0  239853  0.0000         None        S  \n",
       "11  25.0      0      0    LINE  0.0000         None        S  \n",
       "12  49.0      0      0    LINE  0.0000         None        S  \n",
       "13   NaN      0      0  239853  0.0000         None        S  \n",
       "14   NaN      0      0  112052  0.0000         None        S  \n",
       "15  20.0      0      0    2648  4.0125         None        C  \n",
       "16  33.0      0      0     695  5.0000  B51 B53 B55        S  \n",
       "17  61.0      0      0  345364  6.2375         None        S  \n",
       "18  34.5      0      0    2683  6.4375         None        C  \n",
       "19  43.0      0      0  C 7075  6.4500         None        S  "
      ]
     },
     "execution_count": 41,
     "metadata": {},
     "output_type": "execute_result"
    }
   ],
   "source": [
    "## What if I want to order by Fare in ascending order. \n",
    "df.orderBy(\"Fare\").limit(20).toPandas()"
   ]
  },
  {
   "cell_type": "code",
   "execution_count": 42,
   "metadata": {
    "ExecuteTime": {
     "end_time": "2021-02-13T10:06:35.102077Z",
     "start_time": "2021-02-13T10:06:35.000673Z"
    },
    "execution": {
     "iopub.execute_input": "2020-09-05T14:21:16.878671Z",
     "iopub.status.busy": "2020-09-05T14:21:16.877375Z",
     "iopub.status.idle": "2020-09-05T14:21:17.014013Z",
     "shell.execute_reply": "2020-09-05T14:21:17.013058Z"
    },
    "papermill": {
     "duration": 0.364885,
     "end_time": "2020-09-05T14:21:17.014218",
     "exception": false,
     "start_time": "2020-09-05T14:21:16.649333",
     "status": "completed"
    },
    "tags": []
   },
   "outputs": [
    {
     "data": {
      "text/html": [
       "<div>\n",
       "<style scoped>\n",
       "    .dataframe tbody tr th:only-of-type {\n",
       "        vertical-align: middle;\n",
       "    }\n",
       "\n",
       "    .dataframe tbody tr th {\n",
       "        vertical-align: top;\n",
       "    }\n",
       "\n",
       "    .dataframe thead th {\n",
       "        text-align: right;\n",
       "    }\n",
       "</style>\n",
       "<table border=\"1\" class=\"dataframe\">\n",
       "  <thead>\n",
       "    <tr style=\"text-align: right;\">\n",
       "      <th></th>\n",
       "      <th>PassengerId</th>\n",
       "      <th>Survived</th>\n",
       "      <th>Pclass</th>\n",
       "      <th>Name</th>\n",
       "      <th>Sex</th>\n",
       "      <th>Age</th>\n",
       "      <th>SibSp</th>\n",
       "      <th>Parch</th>\n",
       "      <th>Ticket</th>\n",
       "      <th>Fare</th>\n",
       "      <th>Cabin</th>\n",
       "      <th>Embarked</th>\n",
       "    </tr>\n",
       "  </thead>\n",
       "  <tbody>\n",
       "    <tr>\n",
       "      <th>0</th>\n",
       "      <td>259</td>\n",
       "      <td>1</td>\n",
       "      <td>1</td>\n",
       "      <td>Ward, Miss. Anna</td>\n",
       "      <td>female</td>\n",
       "      <td>35.0</td>\n",
       "      <td>0</td>\n",
       "      <td>0</td>\n",
       "      <td>PC 17755</td>\n",
       "      <td>512.3292</td>\n",
       "      <td>None</td>\n",
       "      <td>C</td>\n",
       "    </tr>\n",
       "    <tr>\n",
       "      <th>1</th>\n",
       "      <td>680</td>\n",
       "      <td>1</td>\n",
       "      <td>1</td>\n",
       "      <td>Cardeza, Mr. Thomas Drake Martinez</td>\n",
       "      <td>male</td>\n",
       "      <td>36.0</td>\n",
       "      <td>0</td>\n",
       "      <td>1</td>\n",
       "      <td>PC 17755</td>\n",
       "      <td>512.3292</td>\n",
       "      <td>B51 B53 B55</td>\n",
       "      <td>C</td>\n",
       "    </tr>\n",
       "    <tr>\n",
       "      <th>2</th>\n",
       "      <td>738</td>\n",
       "      <td>1</td>\n",
       "      <td>1</td>\n",
       "      <td>Lesurer, Mr. Gustave J</td>\n",
       "      <td>male</td>\n",
       "      <td>35.0</td>\n",
       "      <td>0</td>\n",
       "      <td>0</td>\n",
       "      <td>PC 17755</td>\n",
       "      <td>512.3292</td>\n",
       "      <td>B101</td>\n",
       "      <td>C</td>\n",
       "    </tr>\n",
       "    <tr>\n",
       "      <th>3</th>\n",
       "      <td>439</td>\n",
       "      <td>0</td>\n",
       "      <td>1</td>\n",
       "      <td>Fortune, Mr. Mark</td>\n",
       "      <td>male</td>\n",
       "      <td>64.0</td>\n",
       "      <td>1</td>\n",
       "      <td>4</td>\n",
       "      <td>19950</td>\n",
       "      <td>263.0000</td>\n",
       "      <td>C23 C25 C27</td>\n",
       "      <td>S</td>\n",
       "    </tr>\n",
       "    <tr>\n",
       "      <th>4</th>\n",
       "      <td>89</td>\n",
       "      <td>1</td>\n",
       "      <td>1</td>\n",
       "      <td>Fortune, Miss. Mabel Helen</td>\n",
       "      <td>female</td>\n",
       "      <td>23.0</td>\n",
       "      <td>3</td>\n",
       "      <td>2</td>\n",
       "      <td>19950</td>\n",
       "      <td>263.0000</td>\n",
       "      <td>C23 C25 C27</td>\n",
       "      <td>S</td>\n",
       "    </tr>\n",
       "  </tbody>\n",
       "</table>\n",
       "</div>"
      ],
      "text/plain": [
       "   PassengerId  Survived  Pclass                                Name     Sex  \\\n",
       "0          259         1       1                    Ward, Miss. Anna  female   \n",
       "1          680         1       1  Cardeza, Mr. Thomas Drake Martinez    male   \n",
       "2          738         1       1              Lesurer, Mr. Gustave J    male   \n",
       "3          439         0       1                   Fortune, Mr. Mark    male   \n",
       "4           89         1       1          Fortune, Miss. Mabel Helen  female   \n",
       "\n",
       "    Age  SibSp  Parch    Ticket      Fare        Cabin Embarked  \n",
       "0  35.0      0      0  PC 17755  512.3292         None        C  \n",
       "1  36.0      0      1  PC 17755  512.3292  B51 B53 B55        C  \n",
       "2  35.0      0      0  PC 17755  512.3292         B101        C  \n",
       "3  64.0      1      4     19950  263.0000  C23 C25 C27        S  \n",
       "4  23.0      3      2     19950  263.0000  C23 C25 C27        S  "
      ]
     },
     "execution_count": 42,
     "metadata": {},
     "output_type": "execute_result"
    }
   ],
   "source": [
    "## What about descending order\n",
    "df.orderBy(df['Fare'].desc()).limit(5).toPandas()"
   ]
  },
  {
   "cell_type": "code",
   "execution_count": 43,
   "metadata": {
    "ExecuteTime": {
     "end_time": "2021-02-13T10:06:37.182858Z",
     "start_time": "2021-02-13T10:06:37.065873Z"
    },
    "execution": {
     "iopub.execute_input": "2020-09-05T14:21:17.479367Z",
     "iopub.status.busy": "2020-09-05T14:21:17.478207Z",
     "iopub.status.idle": "2020-09-05T14:21:17.632985Z",
     "shell.execute_reply": "2020-09-05T14:21:17.633962Z"
    },
    "papermill": {
     "duration": 0.380378,
     "end_time": "2020-09-05T14:21:17.634204",
     "exception": false,
     "start_time": "2020-09-05T14:21:17.253826",
     "status": "completed"
    },
    "tags": []
   },
   "outputs": [
    {
     "data": {
      "text/html": [
       "<div>\n",
       "<style scoped>\n",
       "    .dataframe tbody tr th:only-of-type {\n",
       "        vertical-align: middle;\n",
       "    }\n",
       "\n",
       "    .dataframe tbody tr th {\n",
       "        vertical-align: top;\n",
       "    }\n",
       "\n",
       "    .dataframe thead th {\n",
       "        text-align: right;\n",
       "    }\n",
       "</style>\n",
       "<table border=\"1\" class=\"dataframe\">\n",
       "  <thead>\n",
       "    <tr style=\"text-align: right;\">\n",
       "      <th></th>\n",
       "      <th>PassengerId</th>\n",
       "      <th>Survived</th>\n",
       "      <th>Pclass</th>\n",
       "      <th>Name</th>\n",
       "      <th>Sex</th>\n",
       "      <th>Age</th>\n",
       "      <th>SibSp</th>\n",
       "      <th>Parch</th>\n",
       "      <th>Ticket</th>\n",
       "      <th>Fare</th>\n",
       "      <th>Cabin</th>\n",
       "      <th>Embarked</th>\n",
       "    </tr>\n",
       "  </thead>\n",
       "  <tbody>\n",
       "    <tr>\n",
       "      <th>0</th>\n",
       "      <td>2</td>\n",
       "      <td>1</td>\n",
       "      <td>1</td>\n",
       "      <td>Cumings, Mrs. John Bradley (Florence Briggs Th...</td>\n",
       "      <td>female</td>\n",
       "      <td>38.0</td>\n",
       "      <td>1</td>\n",
       "      <td>0</td>\n",
       "      <td>PC 17599</td>\n",
       "      <td>71.2833</td>\n",
       "      <td>C85</td>\n",
       "      <td>C</td>\n",
       "    </tr>\n",
       "    <tr>\n",
       "      <th>1</th>\n",
       "      <td>4</td>\n",
       "      <td>1</td>\n",
       "      <td>1</td>\n",
       "      <td>Futrelle, Mrs. Jacques Heath (Lily May Peel)</td>\n",
       "      <td>female</td>\n",
       "      <td>35.0</td>\n",
       "      <td>1</td>\n",
       "      <td>0</td>\n",
       "      <td>113803</td>\n",
       "      <td>53.1000</td>\n",
       "      <td>C123</td>\n",
       "      <td>S</td>\n",
       "    </tr>\n",
       "    <tr>\n",
       "      <th>2</th>\n",
       "      <td>7</td>\n",
       "      <td>0</td>\n",
       "      <td>1</td>\n",
       "      <td>McCarthy, Mr. Timothy J</td>\n",
       "      <td>male</td>\n",
       "      <td>54.0</td>\n",
       "      <td>0</td>\n",
       "      <td>0</td>\n",
       "      <td>17463</td>\n",
       "      <td>51.8625</td>\n",
       "      <td>E46</td>\n",
       "      <td>S</td>\n",
       "    </tr>\n",
       "    <tr>\n",
       "      <th>3</th>\n",
       "      <td>11</td>\n",
       "      <td>1</td>\n",
       "      <td>3</td>\n",
       "      <td>Sandstrom, Miss. Marguerite Rut</td>\n",
       "      <td>female</td>\n",
       "      <td>4.0</td>\n",
       "      <td>1</td>\n",
       "      <td>1</td>\n",
       "      <td>PP 9549</td>\n",
       "      <td>16.7000</td>\n",
       "      <td>G6</td>\n",
       "      <td>S</td>\n",
       "    </tr>\n",
       "    <tr>\n",
       "      <th>4</th>\n",
       "      <td>12</td>\n",
       "      <td>1</td>\n",
       "      <td>1</td>\n",
       "      <td>Bonnell, Miss. Elizabeth</td>\n",
       "      <td>female</td>\n",
       "      <td>58.0</td>\n",
       "      <td>0</td>\n",
       "      <td>0</td>\n",
       "      <td>113783</td>\n",
       "      <td>26.5500</td>\n",
       "      <td>C103</td>\n",
       "      <td>S</td>\n",
       "    </tr>\n",
       "  </tbody>\n",
       "</table>\n",
       "</div>"
      ],
      "text/plain": [
       "   PassengerId  Survived  Pclass  \\\n",
       "0            2         1       1   \n",
       "1            4         1       1   \n",
       "2            7         0       1   \n",
       "3           11         1       3   \n",
       "4           12         1       1   \n",
       "\n",
       "                                                Name     Sex   Age  SibSp  \\\n",
       "0  Cumings, Mrs. John Bradley (Florence Briggs Th...  female  38.0      1   \n",
       "1       Futrelle, Mrs. Jacques Heath (Lily May Peel)  female  35.0      1   \n",
       "2                            McCarthy, Mr. Timothy J    male  54.0      0   \n",
       "3                    Sandstrom, Miss. Marguerite Rut  female   4.0      1   \n",
       "4                           Bonnell, Miss. Elizabeth  female  58.0      0   \n",
       "\n",
       "   Parch    Ticket     Fare Cabin Embarked  \n",
       "0      0  PC 17599  71.2833   C85        C  \n",
       "1      0    113803  53.1000  C123        S  \n",
       "2      0     17463  51.8625   E46        S  \n",
       "3      1   PP 9549  16.7000    G6        S  \n",
       "4      0    113783  26.5500  C103        S  "
      ]
     },
     "execution_count": 43,
     "metadata": {},
     "output_type": "execute_result"
    }
   ],
   "source": [
    "## How do we deal with missing values. \n",
    "# df.na.drop(how=(\"any\"/\"all\"), thresh=(1,2,3,4,5...))\n",
    "df.na.drop(how=\"any\").limit(5).toPandas()"
   ]
  },
  {
   "cell_type": "code",
   "execution_count": 45,
   "metadata": {
    "ExecuteTime": {
     "end_time": "2021-02-13T10:07:13.302173Z",
     "start_time": "2021-02-13T10:07:13.292183Z"
    }
   },
   "outputs": [
    {
     "data": {
      "text/plain": [
       "['__class__',\n",
       " '__delattr__',\n",
       " '__dict__',\n",
       " '__dir__',\n",
       " '__doc__',\n",
       " '__eq__',\n",
       " '__format__',\n",
       " '__ge__',\n",
       " '__getattribute__',\n",
       " '__gt__',\n",
       " '__hash__',\n",
       " '__init__',\n",
       " '__init_subclass__',\n",
       " '__le__',\n",
       " '__lt__',\n",
       " '__module__',\n",
       " '__ne__',\n",
       " '__new__',\n",
       " '__reduce__',\n",
       " '__reduce_ex__',\n",
       " '__repr__',\n",
       " '__setattr__',\n",
       " '__sizeof__',\n",
       " '__str__',\n",
       " '__subclasshook__',\n",
       " '__weakref__',\n",
       " '_df',\n",
       " '_jgd',\n",
       " 'agg',\n",
       " 'apply',\n",
       " 'applyInPandas',\n",
       " 'avg',\n",
       " 'cogroup',\n",
       " 'count',\n",
       " 'max',\n",
       " 'mean',\n",
       " 'min',\n",
       " 'pivot',\n",
       " 'sql_ctx',\n",
       " 'sum']"
      ]
     },
     "execution_count": 45,
     "metadata": {},
     "output_type": "execute_result"
    }
   ],
   "source": [
    "# check the groupby object \n",
    "temp = df.groupBy(\"Pclass\")\n",
    "dir(temp)"
   ]
  },
  {
   "cell_type": "markdown",
   "metadata": {
    "papermill": {
     "duration": 0.224142,
     "end_time": "2020-09-05T14:21:18.092682",
     "exception": false,
     "start_time": "2020-09-05T14:21:17.868540",
     "status": "completed"
    },
    "tags": []
   },
   "source": [
    "# Advanced Tutorial\n",
    "## Dealing with Missing Values\n",
    "### Cabin"
   ]
  },
  {
   "cell_type": "code",
   "execution_count": 46,
   "metadata": {
    "ExecuteTime": {
     "end_time": "2021-02-13T10:07:47.669502Z",
     "start_time": "2021-02-13T10:07:47.641615Z"
    },
    "execution": {
     "iopub.execute_input": "2020-09-05T14:21:18.552774Z",
     "iopub.status.busy": "2020-09-05T14:21:18.551594Z",
     "iopub.status.idle": "2020-09-05T14:21:18.592245Z",
     "shell.execute_reply": "2020-09-05T14:21:18.590978Z"
    },
    "papermill": {
     "duration": 0.272976,
     "end_time": "2020-09-05T14:21:18.592458",
     "exception": false,
     "start_time": "2020-09-05T14:21:18.319482",
     "status": "completed"
    },
    "tags": []
   },
   "outputs": [],
   "source": [
    "# filling the null values in cabin with \"N\".\n",
    "# df.fillna(value, subset=[]);\n",
    "df = df.na.fill('N', subset=['Cabin'])\n",
    "df_test = df_test.na.fill('N', subset=['Cabin'])"
   ]
  },
  {
   "cell_type": "markdown",
   "metadata": {
    "papermill": {
     "duration": 0.220883,
     "end_time": "2020-09-05T14:21:19.048542",
     "exception": false,
     "start_time": "2020-09-05T14:21:18.827659",
     "status": "completed"
    },
    "tags": []
   },
   "source": [
    "### Fare"
   ]
  },
  {
   "cell_type": "code",
   "execution_count": 47,
   "metadata": {
    "ExecuteTime": {
     "end_time": "2021-02-13T10:07:48.853201Z",
     "start_time": "2021-02-13T10:07:48.709478Z"
    },
    "execution": {
     "iopub.execute_input": "2020-09-05T14:21:19.500551Z",
     "iopub.status.busy": "2020-09-05T14:21:19.499710Z",
     "iopub.status.idle": "2020-09-05T14:21:19.664444Z",
     "shell.execute_reply": "2020-09-05T14:21:19.663303Z"
    },
    "papermill": {
     "duration": 0.39184,
     "end_time": "2020-09-05T14:21:19.664679",
     "exception": false,
     "start_time": "2020-09-05T14:21:19.272839",
     "status": "completed"
    },
    "scrolled": true,
    "tags": []
   },
   "outputs": [
    {
     "name": "stdout",
     "output_type": "stream",
     "text": [
      "+-----------+------+------------------+----+----+-----+-----+------+----+-----+--------+\n",
      "|PassengerId|Pclass|              Name| Sex| Age|SibSp|Parch|Ticket|Fare|Cabin|Embarked|\n",
      "+-----------+------+------------------+----+----+-----+-----+------+----+-----+--------+\n",
      "|       1044|     3|Storey, Mr. Thomas|male|60.5|    0|    0|  3701|null|    N|       S|\n",
      "+-----------+------+------------------+----+----+-----+-----+------+----+-----+--------+\n",
      "\n"
     ]
    }
   ],
   "source": [
    "## how do we find out the rows with missing values?\n",
    "# we can use .where(condition) with .isNull()\n",
    "df_test.where(df_test['Fare'].isNull()).show()"
   ]
  },
  {
   "cell_type": "markdown",
   "metadata": {
    "papermill": {
     "duration": 0.308635,
     "end_time": "2020-09-05T14:21:20.310557",
     "exception": false,
     "start_time": "2020-09-05T14:21:20.001922",
     "status": "completed"
    },
    "tags": []
   },
   "source": [
    "Here, We can take the average of the **Fare** column to fill in the NaN value. However, for the sake of learning and practicing, we will try something else. We can take the average of the values where **Pclass** is ***3***, **Sex** is ***male*** and **Embarked** is ***S***"
   ]
  },
  {
   "cell_type": "code",
   "execution_count": 48,
   "metadata": {
    "ExecuteTime": {
     "end_time": "2021-02-13T10:08:02.062612Z",
     "start_time": "2021-02-13T10:08:01.895317Z"
    },
    "execution": {
     "iopub.execute_input": "2020-09-05T14:21:20.762026Z",
     "iopub.status.busy": "2020-09-05T14:21:20.760745Z",
     "iopub.status.idle": "2020-09-05T14:21:20.958435Z",
     "shell.execute_reply": "2020-09-05T14:21:20.957460Z"
    },
    "papermill": {
     "duration": 0.426208,
     "end_time": "2020-09-05T14:21:20.958629",
     "exception": false,
     "start_time": "2020-09-05T14:21:20.532421",
     "status": "completed"
    },
    "tags": []
   },
   "outputs": [],
   "source": [
    "missing_value = df_test.filter(\n",
    "    (df_test['Pclass'] == 3) &\n",
    "    (df_test.Embarked == 'S') &\n",
    "    (df_test.Sex == \"male\")\n",
    ")\n",
    "## filling in the null value in the fare column using Fare mean. \n",
    "df_test = df_test.na.fill(\n",
    "    missing_value.select(mean('Fare')).collect()[0][0],\n",
    "    subset=['Fare']\n",
    ")"
   ]
  },
  {
   "cell_type": "code",
   "execution_count": 49,
   "metadata": {
    "ExecuteTime": {
     "end_time": "2021-02-13T10:08:02.466536Z",
     "start_time": "2021-02-13T10:08:02.420280Z"
    },
    "execution": {
     "iopub.execute_input": "2020-09-05T14:21:21.468336Z",
     "iopub.status.busy": "2020-09-05T14:21:21.466213Z",
     "iopub.status.idle": "2020-09-05T14:21:21.532536Z",
     "shell.execute_reply": "2020-09-05T14:21:21.533443Z"
    },
    "papermill": {
     "duration": 0.304129,
     "end_time": "2020-09-05T14:21:21.533695",
     "exception": false,
     "start_time": "2020-09-05T14:21:21.229566",
     "status": "completed"
    },
    "tags": []
   },
   "outputs": [
    {
     "name": "stdout",
     "output_type": "stream",
     "text": [
      "+-----------+------+----+---+---+-----+-----+------+----+-----+--------+\n",
      "|PassengerId|Pclass|Name|Sex|Age|SibSp|Parch|Ticket|Fare|Cabin|Embarked|\n",
      "+-----------+------+----+---+---+-----+-----+------+----+-----+--------+\n",
      "+-----------+------+----+---+---+-----+-----+------+----+-----+--------+\n",
      "\n"
     ]
    }
   ],
   "source": [
    "# Checking\n",
    "df_test.where(df_test['Fare'].isNull()).show()"
   ]
  },
  {
   "cell_type": "markdown",
   "metadata": {
    "papermill": {
     "duration": 0.223847,
     "end_time": "2020-09-05T14:21:21.990778",
     "exception": false,
     "start_time": "2020-09-05T14:21:21.766931",
     "status": "completed"
    },
    "tags": []
   },
   "source": [
    "### Embarked"
   ]
  },
  {
   "cell_type": "code",
   "execution_count": 50,
   "metadata": {
    "ExecuteTime": {
     "end_time": "2021-02-13T10:08:07.533441Z",
     "start_time": "2021-02-13T10:08:07.434685Z"
    },
    "execution": {
     "iopub.execute_input": "2020-09-05T14:21:22.477273Z",
     "iopub.status.busy": "2020-09-05T14:21:22.476527Z",
     "iopub.status.idle": "2020-09-05T14:21:22.612337Z",
     "shell.execute_reply": "2020-09-05T14:21:22.611659Z"
    },
    "papermill": {
     "duration": 0.363041,
     "end_time": "2020-09-05T14:21:22.612472",
     "exception": false,
     "start_time": "2020-09-05T14:21:22.249431",
     "status": "completed"
    },
    "tags": []
   },
   "outputs": [
    {
     "name": "stdout",
     "output_type": "stream",
     "text": [
      "+-----------+--------+------+--------------------+------+----+-----+-----+------+----+-----+--------+\n",
      "|PassengerId|Survived|Pclass|                Name|   Sex| Age|SibSp|Parch|Ticket|Fare|Cabin|Embarked|\n",
      "+-----------+--------+------+--------------------+------+----+-----+-----+------+----+-----+--------+\n",
      "|         62|       1|     1| Icard, Miss. Amelie|female|38.0|    0|    0|113572|80.0|  B28|    null|\n",
      "|        830|       1|     1|Stone, Mrs. Georg...|female|62.0|    0|    0|113572|80.0|  B28|    null|\n",
      "+-----------+--------+------+--------------------+------+----+-----+-----+------+----+-----+--------+\n",
      "\n"
     ]
    }
   ],
   "source": [
    "df.where(df['Embarked'].isNull()).show()"
   ]
  },
  {
   "cell_type": "code",
   "execution_count": 51,
   "metadata": {
    "ExecuteTime": {
     "end_time": "2021-02-13T10:08:08.907677Z",
     "start_time": "2021-02-13T10:08:08.894257Z"
    },
    "execution": {
     "iopub.execute_input": "2020-09-05T14:21:23.076363Z",
     "iopub.status.busy": "2020-09-05T14:21:23.075355Z",
     "iopub.status.idle": "2020-09-05T14:21:23.092925Z",
     "shell.execute_reply": "2020-09-05T14:21:23.092106Z"
    },
    "papermill": {
     "duration": 0.256404,
     "end_time": "2020-09-05T14:21:23.093056",
     "exception": false,
     "start_time": "2020-09-05T14:21:22.836652",
     "status": "completed"
    },
    "tags": []
   },
   "outputs": [],
   "source": [
    "## Replacing the null values in the Embarked column with the mode. \n",
    "df = df.na.fill('C', subset=['Embarked'])"
   ]
  },
  {
   "cell_type": "code",
   "execution_count": 52,
   "metadata": {
    "ExecuteTime": {
     "end_time": "2021-02-13T10:08:09.579797Z",
     "start_time": "2021-02-13T10:08:09.545834Z"
    },
    "execution": {
     "iopub.execute_input": "2020-09-05T14:21:23.547977Z",
     "iopub.status.busy": "2020-09-05T14:21:23.547071Z",
     "iopub.status.idle": "2020-09-05T14:21:23.635147Z",
     "shell.execute_reply": "2020-09-05T14:21:23.634097Z"
    },
    "papermill": {
     "duration": 0.316172,
     "end_time": "2020-09-05T14:21:23.635393",
     "exception": false,
     "start_time": "2020-09-05T14:21:23.319221",
     "status": "completed"
    },
    "tags": []
   },
   "outputs": [
    {
     "name": "stdout",
     "output_type": "stream",
     "text": [
      "+-----------+--------+------+----+---+---+-----+-----+------+----+-----+--------+\n",
      "|PassengerId|Survived|Pclass|Name|Sex|Age|SibSp|Parch|Ticket|Fare|Cabin|Embarked|\n",
      "+-----------+--------+------+----+---+---+-----+-----+------+----+-----+--------+\n",
      "+-----------+--------+------+----+---+---+-----+-----+------+----+-----+--------+\n",
      "\n"
     ]
    }
   ],
   "source": [
    "## checking\n",
    "df.where(df['Embarked'].isNull()).show()"
   ]
  },
  {
   "cell_type": "code",
   "execution_count": 53,
   "metadata": {
    "ExecuteTime": {
     "end_time": "2021-02-13T10:08:11.589589Z",
     "start_time": "2021-02-13T10:08:11.503330Z"
    },
    "execution": {
     "iopub.execute_input": "2020-09-05T14:21:24.111808Z",
     "iopub.status.busy": "2020-09-05T14:21:24.110535Z",
     "iopub.status.idle": "2020-09-05T14:21:24.257193Z",
     "shell.execute_reply": "2020-09-05T14:21:24.256156Z"
    },
    "papermill": {
     "duration": 0.386239,
     "end_time": "2020-09-05T14:21:24.257426",
     "exception": false,
     "start_time": "2020-09-05T14:21:23.871187",
     "status": "completed"
    },
    "tags": []
   },
   "outputs": [
    {
     "name": "stdout",
     "output_type": "stream",
     "text": [
      "+-----------+------+----+---+---+-----+-----+------+----+-----+--------+\n",
      "|PassengerId|Pclass|Name|Sex|Age|SibSp|Parch|Ticket|Fare|Cabin|Embarked|\n",
      "+-----------+------+----+---+---+-----+-----+------+----+-----+--------+\n",
      "+-----------+------+----+---+---+-----+-----+------+----+-----+--------+\n",
      "\n"
     ]
    }
   ],
   "source": [
    "df_test.where(df_test.Embarked.isNull()).show()"
   ]
  },
  {
   "cell_type": "markdown",
   "metadata": {
    "papermill": {
     "duration": 0.225597,
     "end_time": "2020-09-05T14:21:24.715744",
     "exception": false,
     "start_time": "2020-09-05T14:21:24.490147",
     "status": "completed"
    },
    "tags": []
   },
   "source": [
    "## Feature Engineering\n",
    "### Cabin"
   ]
  },
  {
   "cell_type": "code",
   "execution_count": 54,
   "metadata": {
    "ExecuteTime": {
     "end_time": "2021-02-13T10:08:59.762645Z",
     "start_time": "2021-02-13T10:08:59.756811Z"
    },
    "execution": {
     "iopub.execute_input": "2020-09-05T14:21:25.227207Z",
     "iopub.status.busy": "2020-09-05T14:21:25.226013Z",
     "iopub.status.idle": "2020-09-05T14:21:25.229576Z",
     "shell.execute_reply": "2020-09-05T14:21:25.228956Z"
    },
    "papermill": {
     "duration": 0.286912,
     "end_time": "2020-09-05T14:21:25.229730",
     "exception": false,
     "start_time": "2020-09-05T14:21:24.942818",
     "status": "completed"
    },
    "tags": []
   },
   "outputs": [],
   "source": [
    "## this is a code to create a wrapper for function, that works for both python and Pyspark.\n",
    "## don't do that in practice, python user defined func is very slow\n",
    "from typing import Callable\n",
    "from pyspark.sql import Column\n",
    "from pyspark.sql.functions import udf, col\n",
    "from pyspark.sql.types import StringType, IntegerType, ArrayType, DataType\n",
    "class py_or_udf:\n",
    "    def __init__(self, returnType : DataType=StringType()):\n",
    "        self.spark_udf_type = returnType\n",
    "        \n",
    "    def __call__(self, func : Callable):\n",
    "        def wrapped_func(*args, **kwargs):\n",
    "            if any([isinstance(arg, Column) for arg in args]) or \\\n",
    "                any([isinstance(vv, Column) for vv in kwargs.values()]):\n",
    "                return udf(func, self.spark_udf_type)(*args, **kwargs)\n",
    "            else:\n",
    "                return func(*args, **kwargs)\n",
    "        return wrapped_func\n",
    "\n",
    "    \n",
    "@py_or_udf(returnType=StringType())\n",
    "def first_char(col):\n",
    "    return col[0]\n",
    "    "
   ]
  },
  {
   "cell_type": "code",
   "execution_count": 55,
   "metadata": {
    "ExecuteTime": {
     "end_time": "2021-02-13T10:09:00.021775Z",
     "start_time": "2021-02-13T10:08:59.991752Z"
    },
    "execution": {
     "iopub.execute_input": "2020-09-05T14:21:25.703179Z",
     "iopub.status.busy": "2020-09-05T14:21:25.702300Z",
     "iopub.status.idle": "2020-09-05T14:21:25.743105Z",
     "shell.execute_reply": "2020-09-05T14:21:25.741904Z"
    },
    "papermill": {
     "duration": 0.273084,
     "end_time": "2020-09-05T14:21:25.743308",
     "exception": false,
     "start_time": "2020-09-05T14:21:25.470224",
     "status": "completed"
    },
    "tags": []
   },
   "outputs": [],
   "source": [
    "df = df.withColumn('Cabin', first_char(df['Cabin']))"
   ]
  },
  {
   "cell_type": "code",
   "execution_count": 56,
   "metadata": {
    "ExecuteTime": {
     "end_time": "2021-02-13T10:09:00.224920Z",
     "start_time": "2021-02-13T10:09:00.204958Z"
    },
    "execution": {
     "iopub.execute_input": "2020-09-05T14:21:26.220605Z",
     "iopub.status.busy": "2020-09-05T14:21:26.219603Z",
     "iopub.status.idle": "2020-09-05T14:21:26.245131Z",
     "shell.execute_reply": "2020-09-05T14:21:26.244260Z"
    },
    "papermill": {
     "duration": 0.263569,
     "end_time": "2020-09-05T14:21:26.245266",
     "exception": false,
     "start_time": "2020-09-05T14:21:25.981697",
     "status": "completed"
    },
    "tags": []
   },
   "outputs": [],
   "source": [
    "df_test = df_test.withColumn('Cabin', first_char(df_test['Cabin']))"
   ]
  },
  {
   "cell_type": "code",
   "execution_count": 57,
   "metadata": {
    "ExecuteTime": {
     "end_time": "2021-02-13T10:09:01.523409Z",
     "start_time": "2021-02-13T10:09:00.693555Z"
    },
    "execution": {
     "iopub.execute_input": "2020-09-05T14:21:26.702263Z",
     "iopub.status.busy": "2020-09-05T14:21:26.701352Z",
     "iopub.status.idle": "2020-09-05T14:21:27.609263Z",
     "shell.execute_reply": "2020-09-05T14:21:27.608265Z"
    },
    "papermill": {
     "duration": 1.138433,
     "end_time": "2020-09-05T14:21:27.609452",
     "exception": false,
     "start_time": "2020-09-05T14:21:26.471019",
     "status": "completed"
    },
    "tags": []
   },
   "outputs": [
    {
     "data": {
      "text/html": [
       "<div>\n",
       "<style scoped>\n",
       "    .dataframe tbody tr th:only-of-type {\n",
       "        vertical-align: middle;\n",
       "    }\n",
       "\n",
       "    .dataframe tbody tr th {\n",
       "        vertical-align: top;\n",
       "    }\n",
       "\n",
       "    .dataframe thead th {\n",
       "        text-align: right;\n",
       "    }\n",
       "</style>\n",
       "<table border=\"1\" class=\"dataframe\">\n",
       "  <thead>\n",
       "    <tr style=\"text-align: right;\">\n",
       "      <th></th>\n",
       "      <th>PassengerId</th>\n",
       "      <th>Survived</th>\n",
       "      <th>Pclass</th>\n",
       "      <th>Name</th>\n",
       "      <th>Sex</th>\n",
       "      <th>Age</th>\n",
       "      <th>SibSp</th>\n",
       "      <th>Parch</th>\n",
       "      <th>Ticket</th>\n",
       "      <th>Fare</th>\n",
       "      <th>Cabin</th>\n",
       "      <th>Embarked</th>\n",
       "    </tr>\n",
       "  </thead>\n",
       "  <tbody>\n",
       "    <tr>\n",
       "      <th>0</th>\n",
       "      <td>1</td>\n",
       "      <td>0</td>\n",
       "      <td>3</td>\n",
       "      <td>Braund, Mr. Owen Harris</td>\n",
       "      <td>male</td>\n",
       "      <td>22.0</td>\n",
       "      <td>1</td>\n",
       "      <td>0</td>\n",
       "      <td>A/5 21171</td>\n",
       "      <td>7.2500</td>\n",
       "      <td>N</td>\n",
       "      <td>S</td>\n",
       "    </tr>\n",
       "    <tr>\n",
       "      <th>1</th>\n",
       "      <td>2</td>\n",
       "      <td>1</td>\n",
       "      <td>1</td>\n",
       "      <td>Cumings, Mrs. John Bradley (Florence Briggs Th...</td>\n",
       "      <td>female</td>\n",
       "      <td>38.0</td>\n",
       "      <td>1</td>\n",
       "      <td>0</td>\n",
       "      <td>PC 17599</td>\n",
       "      <td>71.2833</td>\n",
       "      <td>C</td>\n",
       "      <td>C</td>\n",
       "    </tr>\n",
       "    <tr>\n",
       "      <th>2</th>\n",
       "      <td>3</td>\n",
       "      <td>1</td>\n",
       "      <td>3</td>\n",
       "      <td>Heikkinen, Miss. Laina</td>\n",
       "      <td>female</td>\n",
       "      <td>26.0</td>\n",
       "      <td>0</td>\n",
       "      <td>0</td>\n",
       "      <td>STON/O2. 3101282</td>\n",
       "      <td>7.9250</td>\n",
       "      <td>N</td>\n",
       "      <td>S</td>\n",
       "    </tr>\n",
       "    <tr>\n",
       "      <th>3</th>\n",
       "      <td>4</td>\n",
       "      <td>1</td>\n",
       "      <td>1</td>\n",
       "      <td>Futrelle, Mrs. Jacques Heath (Lily May Peel)</td>\n",
       "      <td>female</td>\n",
       "      <td>35.0</td>\n",
       "      <td>1</td>\n",
       "      <td>0</td>\n",
       "      <td>113803</td>\n",
       "      <td>53.1000</td>\n",
       "      <td>C</td>\n",
       "      <td>S</td>\n",
       "    </tr>\n",
       "    <tr>\n",
       "      <th>4</th>\n",
       "      <td>5</td>\n",
       "      <td>0</td>\n",
       "      <td>3</td>\n",
       "      <td>Allen, Mr. William Henry</td>\n",
       "      <td>male</td>\n",
       "      <td>35.0</td>\n",
       "      <td>0</td>\n",
       "      <td>0</td>\n",
       "      <td>373450</td>\n",
       "      <td>8.0500</td>\n",
       "      <td>N</td>\n",
       "      <td>S</td>\n",
       "    </tr>\n",
       "  </tbody>\n",
       "</table>\n",
       "</div>"
      ],
      "text/plain": [
       "   PassengerId  Survived  Pclass  \\\n",
       "0            1         0       3   \n",
       "1            2         1       1   \n",
       "2            3         1       3   \n",
       "3            4         1       1   \n",
       "4            5         0       3   \n",
       "\n",
       "                                                Name     Sex   Age  SibSp  \\\n",
       "0                            Braund, Mr. Owen Harris    male  22.0      1   \n",
       "1  Cumings, Mrs. John Bradley (Florence Briggs Th...  female  38.0      1   \n",
       "2                             Heikkinen, Miss. Laina  female  26.0      0   \n",
       "3       Futrelle, Mrs. Jacques Heath (Lily May Peel)  female  35.0      1   \n",
       "4                           Allen, Mr. William Henry    male  35.0      0   \n",
       "\n",
       "   Parch            Ticket     Fare Cabin Embarked  \n",
       "0      0         A/5 21171   7.2500     N        S  \n",
       "1      0          PC 17599  71.2833     C        C  \n",
       "2      0  STON/O2. 3101282   7.9250     N        S  \n",
       "3      0            113803  53.1000     C        S  \n",
       "4      0            373450   8.0500     N        S  "
      ]
     },
     "execution_count": 57,
     "metadata": {},
     "output_type": "execute_result"
    }
   ],
   "source": [
    "df.limit(5).toPandas()"
   ]
  },
  {
   "cell_type": "markdown",
   "metadata": {
    "papermill": {
     "duration": 0.319292,
     "end_time": "2020-09-05T14:21:28.258772",
     "exception": false,
     "start_time": "2020-09-05T14:21:27.939480",
     "status": "completed"
    },
    "tags": []
   },
   "source": [
    "We can use the average of the fare column We can use pyspark's ***groupby*** function to get the mean fare of each cabin letter."
   ]
  },
  {
   "cell_type": "code",
   "execution_count": 58,
   "metadata": {
    "ExecuteTime": {
     "end_time": "2021-02-13T10:09:03.707985Z",
     "start_time": "2021-02-13T10:09:03.290873Z"
    },
    "execution": {
     "iopub.execute_input": "2020-09-05T14:21:28.720837Z",
     "iopub.status.busy": "2020-09-05T14:21:28.719796Z",
     "iopub.status.idle": "2020-09-05T14:21:29.949209Z",
     "shell.execute_reply": "2020-09-05T14:21:29.948081Z"
    },
    "papermill": {
     "duration": 1.461566,
     "end_time": "2020-09-05T14:21:29.949398",
     "exception": false,
     "start_time": "2020-09-05T14:21:28.487832",
     "status": "completed"
    },
    "tags": []
   },
   "outputs": [
    {
     "name": "stdout",
     "output_type": "stream",
     "text": [
      "+-----+------------------+\n",
      "|Cabin|         avg(Fare)|\n",
      "+-----+------------------+\n",
      "|    F| 18.69679230769231|\n",
      "|    E|46.026693749999986|\n",
      "|    T|              35.5|\n",
      "|    B|113.50576382978724|\n",
      "|    D| 57.24457575757576|\n",
      "|    C|100.15134067796612|\n",
      "|    A|39.623886666666664|\n",
      "|    N|  19.1573253275109|\n",
      "|    G|          13.58125|\n",
      "+-----+------------------+\n",
      "\n"
     ]
    }
   ],
   "source": [
    "df.groupBy('Cabin').mean(\"Fare\").show()"
   ]
  },
  {
   "cell_type": "markdown",
   "metadata": {
    "papermill": {
     "duration": 0.226145,
     "end_time": "2020-09-05T14:21:30.448736",
     "exception": false,
     "start_time": "2020-09-05T14:21:30.222591",
     "status": "completed"
    },
    "tags": []
   },
   "source": [
    "Now, these mean can help us determine the unknown cabins, if we compare each unknown cabin rows with the given mean's above. Let's write a simple function so that we can give cabin names based on the means. "
   ]
  },
  {
   "cell_type": "code",
   "execution_count": 59,
   "metadata": {
    "ExecuteTime": {
     "end_time": "2021-02-13T10:09:16.783366Z",
     "start_time": "2021-02-13T10:09:16.774501Z"
    },
    "execution": {
     "iopub.execute_input": "2020-09-05T14:21:30.920665Z",
     "iopub.status.busy": "2020-09-05T14:21:30.919475Z",
     "iopub.status.idle": "2020-09-05T14:21:30.923171Z",
     "shell.execute_reply": "2020-09-05T14:21:30.922555Z"
    },
    "papermill": {
     "duration": 0.243031,
     "end_time": "2020-09-05T14:21:30.923299",
     "exception": false,
     "start_time": "2020-09-05T14:21:30.680268",
     "status": "completed"
    },
    "tags": []
   },
   "outputs": [],
   "source": [
    "@py_or_udf(returnType=StringType())\n",
    "def cabin_estimator(i):\n",
    "    \"\"\"Grouping cabin feature by the first letter\"\"\"\n",
    "    a = 0\n",
    "    if i<16:\n",
    "        a = \"G\"\n",
    "    elif i>=16 and i<27:\n",
    "        a = \"F\"\n",
    "    elif i>=27 and i<38:\n",
    "        a = \"T\"\n",
    "    elif i>=38 and i<47:\n",
    "        a = \"A\"\n",
    "    elif i>= 47 and i<53:\n",
    "        a = \"E\"\n",
    "    elif i>= 53 and i<54:\n",
    "        a = \"D\"\n",
    "    elif i>=54 and i<116:\n",
    "        a = 'C'\n",
    "    else:\n",
    "        a = \"B\"\n",
    "    return a"
   ]
  },
  {
   "cell_type": "code",
   "execution_count": 60,
   "metadata": {
    "ExecuteTime": {
     "end_time": "2021-02-13T10:09:18.553511Z",
     "start_time": "2021-02-13T10:09:18.478999Z"
    },
    "execution": {
     "iopub.execute_input": "2020-09-05T14:21:31.403299Z",
     "iopub.status.busy": "2020-09-05T14:21:31.401992Z",
     "iopub.status.idle": "2020-09-05T14:21:31.476131Z",
     "shell.execute_reply": "2020-09-05T14:21:31.475272Z"
    },
    "papermill": {
     "duration": 0.309388,
     "end_time": "2020-09-05T14:21:31.476261",
     "exception": false,
     "start_time": "2020-09-05T14:21:31.166873",
     "status": "completed"
    },
    "tags": []
   },
   "outputs": [],
   "source": [
    "## separating data where Cabin == 'N', remeber we used 'N' for Null. \n",
    "df_withN = df.filter(df['Cabin'] == 'N')\n",
    "df2 = df.filter(df['Cabin'] != 'N')\n",
    "\n",
    "## replacing 'N' using cabin estimated function. \n",
    "df_withN = df_withN.withColumn('Cabin', cabin_estimator(df_withN['Fare']))\n",
    "\n",
    "# putting the dataframe back together. \n",
    "df = df_withN.union(df2).orderBy('PassengerId') "
   ]
  },
  {
   "cell_type": "code",
   "execution_count": 61,
   "metadata": {
    "ExecuteTime": {
     "end_time": "2021-02-13T10:09:32.429036Z",
     "start_time": "2021-02-13T10:09:32.393408Z"
    },
    "execution": {
     "iopub.execute_input": "2020-09-05T14:21:31.980382Z",
     "iopub.status.busy": "2020-09-05T14:21:31.979447Z",
     "iopub.status.idle": "2020-09-05T14:21:32.037329Z",
     "shell.execute_reply": "2020-09-05T14:21:32.036321Z"
    },
    "papermill": {
     "duration": 0.299693,
     "end_time": "2020-09-05T14:21:32.037542",
     "exception": false,
     "start_time": "2020-09-05T14:21:31.737849",
     "status": "completed"
    },
    "tags": []
   },
   "outputs": [],
   "source": [
    "#let's do the same for test set\n",
    "df_testN = df_test.filter(df_test['Cabin'] == 'N')\n",
    "df_testNoN = df_test.filter(df_test['Cabin'] != 'N')\n",
    "df_testN = df_testN.withColumn('Cabin', cabin_estimator(df_testN['Fare']))\n",
    "df_test = df_testN.union(df_testNoN).orderBy('PassengerId')"
   ]
  },
  {
   "cell_type": "markdown",
   "metadata": {
    "papermill": {
     "duration": 0.228794,
     "end_time": "2020-09-05T14:21:32.497735",
     "exception": false,
     "start_time": "2020-09-05T14:21:32.268941",
     "status": "completed"
    },
    "tags": []
   },
   "source": [
    "### Name"
   ]
  },
  {
   "cell_type": "code",
   "execution_count": 62,
   "metadata": {
    "ExecuteTime": {
     "end_time": "2021-02-13T10:09:39.776283Z",
     "start_time": "2021-02-13T10:09:39.770467Z"
    },
    "execution": {
     "iopub.execute_input": "2020-09-05T14:21:32.960649Z",
     "iopub.status.busy": "2020-09-05T14:21:32.959803Z",
     "iopub.status.idle": "2020-09-05T14:21:32.972287Z",
     "shell.execute_reply": "2020-09-05T14:21:32.971447Z"
    },
    "papermill": {
     "duration": 0.248214,
     "end_time": "2020-09-05T14:21:32.972414",
     "exception": false,
     "start_time": "2020-09-05T14:21:32.724200",
     "status": "completed"
    },
    "tags": []
   },
   "outputs": [],
   "source": [
    "## creating UDF functions\n",
    "@py_or_udf(returnType=IntegerType())\n",
    "def name_length(name):\n",
    "    return len(name)\n",
    "\n",
    "\n",
    "@py_or_udf(returnType=StringType())\n",
    "def name_length_group(size):\n",
    "    a = ''\n",
    "    if (size <=20):\n",
    "        a = 'short'\n",
    "    elif (size <=35):\n",
    "        a = 'medium'\n",
    "    elif (size <=45):\n",
    "        a = 'good'\n",
    "    else:\n",
    "        a = 'long'\n",
    "    return a"
   ]
  },
  {
   "cell_type": "code",
   "execution_count": 63,
   "metadata": {
    "ExecuteTime": {
     "end_time": "2021-02-13T10:09:40.121445Z",
     "start_time": "2021-02-13T10:09:40.085598Z"
    },
    "execution": {
     "iopub.execute_input": "2020-09-05T14:21:33.484443Z",
     "iopub.status.busy": "2020-09-05T14:21:33.483660Z",
     "iopub.status.idle": "2020-09-05T14:21:33.529010Z",
     "shell.execute_reply": "2020-09-05T14:21:33.528150Z"
    },
    "papermill": {
     "duration": 0.27957,
     "end_time": "2020-09-05T14:21:33.529145",
     "exception": false,
     "start_time": "2020-09-05T14:21:33.249575",
     "status": "completed"
    },
    "tags": []
   },
   "outputs": [],
   "source": [
    "## getting the name length from name. \n",
    "df = df.withColumn(\"name_length\", name_length(df['Name']))\n",
    "\n",
    "## grouping based on name length. \n",
    "df = df.withColumn(\"nLength_group\", name_length_group(df['name_length']))"
   ]
  },
  {
   "cell_type": "code",
   "execution_count": 64,
   "metadata": {
    "ExecuteTime": {
     "end_time": "2021-02-13T10:09:40.576239Z",
     "start_time": "2021-02-13T10:09:40.549766Z"
    },
    "execution": {
     "iopub.execute_input": "2020-09-05T14:21:34.006805Z",
     "iopub.status.busy": "2020-09-05T14:21:34.005809Z",
     "iopub.status.idle": "2020-09-05T14:21:34.056863Z",
     "shell.execute_reply": "2020-09-05T14:21:34.056222Z"
    },
    "papermill": {
     "duration": 0.292858,
     "end_time": "2020-09-05T14:21:34.056998",
     "exception": false,
     "start_time": "2020-09-05T14:21:33.764140",
     "status": "completed"
    },
    "tags": []
   },
   "outputs": [],
   "source": [
    "## Let's do the same for test set. \n",
    "df_test = df_test.withColumn(\"name_length\", name_length(df_test['Name']))\n",
    "\n",
    "df_test = df_test.withColumn(\"nLength_group\", name_length_group(df_test['name_length']))"
   ]
  },
  {
   "cell_type": "markdown",
   "metadata": {
    "papermill": {
     "duration": 0.230787,
     "end_time": "2020-09-05T14:21:34.519029",
     "exception": false,
     "start_time": "2020-09-05T14:21:34.288242",
     "status": "completed"
    },
    "tags": []
   },
   "source": [
    "### Title"
   ]
  },
  {
   "cell_type": "code",
   "execution_count": 65,
   "metadata": {
    "ExecuteTime": {
     "end_time": "2021-02-13T10:09:42.628724Z",
     "start_time": "2021-02-13T10:09:42.596483Z"
    },
    "execution": {
     "iopub.execute_input": "2020-09-05T14:21:34.985980Z",
     "iopub.status.busy": "2020-09-05T14:21:34.985187Z",
     "iopub.status.idle": "2020-09-05T14:21:35.033158Z",
     "shell.execute_reply": "2020-09-05T14:21:35.031647Z"
    },
    "papermill": {
     "duration": 0.283315,
     "end_time": "2020-09-05T14:21:35.033370",
     "exception": false,
     "start_time": "2020-09-05T14:21:34.750055",
     "status": "completed"
    },
    "tags": []
   },
   "outputs": [],
   "source": [
    "## this function helps getting the title from the name. \n",
    "@py_or_udf(returnType=StringType())\n",
    "def get_title(name):\n",
    "    return name.split('.')[0].split(',')[1].strip()\n",
    "\n",
    "df = df.withColumn(\"title\", get_title(df['Name']))\n",
    "df_test = df_test.withColumn('title', get_title(df_test['Name']))"
   ]
  },
  {
   "cell_type": "code",
   "execution_count": 66,
   "metadata": {
    "ExecuteTime": {
     "end_time": "2021-02-13T10:09:43.387183Z",
     "start_time": "2021-02-13T10:09:43.383404Z"
    },
    "execution": {
     "iopub.execute_input": "2020-09-05T14:21:35.518330Z",
     "iopub.status.busy": "2020-09-05T14:21:35.517257Z",
     "iopub.status.idle": "2020-09-05T14:21:35.520799Z",
     "shell.execute_reply": "2020-09-05T14:21:35.520157Z"
    },
    "papermill": {
     "duration": 0.240196,
     "end_time": "2020-09-05T14:21:35.520928",
     "exception": false,
     "start_time": "2020-09-05T14:21:35.280732",
     "status": "completed"
    },
    "tags": []
   },
   "outputs": [],
   "source": [
    "## we are writing a function that can help us modify title column\n",
    "@py_or_udf(returnType=StringType())\n",
    "def fuse_title1(feature):\n",
    "    \"\"\"\n",
    "    This function helps modifying the title column\n",
    "    \"\"\"\n",
    "    if feature in ['the Countess','Capt','Lady','Sir','Jonkheer','Don','Major','Col', 'Rev', 'Dona', 'Dr']:\n",
    "        return 'rare'\n",
    "    elif feature in ['Ms', 'Mlle']:\n",
    "        return 'Miss'\n",
    "    elif feature == 'Mme':\n",
    "        return 'Mrs'\n",
    "    else:\n",
    "        return feature"
   ]
  },
  {
   "cell_type": "code",
   "execution_count": 67,
   "metadata": {
    "ExecuteTime": {
     "end_time": "2021-02-13T10:09:44.154068Z",
     "start_time": "2021-02-13T10:09:44.138262Z"
    },
    "execution": {
     "iopub.execute_input": "2020-09-05T14:21:35.981797Z",
     "iopub.status.busy": "2020-09-05T14:21:35.980927Z",
     "iopub.status.idle": "2020-09-05T14:21:36.001622Z",
     "shell.execute_reply": "2020-09-05T14:21:36.000932Z"
    },
    "papermill": {
     "duration": 0.254845,
     "end_time": "2020-09-05T14:21:36.001759",
     "exception": false,
     "start_time": "2020-09-05T14:21:35.746914",
     "status": "completed"
    },
    "tags": []
   },
   "outputs": [],
   "source": [
    "df = df.withColumn(\"title\", fuse_title1(df[\"title\"]))"
   ]
  },
  {
   "cell_type": "code",
   "execution_count": 68,
   "metadata": {
    "ExecuteTime": {
     "end_time": "2021-02-13T10:09:44.345407Z",
     "start_time": "2021-02-13T10:09:44.321301Z"
    },
    "execution": {
     "iopub.execute_input": "2020-09-05T14:21:36.464879Z",
     "iopub.status.busy": "2020-09-05T14:21:36.463741Z",
     "iopub.status.idle": "2020-09-05T14:21:36.485470Z",
     "shell.execute_reply": "2020-09-05T14:21:36.484770Z"
    },
    "papermill": {
     "duration": 0.253801,
     "end_time": "2020-09-05T14:21:36.485654",
     "exception": false,
     "start_time": "2020-09-05T14:21:36.231853",
     "status": "completed"
    },
    "tags": []
   },
   "outputs": [],
   "source": [
    "df_test = df_test.withColumn(\"title\", fuse_title1(df_test['title']))"
   ]
  },
  {
   "cell_type": "code",
   "execution_count": 69,
   "metadata": {
    "ExecuteTime": {
     "end_time": "2021-02-13T10:09:47.279697Z",
     "start_time": "2021-02-13T10:09:44.936901Z"
    },
    "execution": {
     "iopub.execute_input": "2020-09-05T14:21:36.972022Z",
     "iopub.status.busy": "2020-09-05T14:21:36.970908Z",
     "iopub.status.idle": "2020-09-05T14:21:44.941094Z",
     "shell.execute_reply": "2020-09-05T14:21:44.940381Z"
    },
    "papermill": {
     "duration": 8.228583,
     "end_time": "2020-09-05T14:21:44.941226",
     "exception": false,
     "start_time": "2020-09-05T14:21:36.712643",
     "status": "completed"
    },
    "tags": []
   },
   "outputs": [
    {
     "name": "stdout",
     "output_type": "stream",
     "text": [
      "['Mr' 'Mrs' 'Miss' 'Master' 'rare']\n",
      "['Mr' 'Mrs' 'Miss' 'Master' 'rare']\n"
     ]
    }
   ],
   "source": [
    "print(df.toPandas()['title'].unique())\n",
    "print(df_test.toPandas()['title'].unique())"
   ]
  },
  {
   "cell_type": "markdown",
   "metadata": {
    "papermill": {
     "duration": 0.228337,
     "end_time": "2020-09-05T14:21:45.401890",
     "exception": false,
     "start_time": "2020-09-05T14:21:45.173553",
     "status": "completed"
    },
    "tags": []
   },
   "source": [
    "### family_size"
   ]
  },
  {
   "cell_type": "code",
   "execution_count": 70,
   "metadata": {
    "ExecuteTime": {
     "end_time": "2021-02-13T10:09:47.546163Z",
     "start_time": "2021-02-13T10:09:47.533811Z"
    },
    "execution": {
     "iopub.execute_input": "2020-09-05T14:21:45.869149Z",
     "iopub.status.busy": "2020-09-05T14:21:45.868006Z",
     "iopub.status.idle": "2020-09-05T14:21:45.888148Z",
     "shell.execute_reply": "2020-09-05T14:21:45.887356Z"
    },
    "papermill": {
     "duration": 0.257043,
     "end_time": "2020-09-05T14:21:45.888275",
     "exception": false,
     "start_time": "2020-09-05T14:21:45.631232",
     "status": "completed"
    },
    "tags": []
   },
   "outputs": [],
   "source": [
    "df = df.withColumn(\"family_size\", df['SibSp']+df['Parch'])\n",
    "df_test = df_test.withColumn(\"family_size\", df_test['SibSp']+df_test['Parch'])"
   ]
  },
  {
   "cell_type": "code",
   "execution_count": 71,
   "metadata": {
    "ExecuteTime": {
     "end_time": "2021-02-13T10:09:48.135719Z",
     "start_time": "2021-02-13T10:09:48.131273Z"
    },
    "execution": {
     "iopub.execute_input": "2020-09-05T14:21:46.365696Z",
     "iopub.status.busy": "2020-09-05T14:21:46.364607Z",
     "iopub.status.idle": "2020-09-05T14:21:46.368252Z",
     "shell.execute_reply": "2020-09-05T14:21:46.367676Z"
    },
    "papermill": {
     "duration": 0.246532,
     "end_time": "2020-09-05T14:21:46.368381",
     "exception": false,
     "start_time": "2020-09-05T14:21:46.121849",
     "status": "completed"
    },
    "tags": []
   },
   "outputs": [],
   "source": [
    "## bin the family size. \n",
    "@py_or_udf(returnType=StringType())\n",
    "def family_group(size):\n",
    "    \"\"\"\n",
    "    This funciton groups(loner, small, large) family based on family size\n",
    "    \"\"\"\n",
    "    \n",
    "    a = ''\n",
    "    if (size <= 1):\n",
    "        a = 'loner'\n",
    "    elif (size <= 4):\n",
    "        a = 'small'\n",
    "    else:\n",
    "        a = 'large'\n",
    "    return a"
   ]
  },
  {
   "cell_type": "code",
   "execution_count": 72,
   "metadata": {
    "ExecuteTime": {
     "end_time": "2021-02-13T10:09:49.700184Z",
     "start_time": "2021-02-13T10:09:49.665925Z"
    },
    "execution": {
     "iopub.execute_input": "2020-09-05T14:21:46.835084Z",
     "iopub.status.busy": "2020-09-05T14:21:46.833994Z",
     "iopub.status.idle": "2020-09-05T14:21:46.874123Z",
     "shell.execute_reply": "2020-09-05T14:21:46.872989Z"
    },
    "papermill": {
     "duration": 0.275243,
     "end_time": "2020-09-05T14:21:46.874312",
     "exception": false,
     "start_time": "2020-09-05T14:21:46.599069",
     "status": "completed"
    },
    "tags": []
   },
   "outputs": [],
   "source": [
    "df = df.withColumn(\"family_group\", family_group(df['family_size']))\n",
    "df_test = df_test.withColumn(\"family_group\", family_group(df_test['family_size']))\n"
   ]
  },
  {
   "cell_type": "markdown",
   "metadata": {
    "papermill": {
     "duration": 0.231604,
     "end_time": "2020-09-05T14:21:47.341334",
     "exception": false,
     "start_time": "2020-09-05T14:21:47.109730",
     "status": "completed"
    },
    "tags": []
   },
   "source": [
    "### is_alone"
   ]
  },
  {
   "cell_type": "code",
   "execution_count": 73,
   "metadata": {
    "ExecuteTime": {
     "end_time": "2021-02-13T10:09:51.118796Z",
     "start_time": "2021-02-13T10:09:51.114873Z"
    },
    "execution": {
     "iopub.execute_input": "2020-09-05T14:21:47.806972Z",
     "iopub.status.busy": "2020-09-05T14:21:47.803904Z",
     "iopub.status.idle": "2020-09-05T14:21:47.809563Z",
     "shell.execute_reply": "2020-09-05T14:21:47.810119Z"
    },
    "papermill": {
     "duration": 0.240235,
     "end_time": "2020-09-05T14:21:47.810290",
     "exception": false,
     "start_time": "2020-09-05T14:21:47.570055",
     "status": "completed"
    },
    "tags": []
   },
   "outputs": [],
   "source": [
    "@py_or_udf(returnType=IntegerType())\n",
    "def is_alone(num):\n",
    "    if num<2:\n",
    "        return 1\n",
    "    else:\n",
    "        return 0"
   ]
  },
  {
   "cell_type": "code",
   "execution_count": 74,
   "metadata": {
    "ExecuteTime": {
     "end_time": "2021-02-13T10:09:51.776589Z",
     "start_time": "2021-02-13T10:09:51.719932Z"
    },
    "execution": {
     "iopub.execute_input": "2020-09-05T14:21:48.282652Z",
     "iopub.status.busy": "2020-09-05T14:21:48.281616Z",
     "iopub.status.idle": "2020-09-05T14:21:48.322913Z",
     "shell.execute_reply": "2020-09-05T14:21:48.321959Z"
    },
    "papermill": {
     "duration": 0.278273,
     "end_time": "2020-09-05T14:21:48.323049",
     "exception": false,
     "start_time": "2020-09-05T14:21:48.044776",
     "status": "completed"
    },
    "tags": []
   },
   "outputs": [],
   "source": [
    "df = df.withColumn(\"is_alone\", is_alone(df['family_size']))\n",
    "df_test = df_test.withColumn(\"is_alone\", is_alone(df_test[\"family_size\"]))"
   ]
  },
  {
   "cell_type": "markdown",
   "metadata": {
    "papermill": {
     "duration": 0.232017,
     "end_time": "2020-09-05T14:21:48.785255",
     "exception": false,
     "start_time": "2020-09-05T14:21:48.553238",
     "status": "completed"
    },
    "tags": []
   },
   "source": [
    "### ticket"
   ]
  },
  {
   "cell_type": "code",
   "execution_count": 75,
   "metadata": {
    "ExecuteTime": {
     "end_time": "2021-02-13T10:09:53.587850Z",
     "start_time": "2021-02-13T10:09:53.576627Z"
    },
    "execution": {
     "iopub.execute_input": "2020-09-05T14:21:49.253170Z",
     "iopub.status.busy": "2020-09-05T14:21:49.252172Z",
     "iopub.status.idle": "2020-09-05T14:21:49.268606Z",
     "shell.execute_reply": "2020-09-05T14:21:49.267902Z"
    },
    "papermill": {
     "duration": 0.252002,
     "end_time": "2020-09-05T14:21:49.268745",
     "exception": false,
     "start_time": "2020-09-05T14:21:49.016743",
     "status": "completed"
    },
    "tags": []
   },
   "outputs": [],
   "source": [
    "## dropping ticket column\n",
    "df = df.drop('ticket')\n",
    "df_test = df_test.drop(\"ticket\")"
   ]
  },
  {
   "cell_type": "markdown",
   "metadata": {
    "papermill": {
     "duration": 0.233611,
     "end_time": "2020-09-05T14:21:49.737611",
     "exception": false,
     "start_time": "2020-09-05T14:21:49.504000",
     "status": "completed"
    },
    "tags": []
   },
   "source": [
    "### calculated_fare"
   ]
  },
  {
   "cell_type": "code",
   "execution_count": 76,
   "metadata": {
    "ExecuteTime": {
     "end_time": "2021-02-13T10:09:54.771392Z",
     "start_time": "2021-02-13T10:09:54.768065Z"
    },
    "execution": {
     "iopub.execute_input": "2020-09-05T14:21:50.207561Z",
     "iopub.status.busy": "2020-09-05T14:21:50.206403Z",
     "iopub.status.idle": "2020-09-05T14:21:50.210205Z",
     "shell.execute_reply": "2020-09-05T14:21:50.209459Z"
    },
    "papermill": {
     "duration": 0.242117,
     "end_time": "2020-09-05T14:21:50.210333",
     "exception": false,
     "start_time": "2020-09-05T14:21:49.968216",
     "status": "completed"
    },
    "tags": []
   },
   "outputs": [],
   "source": [
    "from pyspark.sql.functions import expr, col, when, coalesce, lit"
   ]
  },
  {
   "cell_type": "code",
   "execution_count": 77,
   "metadata": {
    "ExecuteTime": {
     "end_time": "2021-02-13T10:09:56.550817Z",
     "start_time": "2021-02-13T10:09:56.515581Z"
    },
    "execution": {
     "iopub.execute_input": "2020-09-05T14:21:50.675664Z",
     "iopub.status.busy": "2020-09-05T14:21:50.674850Z",
     "iopub.status.idle": "2020-09-05T14:21:50.708727Z",
     "shell.execute_reply": "2020-09-05T14:21:50.709284Z"
    },
    "papermill": {
     "duration": 0.268702,
     "end_time": "2020-09-05T14:21:50.709462",
     "exception": false,
     "start_time": "2020-09-05T14:21:50.440760",
     "status": "completed"
    },
    "tags": []
   },
   "outputs": [],
   "source": [
    "## here I am using a something similar to if and else statement, \n",
    "#when(condition, value_when_condition_met).otherwise(alt_condition)\n",
    "df = df.withColumn(\n",
    "    \"calculated_fare\", \n",
    "    when((col(\"Fare\")/col(\"family_size\")).isNull(), col('Fare')).otherwise((col(\"Fare\")/col(\"family_size\"))))"
   ]
  },
  {
   "cell_type": "code",
   "execution_count": 78,
   "metadata": {
    "ExecuteTime": {
     "end_time": "2021-02-13T10:09:57.107640Z",
     "start_time": "2021-02-13T10:09:57.088651Z"
    },
    "execution": {
     "iopub.execute_input": "2020-09-05T14:21:51.177163Z",
     "iopub.status.busy": "2020-09-05T14:21:51.176121Z",
     "iopub.status.idle": "2020-09-05T14:21:51.200226Z",
     "shell.execute_reply": "2020-09-05T14:21:51.199557Z"
    },
    "papermill": {
     "duration": 0.2613,
     "end_time": "2020-09-05T14:21:51.200357",
     "exception": false,
     "start_time": "2020-09-05T14:21:50.939057",
     "status": "completed"
    },
    "tags": []
   },
   "outputs": [],
   "source": [
    "df_test = df_test.withColumn(\n",
    "    \"calculated_fare\", \n",
    "    when((col(\"Fare\")/col(\"family_size\")).isNull(), col('Fare')).otherwise((col(\"Fare\")/col(\"family_size\"))))\n"
   ]
  },
  {
   "cell_type": "markdown",
   "metadata": {
    "papermill": {
     "duration": 0.230029,
     "end_time": "2020-09-05T14:21:51.661379",
     "exception": false,
     "start_time": "2020-09-05T14:21:51.431350",
     "status": "completed"
    },
    "tags": []
   },
   "source": [
    "### fare_group"
   ]
  },
  {
   "cell_type": "code",
   "execution_count": 79,
   "metadata": {
    "ExecuteTime": {
     "end_time": "2021-02-13T10:10:01.530567Z",
     "start_time": "2021-02-13T10:10:01.526626Z"
    },
    "execution": {
     "iopub.execute_input": "2020-09-05T14:21:52.151277Z",
     "iopub.status.busy": "2020-09-05T14:21:52.150343Z",
     "iopub.status.idle": "2020-09-05T14:21:52.153697Z",
     "shell.execute_reply": "2020-09-05T14:21:52.152908Z"
    },
    "papermill": {
     "duration": 0.249978,
     "end_time": "2020-09-05T14:21:52.153826",
     "exception": false,
     "start_time": "2020-09-05T14:21:51.903848",
     "status": "completed"
    },
    "tags": []
   },
   "outputs": [],
   "source": [
    "@py_or_udf(returnType=StringType())\n",
    "def fare_group(fare):\n",
    "    \"\"\"\n",
    "    This function creates a fare group based on the fare provided\n",
    "    \"\"\"\n",
    "    \n",
    "    a= ''\n",
    "    if fare <= 4:\n",
    "        a = 'Very_low'\n",
    "    elif fare <= 10:\n",
    "        a = 'low'\n",
    "    elif fare <= 20:\n",
    "        a = 'mid'\n",
    "    elif fare <= 45:\n",
    "        a = 'high'\n",
    "    else:\n",
    "        a = \"very_high\"\n",
    "    return a"
   ]
  },
  {
   "cell_type": "code",
   "execution_count": 80,
   "metadata": {
    "ExecuteTime": {
     "end_time": "2021-02-13T10:10:02.157771Z",
     "start_time": "2021-02-13T10:10:02.121319Z"
    },
    "execution": {
     "iopub.execute_input": "2020-09-05T14:21:52.635774Z",
     "iopub.status.busy": "2020-09-05T14:21:52.634916Z",
     "iopub.status.idle": "2020-09-05T14:21:52.682188Z",
     "shell.execute_reply": "2020-09-05T14:21:52.681297Z"
    },
    "papermill": {
     "duration": 0.289702,
     "end_time": "2020-09-05T14:21:52.682362",
     "exception": false,
     "start_time": "2020-09-05T14:21:52.392660",
     "status": "completed"
    },
    "tags": []
   },
   "outputs": [],
   "source": [
    "df = df.withColumn(\"fare_group\", fare_group(col(\"Fare\")))\n",
    "df_test = df_test.withColumn(\"fare_group\", fare_group(col(\"Fare\")))"
   ]
  },
  {
   "cell_type": "markdown",
   "metadata": {
    "papermill": {
     "duration": 0.239864,
     "end_time": "2020-09-05T14:21:53.161379",
     "exception": false,
     "start_time": "2020-09-05T14:21:52.921515",
     "status": "completed"
    },
    "tags": []
   },
   "source": [
    "# That's all for today. Let's come back tomorrow when we will learn how to apply machine learning with Pyspark"
   ]
  },
  {
   "cell_type": "markdown",
   "metadata": {
    "papermill": {
     "duration": 0.235314,
     "end_time": "2020-09-05T14:21:53.634558",
     "exception": false,
     "start_time": "2020-09-05T14:21:53.399244",
     "status": "completed"
    },
    "tags": []
   },
   "source": [
    "<div class=\"alert alert-info\">\n",
    "    <h1>Resources</h1>\n",
    "    <ul>\n",
    "        <li><a href=\"https://docs.databricks.com/spark/latest/spark-sql/udf-python.html\">User-defined functions - Python</a></li>\n",
    "        <li><a href=\"https://medium.com/@ayplam/developing-pyspark-udfs-d179db0ccc87\">Developing PySpark UDFs</a></li>\n",
    "    </ul>\n",
    "        <h1>Credits</h1>\n",
    "    <ul>\n",
    "        <li>To DataCamp, I have learned so much from DataCamp.</li>\n",
    "        <li>To Jose Portilla, Such an amazing teacher with all of his resources</li>\n",
    "    </ul>\n",
    "    \n",
    "</div>"
   ]
  },
  {
   "cell_type": "markdown",
   "metadata": {
    "papermill": {
     "duration": 0.239748,
     "end_time": "2020-09-05T14:21:54.110809",
     "exception": false,
     "start_time": "2020-09-05T14:21:53.871061",
     "status": "completed"
    },
    "tags": []
   },
   "source": [
    "<div class=\"alert alert-info\">\n",
    "<h4>If you like to discuss any other projects or just have a chat about data science topics, I'll be more than happy to connect with you on:</h4>\n",
    "    <ul>\n",
    "        <li><a href=\"https://www.linkedin.com/in/masumrumi/\"><b>LinkedIn</b></a></li>\n",
    "        <li><a href=\"https://github.com/masumrumi\"><b>Github</b></a></li>\n",
    "        <li><a href=\"https://masumrumi.com/\"><b>masumrumi.com</b></a></li>\n",
    "    </ul>\n",
    "\n",
    "<p>This kernel will always be a work in progress. I will incorporate new concepts of data science as I comprehend them with each update. If you have any idea/suggestions about this notebook, please let me know. Any feedback about further improvements would be genuinely appreciated.</p>\n",
    "\n",
    "<h1>If you have come this far, Congratulations!!</h1>\n",
    "\n",
    "<h1>If this notebook helped you in any way or you liked it, please upvote and/or leave a comment!! :)</h1></div>"
   ]
  },
  {
   "cell_type": "code",
   "execution_count": null,
   "metadata": {
    "papermill": {
     "duration": 0.236432,
     "end_time": "2020-09-05T14:21:54.586847",
     "exception": false,
     "start_time": "2020-09-05T14:21:54.350415",
     "status": "completed"
    },
    "tags": []
   },
   "outputs": [],
   "source": []
  }
 ],
 "metadata": {
  "kernelspec": {
   "display_name": "Python 3",
   "language": "python",
   "name": "python3"
  },
  "language_info": {
   "codemirror_mode": {
    "name": "ipython",
    "version": 3
   },
   "file_extension": ".py",
   "mimetype": "text/x-python",
   "name": "python",
   "nbconvert_exporter": "python",
   "pygments_lexer": "ipython3",
   "version": "3.8.3"
  },
  "papermill": {
   "duration": 129.228332,
   "end_time": "2020-09-05T14:21:54.933068",
   "environment_variables": {},
   "exception": null,
   "input_path": "__notebook__.ipynb",
   "output_path": "__notebook__.ipynb",
   "parameters": {},
   "start_time": "2020-09-05T14:19:45.704736",
   "version": "2.1.0"
  },
  "toc": {
   "base_numbering": 1,
   "nav_menu": {},
   "number_sections": true,
   "sideBar": true,
   "skip_h1_title": false,
   "title_cell": "Table of Contents",
   "title_sidebar": "Contents",
   "toc_cell": false,
   "toc_position": {},
   "toc_section_display": true,
   "toc_window_display": true
  }
 },
 "nbformat": 4,
 "nbformat_minor": 4
}
