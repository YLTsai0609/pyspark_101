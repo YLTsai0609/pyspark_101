{
 "cells": [
  {
   "cell_type": "code",
   "execution_count": 1,
   "metadata": {
    "ExecuteTime": {
     "end_time": "2021-07-30T16:23:19.290104Z",
     "start_time": "2021-07-30T16:23:19.284674Z"
    }
   },
   "outputs": [],
   "source": [
    "# total : 58 problem and solutions"
   ]
  },
  {
   "cell_type": "code",
   "execution_count": 2,
   "metadata": {
    "ExecuteTime": {
     "end_time": "2021-07-30T16:23:20.444574Z",
     "start_time": "2021-07-30T16:23:19.296723Z"
    }
   },
   "outputs": [],
   "source": [
    "# env : pixlake\n",
    "# we focuing on pyspark dataframe processing\n",
    "# documentation https://spark.apache.org/docs/2.4.0/api/python/pyspark.sql.html#pyspark.sql.DataFrame\n",
    "%load_ext autoreload\n",
    "%autoreload 2"
   ]
  },
  {
   "cell_type": "code",
   "execution_count": 3,
   "metadata": {
    "ExecuteTime": {
     "end_time": "2021-07-30T16:23:20.613672Z",
     "start_time": "2021-07-30T16:23:20.446585Z"
    }
   },
   "outputs": [],
   "source": [
    "# make you auto compeletion faster\n",
    "# https://stackoverflow.com/questions/40536560/ipython-and-jupyter-autocomplete-not-working\n",
    "%config Completer.use_jedi = False"
   ]
  },
  {
   "cell_type": "code",
   "execution_count": 4,
   "metadata": {
    "ExecuteTime": {
     "end_time": "2021-07-30T16:23:20.716189Z",
     "start_time": "2021-07-30T16:23:20.615932Z"
    }
   },
   "outputs": [
    {
     "name": "stdout",
     "output_type": "stream",
     "text": [
      "You have pyspark version :  ['spark-2.3', 'spark-3.1.2-bin-hadoop2.7', 'spark-3.0', 'spark-3.0.1-bin-hadoop2.7', 'spark-2.3.4-bin-hadoop2.7', 'spark-2.4.7-bin-hadoop2.7', 'spark-2.4', 'spark-3.1']\n"
     ]
    }
   ],
   "source": [
    "import os\n",
    "import sys\n",
    "\n",
    "def get_workstation_spark_path(where_are_you : str) -> str:\n",
    "    if where_are_you == 'titan':\n",
    "        return '/home/data/ryanchao2012/lib'\n",
    "    elif where_are_you == 'thor':\n",
    "        return '/opt/spark/versions'\n",
    "    else:\n",
    "        raise ValueError(\"wrong work station name\")\n",
    "\n",
    "spark_path = get_workstation_spark_path('thor')\n",
    "\n",
    "print('You have pyspark version : ', os.listdir(spark_path))\n",
    "os.environ['PYSPARK_PYTHON'] = sys.executable\n",
    "# spark-2.3, spark-2.4\n",
    "# os.environ['SPARK_HOME'] = os.path.join(spark_path,'spark-2.3')\n",
    "\n",
    "# use spakr 3.1\n",
    "\n",
    "os.environ['SPARK_HOME'] = '/home/joetsai/download/spark-3.1.2-bin-hadoop3.2'"
   ]
  },
  {
   "cell_type": "code",
   "execution_count": 5,
   "metadata": {
    "ExecuteTime": {
     "end_time": "2021-07-30T16:23:21.547852Z",
     "start_time": "2021-07-30T16:23:20.719038Z"
    }
   },
   "outputs": [
    {
     "data": {
      "text/plain": [
       "'/home/joetsai/download/spark-3.1.2-bin-hadoop3.2'"
      ]
     },
     "execution_count": 5,
     "metadata": {},
     "output_type": "execute_result"
    }
   ],
   "source": [
    "os.environ['SPARK_HOME']"
   ]
  },
  {
   "cell_type": "code",
   "execution_count": 6,
   "metadata": {
    "ExecuteTime": {
     "end_time": "2021-07-30T16:23:21.948663Z",
     "start_time": "2021-07-30T16:23:21.549384Z"
    }
   },
   "outputs": [],
   "source": [
    "import re\n",
    "from os.path import join\n",
    "import pandas as pd\n",
    "from pyspark.sql import SparkSession as Session\n",
    "from pyspark.sql import DataFrame\n",
    "from pyspark import SparkConf as Conf\n",
    "from pyspark.sql import functions as F, Window as W, types as T\n",
    "from pyspark.sql.types import StructType, StructField, StringType, IntegerType\n",
    "C = F.col"
   ]
  },
  {
   "cell_type": "code",
   "execution_count": 7,
   "metadata": {
    "ExecuteTime": {
     "end_time": "2021-07-30T16:23:21.959353Z",
     "start_time": "2021-07-30T16:23:21.950238Z"
    }
   },
   "outputs": [],
   "source": [
    "conf = (Conf()\n",
    "    .set('spark.sql.sources.partitionOverwriteMode', 'dynamic')\n",
    "    .set('spark.driver.memory', '4g')\n",
    "    .set('spark.driver.maxResultSize', '1g')\n",
    "   )"
   ]
  },
  {
   "cell_type": "code",
   "execution_count": 8,
   "metadata": {
    "ExecuteTime": {
     "end_time": "2021-07-30T16:23:25.368028Z",
     "start_time": "2021-07-30T16:23:21.960489Z"
    }
   },
   "outputs": [
    {
     "name": "stderr",
     "output_type": "stream",
     "text": [
      "21/07/31 00:23:23 WARN NativeCodeLoader: Unable to load native-hadoop library for your platform... using builtin-java classes where applicable\n",
      "Using Spark's default log4j profile: org/apache/spark/log4j-defaults.properties\n",
      "Setting default log level to \"WARN\".\n",
      "To adjust logging level use sc.setLogLevel(newLevel). For SparkR, use setLogLevel(newLevel).\n",
      "21/07/31 00:23:24 WARN Utils: Service 'SparkUI' could not bind on port 4040. Attempting port 4041.\n",
      "21/07/31 00:23:24 WARN Utils: Service 'SparkUI' could not bind on port 4041. Attempting port 4042.\n",
      "21/07/31 00:23:24 WARN Utils: Service 'SparkUI' could not bind on port 4042. Attempting port 4043.\n"
     ]
    }
   ],
   "source": [
    "spark = (Session\n",
    "     .builder\n",
    "     .appName('learn-regex-with-pyspark')\n",
    "     .master('local[2]')\n",
    "     .config(conf=conf)\n",
    "     .getOrCreate())"
   ]
  },
  {
   "cell_type": "code",
   "execution_count": 9,
   "metadata": {
    "ExecuteTime": {
     "end_time": "2021-07-30T16:23:25.385916Z",
     "start_time": "2021-07-30T16:23:25.370902Z"
    }
   },
   "outputs": [
    {
     "data": {
      "text/html": [
       "\n",
       "            <div>\n",
       "                <p><b>SparkSession - in-memory</b></p>\n",
       "                \n",
       "        <div>\n",
       "            <p><b>SparkContext</b></p>\n",
       "\n",
       "            <p><a href=\"http://thor:4043\">Spark UI</a></p>\n",
       "\n",
       "            <dl>\n",
       "              <dt>Version</dt>\n",
       "                <dd><code>v3.1.2</code></dd>\n",
       "              <dt>Master</dt>\n",
       "                <dd><code>local[2]</code></dd>\n",
       "              <dt>AppName</dt>\n",
       "                <dd><code>learn-regex-with-pyspark</code></dd>\n",
       "            </dl>\n",
       "        </div>\n",
       "        \n",
       "            </div>\n",
       "        "
      ],
      "text/plain": [
       "<pyspark.sql.session.SparkSession at 0x7fa7d921a2b0>"
      ]
     },
     "execution_count": 9,
     "metadata": {},
     "output_type": "execute_result"
    }
   ],
   "source": [
    "spark"
   ]
  },
  {
   "cell_type": "markdown",
   "metadata": {},
   "source": [
    "# Regex"
   ]
  },
  {
   "cell_type": "markdown",
   "metadata": {},
   "source": [
    "## Simple match\n",
    "\n",
    "斷句 : 從 `<p></p>` or `<br>`\n",
    "\n",
    "sentence_break = `\"</?[Pp]>|<[br|BR]>\"`"
   ]
  },
  {
   "cell_type": "code",
   "execution_count": 10,
   "metadata": {
    "ExecuteTime": {
     "end_time": "2021-07-30T16:23:29.171499Z",
     "start_time": "2021-07-30T16:23:25.387347Z"
    }
   },
   "outputs": [
    {
     "name": "stderr",
     "output_type": "stream",
     "text": [
      "\r",
      "[Stage 0:>                                                          (0 + 1) / 1]\r"
     ]
    },
    {
     "name": "stdout",
     "output_type": "stream",
     "text": [
      "-RECORD 0------------------------------------------------------------------------------------------------------------------------------------------------------------------------------------------------------------------------------------------------------------------------------------------------------------------------------------------------------------------------------------------------------------------------------------------------------------------------------------------------------------------------------------------------------------------------------------------------------------------------------------------------------------------------------------------------------------------------------------------------------------------------------------------------------------------------------------------------------------------------------------------------------------------------------------------------------------------------------------------------------------------------------------------------------------\n",
      " doc_id      | 0                                                                                                                                                                                                                                                                                                                                                                                                                                                                                                                                                                                                                                                                                                                                                                                                                                                                                                                                                                                                                                                     \n",
      " cleaned     | 嘉義農會房屋貸款試算(快速貸款 必看推薦)汽車二胎貸款 民間二胎借貸 \n",
      "><a href=\"https://lihi1.cc/FnScd\" title=\"嘉義農會房屋貸款試算\" target=\"_blank\">嘉義農會房屋貸款試算</a><\n",
      "<a href=\"https://lihi1.cc/FnScd\" title=\"佳里鎮農會信用貸款陷阱\" target=\"_blank\">佳里鎮農會信用貸款陷阱</a>\n",
      "><a href=\"https://lihi1.cc/FnScd\" title=\"慶豐銀行房屋貸款試算\" target=\"_blank\">慶豐銀行房屋貸款試算</a>\n",
      "><a href=\"https://lihi1.cc/FnScd\" title=\"美濃農會房屋貸款條件\" target=\"_blank\">美濃農會房屋貸款條件</a>\n",
      "><a href=\"https://lihi1.cc/FnScd\" title=\"澎湖區漁會汽車貸款\" target=\"_blank\">澎湖區漁會汽車貸款</a>\n",
      "><a href=\"https://lihi1.cc/FnScd\" title=\"金門信合社信用貸款是什麼\" target=\"_blank\">金門信合社信用貸款是什麼</a>\n",
      "><a href=\"https://lihi1.cc/FnScd\" title=\"六甲農會機車貸款流程\" target=\"_blank\">六甲農會機車貸款流程</a>\n",
      ">\n",
      "ok 忠訓 ptt借錢OK忠訓國際評價在PTT貸款板是負評OK忠訓國際評價在PTT貸款板上真的是負評嗎ok忠訓ptt忠訓評價pttok<a href=\"https://lihi1.cc/FnScd\" title=\"嘉義農會房屋貸款試算\" target=\"_blank\">嘉義農會房屋貸款試算</a> \n",
      " sentence_id | 0                                                                                                                                                                                                                                                                                                                                                                                                                                                                                                                                                                                                                                                                                                                                                                                                                                                                                                                                                                                                                                                     \n",
      " sentence    | 嘉義農會房屋貸款試算(快速貸款 必看推薦)汽車二胎貸款 民間二胎借貸                                                                                                                                                                                                                                                                                                                                                                                                                                                                                                                                                                                                                                                                                                                                                                                                                                                                                                                                                                                      \n",
      "-RECORD 1------------------------------------------------------------------------------------------------------------------------------------------------------------------------------------------------------------------------------------------------------------------------------------------------------------------------------------------------------------------------------------------------------------------------------------------------------------------------------------------------------------------------------------------------------------------------------------------------------------------------------------------------------------------------------------------------------------------------------------------------------------------------------------------------------------------------------------------------------------------------------------------------------------------------------------------------------------------------------------------------------------------------------------------------------------\n",
      " doc_id      | 0                                                                                                                                                                                                                                                                                                                                                                                                                                                                                                                                                                                                                                                                                                                                                                                                                                                                                                                                                                                                                                                     \n",
      " cleaned     | 嘉義農會房屋貸款試算(快速貸款 必看推薦)汽車二胎貸款 民間二胎借貸 \n",
      "><a href=\"https://lihi1.cc/FnScd\" title=\"嘉義農會房屋貸款試算\" target=\"_blank\">嘉義農會房屋貸款試算</a><\n",
      "<a href=\"https://lihi1.cc/FnScd\" title=\"佳里鎮農會信用貸款陷阱\" target=\"_blank\">佳里鎮農會信用貸款陷阱</a>\n",
      "><a href=\"https://lihi1.cc/FnScd\" title=\"慶豐銀行房屋貸款試算\" target=\"_blank\">慶豐銀行房屋貸款試算</a>\n",
      "><a href=\"https://lihi1.cc/FnScd\" title=\"美濃農會房屋貸款條件\" target=\"_blank\">美濃農會房屋貸款條件</a>\n",
      "><a href=\"https://lihi1.cc/FnScd\" title=\"澎湖區漁會汽車貸款\" target=\"_blank\">澎湖區漁會汽車貸款</a>\n",
      "><a href=\"https://lihi1.cc/FnScd\" title=\"金門信合社信用貸款是什麼\" target=\"_blank\">金門信合社信用貸款是什麼</a>\n",
      "><a href=\"https://lihi1.cc/FnScd\" title=\"六甲農會機車貸款流程\" target=\"_blank\">六甲農會機車貸款流程</a>\n",
      ">\n",
      "ok 忠訓 ptt借錢OK忠訓國際評價在PTT貸款板是負評OK忠訓國際評價在PTT貸款板上真的是負評嗎ok忠訓ptt忠訓評價pttok<a href=\"https://lihi1.cc/FnScd\" title=\"嘉義農會房屋貸款試算\" target=\"_blank\">嘉義農會房屋貸款試算</a> \n",
      " sentence_id | 1                                                                                                                                                                                                                                                                                                                                                                                                                                                                                                                                                                                                                                                                                                                                                                                                                                                                                                                                                                                                                                                     \n",
      " sentence    | ><a href=\"https://lihi1.cc/FnScd\" title=\"嘉義農會房屋貸款試算\" target=\"_blank\">嘉義農會房屋貸款試算</a><                                                                                                                                                                                                                                                                                                                                                                                                                                                                                                                                                                                                                                                                                                                                                                                                                                                                                                                                              \n",
      "-RECORD 2------------------------------------------------------------------------------------------------------------------------------------------------------------------------------------------------------------------------------------------------------------------------------------------------------------------------------------------------------------------------------------------------------------------------------------------------------------------------------------------------------------------------------------------------------------------------------------------------------------------------------------------------------------------------------------------------------------------------------------------------------------------------------------------------------------------------------------------------------------------------------------------------------------------------------------------------------------------------------------------------------------------------------------------------------------\n",
      " doc_id      | 0                                                                                                                                                                                                                                                                                                                                                                                                                                                                                                                                                                                                                                                                                                                                                                                                                                                                                                                                                                                                                                                     \n",
      " cleaned     | 嘉義農會房屋貸款試算(快速貸款 必看推薦)汽車二胎貸款 民間二胎借貸 \n",
      "><a href=\"https://lihi1.cc/FnScd\" title=\"嘉義農會房屋貸款試算\" target=\"_blank\">嘉義農會房屋貸款試算</a><\n",
      "<a href=\"https://lihi1.cc/FnScd\" title=\"佳里鎮農會信用貸款陷阱\" target=\"_blank\">佳里鎮農會信用貸款陷阱</a>\n",
      "><a href=\"https://lihi1.cc/FnScd\" title=\"慶豐銀行房屋貸款試算\" target=\"_blank\">慶豐銀行房屋貸款試算</a>\n",
      "><a href=\"https://lihi1.cc/FnScd\" title=\"美濃農會房屋貸款條件\" target=\"_blank\">美濃農會房屋貸款條件</a>\n",
      "><a href=\"https://lihi1.cc/FnScd\" title=\"澎湖區漁會汽車貸款\" target=\"_blank\">澎湖區漁會汽車貸款</a>\n",
      "><a href=\"https://lihi1.cc/FnScd\" title=\"金門信合社信用貸款是什麼\" target=\"_blank\">金門信合社信用貸款是什麼</a>\n",
      "><a href=\"https://lihi1.cc/FnScd\" title=\"六甲農會機車貸款流程\" target=\"_blank\">六甲農會機車貸款流程</a>\n",
      ">\n",
      "ok 忠訓 ptt借錢OK忠訓國際評價在PTT貸款板是負評OK忠訓國際評價在PTT貸款板上真的是負評嗎ok忠訓ptt忠訓評價pttok<a href=\"https://lihi1.cc/FnScd\" title=\"嘉義農會房屋貸款試算\" target=\"_blank\">嘉義農會房屋貸款試算</a> \n",
      " sentence_id | 2                                                                                                                                                                                                                                                                                                                                                                                                                                                                                                                                                                                                                                                                                                                                                                                                                                                                                                                                                                                                                                                     \n",
      " sentence    | <a href=\"https://lihi1.cc/FnScd\" title=\"佳里鎮農會信用貸款陷阱\" target=\"_blank\">佳里鎮農會信用貸款陷阱</a>                                                                                                                                                                                                                                                                                                                                                                                                                                                                                                                                                                                                                                                                                                                                                                                                                                                                                                                                            \n",
      "-RECORD 3------------------------------------------------------------------------------------------------------------------------------------------------------------------------------------------------------------------------------------------------------------------------------------------------------------------------------------------------------------------------------------------------------------------------------------------------------------------------------------------------------------------------------------------------------------------------------------------------------------------------------------------------------------------------------------------------------------------------------------------------------------------------------------------------------------------------------------------------------------------------------------------------------------------------------------------------------------------------------------------------------------------------------------------------------------\n",
      " doc_id      | 0                                                                                                                                                                                                                                                                                                                                                                                                                                                                                                                                                                                                                                                                                                                                                                                                                                                                                                                                                                                                                                                     \n",
      " cleaned     | 嘉義農會房屋貸款試算(快速貸款 必看推薦)汽車二胎貸款 民間二胎借貸 \n",
      "><a href=\"https://lihi1.cc/FnScd\" title=\"嘉義農會房屋貸款試算\" target=\"_blank\">嘉義農會房屋貸款試算</a><\n",
      "<a href=\"https://lihi1.cc/FnScd\" title=\"佳里鎮農會信用貸款陷阱\" target=\"_blank\">佳里鎮農會信用貸款陷阱</a>\n",
      "><a href=\"https://lihi1.cc/FnScd\" title=\"慶豐銀行房屋貸款試算\" target=\"_blank\">慶豐銀行房屋貸款試算</a>\n",
      "><a href=\"https://lihi1.cc/FnScd\" title=\"美濃農會房屋貸款條件\" target=\"_blank\">美濃農會房屋貸款條件</a>\n",
      "><a href=\"https://lihi1.cc/FnScd\" title=\"澎湖區漁會汽車貸款\" target=\"_blank\">澎湖區漁會汽車貸款</a>\n",
      "><a href=\"https://lihi1.cc/FnScd\" title=\"金門信合社信用貸款是什麼\" target=\"_blank\">金門信合社信用貸款是什麼</a>\n",
      "><a href=\"https://lihi1.cc/FnScd\" title=\"六甲農會機車貸款流程\" target=\"_blank\">六甲農會機車貸款流程</a>\n",
      ">\n",
      "ok 忠訓 ptt借錢OK忠訓國際評價在PTT貸款板是負評OK忠訓國際評價在PTT貸款板上真的是負評嗎ok忠訓ptt忠訓評價pttok<a href=\"https://lihi1.cc/FnScd\" title=\"嘉義農會房屋貸款試算\" target=\"_blank\">嘉義農會房屋貸款試算</a> \n",
      " sentence_id | 3                                                                                                                                                                                                                                                                                                                                                                                                                                                                                                                                                                                                                                                                                                                                                                                                                                                                                                                                                                                                                                                     \n",
      " sentence    | ><a href=\"https://lihi1.cc/FnScd\" title=\"慶豐銀行房屋貸款試算\" target=\"_blank\">慶豐銀行房屋貸款試算</a>                                                                                                                                                                                                                                                                                                                                                                                                                                                                                                                                                                                                                                                                                                                                                                                                                                                                                                                                               \n",
      "-RECORD 4------------------------------------------------------------------------------------------------------------------------------------------------------------------------------------------------------------------------------------------------------------------------------------------------------------------------------------------------------------------------------------------------------------------------------------------------------------------------------------------------------------------------------------------------------------------------------------------------------------------------------------------------------------------------------------------------------------------------------------------------------------------------------------------------------------------------------------------------------------------------------------------------------------------------------------------------------------------------------------------------------------------------------------------------------------\n",
      " doc_id      | 0                                                                                                                                                                                                                                                                                                                                                                                                                                                                                                                                                                                                                                                                                                                                                                                                                                                                                                                                                                                                                                                     \n",
      " cleaned     | 嘉義農會房屋貸款試算(快速貸款 必看推薦)汽車二胎貸款 民間二胎借貸 \n",
      "><a href=\"https://lihi1.cc/FnScd\" title=\"嘉義農會房屋貸款試算\" target=\"_blank\">嘉義農會房屋貸款試算</a><\n",
      "<a href=\"https://lihi1.cc/FnScd\" title=\"佳里鎮農會信用貸款陷阱\" target=\"_blank\">佳里鎮農會信用貸款陷阱</a>\n",
      "><a href=\"https://lihi1.cc/FnScd\" title=\"慶豐銀行房屋貸款試算\" target=\"_blank\">慶豐銀行房屋貸款試算</a>\n",
      "><a href=\"https://lihi1.cc/FnScd\" title=\"美濃農會房屋貸款條件\" target=\"_blank\">美濃農會房屋貸款條件</a>\n",
      "><a href=\"https://lihi1.cc/FnScd\" title=\"澎湖區漁會汽車貸款\" target=\"_blank\">澎湖區漁會汽車貸款</a>\n",
      "><a href=\"https://lihi1.cc/FnScd\" title=\"金門信合社信用貸款是什麼\" target=\"_blank\">金門信合社信用貸款是什麼</a>\n",
      "><a href=\"https://lihi1.cc/FnScd\" title=\"六甲農會機車貸款流程\" target=\"_blank\">六甲農會機車貸款流程</a>\n",
      ">\n",
      "ok 忠訓 ptt借錢OK忠訓國際評價在PTT貸款板是負評OK忠訓國際評價在PTT貸款板上真的是負評嗎ok忠訓ptt忠訓評價pttok<a href=\"https://lihi1.cc/FnScd\" title=\"嘉義農會房屋貸款試算\" target=\"_blank\">嘉義農會房屋貸款試算</a> \n",
      " sentence_id | 4                                                                                                                                                                                                                                                                                                                                                                                                                                                                                                                                                                                                                                                                                                                                                                                                                                                                                                                                                                                                                                                     \n",
      " sentence    | ><a href=\"https://lihi1.cc/FnScd\" title=\"美濃農會房屋貸款條件\" target=\"_blank\">美濃農會房屋貸款條件</a>                                                                                                                                                                                                                                                                                                                                                                                                                                                                                                                                                                                                                                                                                                                                                                                                                                                                                                                                               \n",
      "-RECORD 5------------------------------------------------------------------------------------------------------------------------------------------------------------------------------------------------------------------------------------------------------------------------------------------------------------------------------------------------------------------------------------------------------------------------------------------------------------------------------------------------------------------------------------------------------------------------------------------------------------------------------------------------------------------------------------------------------------------------------------------------------------------------------------------------------------------------------------------------------------------------------------------------------------------------------------------------------------------------------------------------------------------------------------------------------------\n",
      " doc_id      | 0                                                                                                                                                                                                                                                                                                                                                                                                                                                                                                                                                                                                                                                                                                                                                                                                                                                                                                                                                                                                                                                     \n",
      " cleaned     | 嘉義農會房屋貸款試算(快速貸款 必看推薦)汽車二胎貸款 民間二胎借貸 \n",
      "><a href=\"https://lihi1.cc/FnScd\" title=\"嘉義農會房屋貸款試算\" target=\"_blank\">嘉義農會房屋貸款試算</a><\n",
      "<a href=\"https://lihi1.cc/FnScd\" title=\"佳里鎮農會信用貸款陷阱\" target=\"_blank\">佳里鎮農會信用貸款陷阱</a>\n",
      "><a href=\"https://lihi1.cc/FnScd\" title=\"慶豐銀行房屋貸款試算\" target=\"_blank\">慶豐銀行房屋貸款試算</a>\n",
      "><a href=\"https://lihi1.cc/FnScd\" title=\"美濃農會房屋貸款條件\" target=\"_blank\">美濃農會房屋貸款條件</a>\n",
      "><a href=\"https://lihi1.cc/FnScd\" title=\"澎湖區漁會汽車貸款\" target=\"_blank\">澎湖區漁會汽車貸款</a>\n",
      "><a href=\"https://lihi1.cc/FnScd\" title=\"金門信合社信用貸款是什麼\" target=\"_blank\">金門信合社信用貸款是什麼</a>\n",
      "><a href=\"https://lihi1.cc/FnScd\" title=\"六甲農會機車貸款流程\" target=\"_blank\">六甲農會機車貸款流程</a>\n",
      ">\n",
      "ok 忠訓 ptt借錢OK忠訓國際評價在PTT貸款板是負評OK忠訓國際評價在PTT貸款板上真的是負評嗎ok忠訓ptt忠訓評價pttok<a href=\"https://lihi1.cc/FnScd\" title=\"嘉義農會房屋貸款試算\" target=\"_blank\">嘉義農會房屋貸款試算</a> \n",
      " sentence_id | 5                                                                                                                                                                                                                                                                                                                                                                                                                                                                                                                                                                                                                                                                                                                                                                                                                                                                                                                                                                                                                                                     \n",
      " sentence    | ><a href=\"https://lihi1.cc/FnScd\" title=\"澎湖區漁會汽車貸款\" target=\"_blank\">澎湖區漁會汽車貸款</a>                                                                                                                                                                                                                                                                                                                                                                                                                                                                                                                                                                                                                                                                                                                                                                                                                                                                                                                                                   \n",
      "-RECORD 6------------------------------------------------------------------------------------------------------------------------------------------------------------------------------------------------------------------------------------------------------------------------------------------------------------------------------------------------------------------------------------------------------------------------------------------------------------------------------------------------------------------------------------------------------------------------------------------------------------------------------------------------------------------------------------------------------------------------------------------------------------------------------------------------------------------------------------------------------------------------------------------------------------------------------------------------------------------------------------------------------------------------------------------------------------\n",
      " doc_id      | 0                                                                                                                                                                                                                                                                                                                                                                                                                                                                                                                                                                                                                                                                                                                                                                                                                                                                                                                                                                                                                                                     \n",
      " cleaned     | 嘉義農會房屋貸款試算(快速貸款 必看推薦)汽車二胎貸款 民間二胎借貸 \n",
      "><a href=\"https://lihi1.cc/FnScd\" title=\"嘉義農會房屋貸款試算\" target=\"_blank\">嘉義農會房屋貸款試算</a><\n",
      "<a href=\"https://lihi1.cc/FnScd\" title=\"佳里鎮農會信用貸款陷阱\" target=\"_blank\">佳里鎮農會信用貸款陷阱</a>\n",
      "><a href=\"https://lihi1.cc/FnScd\" title=\"慶豐銀行房屋貸款試算\" target=\"_blank\">慶豐銀行房屋貸款試算</a>\n",
      "><a href=\"https://lihi1.cc/FnScd\" title=\"美濃農會房屋貸款條件\" target=\"_blank\">美濃農會房屋貸款條件</a>\n",
      "><a href=\"https://lihi1.cc/FnScd\" title=\"澎湖區漁會汽車貸款\" target=\"_blank\">澎湖區漁會汽車貸款</a>\n",
      "><a href=\"https://lihi1.cc/FnScd\" title=\"金門信合社信用貸款是什麼\" target=\"_blank\">金門信合社信用貸款是什麼</a>\n",
      "><a href=\"https://lihi1.cc/FnScd\" title=\"六甲農會機車貸款流程\" target=\"_blank\">六甲農會機車貸款流程</a>\n",
      ">\n",
      "ok 忠訓 ptt借錢OK忠訓國際評價在PTT貸款板是負評OK忠訓國際評價在PTT貸款板上真的是負評嗎ok忠訓ptt忠訓評價pttok<a href=\"https://lihi1.cc/FnScd\" title=\"嘉義農會房屋貸款試算\" target=\"_blank\">嘉義農會房屋貸款試算</a> \n",
      " sentence_id | 6                                                                                                                                                                                                                                                                                                                                                                                                                                                                                                                                                                                                                                                                                                                                                                                                                                                                                                                                                                                                                                                     \n",
      " sentence    | ><a href=\"https://lihi1.cc/FnScd\" title=\"金門信合社信用貸款是什麼\" target=\"_blank\">金門信合社信用貸款是什麼</a>                                                                                                                                                                                                                                                                                                                                                                                                                                                                                                                                                                                                                                                                                                                                                                                                                                                                                                                                       \n",
      "-RECORD 7------------------------------------------------------------------------------------------------------------------------------------------------------------------------------------------------------------------------------------------------------------------------------------------------------------------------------------------------------------------------------------------------------------------------------------------------------------------------------------------------------------------------------------------------------------------------------------------------------------------------------------------------------------------------------------------------------------------------------------------------------------------------------------------------------------------------------------------------------------------------------------------------------------------------------------------------------------------------------------------------------------------------------------------------------------\n",
      " doc_id      | 0                                                                                                                                                                                                                                                                                                                                                                                                                                                                                                                                                                                                                                                                                                                                                                                                                                                                                                                                                                                                                                                     \n",
      " cleaned     | 嘉義農會房屋貸款試算(快速貸款 必看推薦)汽車二胎貸款 民間二胎借貸 \n",
      "><a href=\"https://lihi1.cc/FnScd\" title=\"嘉義農會房屋貸款試算\" target=\"_blank\">嘉義農會房屋貸款試算</a><\n",
      "<a href=\"https://lihi1.cc/FnScd\" title=\"佳里鎮農會信用貸款陷阱\" target=\"_blank\">佳里鎮農會信用貸款陷阱</a>\n",
      "><a href=\"https://lihi1.cc/FnScd\" title=\"慶豐銀行房屋貸款試算\" target=\"_blank\">慶豐銀行房屋貸款試算</a>\n",
      "><a href=\"https://lihi1.cc/FnScd\" title=\"美濃農會房屋貸款條件\" target=\"_blank\">美濃農會房屋貸款條件</a>\n",
      "><a href=\"https://lihi1.cc/FnScd\" title=\"澎湖區漁會汽車貸款\" target=\"_blank\">澎湖區漁會汽車貸款</a>\n",
      "><a href=\"https://lihi1.cc/FnScd\" title=\"金門信合社信用貸款是什麼\" target=\"_blank\">金門信合社信用貸款是什麼</a>\n",
      "><a href=\"https://lihi1.cc/FnScd\" title=\"六甲農會機車貸款流程\" target=\"_blank\">六甲農會機車貸款流程</a>\n",
      ">\n",
      "ok 忠訓 ptt借錢OK忠訓國際評價在PTT貸款板是負評OK忠訓國際評價在PTT貸款板上真的是負評嗎ok忠訓ptt忠訓評價pttok<a href=\"https://lihi1.cc/FnScd\" title=\"嘉義農會房屋貸款試算\" target=\"_blank\">嘉義農會房屋貸款試算</a> \n",
      " sentence_id | 7                                                                                                                                                                                                                                                                                                                                                                                                                                                                                                                                                                                                                                                                                                                                                                                                                                                                                                                                                                                                                                                     \n",
      " sentence    | ><a href=\"https://lihi1.cc/FnScd\" title=\"六甲農會機車貸款流程\" target=\"_blank\">六甲農會機車貸款流程</a>                                                                                                                                                                                                                                                                                                                                                                                                                                                                                                                                                                                                                                                                                                                                                                                                                                                                                                                                               \n",
      "-RECORD 8------------------------------------------------------------------------------------------------------------------------------------------------------------------------------------------------------------------------------------------------------------------------------------------------------------------------------------------------------------------------------------------------------------------------------------------------------------------------------------------------------------------------------------------------------------------------------------------------------------------------------------------------------------------------------------------------------------------------------------------------------------------------------------------------------------------------------------------------------------------------------------------------------------------------------------------------------------------------------------------------------------------------------------------------------------\n",
      " doc_id      | 0                                                                                                                                                                                                                                                                                                                                                                                                                                                                                                                                                                                                                                                                                                                                                                                                                                                                                                                                                                                                                                                     \n",
      " cleaned     | 嘉義農會房屋貸款試算(快速貸款 必看推薦)汽車二胎貸款 民間二胎借貸 \n",
      "><a href=\"https://lihi1.cc/FnScd\" title=\"嘉義農會房屋貸款試算\" target=\"_blank\">嘉義農會房屋貸款試算</a><\n",
      "<a href=\"https://lihi1.cc/FnScd\" title=\"佳里鎮農會信用貸款陷阱\" target=\"_blank\">佳里鎮農會信用貸款陷阱</a>\n",
      "><a href=\"https://lihi1.cc/FnScd\" title=\"慶豐銀行房屋貸款試算\" target=\"_blank\">慶豐銀行房屋貸款試算</a>\n",
      "><a href=\"https://lihi1.cc/FnScd\" title=\"美濃農會房屋貸款條件\" target=\"_blank\">美濃農會房屋貸款條件</a>\n",
      "><a href=\"https://lihi1.cc/FnScd\" title=\"澎湖區漁會汽車貸款\" target=\"_blank\">澎湖區漁會汽車貸款</a>\n",
      "><a href=\"https://lihi1.cc/FnScd\" title=\"金門信合社信用貸款是什麼\" target=\"_blank\">金門信合社信用貸款是什麼</a>\n",
      "><a href=\"https://lihi1.cc/FnScd\" title=\"六甲農會機車貸款流程\" target=\"_blank\">六甲農會機車貸款流程</a>\n",
      ">\n",
      "ok 忠訓 ptt借錢OK忠訓國際評價在PTT貸款板是負評OK忠訓國際評價在PTT貸款板上真的是負評嗎ok忠訓ptt忠訓評價pttok<a href=\"https://lihi1.cc/FnScd\" title=\"嘉義農會房屋貸款試算\" target=\"_blank\">嘉義農會房屋貸款試算</a> \n",
      " sentence_id | 8                                                                                                                                                                                                                                                                                                                                                                                                                                                                                                                                                                                                                                                                                                                                                                                                                                                                                                                                                                                                                                                     \n",
      " sentence    | >                                                                                                                                                                                                                                                                                                                                                                                                                                                                                                                                                                                                                                                                                                                                                                                                                                                                                                                                                                                                                                                     \n",
      "-RECORD 9------------------------------------------------------------------------------------------------------------------------------------------------------------------------------------------------------------------------------------------------------------------------------------------------------------------------------------------------------------------------------------------------------------------------------------------------------------------------------------------------------------------------------------------------------------------------------------------------------------------------------------------------------------------------------------------------------------------------------------------------------------------------------------------------------------------------------------------------------------------------------------------------------------------------------------------------------------------------------------------------------------------------------------------------------------\n",
      " doc_id      | 0                                                                                                                                                                                                                                                                                                                                                                                                                                                                                                                                                                                                                                                                                                                                                                                                                                                                                                                                                                                                                                                     \n",
      " cleaned     | 嘉義農會房屋貸款試算(快速貸款 必看推薦)汽車二胎貸款 民間二胎借貸 \n",
      "><a href=\"https://lihi1.cc/FnScd\" title=\"嘉義農會房屋貸款試算\" target=\"_blank\">嘉義農會房屋貸款試算</a><\n",
      "<a href=\"https://lihi1.cc/FnScd\" title=\"佳里鎮農會信用貸款陷阱\" target=\"_blank\">佳里鎮農會信用貸款陷阱</a>\n",
      "><a href=\"https://lihi1.cc/FnScd\" title=\"慶豐銀行房屋貸款試算\" target=\"_blank\">慶豐銀行房屋貸款試算</a>\n",
      "><a href=\"https://lihi1.cc/FnScd\" title=\"美濃農會房屋貸款條件\" target=\"_blank\">美濃農會房屋貸款條件</a>\n",
      "><a href=\"https://lihi1.cc/FnScd\" title=\"澎湖區漁會汽車貸款\" target=\"_blank\">澎湖區漁會汽車貸款</a>\n",
      "><a href=\"https://lihi1.cc/FnScd\" title=\"金門信合社信用貸款是什麼\" target=\"_blank\">金門信合社信用貸款是什麼</a>\n",
      "><a href=\"https://lihi1.cc/FnScd\" title=\"六甲農會機車貸款流程\" target=\"_blank\">六甲農會機車貸款流程</a>\n",
      ">\n",
      "ok 忠訓 ptt借錢OK忠訓國際評價在PTT貸款板是負評OK忠訓國際評價在PTT貸款板上真的是負評嗎ok忠訓ptt忠訓評價pttok<a href=\"https://lihi1.cc/FnScd\" title=\"嘉義農會房屋貸款試算\" target=\"_blank\">嘉義農會房屋貸款試算</a> \n",
      " sentence_id | 9                                                                                                                                                                                                                                                                                                                                                                                                                                                                                                                                                                                                                                                                                                                                                                                                                                                                                                                                                                                                                                                     \n",
      " sentence    | ok 忠訓 ptt借錢OK忠訓國際評價在PTT貸款板是負評OK忠訓國際評價在PTT貸款板上真的是負評嗎ok忠訓ptt忠訓評價pttok<a href=\"https://lihi1.cc/FnScd\" title=\"嘉義農會房屋貸款試算\" target=\"_blank\">嘉義農會房屋貸款試算</a>                                                                                                                                                                                                                                                                                                                                                                                                                                                                                                                                                                                                                                                                                                                                                                                                                                     \n",
      "-RECORD 10-----------------------------------------------------------------------------------------------------------------------------------------------------------------------------------------------------------------------------------------------------------------------------------------------------------------------------------------------------------------------------------------------------------------------------------------------------------------------------------------------------------------------------------------------------------------------------------------------------------------------------------------------------------------------------------------------------------------------------------------------------------------------------------------------------------------------------------------------------------------------------------------------------------------------------------------------------------------------------------------------------------------------------------------------------------\n",
      " doc_id      | 1                                                                                                                                                                                                                                                                                                                                                                                                                                                                                                                                                                                                                                                                                                                                                                                                                                                                                                                                                                                                                                                     \n",
      " cleaned     | \n",
      "        台灣股票雜誌2014-9-4\n",
      "\n",
      "── ──股票分析及預測（第3299>>>2014-9-4>>\n",
      "\n",
      "           蘋果公司（AppleInc.）今天邀請媒體9月9日到其加州總部古柏迪諾（Cupertino）參加一項「特別活動」，預料將會推出粉絲期待已久的大螢幕iPhone 6。\n",
      "                                                                                                                                                                                                                                                                                                                                                                                                                                                                                                                                                                                                                                                                                                                                                                                                                         \n",
      " sentence_id | 1                                                                                                                                                                                                                                                                                                                                                                                                                                                                                                                                                                                                                                                                                                                                                                                                                                                                                                                                                                                                                                                     \n",
      " sentence    | 台灣股票雜誌2014-9-4                                                                                                                                                                                                                                                                                                                                                                                                                                                                                                                                                                                                                                                                                                                                                                                                                                                                                                                                                                                                                                  \n",
      "-RECORD 11-----------------------------------------------------------------------------------------------------------------------------------------------------------------------------------------------------------------------------------------------------------------------------------------------------------------------------------------------------------------------------------------------------------------------------------------------------------------------------------------------------------------------------------------------------------------------------------------------------------------------------------------------------------------------------------------------------------------------------------------------------------------------------------------------------------------------------------------------------------------------------------------------------------------------------------------------------------------------------------------------------------------------------------------------------------\n",
      " doc_id      | 1                                                                                                                                                                                                                                                                                                                                                                                                                                                                                                                                                                                                                                                                                                                                                                                                                                                                                                                                                                                                                                                     \n",
      " cleaned     | \n",
      "        台灣股票雜誌2014-9-4\n",
      "\n",
      "── ──股票分析及預測（第3299>>>2014-9-4>>\n",
      "\n",
      "           蘋果公司（AppleInc.）今天邀請媒體9月9日到其加州總部古柏迪諾（Cupertino）參加一項「特別活動」，預料將會推出粉絲期待已久的大螢幕iPhone 6。\n",
      "                                                                                                                                                                                                                                                                                                                                                                                                                                                                                                                                                                                                                                                                                                                                                                                                                         \n",
      " sentence_id | 3                                                                                                                                                                                                                                                                                                                                                                                                                                                                                                                                                                                                                                                                                                                                                                                                                                                                                                                                                                                                                                                     \n",
      " sentence    | ── ──股票分析及預測（第3299>>>2014-9-4>>                                                                                                                                                                                                                                                                                                                                                                                                                                                                                                                                                                                                                                                                                                                                                                                                                                                                                                                                                                                                              \n",
      "-RECORD 12-----------------------------------------------------------------------------------------------------------------------------------------------------------------------------------------------------------------------------------------------------------------------------------------------------------------------------------------------------------------------------------------------------------------------------------------------------------------------------------------------------------------------------------------------------------------------------------------------------------------------------------------------------------------------------------------------------------------------------------------------------------------------------------------------------------------------------------------------------------------------------------------------------------------------------------------------------------------------------------------------------------------------------------------------------------\n",
      " doc_id      | 1                                                                                                                                                                                                                                                                                                                                                                                                                                                                                                                                                                                                                                                                                                                                                                                                                                                                                                                                                                                                                                                     \n",
      " cleaned     | \n",
      "        台灣股票雜誌2014-9-4\n",
      "\n",
      "── ──股票分析及預測（第3299>>>2014-9-4>>\n",
      "\n",
      "           蘋果公司（AppleInc.）今天邀請媒體9月9日到其加州總部古柏迪諾（Cupertino）參加一項「特別活動」，預料將會推出粉絲期待已久的大螢幕iPhone 6。\n",
      "                                                                                                                                                                                                                                                                                                                                                                                                                                                                                                                                                                                                                                                                                                                                                                                                                         \n",
      " sentence_id | 5                                                                                                                                                                                                                                                                                                                                                                                                                                                                                                                                                                                                                                                                                                                                                                                                                                                                                                                                                                                                                                                     \n",
      " sentence    | 蘋果公司（AppleInc.）今天邀請媒體9月9日到其加州總部古柏迪諾（Cupertino）參加一項「特別活動」，預料將會推出粉絲期待已久的大螢幕iPhone 6。                                                                                                                                                                                                                                                                                                                                                                                                                                                                                                                                                                                                                                                                                                                                                                                                                                                                                                              \n",
      "\n"
     ]
    },
    {
     "name": "stderr",
     "output_type": "stream",
     "text": [
      "\r",
      "                                                                                \r"
     ]
    }
   ],
   "source": [
    "data = [\n",
    "'嘉義農會房屋貸款試算(快速貸款 必看推薦)汽車二胎貸款 民間二胎借貸 <br><a href=\"https://lihi1.cc/FnScd\" title=\"嘉義農會房屋貸款試算\" target=\"_blank\">嘉義農會房屋貸款試算</a><BR><a href=\"https://lihi1.cc/FnScd\" title=\"佳里鎮農會信用貸款陷阱\" target=\"_blank\">佳里鎮農會信用貸款陷阱</a><br><a href=\"https://lihi1.cc/FnScd\" title=\"慶豐銀行房屋貸款試算\" target=\"_blank\">慶豐銀行房屋貸款試算</a><br><a href=\"https://lihi1.cc/FnScd\" title=\"美濃農會房屋貸款條件\" target=\"_blank\">美濃農會房屋貸款條件</a><br><a href=\"https://lihi1.cc/FnScd\" title=\"澎湖區漁會汽車貸款\" target=\"_blank\">澎湖區漁會汽車貸款</a><br><a href=\"https://lihi1.cc/FnScd\" title=\"金門信合社信用貸款是什麼\" target=\"_blank\">金門信合社信用貸款是什麼</a><br><a href=\"https://lihi1.cc/FnScd\" title=\"六甲農會機車貸款流程\" target=\"_blank\">六甲農會機車貸款流程</a><br><p>ok 忠訓 ptt借錢OK忠訓國際評價在PTT貸款板是負評OK忠訓國際評價在PTT貸款板上真的是負評嗎ok忠訓ptt忠訓評價pttok<a href=\"https://lihi1.cc/FnScd\" title=\"嘉義農會房屋貸款試算\" target=\"_blank\">嘉義農會房屋貸款試算</a>',\n",
    "\n",
    "'<P>        台灣股票雜誌2014-9-4</P><P>── ──股票分析及預測（第3299>>>2014-9-4>></P><P>           蘋果公司（AppleInc.）今天邀請媒體9月9日到其加州總部古柏迪諾（Cupertino）參加一項「特別活動」，預料將會推出粉絲期待已久的大螢幕iPhone 6。</P>'\n",
    "]\n",
    "\n",
    "indexed_data = [\n",
    "    (idx, html) for idx, html in enumerate(data)\n",
    "]\n",
    "\n",
    "sdf = spark.createDataFrame(indexed_data, ['doc_id','html'])\n",
    "\n",
    "\n",
    "sentence_break = \"</?[Pp]>|<(br)|(BR)>\"\n",
    "\n",
    "(\n",
    "    sdf\n",
    "    .withColumn(\n",
    "                \"cleaned\", F.regexp_replace(C(\"html\"), fr\"{sentence_break}\", \"\\n\")\n",
    "            )\n",
    "    .select(\n",
    "            'doc_id',\n",
    "            'cleaned',\n",
    "            F.posexplode_outer(F.split(\"cleaned\",'\\n')).alias('sentence_id','sentence')\n",
    "        )\n",
    "    .withColumn('sentence',F.trim('sentence'))\n",
    "    .where(F.length('sentence') > 0)\n",
    ").show(vertical=True,truncate=False)"
   ]
  },
  {
   "cell_type": "markdown",
   "metadata": {},
   "source": [
    "## 1.2  replace"
   ]
  },
  {
   "cell_type": "code",
   "execution_count": 11,
   "metadata": {
    "ExecuteTime": {
     "end_time": "2021-07-30T16:23:29.917033Z",
     "start_time": "2021-07-30T16:23:29.174713Z"
    }
   },
   "outputs": [
    {
     "name": "stdout",
     "output_type": "stream",
     "text": [
      "-RECORD 0-----------------------------------------------------------------------------------------------------------------------------------------------------------------------------------------------------------------------\n",
      " doc_id      | 0                                                                                                                                                                                                                \n",
      " sentence_id | 0                                                                                                                                                                                                                \n",
      " sentence    | 嘉義農會房屋貸款試算(快速貸款 必看推薦)汽車二胎貸款 民間二胎借貸                                                                                                                                                 \n",
      "-RECORD 1-----------------------------------------------------------------------------------------------------------------------------------------------------------------------------------------------------------------------\n",
      " doc_id      | 0                                                                                                                                                                                                                \n",
      " sentence_id | 1                                                                                                                                                                                                                \n",
      " sentence    | ><a href=\"http://lihi1.cc/FnScd\" title=\"嘉義農會房屋貸款試算\" target=\"_blank\">嘉義農會房屋貸款試算</a><                                                                                                          \n",
      "-RECORD 2-----------------------------------------------------------------------------------------------------------------------------------------------------------------------------------------------------------------------\n",
      " doc_id      | 0                                                                                                                                                                                                                \n",
      " sentence_id | 2                                                                                                                                                                                                                \n",
      " sentence    | <a href=\"http://lihi1.cc/FnScd\" title=\"佳里鎮農會信用貸款陷阱\" target=\"_blank\">佳里鎮農會信用貸款陷阱</a>                                                                                                        \n",
      "-RECORD 3-----------------------------------------------------------------------------------------------------------------------------------------------------------------------------------------------------------------------\n",
      " doc_id      | 0                                                                                                                                                                                                                \n",
      " sentence_id | 3                                                                                                                                                                                                                \n",
      " sentence    | ><a href=\"http://lihi1.cc/FnScd\" title=\"慶豐銀行房屋貸款試算\" target=\"_blank\">慶豐銀行房屋貸款試算</a>                                                                                                           \n",
      "-RECORD 4-----------------------------------------------------------------------------------------------------------------------------------------------------------------------------------------------------------------------\n",
      " doc_id      | 0                                                                                                                                                                                                                \n",
      " sentence_id | 4                                                                                                                                                                                                                \n",
      " sentence    | ><a href=\"http://lihi1.cc/FnScd\" title=\"美濃農會房屋貸款條件\" target=\"_blank\">美濃農會房屋貸款條件</a>                                                                                                           \n",
      "-RECORD 5-----------------------------------------------------------------------------------------------------------------------------------------------------------------------------------------------------------------------\n",
      " doc_id      | 0                                                                                                                                                                                                                \n",
      " sentence_id | 5                                                                                                                                                                                                                \n",
      " sentence    | ><a href=\"http://lihi1.cc/FnScd\" title=\"澎湖區漁會汽車貸款\" target=\"_blank\">澎湖區漁會汽車貸款</a>                                                                                                               \n",
      "-RECORD 6-----------------------------------------------------------------------------------------------------------------------------------------------------------------------------------------------------------------------\n",
      " doc_id      | 0                                                                                                                                                                                                                \n",
      " sentence_id | 6                                                                                                                                                                                                                \n",
      " sentence    | ><a href=\"http://lihi1.cc/FnScd\" title=\"金門信合社信用貸款是什麼\" target=\"_blank\">金門信合社信用貸款是什麼</a>                                                                                                   \n",
      "-RECORD 7-----------------------------------------------------------------------------------------------------------------------------------------------------------------------------------------------------------------------\n",
      " doc_id      | 0                                                                                                                                                                                                                \n",
      " sentence_id | 7                                                                                                                                                                                                                \n",
      " sentence    | ><a href=\"http://lihi1.cc/FnScd\" title=\"六甲農會機車貸款流程\" target=\"_blank\">六甲農會機車貸款流程</a>                                                                                                           \n",
      "-RECORD 8-----------------------------------------------------------------------------------------------------------------------------------------------------------------------------------------------------------------------\n",
      " doc_id      | 0                                                                                                                                                                                                                \n",
      " sentence_id | 8                                                                                                                                                                                                                \n",
      " sentence    | >                                                                                                                                                                                                                \n",
      "-RECORD 9-----------------------------------------------------------------------------------------------------------------------------------------------------------------------------------------------------------------------\n",
      " doc_id      | 0                                                                                                                                                                                                                \n",
      " sentence_id | 9                                                                                                                                                                                                                \n",
      " sentence    | ok 忠訓 ptt借錢OK忠訓國際評價在PTT貸款板是負評OK忠訓國際評價在PTT貸款板上真的是負評嗎ok忠訓ptt忠訓評價pttok<a href=\"http://lihi1.cc/FnScd\" title=\"嘉義農會房屋貸款試算\" target=\"_blank\">嘉義農會房屋貸款試算</a> \n",
      "-RECORD 10----------------------------------------------------------------------------------------------------------------------------------------------------------------------------------------------------------------------\n",
      " doc_id      | 1                                                                                                                                                                                                                \n",
      " sentence_id | 1                                                                                                                                                                                                                \n",
      " sentence    | 台灣股票雜誌2014-9-4                                                                                                                                                                                             \n",
      "-RECORD 11----------------------------------------------------------------------------------------------------------------------------------------------------------------------------------------------------------------------\n",
      " doc_id      | 1                                                                                                                                                                                                                \n",
      " sentence_id | 3                                                                                                                                                                                                                \n",
      " sentence    | ── ──股票分析及預測（第3299>>>2014-9-4>>                                                                                                                                                                         \n",
      "-RECORD 12----------------------------------------------------------------------------------------------------------------------------------------------------------------------------------------------------------------------\n",
      " doc_id      | 1                                                                                                                                                                                                                \n",
      " sentence_id | 5                                                                                                                                                                                                                \n",
      " sentence    | 蘋果公司（AppleInc.）今天邀請媒體9月9日到其加州總部古柏迪諾（Cupertino）參加一項「特別活動」，預料將會推出粉絲期待已久的大螢幕iPhone 6。                                                                         \n",
      "\n"
     ]
    }
   ],
   "source": [
    "data = [\n",
    "'嘉義農會房屋貸款試算(快速貸款 必看推薦)汽車二胎貸款 民間二胎借貸 <br><a href=\"https://lihi1.cc/FnScd\" title=\"嘉義農會房屋貸款試算\" target=\"_blank\">嘉義農會房屋貸款試算</a><BR><a href=\"https://lihi1.cc/FnScd\" title=\"佳里鎮農會信用貸款陷阱\" target=\"_blank\">佳里鎮農會信用貸款陷阱</a><br><a href=\"https://lihi1.cc/FnScd\" title=\"慶豐銀行房屋貸款試算\" target=\"_blank\">慶豐銀行房屋貸款試算</a><br><a href=\"https://lihi1.cc/FnScd\" title=\"美濃農會房屋貸款條件\" target=\"_blank\">美濃農會房屋貸款條件</a><br><a href=\"https://lihi1.cc/FnScd\" title=\"澎湖區漁會汽車貸款\" target=\"_blank\">澎湖區漁會汽車貸款</a><br><a href=\"https://lihi1.cc/FnScd\" title=\"金門信合社信用貸款是什麼\" target=\"_blank\">金門信合社信用貸款是什麼</a><br><a href=\"https://lihi1.cc/FnScd\" title=\"六甲農會機車貸款流程\" target=\"_blank\">六甲農會機車貸款流程</a><br><p>ok 忠訓 ptt借錢OK忠訓國際評價在PTT貸款板是負評OK忠訓國際評價在PTT貸款板上真的是負評嗎ok忠訓ptt忠訓評價pttok<a href=\"https://lihi1.cc/FnScd\" title=\"嘉義農會房屋貸款試算\" target=\"_blank\">嘉義農會房屋貸款試算</a>',\n",
    "\n",
    "'<P>        台灣股票雜誌2014-9-4</P><P>── ──股票分析及預測（第3299>>>2014-9-4>></P><P>           蘋果公司（AppleInc.）今天邀請媒體9月9日到其加州總部古柏迪諾（Cupertino）參加一項「特別活動」，預料將會推出粉絲期待已久的大螢幕iPhone 6。</P>'\n",
    "]\n",
    "\n",
    "indexed_data = [\n",
    "    (idx, html) for idx, html in enumerate(data)\n",
    "]\n",
    "\n",
    "sdf = spark.createDataFrame(indexed_data, ['doc_id','html'])\n",
    "\n",
    "\n",
    "sentence_break = \"</?[Pp]>|<(br)|(BR)>\"\n",
    "\n",
    "# sometimes you need use it in udf\n",
    "\n",
    "def python_replace(html : str) -> str:\n",
    "    return re.sub(r'https://',r'http://',html)\n",
    "    \n",
    "(\n",
    "    sdf\n",
    "    .withColumn(\n",
    "                \"cleaned\", F.regexp_replace(C(\"html\"), fr\"{sentence_break}\", \"\\n\")\n",
    "            )\n",
    "    .select(\n",
    "            'doc_id',\n",
    "#             'cleaned',\n",
    "            F.posexplode_outer(F.split(\"cleaned\",'\\n')).alias('sentence_id','sentence')\n",
    "        )\n",
    "    .withColumn('sentence',F.trim('sentence'))\n",
    "    .withColumn('sentence',F.udf(python_replace,'string')('sentence'))\n",
    "    .where(F.length('sentence') > 0)\n",
    ").show(vertical=True,truncate=False)"
   ]
  },
  {
   "cell_type": "code",
   "execution_count": null,
   "metadata": {},
   "outputs": [],
   "source": []
  },
  {
   "cell_type": "code",
   "execution_count": null,
   "metadata": {},
   "outputs": [],
   "source": []
  },
  {
   "cell_type": "code",
   "execution_count": null,
   "metadata": {},
   "outputs": [],
   "source": []
  },
  {
   "cell_type": "code",
   "execution_count": null,
   "metadata": {},
   "outputs": [],
   "source": []
  },
  {
   "cell_type": "markdown",
   "metadata": {},
   "source": [
    "## Negtive ahead"
   ]
  },
  {
   "cell_type": "markdown",
   "metadata": {},
   "source": [
    "## non-greedy match\n",
    "\n",
    "`?` : match 0 or 1\n",
    "`+` : match 1 or more\n",
    "`*` : match 0 or more\n",
    "\n",
    "以上是 Greedy mode，也就是說會盡可能多的match\n",
    "\n",
    "例如 \n",
    "\n",
    "html = `<a href=\"http://www.flickr.com/photos/126291387@N06/51051131972\" target=\"_blank\"><img alt=\"DSC01611\" src=\"//live.staticflickr.com/65535/51051131972_100386c21c_b.jpg\" title=\"\"></a><a href=\"http://www.flickr.com/photos/126291387@N06/51051047806\" target=\"_blank\"><img alt=\"DSC01610\" src=\"//live.staticflickr.com/65535/51051047806_7b2587931f_b.jpg\" title=\"\"></a>`\n",
    "\n",
    "pattern = `\"<img.+['\\\"]>\"` - match 盡可能多的文字，在以上例子中會match到超過1個的imgtag\n",
    "\n",
    "Non-greedy mode\n",
    "\n",
    "`??` : match 0 or 1\n",
    "`+?` : match 1 or more\n",
    "`*?` : match 0 or more\n",
    "\n",
    "pattern = `\"<img.+?['\\\"]>\"` - match 盡可能少的文字，在此例子中僅會match到1個imgtag\n",
    "\n",
    "demo : \n",
    "\n",
    "https://regex101.com/r/5QEqLQ/1\n"
   ]
  },
  {
   "cell_type": "code",
   "execution_count": 12,
   "metadata": {
    "ExecuteTime": {
     "end_time": "2021-07-30T16:23:30.249797Z",
     "start_time": "2021-07-30T16:23:29.919214Z"
    }
   },
   "outputs": [
    {
     "name": "stdout",
     "output_type": "stream",
     "text": [
      "-RECORD 0---------------------------------------------------------------------------------------------------------------------------------------------------------------------------------------------------------------------------------------------------------------------------------------------------------------------------------------------------------------------------------------------------------------------------------------------------------------------------------------------\n",
      " doc_id      | 0                                                                                                                                                                                                                                                                                                                                                                                                                                                                                      \n",
      " sentence_id | 0                                                                                                                                                                                                                                                                                                                                                                                                                                                                                      \n",
      " imgtag      | <a href=\"http://www.flickr.com/photos/126291387@N06/51051131972\" target=\"_blank\">                                                                                                                                                                                                                                                                                                                                                                                                      \n",
      "-RECORD 1---------------------------------------------------------------------------------------------------------------------------------------------------------------------------------------------------------------------------------------------------------------------------------------------------------------------------------------------------------------------------------------------------------------------------------------------------------------------------------------------\n",
      " doc_id      | 0                                                                                                                                                                                                                                                                                                                                                                                                                                                                                      \n",
      " sentence_id | 1                                                                                                                                                                                                                                                                                                                                                                                                                                                                                      \n",
      " imgtag      | <IMG alt=\"DSC01611\" src=\"//live.staticflickr.com/65535/51051131972_100386c21c_b.jpg\" title=\"\">                                                                                                                                                                                                                                                                                                                                                                                         \n",
      "-RECORD 2---------------------------------------------------------------------------------------------------------------------------------------------------------------------------------------------------------------------------------------------------------------------------------------------------------------------------------------------------------------------------------------------------------------------------------------------------------------------------------------------\n",
      " doc_id      | 0                                                                                                                                                                                                                                                                                                                                                                                                                                                                                      \n",
      " sentence_id | 2                                                                                                                                                                                                                                                                                                                                                                                                                                                                                      \n",
      " imgtag      | </a><a href=\"http://www.flickr.com/photos/126291387@N06/51051047806\" target=\"_blank\">                                                                                                                                                                                                                                                                                                                                                                                                  \n",
      "-RECORD 3---------------------------------------------------------------------------------------------------------------------------------------------------------------------------------------------------------------------------------------------------------------------------------------------------------------------------------------------------------------------------------------------------------------------------------------------------------------------------------------------\n",
      " doc_id      | 0                                                                                                                                                                                                                                                                                                                                                                                                                                                                                      \n",
      " sentence_id | 3                                                                                                                                                                                                                                                                                                                                                                                                                                                                                      \n",
      " imgtag      | <IMG alt=\"DSC01610\" src=\"//live.staticflickr.com/65535/51051047806_7b2587931f_b.jpg\" title=\"\">                                                                                                                                                                                                                                                                                                                                                                                         \n",
      "-RECORD 4---------------------------------------------------------------------------------------------------------------------------------------------------------------------------------------------------------------------------------------------------------------------------------------------------------------------------------------------------------------------------------------------------------------------------------------------------------------------------------------------\n",
      " doc_id      | 0                                                                                                                                                                                                                                                                                                                                                                                                                                                                                      \n",
      " sentence_id | 4                                                                                                                                                                                                                                                                                                                                                                                                                                                                                      \n",
      " imgtag      | </a>                                                                                                                                                                                                                                                                                                                                                                                                                                                                                   \n",
      "-RECORD 5---------------------------------------------------------------------------------------------------------------------------------------------------------------------------------------------------------------------------------------------------------------------------------------------------------------------------------------------------------------------------------------------------------------------------------------------------------------------------------------------\n",
      " doc_id      | 1                                                                                                                                                                                                                                                                                                                                                                                                                                                                                      \n",
      " sentence_id | 0                                                                                                                                                                                                                                                                                                                                                                                                                                                                                      \n",
      " imgtag      | <p style=\"text-align: center;\" align=\"center\">     <strong><span style=\"font-size: 18pt; font-family: 'arial black', 'avant garde'; color: #ff0000;\">                                                                                                                                                                                                                                                                                                                                  \n",
      "-RECORD 6---------------------------------------------------------------------------------------------------------------------------------------------------------------------------------------------------------------------------------------------------------------------------------------------------------------------------------------------------------------------------------------------------------------------------------------------------------------------------------------------\n",
      " doc_id      | 1                                                                                                                                                                                                                                                                                                                                                                                                                                                                                      \n",
      " sentence_id | 1                                                                                                                                                                                                                                                                                                                                                                                                                                                                                      \n",
      " imgtag      | <img src=\"//s.pixfs.net/f.pixnet.net/images/emotions/006.gif\" alt=\"\" border=\"0\" />                                                                                                                                                                                                                                                                                                                                                                                                     \n",
      "-RECORD 7---------------------------------------------------------------------------------------------------------------------------------------------------------------------------------------------------------------------------------------------------------------------------------------------------------------------------------------------------------------------------------------------------------------------------------------------------------------------------------------------\n",
      " doc_id      | 1                                                                                                                                                                                                                                                                                                                                                                                                                                                                                      \n",
      " sentence_id | 2                                                                                                                                                                                                                                                                                                                                                                                                                                                                                      \n",
      " imgtag      | 前 言                                                                                                                                                                                                                                                                                                                                                                                                                                                                                  \n",
      "-RECORD 8---------------------------------------------------------------------------------------------------------------------------------------------------------------------------------------------------------------------------------------------------------------------------------------------------------------------------------------------------------------------------------------------------------------------------------------------------------------------------------------------\n",
      " doc_id      | 1                                                                                                                                                                                                                                                                                                                                                                                                                                                                                      \n",
      " sentence_id | 3                                                                                                                                                                                                                                                                                                                                                                                                                                                                                      \n",
      " imgtag      | <img src=\"//s.pixfs.net/f.pixnet.net/images/emotions/006.gif\" alt=\"\" border=\"0\" />                                                                                                                                                                                                                                                                                                                                                                                                     \n",
      "-RECORD 9---------------------------------------------------------------------------------------------------------------------------------------------------------------------------------------------------------------------------------------------------------------------------------------------------------------------------------------------------------------------------------------------------------------------------------------------------------------------------------------------\n",
      " doc_id      | 1                                                                                                                                                                                                                                                                                                                                                                                                                                                                                      \n",
      " sentence_id | 4                                                                                                                                                                                                                                                                                                                                                                                                                                                                                      \n",
      " imgtag      | </span></strong>                                                                                                                                                                                                                                                                                                                                                                                                                                                                       \n",
      "-RECORD 10--------------------------------------------------------------------------------------------------------------------------------------------------------------------------------------------------------------------------------------------------------------------------------------------------------------------------------------------------------------------------------------------------------------------------------------------------------------------------------------------\n",
      " doc_id      | 2                                                                                                                                                                                                                                                                                                                                                                                                                                                                                      \n",
      " sentence_id | 0                                                                                                                                                                                                                                                                                                                                                                                                                                                                                      \n",
      " imgtag      | <p style=\"margin: 0px 0px 1em; padding: 0px; font-size: 13px; color: #666666; font-family: arial; line-height: 26px;\"><span style=\"color:#333300; font-size:large\"><strong><span style=\"font-size:18pt\"><span style=\"font-size:14pt\"><span style=\"color:#000000\">人生難免會遇到要</span><span style=\"color:#cc3399\">買車、買房、創業、周轉、現金需求‧‧‧</span></span><span style=\"color:#000000\"><span style=\"font-size:14pt\">的時候</span> </span></span><span style=\"color:#000000\"> \n",
      "-RECORD 11--------------------------------------------------------------------------------------------------------------------------------------------------------------------------------------------------------------------------------------------------------------------------------------------------------------------------------------------------------------------------------------------------------------------------------------------------------------------------------------------\n",
      " doc_id      | 2                                                                                                                                                                                                                                                                                                                                                                                                                                                                                      \n",
      " sentence_id | 1                                                                                                                                                                                                                                                                                                                                                                                                                                                                                      \n",
      " imgtag      | <img alt=\"\" height=\"47\" src=\"http://0.share.photo.xuite.net/brack2381/10e91cc/19080521/1038628227_M.jpg\" style=\"vertical-align: middle; display: inline;\" title=\"\" width=\"47\" />                                                                                                                                                                                                                                                                                                       \n",
      "-RECORD 12--------------------------------------------------------------------------------------------------------------------------------------------------------------------------------------------------------------------------------------------------------------------------------------------------------------------------------------------------------------------------------------------------------------------------------------------------------------------------------------------\n",
      " doc_id      | 2                                                                                                                                                                                                                                                                                                                                                                                                                                                                                      \n",
      " sentence_id | 2                                                                                                                                                                                                                                                                                                                                                                                                                                                                                      \n",
      " imgtag      |                                                                                                                                                                                                                                                                                                                                                                                                                                                                                        \n",
      "-RECORD 13--------------------------------------------------------------------------------------------------------------------------------------------------------------------------------------------------------------------------------------------------------------------------------------------------------------------------------------------------------------------------------------------------------------------------------------------------------------------------------------------\n",
      " doc_id      | 3                                                                                                                                                                                                                                                                                                                                                                                                                                                                                      \n",
      " sentence_id | 0                                                                                                                                                                                                                                                                                                                                                                                                                                                                                      \n",
      " imgtag      |                                                                                                                                                                                                                                                                                                                                                                                                                                                                                        \n",
      "-RECORD 14--------------------------------------------------------------------------------------------------------------------------------------------------------------------------------------------------------------------------------------------------------------------------------------------------------------------------------------------------------------------------------------------------------------------------------------------------------------------------------------------\n",
      " doc_id      | 3                                                                                                                                                                                                                                                                                                                                                                                                                                                                                      \n",
      " sentence_id | 1                                                                                                                                                                                                                                                                                                                                                                                                                                                                                      \n",
      " imgtag      | <)，一入口感受到的超~~~軟嫩又Juicy的鴨肉，整個鴨肉湯汁在口腔裡噴發，超愛！(果然是志玲姊姊最愛的金賓料理<img alt=\"\" height=\"19\" src=\"//s.pixfs.net/f.pixnet.net/images/emotions/omg_smile.gif\" title=\"\" width=\"19\">                                                                                                                                                                                                                                                                     \n",
      "-RECORD 15--------------------------------------------------------------------------------------------------------------------------------------------------------------------------------------------------------------------------------------------------------------------------------------------------------------------------------------------------------------------------------------------------------------------------------------------------------------------------------------------\n",
      " doc_id      | 3                                                                                                                                                                                                                                                                                                                                                                                                                                                                                      \n",
      " sentence_id | 2                                                                                                                                                                                                                                                                                                                                                                                                                                                                                      \n",
      " imgtag      |                                                                                                                                                                                                                                                                                                                                                                                                                                                                                        \n",
      "\n"
     ]
    }
   ],
   "source": [
    "\n",
    "data = [\n",
    "'<a href=\"http://www.flickr.com/photos/126291387@N06/51051131972\" target=\"_blank\"><IMG alt=\"DSC01611\" src=\"//live.staticflickr.com/65535/51051131972_100386c21c_b.jpg\" title=\"\"></a><a href=\"http://www.flickr.com/photos/126291387@N06/51051047806\" target=\"_blank\"><IMG alt=\"DSC01610\" src=\"//live.staticflickr.com/65535/51051047806_7b2587931f_b.jpg\" title=\"\"></a>',\n",
    "\n",
    "    '''<p style=\"text-align: center;\" align=\"center\">     <strong><span style=\"font-size: 18pt; font-family: 'arial black', 'avant garde'; color: #ff0000;\"><img src=\"//s.pixfs.net/f.pixnet.net/images/emotions/006.gif\" alt=\"\" border=\"0\" />前 言<img src=\"//s.pixfs.net/f.pixnet.net/images/emotions/006.gif\" alt=\"\" border=\"0\" /></span></strong>''',\n",
    "    '<p style=\"margin: 0px 0px 1em; padding: 0px; font-size: 13px; color: #666666; font-family: arial; line-height: 26px;\"><span style=\"color:#333300; font-size:large\"><strong><span style=\"font-size:18pt\"><span style=\"font-size:14pt\"><span style=\"color:#000000\">人生難免會遇到要</span><span style=\"color:#cc3399\">買車、買房、創業、周轉、現金需求‧‧‧</span></span><span style=\"color:#000000\"><span style=\"font-size:14pt\">的時候</span> </span></span><span style=\"color:#000000\"><img alt=\"\" height=\"47\" src=\"http://0.share.photo.xuite.net/brack2381/10e91cc/19080521/1038628227_M.jpg\" style=\"vertical-align: middle; display: inline;\" title=\"\" width=\"47\" />',\n",
    "    '<)，一入口感受到的超~~~軟嫩又Juicy的鴨肉，整個鴨肉湯汁在口腔裡噴發，超愛！(果然是志玲姊姊最愛的金賓料理<img alt=\"\" height=\"19\" src=\"//s.pixfs.net/f.pixnet.net/images/emotions/omg_smile.gif\" title=\"\" width=\"19\">'\n",
    "]\n",
    "\n",
    "indexed_data = [\n",
    "    (idx, html) for idx, html in enumerate(data)\n",
    "]\n",
    "\n",
    "sdf = spark.createDataFrame(indexed_data, ['doc_id','html'])\n",
    "\n",
    "imgtag = \"<[(img)|(IMG)].+?>\"\n",
    "(\n",
    "    sdf\n",
    "    .withColumn(\"html\", F.regexp_replace(C(\"html\"), fr\"{imgtag}\", \"\\n$0\\n\"))\n",
    "    .select(\n",
    "        'doc_id',\n",
    "        F.posexplode_outer(F.split(\"html\",'\\n')).alias('sentence_id','imgtag')\n",
    "    )\n",
    ").show(vertical=True,truncate=False)"
   ]
  },
  {
   "cell_type": "markdown",
   "metadata": {},
   "source": [
    "# html"
   ]
  },
  {
   "cell_type": "code",
   "execution_count": 13,
   "metadata": {
    "ExecuteTime": {
     "end_time": "2021-07-30T16:23:30.522182Z",
     "start_time": "2021-07-30T16:23:30.252160Z"
    }
   },
   "outputs": [
    {
     "name": "stdout",
     "output_type": "stream",
     "text": [
      "+---+-------+-------+\n",
      "| id|content|cleaned|\n",
      "+---+-------+-------+\n",
      "|  0|   &gt;|      >|\n",
      "|  1| &nbsp;|       |\n",
      "+---+-------+-------+\n",
      "\n"
     ]
    }
   ],
   "source": [
    "# replace wired symbol in html\n",
    "\n",
    "import html\n",
    "\n",
    "\n",
    "df = (\n",
    "    spark.createDataFrame([(0,'&gt;'),(1,'&nbsp;')],['id','content'])\n",
    "    .withColumn(\"cleaned\", F.udf(html.unescape)(\"content\"))\n",
    ")\n",
    "\n",
    "df.show()"
   ]
  },
  {
   "cell_type": "code",
   "execution_count": null,
   "metadata": {},
   "outputs": [],
   "source": []
  },
  {
   "cell_type": "code",
   "execution_count": null,
   "metadata": {},
   "outputs": [],
   "source": []
  },
  {
   "cell_type": "markdown",
   "metadata": {},
   "source": [
    "# bs4"
   ]
  },
  {
   "cell_type": "code",
   "execution_count": 14,
   "metadata": {
    "ExecuteTime": {
     "end_time": "2021-07-30T16:23:30.599789Z",
     "start_time": "2021-07-30T16:23:30.523872Z"
    }
   },
   "outputs": [],
   "source": [
    "from bs4 import BeautifulSoup"
   ]
  },
  {
   "cell_type": "code",
   "execution_count": 15,
   "metadata": {
    "ExecuteTime": {
     "end_time": "2021-07-30T16:23:30.679863Z",
     "start_time": "2021-07-30T16:23:30.601387Z"
    }
   },
   "outputs": [],
   "source": [
    "\n",
    "# print(soup.prettify())"
   ]
  },
  {
   "cell_type": "markdown",
   "metadata": {},
   "source": [
    "## `<imgsrc ... >`"
   ]
  },
  {
   "cell_type": "code",
   "execution_count": 16,
   "metadata": {
    "ExecuteTime": {
     "end_time": "2021-07-30T16:23:30.779990Z",
     "start_time": "2021-07-30T16:23:30.682070Z"
    }
   },
   "outputs": [],
   "source": [
    "\n",
    "from typing import List"
   ]
  },
  {
   "cell_type": "code",
   "execution_count": 17,
   "metadata": {
    "ExecuteTime": {
     "end_time": "2021-07-30T16:23:30.915073Z",
     "start_time": "2021-07-30T16:23:30.782580Z"
    }
   },
   "outputs": [
    {
     "name": "stdout",
     "output_type": "stream",
     "text": [
      "[] []\n",
      "[<img alt=\"IMG_5219.jpg\" src=\"https://pic.pimg.tw/happy78/1528543949-4214686345_n.jpg\" title=\"IMG_5219.jpg\"/>] []\n",
      "[<img alt=\"\" height=\"19\" src=\"//s.pixfs.net/f.pixnet.net/images/emotions/omg_smile.gif\" title=\"\" width=\"19\"/>] []\n"
     ]
    },
    {
     "data": {
      "text/plain": [
       "(None, None, None)"
      ]
     },
     "execution_count": 17,
     "metadata": {},
     "output_type": "execute_result"
    }
   ],
   "source": [
    "# imgs\n",
    "data = ['<pstyle=\"text-align:left;\"><imgsrc=\"https://pic.pimg.tw/peko721/1555405696-3356669416.jpg\"alt=\"麥食達韓式料理.麥食達菜單.麥食達.台北車站美食.北車美食.石鍋拌飯.\"/>',\n",
    "'<img alt=\"IMG_5219.jpg\" src=\"https://pic.pimg.tw/happy78/1528543949-4214686345_n.jpg\" title=\"IMG_5219.jpg\">',\n",
    "'<)，一入口感受到的超~~~軟嫩又Juicy的鴨肉，整個鴨肉湯汁在口腔裡噴發，超愛！(果然是志玲姊姊最愛的金賓料理<img alt=\"\" height=\"19\" src=\"//s.pixfs.net/f.pixnet.net/images/emotions/omg_smile.gif\" title=\"\" width=\"19\">'\n",
    "]\n",
    "\n",
    "\n",
    "indexed_data = [\n",
    "    (idx, html) for idx, html in enumerate(data)\n",
    "]\n",
    "\n",
    "sdf = spark.createDataFrame(indexed_data, ['doc_id','html'])\n",
    "\n",
    "def get_img(html : str) -> List[str]:\n",
    "    soup = BeautifulSoup(html, 'html.parser')\n",
    "    imgtag = soup.findAll('img')\n",
    "    imgtag2 = soup.findAll('imgsrc')\n",
    "    print(imgtag, imgtag2)\n",
    "    \n",
    "get_img(data[0]), get_img(data[1]), get_img(data[2])"
   ]
  },
  {
   "cell_type": "markdown",
   "metadata": {},
   "source": [
    "## `insert_before, insert_after`\n",
    "\n",
    "sometimes you just can't extract all the imgtags by `regex`\n",
    "\n",
    "then use bs4 \n",
    "\n",
    "https://regex101.com/r/gDUzQs/1/"
   ]
  },
  {
   "cell_type": "code",
   "execution_count": 18,
   "metadata": {
    "ExecuteTime": {
     "end_time": "2021-07-30T16:23:31.485831Z",
     "start_time": "2021-07-30T16:23:30.917178Z"
    }
   },
   "outputs": [
    {
     "name": "stdout",
     "output_type": "stream",
     "text": [
      "-RECORD 0-------------------------------------------------------------------------------------------------------------------------------------------------------------------\n",
      " doc_id      | 0                                                                                                                                                            \n",
      " sentence_id | 0                                                                                                                                                            \n",
      " sentence    | <pstyle=\"text-align:left;\"></pstyle=\"text-align:left;\">                                                                                                      \n",
      "-RECORD 1-------------------------------------------------------------------------------------------------------------------------------------------------------------------\n",
      " doc_id      | 0                                                                                                                                                            \n",
      " sentence_id | 0                                                                                                                                                            \n",
      " sentence    | <imgsrc=\"https: 1555405696-3356669416.jpg\"alt=\"麥食達韓式料理.麥食達菜單.麥食達.台北車站美食.北車美食.石鍋拌飯.\" peko721=\"\" pic.pimg.tw=\"\"></imgsrc=\"https:> \n",
      "-RECORD 2-------------------------------------------------------------------------------------------------------------------------------------------------------------------\n",
      " doc_id      | 1                                                                                                                                                            \n",
      " sentence_id | 1                                                                                                                                                            \n",
      " sentence    | <img alt=\"IMG_5219.jpg\" src=\"https://pic.pimg.tw/happy78/1528543949-4214686345_n.jpg\" title=\"IMG_5219.jpg\"/>                                                 \n",
      "-RECORD 3-------------------------------------------------------------------------------------------------------------------------------------------------------------------\n",
      " doc_id      | 1                                                                                                                                                            \n",
      " sentence_id | 1                                                                                                                                                            \n",
      " sentence    | <img alt=\"IMG_5219.jpg\" src=\"https://pic.pimg.tw/happy78/1528543949-4214686345_n.jpg\" title=\"IMG_5219.jpg\"/>                                                 \n",
      "-RECORD 4-------------------------------------------------------------------------------------------------------------------------------------------------------------------\n",
      " doc_id      | 2                                                                                                                                                            \n",
      " sentence_id | 0                                                                                                                                                            \n",
      " sentence    | &lt;)，一入口感受到的超~~~軟嫩又Juicy的鴨肉，整個鴨肉湯汁在口腔裡噴發，超愛！(果然是志玲姊姊最愛的金賓料理                                                   \n",
      "-RECORD 5-------------------------------------------------------------------------------------------------------------------------------------------------------------------\n",
      " doc_id      | 2                                                                                                                                                            \n",
      " sentence_id | 1                                                                                                                                                            \n",
      " sentence    | <img alt=\"\" height=\"19\" src=\"//s.pixfs.net/f.pixnet.net/images/emotions/omg_smile.gif\" title=\"\" width=\"19\"/>                                                 \n",
      "\n"
     ]
    }
   ],
   "source": [
    "data = ['<pstyle=\"text-align:left;\"><imgsrc=\"https://pic.pimg.tw/peko721/1555405696-3356669416.jpg\"alt=\"麥食達韓式料理.麥食達菜單.麥食達.台北車站美食.北車美食.石鍋拌飯.\"/>',\n",
    "'<img alt=\"IMG_5219.jpg\" src=\"https://pic.pimg.tw/happy78/1528543949-4214686345_n.jpg\" title=\"IMG_5219.jpg\"><img alt=\"IMG_5219.jpg\" src=\"https://pic.pimg.tw/happy78/1528543949-4214686345_n.jpg\" title=\"IMG_5219.jpg\">',\n",
    "'<)，一入口感受到的超~~~軟嫩又Juicy的鴨肉，整個鴨肉湯汁在口腔裡噴發，超愛！(果然是志玲姊姊最愛的金賓料理<img alt=\"\" height=\"19\" src=\"//s.pixfs.net/f.pixnet.net/images/emotions/omg_smile.gif\" title=\"\" width=\"19\">'\n",
    "]\n",
    "\n",
    "\n",
    "indexed_data = [\n",
    "    (idx, html) for idx, html in enumerate(data)\n",
    "]\n",
    "\n",
    "sdf = spark.createDataFrame(indexed_data, ['doc_id','html'])\n",
    "\n",
    "def make_imgtag_seperator(html : str) -> List[str]:\n",
    "    # TODO insert \\n to every image tag\n",
    "    soup = BeautifulSoup(html, 'html.parser')\n",
    "    imgtag = soup.find_all('img', src=True)\n",
    "    for tag in imgtag:\n",
    "        tag.insert_before('\\n')\n",
    "        tag.insert_after('\\n')\n",
    "    return str(soup)\n",
    " \n",
    "    \n",
    "# imgtag = \"<[(img)|(IMG)].+?>\"\n",
    "# (\n",
    "#     sdf\n",
    "#     .withColumn(\"html\", F.regexp_replace(C(\"html\"), fr\"{imgtag}\", \"\\n$0\\n\"))\n",
    "#     .select(\n",
    "#         'doc_id',\n",
    "#         F.posexplode_outer(F.split(\"html\",'\\n')).alias('sentence_id','imgtag')\n",
    "#     )\n",
    "    \n",
    "(\n",
    "    sdf\n",
    "    .withColumn(\"cleaned\", F.regexp_replace(C(\"html\"), fr\"{imgtag}\", \"\\n$0\\n\"))\n",
    "    .withColumn(\"cleaned\", F.explode_outer(F.split(C(\"cleaned\"), '\\n')))\n",
    "    .withColumn('cleaned',F.udf(make_imgtag_seperator, 'string')('cleaned'))\n",
    "    .select(\n",
    "        'doc_id',\n",
    "        F.posexplode_outer(\n",
    "            F.split(C(\"cleaned\"),'\\n')\n",
    "        ).alias('sentence_id','sentence')\n",
    "    )\n",
    "    .where(F.length(C(\"sentence\")) > 0)\n",
    ").show(vertical=True, truncate=False)"
   ]
  },
  {
   "cell_type": "code",
   "execution_count": null,
   "metadata": {},
   "outputs": [],
   "source": []
  }
 ],
 "metadata": {
  "kernelspec": {
   "display_name": "pixlake_spark3",
   "language": "python",
   "name": "pixlake_spark3"
  },
  "language_info": {
   "codemirror_mode": {
    "name": "ipython",
    "version": 3
   },
   "file_extension": ".py",
   "mimetype": "text/x-python",
   "name": "python",
   "nbconvert_exporter": "python",
   "pygments_lexer": "ipython3",
   "version": "3.8.10"
  },
  "toc": {
   "base_numbering": 1,
   "nav_menu": {},
   "number_sections": true,
   "sideBar": true,
   "skip_h1_title": false,
   "title_cell": "Table of Contents",
   "title_sidebar": "Contents",
   "toc_cell": false,
   "toc_position": {
    "height": "calc(100% - 180px)",
    "left": "10px",
    "top": "150px",
    "width": "241.484px"
   },
   "toc_section_display": true,
   "toc_window_display": true
  }
 },
 "nbformat": 4,
 "nbformat_minor": 4
}
